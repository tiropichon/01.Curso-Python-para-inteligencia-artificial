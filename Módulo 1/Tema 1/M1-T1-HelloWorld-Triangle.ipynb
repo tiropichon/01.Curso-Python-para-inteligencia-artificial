{
 "cells": [
  {
   "cell_type": "code",
   "execution_count": 1,
   "metadata": {
    "colab": {
     "base_uri": "https://localhost:8080/"
    },
    "executionInfo": {
     "elapsed": 627,
     "status": "ok",
     "timestamp": 1615375857070,
     "user": {
      "displayName": "alejandro san antonio",
      "photoUrl": "https://lh3.googleusercontent.com/a-/AOh14GixR39HCwulysjOo0wT1tzbRti3W5hNyHyjKCicFw=s64",
      "userId": "10348976567856814748"
     },
     "user_tz": -60
    },
    "id": "CxzqPTtHf5Ew",
    "outputId": "e2aece7c-7146-42da-e731-53d4faf1e9ca"
   },
   "outputs": [
    {
     "name": "stdout",
     "output_type": "stream",
     "text": [
      "Hola Mundo ... de Málaga!\n"
     ]
    }
   ],
   "source": [
    "print(\"Hola Mundo ... de Málaga!\")\n"
   ]
  },
  {
   "cell_type": "markdown",
   "metadata": {
    "id": "wFGI0hlAwjrY"
   },
   "source": []
  },
  {
   "cell_type": "code",
   "execution_count": 2,
   "metadata": {},
   "outputs": [
    {
     "name": "stdout",
     "output_type": "stream",
     "text": [
      "Introduce the base: \n",
      "3\n",
      "Introduce the height: \n",
      "6\n",
      "The area of the triangle is: 9.0\n",
      "9.0\n"
     ]
    }
   ],
   "source": [
    "# Algorithm Area\n",
    "\n",
    "\n",
    "\n",
    "base = 0.0\n",
    "\n",
    "height = 0.0\n",
    "\n",
    "area = 0.0\n",
    "\n",
    "\n",
    "\n",
    "# Start\n",
    "\n",
    "\n",
    "\n",
    "print(\"Introduce the base: \")\n",
    "\n",
    "base = float(input())\n",
    "\n",
    "print(\"Introduce the height: \")\n",
    "\n",
    "height = float(input())\n",
    "\n",
    "area = (base*height)/2\n",
    "\n",
    "print(\"The area of the triangle is:\", area)\n",
    "\n",
    "print(area)"
   ]
  },
  {
   "cell_type": "code",
   "execution_count": null,
   "metadata": {},
   "outputs": [],
   "source": []
  }
 ],
 "metadata": {
  "colab": {
   "name": "M1-T1-HelloWorld-Triangle.ipynb",
   "provenance": []
  },
  "kernelspec": {
   "display_name": "Python 3",
   "language": "python",
   "name": "python3"
  },
  "language_info": {
   "codemirror_mode": {
    "name": "ipython",
    "version": 3
   },
   "file_extension": ".py",
   "mimetype": "text/x-python",
   "name": "python",
   "nbconvert_exporter": "python",
   "pygments_lexer": "ipython3",
   "version": "3.8.5"
  }
 },
 "nbformat": 4,
 "nbformat_minor": 1
}
