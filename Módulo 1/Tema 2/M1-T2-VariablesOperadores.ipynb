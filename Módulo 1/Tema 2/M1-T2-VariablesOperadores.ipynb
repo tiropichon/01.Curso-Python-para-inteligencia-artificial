{
 "cells": [
  {
   "cell_type": "markdown",
   "metadata": {},
   "source": [
    "## 1. Variables"
   ]
  },
  {
   "cell_type": "markdown",
   "metadata": {},
   "source": [
    "Las variables son datos que utilizarás en todos los programas y que almacenarán información útil para su ejecución. Los datos de las variables son almacenados en la memoria del ordenador.\n",
    "\n",
    "Las variables están compuestas por tres componentes:\n",
    "\n",
    "- Nombre: identificador dentro del código fuente que utilizamos para usarlas. \n",
    "- Tipo: tipo de dato que almacena la variable.\n",
    "- Valor: valor que almacenan. Al declarar una variable tienes que indicarle un valor inicial, que puede verse modificado a medida que se va ejecutando el programa y según vayas necesitando, de ahí que se llamen variables."
   ]
  },
  {
   "cell_type": "code",
   "execution_count": 2,
   "metadata": {},
   "outputs": [
    {
     "data": {
      "text/plain": [
       "int"
      ]
     },
     "execution_count": 2,
     "metadata": {},
     "output_type": "execute_result"
    }
   ],
   "source": [
    "var = 123\n",
    "type(var)"
   ]
  },
  {
   "cell_type": "markdown",
   "metadata": {},
   "source": [
    "Python es un lenguaje de programación fuertemente tipado y con un tipado dinámico. Eso significa que las variables pueden cambiar de tipo de dato que almacenan durante la ejecución y que no cambiarán de forma repentina sin una conversión de tipos previa. \n",
    "\n",
    "En Python las variables se definen utilizando las letras de la A a la Z, tanto en mayúsculas como en minúsculas, los números del 0 al 9 (excepto en el primer carácter del nombre) y utilizando el carácter `_`. El lenguaje Python tiene palabras reservadas que no pueden ser utilizadas como nombres de variables. "
   ]
  },
  {
   "cell_type": "code",
   "execution_count": null,
   "metadata": {},
   "outputs": [],
   "source": [
    "# otros ejemplos válidos y no\n",
    "# 0temp = 0\n",
    "t0emp = 0\n",
    "_temp = \"hello\"\n",
    "# +temp = \"goodbye\""
   ]
  },
  {
   "cell_type": "code",
   "execution_count": null,
   "metadata": {},
   "outputs": [],
   "source": [
    "# print(0temp)\n",
    "print(t0emp)\n",
    "print(_temp)\n",
    "# print(+temp)"
   ]
  },
  {
   "cell_type": "markdown",
   "metadata": {},
   "source": [
    "Los valores son asignados a las variables con el operador asignación `=`, lo que esté en la parte derecha del operador será asignado (almacenado) en la variable de la parte izquierda. Veamos unos ejemplos:"
   ]
  },
  {
   "cell_type": "code",
   "execution_count": null,
   "metadata": {},
   "outputs": [],
   "source": [
    "edad = 35\n",
    "ciudad = \"Alcalá de Henares\"\n",
    "precio = 31.23"
   ]
  },
  {
   "cell_type": "code",
   "execution_count": null,
   "metadata": {},
   "outputs": [],
   "source": [
    "print(edad)\n",
    "print(ciudad)\n",
    "print(precio)"
   ]
  },
  {
   "cell_type": "markdown",
   "metadata": {},
   "source": [
    "Pero... mejor escribir en inglés. Las palabras reservadas de Python son en inglés y si también lo son tus identificadores, tu código tendrá más coherencia. Esto además facilita la participación en desarrollos con programadores de distintos lugares del mundo."
   ]
  },
  {
   "cell_type": "code",
   "execution_count": null,
   "metadata": {},
   "outputs": [],
   "source": [
    "age = 35\n",
    "city = \"Alcalá de Henares\"\n",
    "price = 31.23"
   ]
  },
  {
   "cell_type": "code",
   "execution_count": null,
   "metadata": {},
   "outputs": [],
   "source": [
    "print(age)\n",
    "print(city)\n",
    "print(price)"
   ]
  },
  {
   "cell_type": "markdown",
   "metadata": {},
   "source": [
    "En Python no se establece el tipo de dato a la hora de declarar una variable, realmente no existe una declaración propiamente dicha como existe en otros lenguajes, simplemente escribes el nombre que quieres que tenga y le asignas el valor correspondiente. "
   ]
  },
  {
   "cell_type": "code",
   "execution_count": null,
   "metadata": {},
   "outputs": [],
   "source": [
    "dog = \"perro\"\n",
    "type(dog)"
   ]
  },
  {
   "cell_type": "markdown",
   "metadata": {},
   "source": [
    "Pero... desde la versión 3.5 de Python puedes usar type hints: https://docs.python.org/3/library/typing.html"
   ]
  },
  {
   "cell_type": "code",
   "execution_count": null,
   "metadata": {},
   "outputs": [],
   "source": [
    "dog: str = \"perro\"\n",
    "type(dog)"
   ]
  },
  {
   "cell_type": "markdown",
   "metadata": {},
   "source": [
    "## 2. Tipos de datos"
   ]
  },
  {
   "cell_type": "markdown",
   "metadata": {},
   "source": [
    "En informática, la información no es otra cosa que una secuencia de ceros y unos que se estructuran en bloques para facilitar el manejo de ésta. \n",
    "\n",
    "Por lo tanto, toda la información que existe se encuentra tipificada por el tipo de información que es (tipo de dato). No es lo mismo una cadena de text que un número entero, o decimal. \n",
    "\n",
    "Los tipos de datos existentes en Python son los siguientes:"
   ]
  },
  {
   "cell_type": "markdown",
   "metadata": {},
   "source": [
    "<dl>\n",
    "<table style=\"width:100%\">\n",
    "  <tr>\n",
    "    <th>Tipo de dato</th>\n",
    "    <th>Descripción</th>\n",
    "    <th>En Python</th>\n",
    "  </tr>\n",
    "  <tr>\n",
    "    <td>Ninguno</td>\n",
    "    <td>Tipo especial que indica que no hay valor alguno.</td>\n",
    "    <td>None</td>\n",
    "  </tr>\n",
    "  <tr>\n",
    "    <td>Entero</td>\n",
    "    <td>Número sin decimales, tanto positivo como negativo, incluyendo el 0.</td>\n",
    "    <td>int</td>\n",
    "  </tr>\n",
    "  <tr>\n",
    "    <td>Real</td>\n",
    "    <td>Número con decimales, tanto positivo como negativo, incluyendo el 0.</td>\n",
    "    <td>float</td>\n",
    "  </tr>\n",
    "  <tr>\n",
    "    <td>Complejo</td>\n",
    "    <td>Número con parte imaginaria. </td>\n",
    "    <td>complex</td>\n",
    "  </tr>\n",
    "  <tr>\n",
    "    <td>Cadenas de texto</td>\n",
    "    <td>Texto.</td>\n",
    "    <td>str</td>\n",
    "  </tr>\n",
    "  <tr>\n",
    "    <td>Booleanos</td>\n",
    "    <td>Pueden tener dos valores: True o False.</td>\n",
    "    <td>bool</td>\n",
    "  </tr>\n",
    "  <tr>\n",
    "    <td>Lista</td>\n",
    "    <td>Vector de elementos que pueden ser de diferentes tipos de datos.</td>\n",
    "    <td>list</td>\n",
    "  </tr>\n",
    "  <tr>\n",
    "    <td>Tuplas</td>\n",
    "    <td>Lista inmutable de elementos.</td>\n",
    "    <td>tuple</td>\n",
    "  </tr>\n",
    "  <tr>\n",
    "    <td>Conjunto</td>\n",
    "    <td>Lista de elementos que no se repiten.</td>\n",
    "    <td>set</td>\n",
    "  </tr>\n",
    "  <tr>\n",
    "    <td>Diccionario</td>\n",
    "    <td>Lista de elementos que contienen claves y valores.</td>\n",
    "    <td>dict</td>\n",
    "  </tr>\n",
    "</table>    \n",
    "</dl>"
   ]
  },
  {
   "cell_type": "markdown",
   "metadata": {},
   "source": [
    "### 2.1 Tipos de datos numéricos"
   ]
  },
  {
   "cell_type": "markdown",
   "metadata": {},
   "source": [
    "Tipos de datos en Python relacionados con los números:\n",
    "\n",
    "- **Entero**: número entero con límite de valor.\n",
    "- **Real**: número compuesto por parte entera y parte decimal.\n",
    "- **Complejo**: número compuesto por parte real y parte imaginaria."
   ]
  },
  {
   "cell_type": "markdown",
   "metadata": {},
   "source": [
    "#### 2.1.1 Operadores Aritméticos\n",
    "\n",
    "Python dispone de los siguientes operadores aritméticos:\n",
    "    \n",
    "- **Suma**: \"+\"\n",
    "- **Resta**: \"-\"\n",
    "- **Multiplicación**: \"*\"\n",
    "- **División**: \"/\"\n",
    "- **División entera**: \"//\"\n",
    "- **Módulo**: \"%\"\n",
    "- **Exponente**: \"**\"\n",
    "- **Negación**: \"-\"\n",
    "\n",
    "Los operadores tienen un orden de precedencia a la hora de ejecutar las operaciones:\n",
    "\n",
    "1. Exponente\n",
    "1. Negación\n",
    "1. Multiplicación, División, División entera y Módulo\n",
    "1. Sumas y restas\n",
    "\n",
    "Es recomendado que utilices paréntesis para establecer el orden concreto de resolución de las operaciones. "
   ]
  },
  {
   "cell_type": "markdown",
   "metadata": {},
   "source": [
    "#### 2.1.2 Números Enteros"
   ]
  },
  {
   "cell_type": "markdown",
   "metadata": {},
   "source": [
    "Los números enteros son aquellos números que no tienen decimales y que pueden ser positivos y negativos, incluyendo al cero. Se representan en Python como `int`. Para ver el maximo y mínimo valor puede usar la libería sys: "
   ]
  },
  {
   "cell_type": "code",
   "execution_count": 3,
   "metadata": {},
   "outputs": [
    {
     "name": "stdout",
     "output_type": "stream",
     "text": [
      "max int: 9223372036854775807\n",
      "min int: -9223372036854775807\n"
     ]
    }
   ],
   "source": [
    "import sys\n",
    "print(\"max int:\", sys.maxsize)\n",
    "print(\"min int:\", -sys.maxsize)"
   ]
  },
  {
   "cell_type": "markdown",
   "metadata": {},
   "source": [
    "Pero si vas a trabajar con código donde necesitas saber los valores extremos de Python o tu máquina, mejor consultar en internet: https://stackoverflow.com/questions/7604966/maximum-and-minimum-values-for-ints"
   ]
  },
  {
   "cell_type": "markdown",
   "metadata": {},
   "source": [
    "La lectura de la entrada estándar siempre es una cadena de texto, pero que es posible tranformarla al tipo de dato que necesitamos. Para transformar el valor de entrada en un entero usas la siguiente forma:"
   ]
  },
  {
   "cell_type": "code",
   "execution_count": 4,
   "metadata": {},
   "outputs": [
    {
     "name": "stdout",
     "output_type": "stream",
     "text": [
      "texto: 345\n",
      "345\n",
      "<class 'int'>\n"
     ]
    },
    {
     "data": {
      "text/plain": [
       "int"
      ]
     },
     "execution_count": 4,
     "metadata": {},
     "output_type": "execute_result"
    }
   ],
   "source": [
    "var = int(input(\"texto: \"))\n",
    "print(var)\n",
    "print(type(var))\n",
    "type(var)"
   ]
  },
  {
   "cell_type": "code",
   "execution_count": null,
   "metadata": {},
   "outputs": [],
   "source": []
  },
  {
   "cell_type": "markdown",
   "metadata": {},
   "source": [
    "###### Ejercicio 2.1 (en grupos): Escribe un programa que pida al usuario la temperatura en Celsius (centígrado) y la transforme en Fahrenheit, y a revés. Para hacer la transformación, busca el cálculo en internet  \n",
    "\n",
    "F a C\n",
    "(°F − 32) × 5 / 9 = °C\n",
    "\n",
    "C a F\n",
    "(°C × 9 / 5) + 32 = °F"
   ]
  },
  {
   "cell_type": "code",
   "execution_count": 14,
   "metadata": {},
   "outputs": [
    {
     "name": "stdout",
     "output_type": "stream",
     "text": [
      "Escribe temperatura en Celsius\n",
      "0.032\n",
      "Fahrenheit:  32.0\n",
      "Escribe temperatura en Fahrenheit\n"
     ]
    },
    {
     "ename": "KeyboardInterrupt",
     "evalue": "Interrupted by user",
     "output_type": "error",
     "traceback": [
      "\u001b[1;31m---------------------------------------------------------------------------\u001b[0m",
      "\u001b[1;31mKeyboardInterrupt\u001b[0m                         Traceback (most recent call last)",
      "\u001b[1;32m<ipython-input-14-31a6d7e24411>\u001b[0m in \u001b[0;36m<module>\u001b[1;34m\u001b[0m\n\u001b[0;32m      9\u001b[0m \u001b[0mtemp_C\u001b[0m\u001b[1;33m=\u001b[0m\u001b[1;36m0.0\u001b[0m\u001b[1;33m\u001b[0m\u001b[1;33m\u001b[0m\u001b[0m\n\u001b[0;32m     10\u001b[0m \u001b[0mprint\u001b[0m\u001b[1;33m(\u001b[0m\u001b[1;34m\"Escribe temperatura en Fahrenheit\"\u001b[0m\u001b[1;33m)\u001b[0m\u001b[1;33m\u001b[0m\u001b[1;33m\u001b[0m\u001b[0m\n\u001b[1;32m---> 11\u001b[1;33m \u001b[0minput\u001b[0m\u001b[1;33m(\u001b[0m\u001b[0mfloat\u001b[0m\u001b[1;33m(\u001b[0m\u001b[0mtemp_F\u001b[0m\u001b[1;33m)\u001b[0m\u001b[1;33m)\u001b[0m\u001b[1;33m\u001b[0m\u001b[1;33m\u001b[0m\u001b[0m\n\u001b[0m\u001b[0;32m     12\u001b[0m \u001b[0mtemp_C\u001b[0m\u001b[1;33m=\u001b[0m\u001b[1;33m(\u001b[0m\u001b[0mtemp_F\u001b[0m\u001b[1;33m-\u001b[0m\u001b[1;36m32\u001b[0m\u001b[1;33m)\u001b[0m\u001b[1;33m*\u001b[0m\u001b[1;36m5\u001b[0m\u001b[1;33m/\u001b[0m\u001b[1;36m9\u001b[0m\u001b[1;33m\u001b[0m\u001b[1;33m\u001b[0m\u001b[0m\n\u001b[0;32m     13\u001b[0m \u001b[0mprint\u001b[0m\u001b[1;33m(\u001b[0m\u001b[1;34m\"Celsius: \"\u001b[0m\u001b[1;33m,\u001b[0m\u001b[0mtemp_C\u001b[0m\u001b[1;33m)\u001b[0m\u001b[1;33m\u001b[0m\u001b[1;33m\u001b[0m\u001b[0m\n",
      "\u001b[1;32mC:\\ProgramData\\Anaconda3\\lib\\site-packages\\ipykernel\\kernelbase.py\u001b[0m in \u001b[0;36mraw_input\u001b[1;34m(self, prompt)\u001b[0m\n\u001b[0;32m    858\u001b[0m                 \u001b[1;34m\"raw_input was called, but this frontend does not support input requests.\"\u001b[0m\u001b[1;33m\u001b[0m\u001b[1;33m\u001b[0m\u001b[0m\n\u001b[0;32m    859\u001b[0m             )\n\u001b[1;32m--> 860\u001b[1;33m         return self._input_request(str(prompt),\n\u001b[0m\u001b[0;32m    861\u001b[0m             \u001b[0mself\u001b[0m\u001b[1;33m.\u001b[0m\u001b[0m_parent_ident\u001b[0m\u001b[1;33m,\u001b[0m\u001b[1;33m\u001b[0m\u001b[1;33m\u001b[0m\u001b[0m\n\u001b[0;32m    862\u001b[0m             \u001b[0mself\u001b[0m\u001b[1;33m.\u001b[0m\u001b[0m_parent_header\u001b[0m\u001b[1;33m,\u001b[0m\u001b[1;33m\u001b[0m\u001b[1;33m\u001b[0m\u001b[0m\n",
      "\u001b[1;32mC:\\ProgramData\\Anaconda3\\lib\\site-packages\\ipykernel\\kernelbase.py\u001b[0m in \u001b[0;36m_input_request\u001b[1;34m(self, prompt, ident, parent, password)\u001b[0m\n\u001b[0;32m    902\u001b[0m             \u001b[1;32mexcept\u001b[0m \u001b[0mKeyboardInterrupt\u001b[0m\u001b[1;33m:\u001b[0m\u001b[1;33m\u001b[0m\u001b[1;33m\u001b[0m\u001b[0m\n\u001b[0;32m    903\u001b[0m                 \u001b[1;31m# re-raise KeyboardInterrupt, to truncate traceback\u001b[0m\u001b[1;33m\u001b[0m\u001b[1;33m\u001b[0m\u001b[1;33m\u001b[0m\u001b[0m\n\u001b[1;32m--> 904\u001b[1;33m                 \u001b[1;32mraise\u001b[0m \u001b[0mKeyboardInterrupt\u001b[0m\u001b[1;33m(\u001b[0m\u001b[1;34m\"Interrupted by user\"\u001b[0m\u001b[1;33m)\u001b[0m \u001b[1;32mfrom\u001b[0m \u001b[1;32mNone\u001b[0m\u001b[1;33m\u001b[0m\u001b[1;33m\u001b[0m\u001b[0m\n\u001b[0m\u001b[0;32m    905\u001b[0m             \u001b[1;32mexcept\u001b[0m \u001b[0mException\u001b[0m \u001b[1;32mas\u001b[0m \u001b[0me\u001b[0m\u001b[1;33m:\u001b[0m\u001b[1;33m\u001b[0m\u001b[1;33m\u001b[0m\u001b[0m\n\u001b[0;32m    906\u001b[0m                 \u001b[0mself\u001b[0m\u001b[1;33m.\u001b[0m\u001b[0mlog\u001b[0m\u001b[1;33m.\u001b[0m\u001b[0mwarning\u001b[0m\u001b[1;33m(\u001b[0m\u001b[1;34m\"Invalid Message:\"\u001b[0m\u001b[1;33m,\u001b[0m \u001b[0mexc_info\u001b[0m\u001b[1;33m=\u001b[0m\u001b[1;32mTrue\u001b[0m\u001b[1;33m)\u001b[0m\u001b[1;33m\u001b[0m\u001b[1;33m\u001b[0m\u001b[0m\n",
      "\u001b[1;31mKeyboardInterrupt\u001b[0m: Interrupted by user"
     ]
    }
   ],
   "source": [
    "temp_F=0.0\n",
    "temp_C=0.0\n",
    "print(\"Escribe temperatura en Celsius\")\n",
    "input(float(temp_C))\n",
    "temp_F=(temp_C*9/5) + 32\n",
    "print(\"Fahrenheit: \", temp_F)\n",
    "\n",
    "temp_F=0.0\n",
    "temp_C=0.0\n",
    "print(\"Escribe temperatura en Fahrenheit\")\n",
    "input(float(temp_F))\n",
    "temp_C=(temp_F-32)*5/9\n",
    "print(\"Celsius: \",temp_C)\n",
    "\n"
   ]
  },
  {
   "cell_type": "markdown",
   "metadata": {},
   "source": [
    "###### Ejercicio 2.2"
   ]
  },
  {
   "cell_type": "markdown",
   "metadata": {},
   "source": [
    "#### 2.1.3 Números reales"
   ]
  },
  {
   "cell_type": "markdown",
   "metadata": {},
   "source": [
    "Los números reales son aquellos números que tienen decimales. En Python se representan como `float` y la separación entre la parte entera y la parte decimal se realiza con un punto."
   ]
  },
  {
   "cell_type": "markdown",
   "metadata": {},
   "source": [
    "###### Ejercicio 2.3"
   ]
  },
  {
   "cell_type": "markdown",
   "metadata": {},
   "source": [
    "##### 2.1.3.1 Redondeo de números reales"
   ]
  },
  {
   "cell_type": "markdown",
   "metadata": {},
   "source": [
    "Los números reales tienen un número infinito de decimales, pero Python dispone de una instrucción que permite acortar el número de decimales, se trata de la instrucción `round`. Utiliza dos parámetros para ejecutarse:\n",
    "\n",
    "- Número real a redondear.\n",
    "- Número de decimales a los que se quiere redondear el número."
   ]
  },
  {
   "cell_type": "markdown",
   "metadata": {},
   "source": [
    "Para calcular una aproximación de pi (π), se puede usar el siguiente truco (en Python):\n",
    "\n",
    "`pi ~ N * math.sin(math.radians(180)/N)`\n",
    "\n",
    "donde N > 1000"
   ]
  },
  {
   "cell_type": "markdown",
   "metadata": {},
   "source": [
    "###### Ejercicio 2.4"
   ]
  },
  {
   "cell_type": "code",
   "execution_count": null,
   "metadata": {},
   "outputs": [],
   "source": [
    "#Aprocimación de pi con 4 decimales\n",
    "\n",
    "import math\n",
    "\n",
    "numero=float(input(\"introduce un número mayor de 1000:\"))\n",
    "if(numero<1000):\n",
    "    print(\"Introduce un número mayor de 1000\")\n",
    "else:\n",
    "    Pi=numero * math.sin(math.radians(180)/numero)\n",
    "    print(\"numero pi: \",round(Pi,4))"
   ]
  },
  {
   "cell_type": "markdown",
   "metadata": {},
   "source": [
    "#### 2.1.4 Números complejos"
   ]
  },
  {
   "cell_type": "markdown",
   "metadata": {},
   "source": [
    "Los números complejos son aquellos números que están compuestos por una parte real y una parte imaginaria, y en el que cada una de las partes es un número decimal. Se representan en Python como `complex`."
   ]
  },
  {
   "cell_type": "code",
   "execution_count": null,
   "metadata": {},
   "outputs": [],
   "source": [
    "c1=complex(2,3)\n",
    "c2=complex(1,4)\n",
    "c1 + c2"
   ]
  },
  {
   "cell_type": "markdown",
   "metadata": {},
   "source": [
    "###### Ejercicio 2.5"
   ]
  },
  {
   "cell_type": "markdown",
   "metadata": {},
   "source": [
    "### 2.2 Booleanos"
   ]
  },
  {
   "cell_type": "markdown",
   "metadata": {},
   "source": [
    "Los booleanos son también conocidos como los tipos de datos lógicos y se caracterizan porque únicamente pueden tener dos valores, o `True` o `False`."
   ]
  },
  {
   "cell_type": "code",
   "execution_count": null,
   "metadata": {},
   "outputs": [],
   "source": [
    "verdadero = True\n",
    "falso = False\n",
    "print(\"Valor de verdadero:\", verdadero)\n",
    "print(\"Valor de false:\", falso)"
   ]
  },
  {
   "cell_type": "markdown",
   "metadata": {},
   "source": [
    "#### 2.2.1 Operadores lógicos"
   ]
  },
  {
   "cell_type": "markdown",
   "metadata": {},
   "source": [
    "Los operadores lógicos son operadores que permiten construir expresiones lógicas y que tienen como resultado un valor booleano, `True` o `False`. Son operaciones que pueden realizarse sobre variables de tipo booleano."
   ]
  },
  {
   "cell_type": "markdown",
   "metadata": {},
   "source": [
    "Los operadores lógicos que puedes utilizar en Python son los siguientes:\n",
    "\n",
    "- `and`: operador lógico que realiza la operación lógica 'Y' entre dos elementos. El resultado será `True` si ambos elementos son `True`, en caso contrario será `False`.\n",
    "- `or`: realiza la operación lógica 'O' entre dos elementos. El resultado será `True` si uno de los dos elementos es `True`, en caso contrario será `False`. \n",
    "- `not`: realiza la operación lógica `NO`. El resultado será `True` si el elemento es `False`, y será `False` si es `True`."
   ]
  },
  {
   "cell_type": "markdown",
   "metadata": {},
   "source": [
    "La operación lógica `and` ('Y') obtendrá el siguiente resultado dependiendo del valor de ambos parámetros:"
   ]
  },
  {
   "cell_type": "markdown",
   "metadata": {},
   "source": [
    "<dl>\n",
    "<table>\n",
    "  <tr>\n",
    "    <th>Valor 1</th>\n",
    "    <th>Valor 2</th>\n",
    "    <th>Resultado</th>\n",
    "  </tr>\n",
    "  <tr>\n",
    "    <td>True</td>\n",
    "    <td>True</td>\n",
    "    <td>True</td>\n",
    "  </tr>\n",
    "  <tr>\n",
    "    <td>True</td>\n",
    "    <td>False</td>\n",
    "    <td>False</td>\n",
    "  </tr>\n",
    "  <tr>\n",
    "    <td>False</td>\n",
    "    <td>True</td>\n",
    "    <td>False</td>\n",
    "  </tr>\n",
    "  <tr>\n",
    "    <td>False</td>\n",
    "    <td>False</td>\n",
    "    <td>False</td>\n",
    "  </tr>\n",
    "</table>    \n",
    "</dl>"
   ]
  },
  {
   "cell_type": "markdown",
   "metadata": {},
   "source": [
    "La operación lógica `or` ('O') obtendrá el siguiente resultado dependiendo del valor de ambos parámetros:"
   ]
  },
  {
   "cell_type": "markdown",
   "metadata": {},
   "source": [
    "<dl>\n",
    "<table>\n",
    "  <tr>\n",
    "    <th>Valor 1</th>\n",
    "    <th>Valor 2</th>\n",
    "    <th>Resultado</th>\n",
    "  </tr>\n",
    "  <tr>\n",
    "    <td>True</td>\n",
    "    <td>True</td>\n",
    "    <td>True</td>\n",
    "  </tr>\n",
    "  <tr>\n",
    "    <td>True</td>\n",
    "    <td>False</td>\n",
    "    <td>True</td>\n",
    "  </tr>\n",
    "  <tr>\n",
    "    <td>False</td>\n",
    "    <td>True</td>\n",
    "    <td>True</td>\n",
    "  </tr>\n",
    "  <tr>\n",
    "    <td>False</td>\n",
    "    <td>False</td>\n",
    "    <td>False</td>\n",
    "  </tr>\n",
    "</table>    \n",
    "</dl>"
   ]
  },
  {
   "cell_type": "markdown",
   "metadata": {},
   "source": [
    "La operación lógica `not` ('NO') obtendrá el siguiente resultado dependiendo del parámetro:"
   ]
  },
  {
   "cell_type": "markdown",
   "metadata": {},
   "source": [
    "<dl>\n",
    "<table>\n",
    "  <tr>\n",
    "    <th>Valor</th>\n",
    "    <th>Resultado</th>\n",
    "  </tr>\n",
    "  <tr>\n",
    "    <td>True</td>\n",
    "    <td>False</td>\n",
    "  </tr>\n",
    "  <tr>\n",
    "    <td>False</td>\n",
    "    <td>True</td>\n",
    "  </tr>\n",
    "</table>    \n",
    "</dl>"
   ]
  },
  {
   "cell_type": "markdown",
   "metadata": {},
   "source": [
    "#### 2.2.2 Casting booleanos"
   ]
  },
  {
   "cell_type": "markdown",
   "metadata": {},
   "source": [
    "Tened en cuenta eso: https://stackoverflow.com/questions/48817461/user-input-boolean-in-python?noredirect=1&lq=1... es decir, no puedes convertir una cadena de texto como `\"False\"` simplemente \"casteandolo\" a bool así: `bool(\"False\")`, pero sí puedes \"castear\" un entero a `bool`, donde un `0` es `False` y un `1` es `True`: "
   ]
  },
  {
   "cell_type": "markdown",
   "metadata": {},
   "source": [
    "###### Ejercicio 2.6"
   ]
  },
  {
   "cell_type": "markdown",
   "metadata": {},
   "source": [
    "#### 2.2.3 Operadores relacionales"
   ]
  },
  {
   "cell_type": "markdown",
   "metadata": {},
   "source": [
    "Los operadores relacionales son operadores que permiten comparar dos valores entre y cuyo resultado es un valor booleano, `True` o `False`. Los operadores relacionales son operaciones de comparación que pueden realizarse sobre valores que sean valores independientes o valores provenientes de otras operaciones. \n",
    "\n",
    "El formato de utilización de los operadores relacionales es el siguiente: \n",
    "\n",
    "`Valor1 Operador Valor2`"
   ]
  },
  {
   "cell_type": "markdown",
   "metadata": {},
   "source": [
    "Los operadores relacionales que puedes utilizar en Python son los siguientes:"
   ]
  },
  {
   "cell_type": "markdown",
   "metadata": {},
   "source": [
    "<dl>\n",
    "<table>\n",
    "  <tr>\n",
    "    <th>Operador</th>\n",
    "    <th>Significado</th>\n",
    "  </tr>\n",
    "  <tr>\n",
    "    <td>==</td>\n",
    "    <td>Valor1 y Valor2 son iguales</td>\n",
    "  </tr>\n",
    "  <tr>\n",
    "    <td>!=</td>\n",
    "    <td>Valor1 y Valor2 son diferentes</td>\n",
    "  </tr>\n",
    "  <tr>\n",
    "    <td>></td>\n",
    "    <td>Valor1 es mayor que Valor2</td>\n",
    "  </tr>\n",
    "  <tr>\n",
    "    <td><</td>\n",
    "    <td>Valor1 es menor que Valor2</td>\n",
    "  </tr>\n",
    "  <tr>\n",
    "    <td>>=</td>\n",
    "    <td>Valor1 es mayor o igual que Valor2</td>\n",
    "  </tr>\n",
    "  <tr>\n",
    "    <td><=</td>\n",
    "    <td>Valor1 es menor o igual que Valor2</td>\n",
    "  </tr>\n",
    "</table>    \n",
    "</dl>"
   ]
  },
  {
   "cell_type": "code",
   "execution_count": null,
   "metadata": {},
   "outputs": [],
   "source": [
    "x = 4\n",
    "if x == 3:\n",
    "    print(\"it's three!\")\n",
    "else:\n",
    "    print(\"it's not three!, it's\", x)\n",
    "    "
   ]
  },
  {
   "cell_type": "markdown",
   "metadata": {},
   "source": [
    "El resultado de las comparaciones es un booleano que será `True` en caso de que la comparación sea cierta o será `False` en caso de que la comparación no sea cierta. "
   ]
  },
  {
   "cell_type": "code",
   "execution_count": null,
   "metadata": {},
   "outputs": [],
   "source": [
    "numero1 = float(input(\"Primer número:\"))\n",
    "numero2 = float(input(\"Segundo número:\"))\n",
    "numero3 = float(input(\"Tercer número:\"))\n",
    "numero4 = float(input(\"Cuarto número:\"))\n",
    "\n",
    "print(numero1, \"==\", numero4, \":\", numero1 == numero4)\n",
    "print(numero2, \"!=\", numero3, \":\", numero2 != numero3)\n",
    "print(numero3, \">\",  numero2, \":\", numero3  > numero2)\n",
    "print(numero4, \"<\",  numero1, \":\", numero4  < numero1)\n",
    "print(numero1, \">=\", numero3, \":\", numero1  > numero3)\n",
    "print(numero2, \"<=\", numero4, \":\", numero2 <= numero4)"
   ]
  },
  {
   "cell_type": "markdown",
   "metadata": {},
   "source": [
    "### 2.3 Cadenas de texto (strings)"
   ]
  },
  {
   "cell_type": "markdown",
   "metadata": {},
   "source": [
    "La manipulación de las cadenas de texto en programación es clave y jugará un papel fundamental dentro de todos los aplicativos que realices.\n",
    "\n",
    "En Python existen dos formas diferentes de definir las cadenas de texto, utilizando comillas dobles o comillas simples. No existe diferencia entre usar un método u otro."
   ]
  },
  {
   "cell_type": "code",
   "execution_count": null,
   "metadata": {},
   "outputs": [],
   "source": [
    "cadena1 = \"cadena con comillas dobles\"\n",
    "cadena2 = 'cadena con comillas simples'\n",
    "print(cadena1)\n",
    "print(cadena2)"
   ]
  },
  {
   "cell_type": "markdown",
   "metadata": {},
   "source": [
    "Las cadenas de texto están compuestas por una secuencia de caracteres, dichos caracteres son accesibles de forma unitaria dentro de la cadena. Para acceder a un carácter en concreto de la cadena de texto hay que indicar la posición dentro de la cadena de texto que ocupa y hay que tener en cuenta que el primer carácter de la cadena de texto ocupa la posición 0."
   ]
  },
  {
   "cell_type": "code",
   "execution_count": null,
   "metadata": {},
   "outputs": [],
   "source": [
    "cadena = \"Python\"\n",
    "print(\"Carácter posición 0:\", cadena[0])\n",
    "print(\"Carácter posición 1:\", cadena[1])\n",
    "print(\"Carácter posición 2:\", cadena[2])\n",
    "print(\"Carácter posición 3:\", cadena[3])\n",
    "print(\"Carácter posición 4:\", cadena[4])\n",
    "print(\"Carácter posición 5:\", cadena[5])"
   ]
  },
  {
   "cell_type": "code",
   "execution_count": null,
   "metadata": {},
   "outputs": [],
   "source": [
    "print(cadena[3])"
   ]
  },
  {
   "cell_type": "markdown",
   "metadata": {},
   "source": [
    "#### 2.3.1 Operadores con cadenas"
   ]
  },
  {
   "cell_type": "markdown",
   "metadata": {},
   "source": [
    "Las cadenas de caracteres en Python pueden utilizar los operadors `+` y `*` para concatenar cadenas de texto y para multiplicar una cadena de texto."
   ]
  },
  {
   "cell_type": "code",
   "execution_count": null,
   "metadata": {},
   "outputs": [],
   "source": [
    "str1 = \"Python\"\n",
    "str2 = \"Hola\"\n",
    "print(str2 + \" \" + str1)\n",
    "print((str1 + \" \") * 3)"
   ]
  },
  {
   "cell_type": "markdown",
   "metadata": {},
   "source": [
    "La operación de concatenación puede realizarse de forma simplificada utilizando el operador `+=`, por ejemplo:"
   ]
  },
  {
   "cell_type": "code",
   "execution_count": 3,
   "metadata": {},
   "outputs": [
    {
     "name": "stdout",
     "output_type": "stream",
     "text": [
      "Python \n",
      "Python Python \n"
     ]
    }
   ],
   "source": [
    "str1 = \"Python \"\n",
    "print(str1)\n",
    "str1 += str1\n",
    "print(str1)"
   ]
  },
  {
   "cell_type": "markdown",
   "metadata": {},
   "source": [
    "Python ofrece un operador que permite comprobar si una cadena contiene otra cadena o un carácter en concreto. El operador es `in`, y el formato de uso es el siguiente:\n",
    "\n",
    "`Cadena1 in Cadena2`"
   ]
  },
  {
   "cell_type": "markdown",
   "metadata": {},
   "source": [
    "###### Ejercicio 2.7"
   ]
  },
  {
   "cell_type": "markdown",
   "metadata": {},
   "source": [
    "#### 2.3.2 Funciones"
   ]
  },
  {
   "cell_type": "markdown",
   "metadata": {},
   "source": [
    "El tipo de dato cadena de texto en Python posee una serie de funciones que nos permiten manipular las cadenas de texto realizando operaciones complejas de forma sencilla y con una simple instrucción. El formato de uso en la gran mayoria de las funciones es el siguiente:\n",
    "\n",
    "`ValorDevuelto = CadenaTexto.NombreFuncion(Parámetros)` \n",
    "\n",
    "- ValorDevuelto: la ejecución de la función tendrá un resultado. Ése resultado puede ser un booleano, un número, otra cadena de texto o una lista de elementos.\n",
    "- CadenaTexto: cadena sobre la que se ejecutará la función.\n",
    "- NombreFuncion: nombre de la función que se quiere ejecutar.\n",
    "- Parámetros: no todas las funciones tienen parámetros para ejecutarse, esta parte es dependiente de la función que se quiere ejecutar.\n",
    "\n",
    "Las funciones de cadenas que pone a nuestra disposición Python están aquí: https://docs.python.org/2.5/lib/string-methods.html"
   ]
  },
  {
   "cell_type": "code",
   "execution_count": 21,
   "metadata": {},
   "outputs": [
    {
     "data": {
      "text/plain": [
       "4"
      ]
     },
     "execution_count": 21,
     "metadata": {},
     "output_type": "execute_result"
    }
   ],
   "source": [
    "cadena=\"Python\"\n",
    "cadena.find('o')"
   ]
  },
  {
   "cell_type": "markdown",
   "metadata": {},
   "source": [
    "###### Ejercicio 2.8"
   ]
  },
  {
   "cell_type": "code",
   "execution_count": 17,
   "metadata": {},
   "outputs": [
    {
     "name": "stdout",
     "output_type": "stream",
     "text": [
      "Hello world\n"
     ]
    }
   ],
   "source": [
    "# la primera, capitalize():\n",
    "cadena = \"hello world\"\n",
    "nueva_cadena = cadena.capitalize()\n",
    "print(nueva_cadena)"
   ]
  },
  {
   "cell_type": "markdown",
   "metadata": {},
   "source": [
    "#### 2.3.4 Porciones de cadenas"
   ]
  },
  {
   "cell_type": "markdown",
   "metadata": {},
   "source": [
    "Las cadenas de texto ofrecen la funcionalidad de extraer partes de la cadena de texto, es decir, partiendo de una cadena de texto base nos ofrece la posibilidad de extraer subcadenas para poder trabajar con ellas.\n",
    "\n",
    "La forma de extraer estas subcadenas es utilizando el operador `[n:m]`, donde `n` es la posición del carácter inicial y `m` la posición del carácter final. El operador `[n:m]` permite omitir uno de los dos índices. En caso de omitir la `n` la subcadena empezará desde el principio de la cadena y en caso de omitir la `m` la subcadena llegará hasta el final de la cadena. "
   ]
  },
  {
   "cell_type": "code",
   "execution_count": 23,
   "metadata": {},
   "outputs": [
    {
     "name": "stdout",
     "output_type": "stream",
     "text": [
      "23\n",
      "Pyth\n"
     ]
    }
   ],
   "source": [
    "string = \"this is a medium sized Python string\"\n",
    "idx = string.find(\"Python\")\n",
    "print(idx)\n",
    "print(string[23:29])\n"
   ]
  },
  {
   "cell_type": "code",
   "execution_count": null,
   "metadata": {},
   "outputs": [],
   "source": [
    "idx2=string[idx:].find(' ')\n",
    "#Encontrar un espacio"
   ]
  },
  {
   "cell_type": "code",
   "execution_count": 4,
   "metadata": {},
   "outputs": [
    {
     "name": "stdout",
     "output_type": "stream",
     "text": [
      "10\n"
     ]
    }
   ],
   "source": [
    "cadena = \"this is a fairly long string\"\n",
    "x = cadena.find(\"fair\")\n",
    "print(x)"
   ]
  },
  {
   "cell_type": "code",
   "execution_count": null,
   "metadata": {},
   "outputs": [],
   "source": [
    "cadena[:]"
   ]
  },
  {
   "cell_type": "code",
   "execution_count": null,
   "metadata": {},
   "outputs": [],
   "source": [
    "texto = \"Pero lo que más me gustaba de aquel museo era que todo \"\n",
    "texto += \"estaba siempre en el mismo sitio. No cambiaba nada. \"\n",
    "texto += \"Podías ir cien mil veces distintas y el esquimal seguía \"\n",
    "texto += \"pescando, y los pájaros seguían volando hacia el sur, \"\n",
    "texto += \"y los ciervos seguían bebiendo en las charcas con esas \"\n",
    "texto += \"patas tan finas y tan bonitas que tenían, y la india del \"\n",
    "texto += \"pecho al aire seguía tejiendo su manta.\"\n",
    "texto.count(\"seguía\")"
   ]
  },
  {
   "cell_type": "markdown",
   "metadata": {},
   "source": [
    "###### Ejercicio 2.9"
   ]
  },
  {
   "cell_type": "code",
   "execution_count": null,
   "metadata": {},
   "outputs": [],
   "source": [
    " La palabra \"seguía\" aparece 4 veces en el texto. Queremos ver escrito en la pantalla las frases que \n",
    "    siguen de \"seguía\" hasta que encuentra una coma o un \n",
    "    punto, en 4 lineas diferentes. \n",
    "    No puedes usar bucles (while, for). Hay que usar el \n",
    "    operador ternario: \n",
    "    book.pythontips.com/en/latest/ternary_operators.html \n",
    "    Un ejemplo del uso del operador ternario:"
   ]
  },
  {
   "cell_type": "code",
   "execution_count": null,
   "metadata": {},
   "outputs": [],
   "source": [
    "feeling = input(\"How are you feeling today? (happy/sad): \")\n",
    "message = \"Me siento feliz!\" if feeling == \"happy\" else \"Me siento triste :-(\"\n",
    "print(message)"
   ]
  },
  {
   "cell_type": "code",
   "execution_count": 24,
   "metadata": {},
   "outputs": [
    {
     "name": "stdout",
     "output_type": "stream",
     "text": [
      "0\n"
     ]
    }
   ],
   "source": [
    "a = 3\n",
    "number = 5 if a == 1 else 0\n",
    "print(number)"
   ]
  },
  {
   "cell_type": "markdown",
   "metadata": {},
   "source": [
    "#### 2.3.5 Formateo de cadenas"
   ]
  },
  {
   "cell_type": "markdown",
   "metadata": {},
   "source": [
    "Hasta el momento hemos construido cadenas concatenándolas, pero Python nos ofrece dos formas de crear cadenas que están compuestas por varias cadenas. La primera es utilizando un operador concreto para componer la cadena y la segunda es utilizando la función _format_. "
   ]
  },
  {
   "cell_type": "markdown",
   "metadata": {},
   "source": [
    "##### 2.3.5.1 Operador %"
   ]
  },
  {
   "cell_type": "markdown",
   "metadata": {},
   "source": [
    "La primera forma de componer cadenas es utilizando el operador %. Indica que dentro de la cadena base se realizará la sustitución de ese operador por la cadena que se especifique. Al operador hay que indicarle el tipo de dato que lleva asociado. La siguiente tabla muestra el valor que tendrá que tener el operador en cada caso de tipo de dato. "
   ]
  },
  {
   "cell_type": "markdown",
   "metadata": {},
   "source": [
    "<dl>\n",
    "<table>\n",
    "  <tr>\n",
    "    <th>Operador</th>\n",
    "    <th>Tipo de dato</th>\n",
    "  </tr>\n",
    "  <tr>\n",
    "    <td>%c</td>\n",
    "    <td>Un carácter</td>\n",
    "  </tr>\n",
    "  <tr>\n",
    "    <td>%s</td>\n",
    "    <td>Cadena de texto</td>\n",
    "  </tr>\n",
    "  <tr>\n",
    "    <td>%d</td>\n",
    "    <td>Número entero</td>\n",
    "  </tr>\n",
    "  <tr>\n",
    "    <td>%f</td>\n",
    "    <td>Número real</td>\n",
    "  </tr>\n",
    "  <tr>\n",
    "    <td>%o</td>\n",
    "    <td>Número octal</td>\n",
    "  </tr>\n",
    "  <tr>\n",
    "    <td>%x</td>\n",
    "    <td>Número hexadecimal</td>\n",
    "  </tr>\n",
    "</table>    \n",
    "</dl>"
   ]
  },
  {
   "cell_type": "code",
   "execution_count": null,
   "metadata": {},
   "outputs": [],
   "source": [
    "div1 = int(input(\"dividendo: \"))\n",
    "div2 = int(input(\"divisor: \"))\n",
    "print(\"El resultado de dividir %d por %d es %f\" % (div1, div2, div1/div2))"
   ]
  },
  {
   "cell_type": "markdown",
   "metadata": {},
   "source": [
    "##### 2.3.5.2 `format()`"
   ]
  },
  {
   "cell_type": "markdown",
   "metadata": {},
   "source": [
    "La función format devuelve una versión formateada de una cadena de caracteres, usando sustituciones desde argumentos args y kwargs. La forma de especificar dentro de la cadena de texto base la posición que deben ocupar los argumentos se identifica con llaves  dentro de la cadena y el número del argumento que sustituirá a las llaves.\n",
    "\n",
    "Por ejemplo:"
   ]
  },
  {
   "cell_type": "code",
   "execution_count": null,
   "metadata": {},
   "outputs": [],
   "source": [
    "multiplicando = int(input(\"multiplicando:\"))\n",
    "multiplicador = int(input(\"multiplicador:\"))\n",
    "print(\"El resultado de multiplicar {0} por {1} es {2}\".format(multiplicando, multiplicador, multiplicando*multiplicador))"
   ]
  },
  {
   "cell_type": "code",
   "execution_count": null,
   "metadata": {},
   "outputs": [],
   "source": []
  }
 ],
 "metadata": {
  "kernelspec": {
   "display_name": "Python 3",
   "language": "python",
   "name": "python3"
  },
  "language_info": {
   "codemirror_mode": {
    "name": "ipython",
    "version": 3
   },
   "file_extension": ".py",
   "mimetype": "text/x-python",
   "name": "python",
   "nbconvert_exporter": "python",
   "pygments_lexer": "ipython3",
   "version": "3.8.5"
  }
 },
 "nbformat": 4,
 "nbformat_minor": 4
}
