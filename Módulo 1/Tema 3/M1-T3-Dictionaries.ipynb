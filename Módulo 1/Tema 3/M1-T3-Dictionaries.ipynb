{
 "cells": [
  {
   "cell_type": "markdown",
   "metadata": {},
   "source": [
    "### 3.4 Tipo de Dato Abstracto (TDA)\n",
    "\n",
    "Como hemos visto, los tipos de datos complejos almacenan más de un elemento, por esto se denominan también **contenedores**. En función del problema que precisemos resolver optaremos por una organización de los datos y determinadas operaciones sobre ellos. No organizamos igual los libros de una estantería, las fotografías en un álbum o los medicamentos en un botiquín. Su naturaleza y cómo queremos acceder a ellos es diferente en cada caso. A medida que nuestros programas crezcan y el volumen de datos manejados también, el uso de contenedores será más habitual. Incluso en algunos programas pequeños es natural y pertinente utilizar tipos de datos complejos. "
   ]
  },
  {
   "cell_type": "markdown",
   "metadata": {},
   "source": [
    "Podríamos reducir el concepto de programación a la combinación de dos elementos: **estructuras de control** y **estructuras de datos**. En informática, una estructura de datos es una forma de organizar, gestionar y almacenar conjuntos de datos para acceder a ellos y manipularlos de manera eficiente, de acuerdo con el problema que estamos resolviendo. En término técnico es **Tipo de Dato Abstracto (TDA)** – (**Abstract Data Type (ADT)** en inglés), pues representan tipos de datos más complejos que, además de almacenar valores determinados en una organización concreta de los mismos, proporcionan operaciones con fines específicos. "
   ]
  },
  {
   "cell_type": "markdown",
   "metadata": {},
   "source": [
    "La elección de la estructura de datos adecuada es tan importante como diseñar un correcto flujo en nuestro código para resolver un problema. Una estructura de datos nos permite almacenar colecciones de valores siguiendo una organización de estos que debe facilitar su manipulación. "
   ]
  },
  {
   "cell_type": "markdown",
   "metadata": {},
   "source": [
    "Existen multitud de estructuras de datos: **listas**, **pilas**, **colas**, **árboles binarios**, **grafos**, **vectores**, **diccionarios**, **conjuntos**, **tuplas** y, por supuesto, **clases**. Algunos lenguajes de programación, como Python, ofrecen implementaciones directas de algunas de estas estructuras; otros permiten contruirlas a partir de tipos de datos básicos, como el lenguaje C. En cualquier caso, la mayoría de los lenguajes maduros ofrecen múltiples estructuras, bien de manera nativa o a través de bibliotecas."
   ]
  },
  {
   "cell_type": "markdown",
   "metadata": {},
   "source": [
    "### 3.5 Diccionarios\n",
    "\n",
    "En las bases de datos donde se almacenan grandes volúmenes de información, los registros se buscan por algún identificador que los localice de forma única. Estos identificadores se denominan **claves** y, aunque lo habitual es generar enteros como claves para asociarlos a los registros de datos, pueden usarse como claves otros valores que también sean únicos para cada registro.\n",
    "En programación, existe una estructura de datos con varias denominaciones posibles: **arreglo asociativo** (**associative array**), **memoria asociativa**, **tabla hash** (**hash table**, **hash map**, **map**) o, sencillamente, **diccionario** (**dictionary**). "
   ]
  },
  {
   "cell_type": "markdown",
   "metadata": {},
   "source": [
    "Son un conjunto de elementos cuyo índices no son numéricos sino identificadores. Al igual que las listas y las tuplas, los diccionarios pueden contener datos de cualquier tipo. En otras palabras, los diccionarios son colecciones de elementos compuestos por una clave y un valor asociado, con la características de que las claves no pueden repetirse.\n",
    "\n",
    "Los diccionarios en Python se delimitan por llaves \"{ }\", con los elementos separados por comas y la clave separada del valor mediante dos puntos, por ejemplo:\n",
    "\n",
    "`{\"Clave1\": \"Valor1\", \"Clave2\": \"Valor2\", \"Clave3\": \"Valor3\"}`"
   ]
  },
  {
   "cell_type": "code",
   "execution_count": null,
   "metadata": {},
   "outputs": [],
   "source": []
  },
  {
   "cell_type": "markdown",
   "metadata": {},
   "source": [
    "<dl>\n",
    "<table>\n",
    "  <tr>\n",
    "    <th>Clave</th>\n",
    "    <th>Valor</th>\n",
    "  </tr>\n",
    "  <tr>\n",
    "    <td>\"Clave1\"</td>\n",
    "    <td>\"Valor1\"</td>\n",
    "  </tr>\n",
    "  <tr>\n",
    "    <td>\"Clave2\"</td>\n",
    "    <td>\"Valor2\"</td>\n",
    "  </tr>\n",
    "  <tr>\n",
    "    <td>\"Clave3\"</td>\n",
    "    <td>\"Valor3\"</td>\n",
    "  </tr>\n",
    "</table>    \n",
    "</dl>"
   ]
  },
  {
   "cell_type": "markdown",
   "metadata": {},
   "source": [
    "Las claves de los diccionarios pueden ser de diferentes tipos de datos, aunque siempre deberán de ser datos **inmutables**. Los tipos de datos soportados en Python para ser claves de los diccionarios son:\n",
    "\n",
    "- Cadenas de texto (str)\n",
    "- Números (enteros, reales y complejos)\n",
    "- Booleanos\n",
    "- Bytes\n",
    "- Tupla\n",
    "\n",
    "Aunque puedes utilizar todos ellos como clave, los más comunes son **cadenas de text** y **enteros**."
   ]
  },
  {
   "cell_type": "code",
   "execution_count": 5,
   "metadata": {},
   "outputs": [],
   "source": [
    "mydict={\"a\":\"the letter a\",\n",
    "        \"aa\":\"the letter a\",\n",
    "        1:\"the number one\"}"
   ]
  },
  {
   "cell_type": "code",
   "execution_count": 10,
   "metadata": {},
   "outputs": [],
   "source": [
    "mydict={\"a\":['a','A'],\n",
    "        \"aa\":{'a','aa','aaa'},\n",
    "        1:{\"one\":1,\"two\":2}}"
   ]
  },
  {
   "cell_type": "code",
   "execution_count": 15,
   "metadata": {},
   "outputs": [
    {
     "data": {
      "text/plain": [
       "False"
      ]
     },
     "execution_count": 15,
     "metadata": {},
     "output_type": "execute_result"
    }
   ],
   "source": [
    "mydict\n",
    "'b' in mydict"
   ]
  },
  {
   "cell_type": "markdown",
   "metadata": {},
   "source": [
    "#### 3.5.1 Manipulación\n",
    "Para acceder a los elementos del diccionario deberás de utilizar la clave del elemento."
   ]
  },
  {
   "cell_type": "code",
   "execution_count": 12,
   "metadata": {},
   "outputs": [],
   "source": [
    "# día de la semana español => inglés ... difícil de leer...\n",
    "dia_semana = {\"Lunes\": \"Monday\", \n",
    "              \"Martes\": \"Tuesday\", \n",
    "              \"Miércoles\": \"Wednesday\", \n",
    "              \"Jueves\": \"Thursday\", \n",
    "              \"Viernes\": \"Friday\"}"
   ]
  },
  {
   "cell_type": "code",
   "execution_count": 13,
   "metadata": {
    "scrolled": true
   },
   "outputs": [
    {
     "data": {
      "text/plain": [
       "{'Lunes': 'Monday',\n",
       " 'Martes': 'Tuesday',\n",
       " 'Miércoles': 'Wednesday',\n",
       " 'Jueves': 'Thursday',\n",
       " 'Viernes': 'Friday'}"
      ]
     },
     "execution_count": 13,
     "metadata": {},
     "output_type": "execute_result"
    }
   ],
   "source": [
    "dia_semana"
   ]
  },
  {
   "cell_type": "code",
   "execution_count": null,
   "metadata": {},
   "outputs": [],
   "source": [
    "\n",
    "# día de la semana español => inglés ... legible\n",
    "dia_semana = {\n",
    "    \"Lunes\": \"Monday\", \n",
    "    \"Martes\": \"Tuesday\", \n",
    "    \"Miércoles\": \"Wednesday\", \n",
    "    \"Jueves\": \"Thursday\", \n",
    "    \"Viernes\": \"Friday\"\n",
    "}"
   ]
  },
  {
   "cell_type": "code",
   "execution_count": null,
   "metadata": {
    "scrolled": true
   },
   "outputs": [],
   "source": [
    "dia_semana"
   ]
  },
  {
   "cell_type": "code",
   "execution_count": 14,
   "metadata": {},
   "outputs": [
    {
     "name": "stdout",
     "output_type": "stream",
     "text": [
      "Monday\n",
      "Wednesday\n",
      "Friday\n"
     ]
    }
   ],
   "source": [
    "print(dia_semana[\"Lunes\"])\n",
    "print(dia_semana[\"Miércoles\"])\n",
    "print(dia_semana[\"Viernes\"])"
   ]
  },
  {
   "cell_type": "markdown",
   "metadata": {},
   "source": [
    "La forma de añadir un elemento al diccionario es la siguiente:\n",
    "\n",
    "**Diccionario[NuevaClave] = NuevoValor**\n",
    "\n",
    "La forma de modificar el valor de un elemento del diccionario es la siguiente:\n",
    "\n",
    "**Diccionario[ClaveQueSeVaAModificar] = NuevoValor**\n",
    "\n",
    "La forma de eliminar un elemento del diccionario es la siguiente:\n",
    "\n",
    "**del Diccionario[ClaveElementoABorrar]**"
   ]
  },
  {
   "cell_type": "code",
   "execution_count": 16,
   "metadata": {
    "scrolled": true
   },
   "outputs": [
    {
     "data": {
      "text/plain": [
       "{'Lunes': 'Monday',\n",
       " 'Martes': 'Tuesday',\n",
       " 'Miércoles': 'Wednesday',\n",
       " 'Jueves': 'Thursday',\n",
       " 'Viernes': 'Friday'}"
      ]
     },
     "execution_count": 16,
     "metadata": {},
     "output_type": "execute_result"
    }
   ],
   "source": [
    "dia_semana"
   ]
  },
  {
   "cell_type": "code",
   "execution_count": 17,
   "metadata": {
    "scrolled": true
   },
   "outputs": [
    {
     "name": "stdout",
     "output_type": "stream",
     "text": [
      "{'Lunes': 'Monday', 'Martes': 'Tuesday', 'Miércoles': 'Wednesday', 'Jueves': 'Thursday', 'Viernes': 'Friday'}\n",
      "{'Lunes': 'Monday', 'Martes': 'Tuesday', 'Miércoles': 'Wednesday', 'Jueves': 'Thursday', 'Viernes': 'Friday', 'Sábado': 'Saturday'}\n"
     ]
    }
   ],
   "source": [
    "print(dia_semana)\n",
    "dia_semana[\"Sábado\"] = \"Saturday\"\n",
    "print(dia_semana)"
   ]
  },
  {
   "cell_type": "code",
   "execution_count": 18,
   "metadata": {
    "scrolled": true
   },
   "outputs": [
    {
     "name": "stdout",
     "output_type": "stream",
     "text": [
      "{'Lunes': 'Monday', 'Martes': 'Tuesday', 'Miércoles': 'Wednesday', 'Jueves': 'Thursday', 'Viernes': 'Friday', 'Sábado': 'Saturday', 'Domingo': 'Sunday'}\n"
     ]
    }
   ],
   "source": [
    "dia_semana[\"Domingo\"] = \"Sunday\"\n",
    "print(dia_semana)"
   ]
  },
  {
   "cell_type": "code",
   "execution_count": 19,
   "metadata": {},
   "outputs": [
    {
     "name": "stdout",
     "output_type": "stream",
     "text": [
      "{'Lunes': 'MondayBORRAR', 'Martes': 'Tuesday', 'Miércoles': 'Wednesday', 'Jueves': 'Thursday', 'Viernes': 'Friday', 'Sábado': 'Saturday', 'Domingo': 'Sunday'}\n"
     ]
    }
   ],
   "source": [
    "dia_semana[\"Lunes\"] = \"MondayBORRAR\"\n",
    "print(dia_semana)"
   ]
  },
  {
   "cell_type": "code",
   "execution_count": 20,
   "metadata": {},
   "outputs": [
    {
     "name": "stdout",
     "output_type": "stream",
     "text": [
      "{'Martes': 'Tuesday', 'Miércoles': 'Wednesday', 'Jueves': 'Thursday', 'Viernes': 'Friday', 'Sábado': 'Saturday', 'Domingo': 'Sunday'}\n"
     ]
    }
   ],
   "source": [
    "del dia_semana[\"Lunes\"]\n",
    "print(dia_semana)"
   ]
  },
  {
   "cell_type": "markdown",
   "metadata": {},
   "source": [
    "Es posible utilizar las funciones `len`, `max` y `min` con los diccionarios. La primera devolverá el número de elementos que contiene el diccionario; la segunda, el elemento con el valor mayor y la tercera, el elemento con el valor menor. El valor mayor y el valor menor serán devueltos siempre que pueda calcularse dependiendo de los elementos que componen el diccionario. Por ejemplo:"
   ]
  },
  {
   "cell_type": "code",
   "execution_count": 26,
   "metadata": {},
   "outputs": [
    {
     "name": "stdout",
     "output_type": "stream",
     "text": [
      "Número de elementos del diccionario= 6\n"
     ]
    }
   ],
   "source": [
    "print(\"Número de elementos del diccionario:\",len(dia_semana))"
   ]
  },
  {
   "cell_type": "code",
   "execution_count": 27,
   "metadata": {
    "scrolled": true
   },
   "outputs": [
    {
     "name": "stdout",
     "output_type": "stream",
     "text": [
      "Elemento mayor del diccionario= Viernes\n"
     ]
    }
   ],
   "source": [
    "print(\"Elemento mayor del diccionario:\",max(dia_semana))"
   ]
  },
  {
   "cell_type": "code",
   "execution_count": 28,
   "metadata": {},
   "outputs": [
    {
     "name": "stdout",
     "output_type": "stream",
     "text": [
      "Elemento menor del diccionario: Domingo\n"
     ]
    }
   ],
   "source": [
    "print(\"Elemento menor del diccionario:\",min(dia_semana))"
   ]
  },
  {
   "cell_type": "code",
   "execution_count": 29,
   "metadata": {},
   "outputs": [
    {
     "name": "stdout",
     "output_type": "stream",
     "text": [
      "Número de elementos del diccionario:  5\n",
      "Elemento mayor del diccionario:  Viernes\n",
      "Elemento menor del diccionario:  Jueves\n"
     ]
    }
   ],
   "source": [
    "# día de la semana español => inglés ... legible\n",
    "dia_semana = {\n",
    "    \"Lunes\": \"Monday\", \n",
    "    \"Martes\": \"Tuesday\", \n",
    "    \"Miércoles\": \"Wednesday\", \n",
    "    \"Jueves\": \"Thursday\", \n",
    "    \"Viernes\": \"Friday\"\n",
    "}\n",
    "\n",
    "print(\"Número de elementos del diccionario: \", len(dia_semana))\n",
    "print(\"Elemento mayor del diccionario: \", max(dia_semana))\n",
    "print(\"Elemento menor del diccionario: \", min(dia_semana))"
   ]
  },
  {
   "cell_type": "code",
   "execution_count": 32,
   "metadata": {},
   "outputs": [
    {
     "name": "stdout",
     "output_type": "stream",
     "text": [
      "Minimo: a\n",
      "Maximo: c\n"
     ]
    }
   ],
   "source": [
    "letters={'a':1,'b':1,'c':1}\n",
    "print('Minimo:',min(letters))\n",
    "print('Maximo:',max(letters))"
   ]
  },
  {
   "cell_type": "markdown",
   "metadata": {},
   "source": [
    "###### Ejercicio 3.6 Durante el desarrollo de un pequeño videojuego se te encarga configurar y balancear cada clase de personaje jugable. Partiendo que la estadística base es 2, debes cumplir las siguientes condiciones:\n",
    "\n",
    "El caballero tiene el doble de vida y defensa que un guerrero.\n",
    "\n",
    "El guerrero tiene el doble de ataque y alcance que un caballero.\n",
    "\n",
    "El arquero tiene la misma vida y ataque que un guerrero, pero la mitad de su defensa y el doble de su alcance.\n",
    "\n",
    "Muestra como quedan las propiedades de los tres personajes.\n",
    "\n",
    "Cuando termines, mándame la solución aquí: mailto:spiros.eoi@gmail.com, y dime en el polling que lo has mandado."
   ]
  },
  {
   "cell_type": "code",
   "execution_count": 39,
   "metadata": {},
   "outputs": [
    {
     "name": "stdout",
     "output_type": "stream",
     "text": [
      "Caballero: {'vida': 4, 'ataque': 2, 'defensa': 4, 'alcance': 2}\n",
      "Guerrero: {'vida': 2, 'ataque': 4, 'defensa': 2, 'alcance': 4}\n",
      "Arquero: {'vida': 2, 'ataque': 4, 'defensa': 1, 'alcance': 8}\n"
     ]
    }
   ],
   "source": [
    "caballero = { 'vida':2, 'ataque':2, 'defensa': 2, 'alcance':2 }\n",
    "guerrero  = { 'vida':2, 'ataque':2, 'defensa': 2, 'alcance':2 }\n",
    "arquero   = { 'vida':2, 'ataque':2, 'defensa': 2, 'alcance':2 }\n",
    "\n",
    "# completa el ejercicio aquí\n",
    "caballero['vida']=guerrero['vida']*2\n",
    "caballero['defensa']=guerrero['defensa']*2\n",
    "guerrero['ataque']=caballero['ataque']*2\n",
    "guerrero['alcance']=caballero['alcance']*2\n",
    "arquero['vida']=guerrero['vida']\n",
    "arquero['ataque']=guerrero['ataque']\n",
    "arquero['alcance']=guerrero['alcance']*2\n",
    "arquero['defensa']=int(guerrero['defensa']/2)\n",
    "\n",
    "print('Caballero:',caballero)\n",
    "print('Guerrero:',guerrero)\n",
    "print('Arquero:',arquero)\n"
   ]
  },
  {
   "cell_type": "code",
   "execution_count": null,
   "metadata": {},
   "outputs": [],
   "source": []
  },
  {
   "cell_type": "markdown",
   "metadata": {},
   "source": [
    "#### 3.5.2 Métodos propios\n",
    "El tipo de dato diccionario en Python posee una serie de funciones que nos permiten manipular los diccionarios realizando operaciones complejas de forma sencilla y con una simple instrucción. El formato de uso de la gran mayoria de las funciones es el siguiente:\n",
    "\n",
    "**_Diccionario.NombreFuncion(Parámetros)_**\n",
    "\n",
    "- Diccionario: diccionario que ejecuta la función.\n",
    "- NombreFuncion: nombre de la función que se quiere ejecutar.\n",
    "- Parámetros: no todas las funciones tienen parámetros para ejecutarse, esta parte es dependiente de la función que se quiere ejecutar.\n",
    "\n",
    "Las funciones de diccionarios que pone a nuestra disposición Python están aquí: https://www.w3schools.com/python/python_ref_dictionary.asp"
   ]
  },
  {
   "cell_type": "code",
   "execution_count": 40,
   "metadata": {},
   "outputs": [],
   "source": [
    "# día de la semana español => inglés ... legible\n",
    "dia_semana = {\n",
    "    \"Lunes\": \"Monday\", \n",
    "    \"Martes\": \"Tuesday\", \n",
    "    \"Miércoles\": \"Wednesday\", \n",
    "    \"Jueves\": \"Thursday\", \n",
    "    \"Viernes\": \"Friday\"\n",
    "}"
   ]
  },
  {
   "cell_type": "code",
   "execution_count": null,
   "metadata": {},
   "outputs": [],
   "source": [
    "# clear, copy, fromkeys, pop, setdefault..."
   ]
  },
  {
   "cell_type": "code",
   "execution_count": 44,
   "metadata": {},
   "outputs": [
    {
     "name": "stdout",
     "output_type": "stream",
     "text": [
      "This day doesn't exist\n"
     ]
    }
   ],
   "source": [
    "ret=dia_semana.get(\"Domingo\",\"This day doesn't exist\")\n",
    "print(ret)"
   ]
  },
  {
   "cell_type": "code",
   "execution_count": 45,
   "metadata": {},
   "outputs": [
    {
     "data": {
      "text/plain": [
       "dict_items([('Lunes', 'Monday'), ('Martes', 'Tuesday'), ('Miércoles', 'Wednesday'), ('Jueves', 'Thursday'), ('Viernes', 'Friday')])"
      ]
     },
     "execution_count": 45,
     "metadata": {},
     "output_type": "execute_result"
    }
   ],
   "source": [
    "dia_semana.items()"
   ]
  },
  {
   "cell_type": "code",
   "execution_count": 47,
   "metadata": {},
   "outputs": [
    {
     "data": {
      "text/plain": [
       "False"
      ]
     },
     "execution_count": 47,
     "metadata": {},
     "output_type": "execute_result"
    }
   ],
   "source": [
    "dia_semana.keys()\n",
    "'Domingo' in dia_semana"
   ]
  },
  {
   "cell_type": "markdown",
   "metadata": {},
   "source": [
    "ret=dia_semana.pop('Martes')\n",
    "print(ret)\n",
    "print(dia_semana)"
   ]
  },
  {
   "cell_type": "code",
   "execution_count": 49,
   "metadata": {},
   "outputs": [
    {
     "ename": "KeyError",
     "evalue": "'Lunes'",
     "output_type": "error",
     "traceback": [
      "\u001b[1;31m---------------------------------------------------------------------------\u001b[0m",
      "\u001b[1;31mKeyError\u001b[0m                                  Traceback (most recent call last)",
      "\u001b[1;32m<ipython-input-49-370352969c78>\u001b[0m in \u001b[0;36m<module>\u001b[1;34m\u001b[0m\n\u001b[1;32m----> 1\u001b[1;33m \u001b[0mdia_semana\u001b[0m\u001b[1;33m.\u001b[0m\u001b[0mpop\u001b[0m\u001b[1;33m(\u001b[0m\u001b[1;34m\"Lunes\"\u001b[0m\u001b[1;33m)\u001b[0m\u001b[1;33m\u001b[0m\u001b[1;33m\u001b[0m\u001b[0m\n\u001b[0m\u001b[0;32m      2\u001b[0m \u001b[0mprint\u001b[0m\u001b[1;33m(\u001b[0m\u001b[0mdia_semana\u001b[0m\u001b[1;33m)\u001b[0m\u001b[1;33m\u001b[0m\u001b[1;33m\u001b[0m\u001b[0m\n",
      "\u001b[1;31mKeyError\u001b[0m: 'Lunes'"
     ]
    }
   ],
   "source": [
    "dia_semana.pop(\"Lunes\")\n",
    "print(dia_semana)"
   ]
  },
  {
   "cell_type": "code",
   "execution_count": 50,
   "metadata": {},
   "outputs": [
    {
     "name": "stdout",
     "output_type": "stream",
     "text": [
      "Tuesday\n",
      "{'Miércoles': 'Wednesday', 'Jueves': 'Thursday', 'Viernes': 'Friday'}\n"
     ]
    }
   ],
   "source": [
    "ret=dia_semana.pop('Martes')\n",
    "print(ret)\n",
    "print(dia_semana)"
   ]
  },
  {
   "cell_type": "code",
   "execution_count": 51,
   "metadata": {},
   "outputs": [],
   "source": [
    "#un elemento usar []\n",
    "dia_semana[\"Domingo\"]=\"Sunday\"\n"
   ]
  },
  {
   "cell_type": "code",
   "execution_count": 52,
   "metadata": {},
   "outputs": [],
   "source": [
    "#más de uno, usar update()\n",
    "dia_semana.update({\"Sabado\":\"Saturday\",\"Domingo\":\"Sunday\"})"
   ]
  },
  {
   "cell_type": "code",
   "execution_count": 53,
   "metadata": {},
   "outputs": [
    {
     "name": "stdout",
     "output_type": "stream",
     "text": [
      "{'Miércoles': 'Wednesday', 'Jueves': 'Thursday', 'Viernes': 'Friday', 'Domingo': 'Sunday', 'Sabado': 'Saturday'}\n"
     ]
    }
   ],
   "source": [
    "print(dia_semana)"
   ]
  },
  {
   "cell_type": "code",
   "execution_count": 55,
   "metadata": {},
   "outputs": [
    {
     "name": "stdout",
     "output_type": "stream",
     "text": [
      "{'key1': (0, 1, 2), 'key2': (0, 1, 2), 'key3': (0, 1, 2)}\n"
     ]
    }
   ],
   "source": [
    "x = ('key1', 'key2', 'key3')\n",
    "y = 0\n",
    "\n",
    "thisdict = dict.fromkeys(x, y)\n",
    "\n",
    "print(thisdict)"
   ]
  },
  {
   "cell_type": "markdown",
   "metadata": {},
   "source": [
    "###### Ejercicio 3.7"
   ]
  },
  {
   "cell_type": "code",
   "execution_count": null,
   "metadata": {},
   "outputs": [],
   "source": []
  },
  {
   "cell_type": "markdown",
   "metadata": {},
   "source": [
    "###### Ejercicio 3.8 Partiendo de los diccionario triangulo, rectangulo y circulo, calcula las áreas de las figuras y almacenalas en el diccionario areas. Puedes importar el pi de la libreria math asi: form math import pi. Tb puedes importar la funcion pow o usar el operador ** para hacer el cuadrado.\n",
    "\n",
    "Cuando termines mandame la solución."
   ]
  },
  {
   "cell_type": "code",
   "execution_count": null,
   "metadata": {},
   "outputs": [],
   "source": [
    "# from math import <tab>"
   ]
  },
  {
   "cell_type": "code",
   "execution_count": 61,
   "metadata": {},
   "outputs": [
    {
     "name": "stdout",
     "output_type": "stream",
     "text": [
      "{'triangle': 17.5, 'rectangle': 18, 'circle': 28.274333882308138}\n"
     ]
    }
   ],
   "source": [
    "triangle = {\"height\": 5, \"base\": 7}\n",
    "rectangle = {\"height\": 3, \"base\": 6}\n",
    "circle = {\"radius\": 3}\n",
    "\n",
    "areas = {\"triangle\": -1, \"rectangle\": -1, \"circle\": -1}\n",
    "\n",
    "# completa el ejercicio aquí\n",
    "from math import pi\n",
    "from math import pow\n",
    "\n",
    "baseT=triangle[\"height\"]\n",
    "alturaT=triangle[\"base\"]\n",
    "areaT=(baseT*alturaT)/2\n",
    "\n",
    "baseR=rectangle[\"base\"]\n",
    "alturaR=rectangle[\"height\"]\n",
    "areaR=baseR*alturaR\n",
    "\n",
    "radio=circle[\"radius\"]\n",
    "areaC=pi * pow(radio,2)\n",
    "\n",
    "areas[\"triangle\"]=areaT\n",
    "areas[\"rectangle\"]=areaR\n",
    "areas[\"circle\"]=areaC\n",
    "\n",
    "'''\n",
    "misma tarea pero usando la función update()\n",
    "areas.update({\"triangle\":areaT,\"rectangle\":areaR,\"circle\":areaC})\n",
    "'''\n",
    "\n",
    "print(areas)"
   ]
  },
  {
   "cell_type": "code",
   "execution_count": 64,
   "metadata": {},
   "outputs": [
    {
     "name": "stdout",
     "output_type": "stream",
     "text": [
      "range(1, 10)\n"
     ]
    }
   ],
   "source": [
    "mylist=range(1,10)\n",
    "print(mylist)"
   ]
  },
  {
   "cell_type": "markdown",
   "metadata": {},
   "source": [
    "#### Ejercicio 3.9"
   ]
  },
  {
   "cell_type": "code",
   "execution_count": 68,
   "metadata": {},
   "outputs": [
    {
     "data": {
      "text/plain": [
       "[26, 37, 10, 13, 39, 6, 46, 15, 7, 24]"
      ]
     },
     "execution_count": 68,
     "metadata": {},
     "output_type": "execute_result"
    }
   ],
   "source": [
    "#Numeros aleatorios no repetidos entre a y b\n",
    "#el segundo argumento indica los números que \n",
    "#quieres que imprima\n",
    "import random\n",
    "random.sample(range(1,50), 10)"
   ]
  },
  {
   "cell_type": "code",
   "execution_count": 65,
   "metadata": {},
   "outputs": [
    {
     "data": {
      "text/plain": [
       "6"
      ]
     },
     "execution_count": 65,
     "metadata": {},
     "output_type": "execute_result"
    }
   ],
   "source": [
    "#número entero aleatorio entre dos valores\n",
    "import random\n",
    "random.randint(1,10)"
   ]
  },
  {
   "cell_type": "markdown",
   "metadata": {},
   "source": [
    "#### Ejercicio 3.10 La Lotería Primitiva es un juego de azar regulado por Loterías y Apuestas del Estado (LAE) que consiste en elegir 6 números diferentes entre 1 y 49, con el objetivo de acertar la Combinación Ganadora en el sorteo correspondiente, formada por 7 bolas, de las cuales 6 se extraen de un bombo con 49 números (modalidad comúnmente conocida como 6/49) y 1 se extrae de otro bombo con 10 bolas (con números que van desde 0 a 9) y correspondiente con el «reintegro». También se extrae una bola extra como número complementario. (https://es.wikipedia.org/wiki/Loter%C3%ADa_Primitiva_de_Espa%C3%B1a#:~:text=La%20Loter%C3%ADa%20Primitiva%20es%20un,bombo%20con%2049%20n%C3%BAmeros%20(modalidad)\n",
    "\n",
    "Escribe un programa en Python que elija los 6 números ganadores, más el número complementario y el reintegro. El programa debe imprimir en pantalla los 6 números ganadores en orden, y los números complementarios y del reintegro por separado.\n",
    "\n",
    "Debes usar la librería random (https://docs.python.org/3/library/random.html). No te preocupes si el reintegro por casualidad es igual al complementario o a uno de los números ganadores, este programa no va a ser usado para la lotería oficial 😉\n",
    "\n",
    "El output debe ser parecido a este:\n",
    "\n",
    "Números ganadores: [10, 13, 16, 22, 26, 36]\n",
    "\n",
    "Complementario: 25\n",
    "\n",
    "Reintegro: 15"
   ]
  },
  {
   "cell_type": "code",
   "execution_count": 87,
   "metadata": {},
   "outputs": [
    {
     "name": "stdout",
     "output_type": "stream",
     "text": [
      "Números ganadores: [9, 18, 25, 31, 37, 40]\n",
      "Complementario: [2]\n",
      "Reintegro: [13]\n"
     ]
    }
   ],
   "source": [
    "import random\n",
    "\n",
    "'''Obtengo los 6 números. Con random.sample(range(1,50),6) indico que me extraiga 6 cifras entre los números\n",
    "1 y 49. Devuelve una lista, la cual ordeno con la función sorted()'''\n",
    "lista_ordenada=sorted(random.sample(range(1,50),6))\n",
    "print(\"Números ganadores:\",lista_ordenada)\n",
    "\n",
    "'''Obtengo el complementario. Cojo una muestra desde 1 hasta 10'''\n",
    "print(\"Complementario:\",random.sample(range(1,11),1))\n",
    "\n",
    "'''obtengo reintegro. Cojo una muestra desde el 1 hasta el 49'''\n",
    "print(\"Reintegro:\",random.sample(range(1,50),1))"
   ]
  },
  {
   "cell_type": "code",
   "execution_count": null,
   "metadata": {},
   "outputs": [],
   "source": []
  },
  {
   "cell_type": "code",
   "execution_count": null,
   "metadata": {},
   "outputs": [],
   "source": []
  }
 ],
 "metadata": {
  "kernelspec": {
   "display_name": "Python 3",
   "language": "python",
   "name": "python3"
  },
  "language_info": {
   "codemirror_mode": {
    "name": "ipython",
    "version": 3
   },
   "file_extension": ".py",
   "mimetype": "text/x-python",
   "name": "python",
   "nbconvert_exporter": "python",
   "pygments_lexer": "ipython3",
   "version": "3.8.5"
  }
 },
 "nbformat": 4,
 "nbformat_minor": 4
}
