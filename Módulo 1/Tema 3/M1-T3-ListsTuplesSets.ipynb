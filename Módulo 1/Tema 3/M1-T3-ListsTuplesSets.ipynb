{
 "cells": [
  {
   "cell_type": "markdown",
   "metadata": {
    "id": "zJoQpNc3D0k6"
   },
   "source": [
    "### 2.4 Tipos mutables e inmutables"
   ]
  },
  {
   "cell_type": "markdown",
   "metadata": {
    "id": "v3-KbAATD0k-"
   },
   "source": [
    "Una variable es un identificador asociado a una posición en memoria donde se almacena el valor. En Python todo son objetos, es decir, almacenan información y tienen asociada una serie de métodos para operar sobre dicha información. Debemos diferenciar entre objetos “mutables” y objetos “inmutables”. Toda variable representa a un objeto de un tipo determinado. El tipo establece el formato del dato a almacenar. Un objeto inmutable es aquel cuyo tipo no permite modificar el contenido sin destruir la referencia al mismo. Si imaginamos el identificador de una variable como la etiqueta pegada al frontal de un cajón donde meter valores, un objeto inmutable sería un cajón que no podemos abrir, solo observar a través de un frontal transparente, como si de una vitrina se tratara. Cuando queremos que una variable almacene un valor distinto al asignado anteriormente para un objeto inmutable, debemos buscar otro cajón donde meter ese valor, meter el valor, cerrarlo y cambiar la etiqueta al nuevo cajón, a sabiendas de que no podremos cambiar su contenido. En cambio, un objeto mutable sí permite modificar el contenido sin cambiar la referencia. Es un cajón que abrimos y cuyo contenido modificamos sin impedimentos. Un objeto mutable puede actualizar sus valores, un inmutable, no. \n",
    "Como hemos dicho, la mutabilidad depende del tipo del objeto. Estos son los tipos mutables e inmutables establecidos por Python:\n",
    "- Mutables: listas, diccionarios y conjuntos.\n",
    "- Inmutables: todos los números (enteros, reales, complejos y booleanos), cadenas y tuplas."
   ]
  },
  {
   "cell_type": "code",
   "execution_count": 1,
   "metadata": {
    "id": "eBavPRg-D0k_"
   },
   "outputs": [
    {
     "name": "stdout",
     "output_type": "stream",
     "text": [
      "4\n"
     ]
    }
   ],
   "source": [
    "x = 4\n",
    "print(x)"
   ]
  },
  {
   "cell_type": "code",
   "execution_count": 2,
   "metadata": {
    "id": "wgWw6VQtD0lA"
   },
   "outputs": [
    {
     "data": {
      "text/plain": [
       "8791201294208"
      ]
     },
     "execution_count": 2,
     "metadata": {},
     "output_type": "execute_result"
    }
   ],
   "source": [
    "id(x)\n",
    "# hex(id(x))"
   ]
  },
  {
   "cell_type": "code",
   "execution_count": 3,
   "metadata": {
    "id": "HrAzAyy5D0lA"
   },
   "outputs": [
    {
     "name": "stdout",
     "output_type": "stream",
     "text": [
      "5\n"
     ]
    }
   ],
   "source": [
    "x += 1\n",
    "print(x)"
   ]
  },
  {
   "cell_type": "code",
   "execution_count": 4,
   "metadata": {
    "id": "MGAxUdG9D0lA"
   },
   "outputs": [
    {
     "data": {
      "text/plain": [
       "8791201294240"
      ]
     },
     "execution_count": 4,
     "metadata": {},
     "output_type": "execute_result"
    }
   ],
   "source": [
    "id(x)\n",
    "# hex(id(x))"
   ]
  },
  {
   "cell_type": "markdown",
   "metadata": {
    "id": "b1c4dB4tD0lB"
   },
   "source": [
    "Aunque pueda parecer que el código actualiza el valor de la variable `x` (`x += 1`), lo que tiene lugar realmente es la creación de una nueva variable, en un espacio de memoria nuevo, donde se toma el valor anterior de `x` y se asigna a una nueva variable `x`. La línea `x += 1` es equivalente a la instrucción `x = x + 1` que se resuelve de la siguiente manera: el intérprete primero resuelve la parte derecha, `x + 1`, buscando en la pila de tablas de símbolos la primera referencia con el identificador `x`. La encuentra y esta lleva a una dirección de memoria con el valor `4`. El intérprete sustituye `x` por `4` y resuelve la suma `4 + 1`. El valor calculado, `5`, va a asignarse a una variable, por lo que Python crea un espacio en memoria donde aloja dicho valor y cambiar la referencia en la tabla de símbolos para que `x` apunte a `5`, resolviendo así la asignación. Ahora, el espacio donde se alojaba `4` es **liberado por el recolector de basura**. "
   ]
  },
  {
   "cell_type": "markdown",
   "metadata": {
    "id": "E1mZPg9PD0lB"
   },
   "source": [
    "El siguiente ejemplo ilustra también la inmutabilidad usando en este caso cadenas. Las variables `b` y `a` disponen de espacios de memoria distintos. Aunque podemos acceder a cada carácter mediante su posición, no es posible modificarlos, por lo que se genera un error al intentarlo."
   ]
  },
  {
   "cell_type": "code",
   "execution_count": 5,
   "metadata": {
    "id": "xiTKNemkD0lB"
   },
   "outputs": [
    {
     "name": "stdout",
     "output_type": "stream",
     "text": [
      "hola caracola\n"
     ]
    }
   ],
   "source": [
    "a = \"hola\"\n",
    "b = a\n",
    "a = a + \" caracola\"\n",
    "print(a)"
   ]
  },
  {
   "cell_type": "code",
   "execution_count": 11,
   "metadata": {},
   "outputs": [
    {
     "data": {
      "text/plain": [
       "['h', 'o', 'l', 'a', 'X']"
      ]
     },
     "execution_count": 11,
     "metadata": {},
     "output_type": "execute_result"
    }
   ],
   "source": [
    "c=['h','o','l','a']\n",
    "d=c\n",
    "c.append('X')\n",
    "c"
   ]
  },
  {
   "cell_type": "code",
   "execution_count": 12,
   "metadata": {},
   "outputs": [
    {
     "data": {
      "text/plain": [
       "['h', 'o', 'l', 'a', 'X']"
      ]
     },
     "execution_count": 12,
     "metadata": {},
     "output_type": "execute_result"
    }
   ],
   "source": [
    "d"
   ]
  },
  {
   "cell_type": "code",
   "execution_count": 8,
   "metadata": {
    "id": "UbzYcBmiD0lC"
   },
   "outputs": [
    {
     "data": {
      "text/plain": [
       "'hola'"
      ]
     },
     "execution_count": 8,
     "metadata": {},
     "output_type": "execute_result"
    }
   ],
   "source": [
    "b"
   ]
  },
  {
   "cell_type": "code",
   "execution_count": 9,
   "metadata": {
    "id": "85fYq3iKD0lC"
   },
   "outputs": [
    {
     "data": {
      "text/plain": [
       "'l'"
      ]
     },
     "execution_count": 9,
     "metadata": {},
     "output_type": "execute_result"
    }
   ],
   "source": [
    "b[2]"
   ]
  },
  {
   "cell_type": "code",
   "execution_count": 7,
   "metadata": {
    "id": "RNSfpyoZD0lC"
   },
   "outputs": [
    {
     "ename": "TypeError",
     "evalue": "'str' object does not support item assignment",
     "output_type": "error",
     "traceback": [
      "\u001b[1;31m---------------------------------------------------------------------------\u001b[0m",
      "\u001b[1;31mTypeError\u001b[0m                                 Traceback (most recent call last)",
      "\u001b[1;32m<ipython-input-7-5d028997745a>\u001b[0m in \u001b[0;36m<module>\u001b[1;34m\u001b[0m\n\u001b[1;32m----> 1\u001b[1;33m \u001b[0mb\u001b[0m\u001b[1;33m[\u001b[0m\u001b[1;36m2\u001b[0m\u001b[1;33m]\u001b[0m \u001b[1;33m=\u001b[0m \u001b[1;34m'j'\u001b[0m\u001b[1;33m\u001b[0m\u001b[1;33m\u001b[0m\u001b[0m\n\u001b[0m",
      "\u001b[1;31mTypeError\u001b[0m: 'str' object does not support item assignment"
     ]
    }
   ],
   "source": [
    "b[2] = 'j'"
   ]
  },
  {
   "cell_type": "code",
   "execution_count": 10,
   "metadata": {
    "id": "7Vl7WtC7D0lC"
   },
   "outputs": [
    {
     "data": {
      "text/plain": [
       "'hoja'"
      ]
     },
     "execution_count": 10,
     "metadata": {},
     "output_type": "execute_result"
    }
   ],
   "source": [
    "b.replace('l', 'j')"
   ]
  },
  {
   "cell_type": "markdown",
   "metadata": {
    "id": "Cjq0qYEgD0lD"
   },
   "source": [
    "https://stackoverflow.com/questions/41752946/replacing-a-character-from-a-certain-index/41753038"
   ]
  },
  {
   "cell_type": "markdown",
   "metadata": {
    "id": "IA-gOUj6D0lD"
   },
   "source": [
    "## 3. Estructuras de datos compuestos (colecciones)"
   ]
  },
  {
   "cell_type": "markdown",
   "metadata": {
    "id": "aQZseYHAD0lD"
   },
   "source": [
    "En Python hay una serie de tipo de datos que se caracterizan por estar compuestos por secuencias de elementos. Son las llamadas colecciones. En Python tenemos cuatro posibles colecciones:\n",
    "\n",
    "- Listas (lists)\n",
    "- Tuplas (tuples)\n",
    "- Conjuntos (sets)\n",
    "- Diccionarios (dictionaries)"
   ]
  },
  {
   "cell_type": "markdown",
   "metadata": {
    "id": "ULNe_vUxD0lD"
   },
   "source": [
    "### 3.1 Listas"
   ]
  },
  {
   "cell_type": "markdown",
   "metadata": {
    "id": "EER0J6yVD0lD"
   },
   "source": [
    "Una lista es un conjunto ordenado de elementos que puede contener datos de cualquier tipo. Una característica muy importante de las listas es que pueden contener elementos de diferentes tipos, por ejemplo una lista puede estar compuesta por cadenas de texto, por números enteros y por supuesto, por otras listas."
   ]
  },
  {
   "cell_type": "markdown",
   "metadata": {
    "id": "isiBH6n0D0lD"
   },
   "source": [
    "Las listas en Python se representan por una serie de elementos separados por comas y delimitados entre corchetes. Un ejemplo:"
   ]
  },
  {
   "cell_type": "code",
   "execution_count": null,
   "metadata": {
    "id": "9vIqU_1yD0lE"
   },
   "outputs": [],
   "source": [
    "[99.9, \"una lista en\", \"Python\", 345, 56]"
   ]
  },
  {
   "cell_type": "markdown",
   "metadata": {
    "id": "avNIXSfED0lE"
   },
   "source": [
    "Esta lista está compuesta por cinco elementos, el número real 99.9, la cadena de texto \"una lista en\", la cadena de texto \"Python\", y los números enteros 345 y 56.\n",
    "\n",
    "Los elementos en las listas ocupan posiciones concretas, y mediante esa posición que ocupan podemos acceder directamente a los elementos. En la siguiente tabla te mostramos la relación de cada elemento con la posición que ocupa en la lista:"
   ]
  },
  {
   "cell_type": "markdown",
   "metadata": {
    "id": "Hizwcl0ED0lE"
   },
   "source": [
    "<dl>\n",
    "<table>\n",
    "  <tr>\n",
    "    <th>Elemento</th>\n",
    "    <th>Posición</th>\n",
    "  </tr>\n",
    "  <tr>\n",
    "    <td>99.9</td>\n",
    "    <td>0</td>\n",
    "  </tr>\n",
    "  <tr>\n",
    "    <td>\"una lista en\"</td>\n",
    "    <td>1</td>\n",
    "  </tr>\n",
    "  <tr>\n",
    "    <td>\"Python\"</td>\n",
    "    <td>2</td>\n",
    "  </tr>\n",
    "  <tr>\n",
    "    <td>345</td>\n",
    "    <td>3</td>\n",
    "  </tr>\n",
    "  <tr>\n",
    "    <td>56</td>\n",
    "    <td>4</td>\n",
    "  </tr>\n",
    "</table>    \n",
    "</dl>"
   ]
  },
  {
   "cell_type": "code",
   "execution_count": 13,
   "metadata": {
    "id": "P9jfRiUqD0lE"
   },
   "outputs": [],
   "source": [
    "mylist = [99.9, \"una lista en\", \"Python\", 345, 56]"
   ]
  },
  {
   "cell_type": "code",
   "execution_count": 14,
   "metadata": {
    "id": "YCvm4HTuD0lE"
   },
   "outputs": [
    {
     "data": {
      "text/plain": [
       "float"
      ]
     },
     "execution_count": 14,
     "metadata": {},
     "output_type": "execute_result"
    }
   ],
   "source": [
    "type(mylist[0])"
   ]
  },
  {
   "cell_type": "markdown",
   "metadata": {
    "id": "Dl6x0SwHD0lF"
   },
   "source": [
    "###### Ejercicio 3.1 ¿Qué tipo de dato es mylist? ¿Cómo puedes determinar que tipo de dato es cada elemento de la lista? Hay dos elementos que son de tipo cadena de texto. Escribe el código Python que determina si la palabra \"list\" está incluida en alguno de los dos. Escribe el código Python que determina si el número 345 está incluido en mylist."
   ]
  },
  {
   "cell_type": "code",
   "execution_count": 16,
   "metadata": {},
   "outputs": [
    {
     "data": {
      "text/plain": [
       "list"
      ]
     },
     "execution_count": 16,
     "metadata": {},
     "output_type": "execute_result"
    }
   ],
   "source": [
    "type(mylist)"
   ]
  },
  {
   "cell_type": "code",
   "execution_count": 19,
   "metadata": {},
   "outputs": [
    {
     "data": {
      "text/plain": [
       "int"
      ]
     },
     "execution_count": 19,
     "metadata": {},
     "output_type": "execute_result"
    }
   ],
   "source": [
    "type(mylist[0])\n",
    "type(mylist[1])\n",
    "type(mylist[2])\n",
    "type(mylist[3])\n",
    "type(mylist[4])"
   ]
  },
  {
   "cell_type": "code",
   "execution_count": 23,
   "metadata": {},
   "outputs": [
    {
     "data": {
      "text/plain": [
       "False"
      ]
     },
     "execution_count": 23,
     "metadata": {},
     "output_type": "execute_result"
    }
   ],
   "source": [
    "'list' in mylist[1]"
   ]
  },
  {
   "cell_type": "code",
   "execution_count": null,
   "metadata": {},
   "outputs": [],
   "source": [
    "'list' in mylist[2]"
   ]
  },
  {
   "cell_type": "code",
   "execution_count": 24,
   "metadata": {},
   "outputs": [
    {
     "data": {
      "text/plain": [
       "False"
      ]
     },
     "execution_count": 24,
     "metadata": {},
     "output_type": "execute_result"
    }
   ],
   "source": [
    "'list' in mylist\n",
    "#Da False, pq no hay un elemento que sea exactamente\n",
    "#'list'"
   ]
  },
  {
   "cell_type": "code",
   "execution_count": null,
   "metadata": {},
   "outputs": [],
   "source": []
  },
  {
   "cell_type": "code",
   "execution_count": 22,
   "metadata": {},
   "outputs": [
    {
     "data": {
      "text/plain": [
       "True"
      ]
     },
     "execution_count": 22,
     "metadata": {},
     "output_type": "execute_result"
    }
   ],
   "source": [
    "345 in mylist"
   ]
  },
  {
   "cell_type": "markdown",
   "metadata": {
    "id": "-zz2FbNMD0lF"
   },
   "source": [
    "#### 3.1.1 Manipulación de listas"
   ]
  },
  {
   "cell_type": "code",
   "execution_count": null,
   "metadata": {},
   "outputs": [],
   "source": []
  },
  {
   "cell_type": "markdown",
   "metadata": {
    "id": "Jq1PlpOTD0lF"
   },
   "source": [
    "Añadir elementos a una lista existente es una operación recurrente dentro de la programación. Una manera de añadir uno o más elementos a una lista es mediante el operador \"+\" y más adelante vamos a ver la función `append()`. "
   ]
  },
  {
   "cell_type": "markdown",
   "metadata": {
    "id": "rR1gQPoGD0lF"
   },
   "source": [
    "Con el operador \"+\" puedes realizar uniones de listas, de la siguiente manera:\n",
    "\n",
    "**_ListaConcatenada = Lista1 + Lista2_**"
   ]
  },
  {
   "cell_type": "code",
   "execution_count": null,
   "metadata": {
    "id": "XNA086rYD0lF"
   },
   "outputs": [],
   "source": [
    "lista1 = [\"Spiros\", \"Amaliada\", 1969, 51, \"verde\"]\n",
    "lista2 = [\"Silvia\", \"Madrid\", 1973, 47, \"negro\"]"
   ]
  },
  {
   "cell_type": "code",
   "execution_count": null,
   "metadata": {
    "id": "eXpBAAUQD0lF"
   },
   "outputs": [],
   "source": [
    "print(lista1 + lista2)"
   ]
  },
  {
   "cell_type": "markdown",
   "metadata": {
    "id": "r7ApSYPJD0lG"
   },
   "source": [
    "Para conocer el número de elementos que componen una lista se utiliza la función `len`, de la siguiente manera:\n",
    "\n",
    "**_NumeroElementos = len(Lista)_**"
   ]
  },
  {
   "cell_type": "code",
   "execution_count": null,
   "metadata": {
    "id": "aHkRiM6ND0lG"
   },
   "outputs": [],
   "source": [
    "string = \"this is another fairly long string\"\n",
    "len(string)"
   ]
  },
  {
   "cell_type": "code",
   "execution_count": 26,
   "metadata": {
    "id": "ruDA95b8D0lG"
   },
   "outputs": [
    {
     "ename": "NameError",
     "evalue": "name 'lista1' is not defined",
     "output_type": "error",
     "traceback": [
      "\u001b[1;31m---------------------------------------------------------------------------\u001b[0m",
      "\u001b[1;31mNameError\u001b[0m                                 Traceback (most recent call last)",
      "\u001b[1;32m<ipython-input-26-813e5fcc0c7f>\u001b[0m in \u001b[0;36m<module>\u001b[1;34m\u001b[0m\n\u001b[1;32m----> 1\u001b[1;33m \u001b[0mprint\u001b[0m\u001b[1;33m(\u001b[0m\u001b[1;34m\"Número elementos de lista1: %d\"\u001b[0m \u001b[1;33m%\u001b[0m \u001b[0mlen\u001b[0m\u001b[1;33m(\u001b[0m\u001b[0mlista1\u001b[0m\u001b[1;33m)\u001b[0m\u001b[1;33m)\u001b[0m\u001b[1;33m\u001b[0m\u001b[1;33m\u001b[0m\u001b[0m\n\u001b[0m\u001b[0;32m      2\u001b[0m \u001b[0mprint\u001b[0m\u001b[1;33m(\u001b[0m\u001b[1;34m\"Número elementos de lista2: %d\"\u001b[0m \u001b[1;33m%\u001b[0m \u001b[0mlen\u001b[0m\u001b[1;33m(\u001b[0m\u001b[0mlista2\u001b[0m\u001b[1;33m)\u001b[0m\u001b[1;33m)\u001b[0m\u001b[1;33m\u001b[0m\u001b[1;33m\u001b[0m\u001b[0m\n\u001b[0;32m      3\u001b[0m \u001b[0mlista_1y2\u001b[0m \u001b[1;33m=\u001b[0m \u001b[0mlista1\u001b[0m \u001b[1;33m+\u001b[0m \u001b[0mlista2\u001b[0m\u001b[1;33m\u001b[0m\u001b[1;33m\u001b[0m\u001b[0m\n\u001b[0;32m      4\u001b[0m \u001b[0mprint\u001b[0m\u001b[1;33m(\u001b[0m\u001b[1;34m\"Número elementos de lista_1y2: %d\"\u001b[0m \u001b[1;33m%\u001b[0m \u001b[0mlen\u001b[0m\u001b[1;33m(\u001b[0m\u001b[0mlista_1y2\u001b[0m\u001b[1;33m)\u001b[0m\u001b[1;33m)\u001b[0m\u001b[1;33m\u001b[0m\u001b[1;33m\u001b[0m\u001b[0m\n",
      "\u001b[1;31mNameError\u001b[0m: name 'lista1' is not defined"
     ]
    }
   ],
   "source": [
    "print(\"Número elementos de lista1: %d\" % len(lista1))\n",
    "print(\"Número elementos de lista2: %d\" % len(lista2))\n",
    "lista_1y2 = lista1 + lista2\n",
    "print(\"Número elementos de lista_1y2: %d\" % len(lista_1y2))"
   ]
  },
  {
   "cell_type": "code",
   "execution_count": 27,
   "metadata": {
    "id": "Ed6kXc5HD0lG"
   },
   "outputs": [
    {
     "ename": "NameError",
     "evalue": "name 'lista_1y2' is not defined",
     "output_type": "error",
     "traceback": [
      "\u001b[1;31m---------------------------------------------------------------------------\u001b[0m",
      "\u001b[1;31mNameError\u001b[0m                                 Traceback (most recent call last)",
      "\u001b[1;32m<ipython-input-27-a8bd71551cfa>\u001b[0m in \u001b[0;36m<module>\u001b[1;34m\u001b[0m\n\u001b[1;32m----> 1\u001b[1;33m \u001b[0mprint\u001b[0m\u001b[1;33m(\u001b[0m\u001b[0mlista_1y2\u001b[0m\u001b[1;33m)\u001b[0m\u001b[1;33m\u001b[0m\u001b[1;33m\u001b[0m\u001b[0m\n\u001b[0m",
      "\u001b[1;31mNameError\u001b[0m: name 'lista_1y2' is not defined"
     ]
    }
   ],
   "source": [
    "print(lista_1y2)"
   ]
  },
  {
   "cell_type": "markdown",
   "metadata": {
    "id": "E6ouhSJKD0lG"
   },
   "source": [
    "La modificación de elementos de una lista se hace de la siguiente forma:\n",
    "\n",
    "**_Lista[posición] = NuevoValor_**\n",
    "\n",
    "La posición indica el elemento que será modificado dentro de la lista, el valor asignado es el nuevo valor que tendrá dicho elemento."
   ]
  },
  {
   "cell_type": "code",
   "execution_count": null,
   "metadata": {
    "id": "lWW-eq7DD0lG"
   },
   "outputs": [],
   "source": [
    "lista_1y2[0] = \"Miguel\""
   ]
  },
  {
   "cell_type": "markdown",
   "metadata": {
    "id": "mfygMLcLD0lH"
   },
   "source": [
    "El borrado de elementos existentes dentro de una lista se hace utilizando la instrucción `del`, de la siguiente forma:\n",
    "\n",
    "**_del Lista[posición]_**"
   ]
  },
  {
   "cell_type": "code",
   "execution_count": null,
   "metadata": {
    "id": "2UVzO4fuD0lH"
   },
   "outputs": [],
   "source": [
    "del lista_1y2[3]"
   ]
  },
  {
   "cell_type": "markdown",
   "metadata": {
    "id": "vxhOdD-3D0lH"
   },
   "source": [
    "El operador \"*\" nos permite concatenar una lista con ella misma un número finito de veces. Se utiliza de la siguiente forma:\n",
    "\n",
    "**_ListaResultante = Lista * NúmeroEntero_**\n",
    "\n",
    "Por ejemplo:"
   ]
  },
  {
   "cell_type": "code",
   "execution_count": 28,
   "metadata": {
    "id": "fDhOn6RlD0lH"
   },
   "outputs": [
    {
     "name": "stdout",
     "output_type": "stream",
     "text": [
      "['a', 'b', 'c']\n",
      "['a', 'b', 'c', 'a', 'b', 'c', 'a', 'b', 'c']\n"
     ]
    }
   ],
   "source": [
    "mylist = [\"a\", \"b\", \"c\"]\n",
    "print(mylist)\n",
    "mylist = mylist * 3\n",
    "print(mylist)"
   ]
  },
  {
   "cell_type": "code",
   "execution_count": 29,
   "metadata": {
    "id": "1qFUO3gND0lH"
   },
   "outputs": [],
   "source": [
    "my_new_list = [0]*12"
   ]
  },
  {
   "cell_type": "code",
   "execution_count": 30,
   "metadata": {
    "id": "CfPK3xNhD0lH"
   },
   "outputs": [
    {
     "data": {
      "text/plain": [
       "[0, 0, 0, 0, 0, 0, 0, 0, 0, 0, 0, 0]"
      ]
     },
     "execution_count": 30,
     "metadata": {},
     "output_type": "execute_result"
    }
   ],
   "source": [
    "my_new_list"
   ]
  },
  {
   "cell_type": "code",
   "execution_count": 31,
   "metadata": {
    "id": "8gWykXl-D0lH"
   },
   "outputs": [
    {
     "name": "stdout",
     "output_type": "stream",
     "text": [
      "['', '', '', '', '', '', '', '', '', '', '', '', '', '', '', '', '', '', '', '', '', '', '', '', '', '', '', '', '', '', '', '', '', '', '', '', '', '', '', '']\n"
     ]
    }
   ],
   "source": [
    "my_empty_string_list = [\"\"]*40\n",
    "print(my_empty_string_list)"
   ]
  },
  {
   "cell_type": "markdown",
   "metadata": {
    "id": "9qOHp9-zD0lI"
   },
   "source": [
    "Como dijimos antes, las listas pueden tener otras listas como elementos. Por ejemplo: "
   ]
  },
  {
   "cell_type": "code",
   "execution_count": 32,
   "metadata": {
    "id": "z4wXBxpnD0lI"
   },
   "outputs": [],
   "source": [
    "lista_andalucia = [[\"Málaga\", \"Antequera\", \"Estepona\"], \"Granada\", \"Sevilla\", [\"Cádiz\", \"Puerto de Santa Maria\"]]"
   ]
  },
  {
   "cell_type": "code",
   "execution_count": 33,
   "metadata": {
    "id": "O_zLKSGkD0lI"
   },
   "outputs": [
    {
     "name": "stdout",
     "output_type": "stream",
     "text": [
      "[['Málaga', 'Antequera', 'Estepona'], 'Granada', 'Sevilla', ['Cádiz', 'Puerto de Santa Maria']]\n"
     ]
    }
   ],
   "source": [
    "print(lista_andalucia)"
   ]
  },
  {
   "cell_type": "markdown",
   "metadata": {
    "id": "QqHOC8exD0lI"
   },
   "source": [
    "Para acceder a los elementos de la lista secundaria primero tenemos que acceder al elemento de la lista principal y después al elemento concreto de dicha lista. Para acceder al elemento \"Estepona\" tendremos que acceder al elemento [0] de la lista principal y al elemento [2] de la lista secundaria."
   ]
  },
  {
   "cell_type": "code",
   "execution_count": 34,
   "metadata": {
    "id": "F7wDw_0ZD0lI"
   },
   "outputs": [
    {
     "name": "stdout",
     "output_type": "stream",
     "text": [
      "Estepona\n"
     ]
    }
   ],
   "source": [
    "print(lista_andalucia[0][2])"
   ]
  },
  {
   "cell_type": "code",
   "execution_count": 36,
   "metadata": {},
   "outputs": [
    {
     "name": "stdout",
     "output_type": "stream",
     "text": [
      "['Málaga', 'Antequera', 'Estepona']\n",
      "135267648\n",
      "134759168\n"
     ]
    }
   ],
   "source": [
    "#copiar una lista\n",
    "la=lista_andalucia[0]\n",
    "la2=la.copy()\n",
    "print(la2)\n",
    "print(id(la))\n",
    "print(id(la2))"
   ]
  },
  {
   "cell_type": "code",
   "execution_count": 40,
   "metadata": {},
   "outputs": [],
   "source": [
    "lista_andalucia = [[\"Málaga\", \"Antequera\", \"Estepona\"], \"Granada\", \"Sevilla\", [\"Cádiz\", \"Puerto de Santa Maria\"]]"
   ]
  },
  {
   "cell_type": "code",
   "execution_count": 43,
   "metadata": {},
   "outputs": [
    {
     "ename": "SyntaxError",
     "evalue": "unexpected EOF while parsing (<ipython-input-43-9b01ac3f397f>, line 1)",
     "output_type": "error",
     "traceback": [
      "\u001b[1;36m  File \u001b[1;32m\"<ipython-input-43-9b01ac3f397f>\"\u001b[1;36m, line \u001b[1;32m1\u001b[0m\n\u001b[1;33m    print(str(lista_andalucia[0][2])+\" \"+str(lista_andalucia[1])\u001b[0m\n\u001b[1;37m                                                                ^\u001b[0m\n\u001b[1;31mSyntaxError\u001b[0m\u001b[1;31m:\u001b[0m unexpected EOF while parsing\n"
     ]
    }
   ],
   "source": [
    "print(str(lista_andalucia[0][2])+\" \"+str(lista_andalucia[1])"
   ]
  },
  {
   "cell_type": "markdown",
   "metadata": {
    "id": "TfM5ipwdD0lI"
   },
   "source": [
    "Si tuviéramos un elemento dentro de la lista secundaria que fuera otra lista, únicamente tendríamos que añadir el elemento entre corchetes a continuación de la lista secundaria. Por ejemplo, si tuviéramos la lista en la posición 1 de la lista secundaria y quisiéramos acceder al elemento 0 de dicha lista lo haríamos de la siguiente forma:\n",
    "\n",
    "**_Lista[1][1][0]_**"
   ]
  },
  {
   "cell_type": "markdown",
   "metadata": {
    "id": "7ZuLuOYQD0lJ"
   },
   "source": [
    "###### Ejercicio 3.2"
   ]
  },
  {
   "cell_type": "markdown",
   "metadata": {
    "id": "oSKCd9RoD0lJ"
   },
   "source": [
    "Para extraer una porción de una lista en otra lista nueva, se utiliza la siguiente instrucción:\n",
    "\n",
    "#### 3.1.2 **_Lista[n:m]_** o **Slicing**\n",
    "\n",
    "La instrucción extraerá una nueva lista que empezará en el índice `n` y terminará en el `m-1`. Tienes que tener en cuenta lo siguiente:\n",
    "\n",
    "- Si no se especifica el valor para `n` se supone que es `0`.\n",
    "- Si no se especifica el valor para `m` se supone que es el tamaño de la lista menos uno."
   ]
  },
  {
   "cell_type": "code",
   "execution_count": 44,
   "metadata": {},
   "outputs": [],
   "source": [
    "lista_andalucia = [[\"Málaga\", \"Antequera\", \"Estepona\"], \"Granada\", \"Sevilla\", [\"Cádiz\", \"Puerto de Santa Maria\"]]"
   ]
  },
  {
   "cell_type": "code",
   "execution_count": 45,
   "metadata": {},
   "outputs": [
    {
     "data": {
      "text/plain": [
       "[['Málaga', 'Antequera', 'Estepona'], 'Granada']"
      ]
     },
     "execution_count": 45,
     "metadata": {},
     "output_type": "execute_result"
    }
   ],
   "source": [
    "lista_andalucia[0:2]"
   ]
  },
  {
   "cell_type": "code",
   "execution_count": 46,
   "metadata": {},
   "outputs": [
    {
     "data": {
      "text/plain": [
       "[['Málaga', 'Antequera', 'Estepona'],\n",
       " 'Granada',\n",
       " 'Sevilla',\n",
       " ['Cádiz', 'Puerto de Santa Maria']]"
      ]
     },
     "execution_count": 46,
     "metadata": {},
     "output_type": "execute_result"
    }
   ],
   "source": [
    "lista_andalucia[:]"
   ]
  },
  {
   "cell_type": "code",
   "execution_count": 47,
   "metadata": {},
   "outputs": [
    {
     "data": {
      "text/plain": [
       "[['Málaga', 'Antequera', 'Estepona'], 'Granada']"
      ]
     },
     "execution_count": 47,
     "metadata": {},
     "output_type": "execute_result"
    }
   ],
   "source": [
    "lista_andalucia[:2]"
   ]
  },
  {
   "cell_type": "code",
   "execution_count": 48,
   "metadata": {},
   "outputs": [
    {
     "data": {
      "text/plain": [
       "['Sevilla', ['Cádiz', 'Puerto de Santa Maria']]"
      ]
     },
     "execution_count": 48,
     "metadata": {},
     "output_type": "execute_result"
    }
   ],
   "source": [
    "lista_andalucia[2:]"
   ]
  },
  {
   "cell_type": "code",
   "execution_count": 49,
   "metadata": {
    "id": "D16xvHfCD0lJ"
   },
   "outputs": [],
   "source": [
    "mylist = [0, 1, 2, 3, 4, 5, 6]"
   ]
  },
  {
   "cell_type": "code",
   "execution_count": 50,
   "metadata": {
    "id": "iMPTENWmD0lJ"
   },
   "outputs": [
    {
     "data": {
      "text/plain": [
       "[4, 5, 6]"
      ]
     },
     "execution_count": 50,
     "metadata": {},
     "output_type": "execute_result"
    }
   ],
   "source": [
    "mylist[-3:]"
   ]
  },
  {
   "cell_type": "markdown",
   "metadata": {
    "id": "fXbc2Cc6D0lJ"
   },
   "source": [
    "La instrucción `[n:m]` es también conocida como **slicing**, o operaciones **slice** en Python. "
   ]
  },
  {
   "cell_type": "markdown",
   "metadata": {
    "id": "gITqul1vD0lJ"
   },
   "source": [
    "###### Ejercicio 3.3  ¿Cuál es el próximo número en la lista `fibo = [0, 1, 1, 2, 3]`? Escribe el código Python que añade el próximo número a la lista y borra el primer elemento para que su tamaño siga siendo 5.\n"
   ]
  },
  {
   "cell_type": "code",
   "execution_count": 56,
   "metadata": {},
   "outputs": [
    {
     "name": "stdout",
     "output_type": "stream",
     "text": [
      "[0, 1, 1, 2, 3]\n"
     ]
    }
   ],
   "source": [
    "fibo = [0, 1, 1, 2, 3]\n",
    "print(fibo)\n"
   ]
  },
  {
   "cell_type": "code",
   "execution_count": 57,
   "metadata": {},
   "outputs": [
    {
     "name": "stdout",
     "output_type": "stream",
     "text": [
      "[0, 1, 1, 2, 3, 5]\n",
      "[1, 1, 2, 3, 5]\n"
     ]
    }
   ],
   "source": [
    "fibo.append(fibo[3]+fibo[4])\n",
    "print(fibo)\n",
    "del(fibo[0])\n",
    "print(fibo)"
   ]
  },
  {
   "cell_type": "markdown",
   "metadata": {
    "id": "lh-ynuvDD0lJ"
   },
   "source": [
    "###### Números negativos\n",
    "\n",
    "En operaciones slice se pueden usar números negativos. Por ejemplo, lo siguiente obtiene el último elemento:"
   ]
  },
  {
   "cell_type": "code",
   "execution_count": null,
   "metadata": {
    "id": "OjTKG8CfD0lK"
   },
   "outputs": [],
   "source": [
    "mylist[-1:]"
   ]
  },
  {
   "cell_type": "markdown",
   "metadata": {
    "id": "tGONx6I7D0lK"
   },
   "source": [
    "Esto es porque comienza en -1, pero como no hay índices negativos, se regresa y entonces se encuentra con el último elemento. \n",
    "\n",
    "Igualmente si se quieren obtener los últimos dos elementos:"
   ]
  },
  {
   "cell_type": "code",
   "execution_count": null,
   "metadata": {
    "id": "Roe6DfLXD0lK"
   },
   "outputs": [],
   "source": [
    "mylist[-2:]"
   ]
  },
  {
   "cell_type": "markdown",
   "metadata": {
    "id": "aNsCIlKkD0lK"
   },
   "source": [
    "O desde el inicio, pero sin los últimos 2 elementos:"
   ]
  },
  {
   "cell_type": "code",
   "execution_count": null,
   "metadata": {
    "id": "ZKio0VCeD0lK"
   },
   "outputs": [],
   "source": [
    "mylist[:-2]"
   ]
  },
  {
   "cell_type": "markdown",
   "metadata": {
    "id": "G9C5kE8RD0lK"
   },
   "source": [
    "###### Con step o pasos"
   ]
  },
  {
   "cell_type": "markdown",
   "metadata": {
    "id": "ugZYC-rpD0lK"
   },
   "source": [
    "La notación de **slice en Python** soporta un tercer \"argumento\" y es el número de pasos que se avanza al cortar. Por defecto, es 1; pero puede ser especificado de otra manera. Dicho de otro modo, cuando hacemos esto:"
   ]
  },
  {
   "cell_type": "code",
   "execution_count": null,
   "metadata": {
    "id": "8xHvXLu4D0lL"
   },
   "outputs": [],
   "source": [
    "mylist[0:7] # obtiene desde el 0 hasta el 7-1"
   ]
  },
  {
   "cell_type": "markdown",
   "metadata": {
    "id": "Hs6DhLx3D0lL"
   },
   "source": [
    "Es lo mismo que hacer esto:"
   ]
  },
  {
   "cell_type": "code",
   "execution_count": null,
   "metadata": {
    "id": "QUa--VgvD0lL"
   },
   "outputs": [],
   "source": [
    "mylist[0:7:1] # obtiene desde el 0 hasta el 7-1 en pasos de 1"
   ]
  },
  {
   "cell_type": "markdown",
   "metadata": {
    "id": "ic-1CkDpD0lL"
   },
   "source": [
    "Pero si cambiamos el tercer argumento, para que sea en pasos de 2:"
   ]
  },
  {
   "cell_type": "code",
   "execution_count": 58,
   "metadata": {
    "id": "4MA_qOG3D0lL"
   },
   "outputs": [
    {
     "data": {
      "text/plain": [
       "[0, 3, 6]"
      ]
     },
     "execution_count": 58,
     "metadata": {},
     "output_type": "execute_result"
    }
   ],
   "source": [
    "mylist[0:7:3]"
   ]
  },
  {
   "cell_type": "markdown",
   "metadata": {
    "id": "DRxbhwm4D0lL"
   },
   "source": [
    "Entonces obtiene los elementos del 0 hasta el 7, pero ignorando algunos. Comienza en el 0, y avanza 2 pasos, así que selecciona el que tiene el índice 2. Luego, desde el 2 avanza otros 2 pasos y se encuentra con el índice 4, etc. Si ya no hay más al saltar, entonces se detiene."
   ]
  },
  {
   "cell_type": "code",
   "execution_count": null,
   "metadata": {
    "id": "UPTWYnYJD0lM"
   },
   "outputs": [],
   "source": [
    "mylist[::2]"
   ]
  },
  {
   "cell_type": "markdown",
   "metadata": {
    "id": "Y_2yYmpxD0lM"
   },
   "source": [
    "#### 3.1.3 Métodos propios"
   ]
  },
  {
   "cell_type": "raw",
   "metadata": {},
   "source": [
    "lista=[\"hello\",\"goodbye\",\"you\",\"say\",\"I\"]"
   ]
  },
  {
   "cell_type": "code",
   "execution_count": 62,
   "metadata": {},
   "outputs": [
    {
     "ename": "NameError",
     "evalue": "name 'lista' is not defined",
     "output_type": "error",
     "traceback": [
      "\u001b[1;31m---------------------------------------------------------------------------\u001b[0m",
      "\u001b[1;31mNameError\u001b[0m                                 Traceback (most recent call last)",
      "\u001b[1;32m<ipython-input-62-db57862d1909>\u001b[0m in \u001b[0;36m<module>\u001b[1;34m\u001b[0m\n\u001b[1;32m----> 1\u001b[1;33m \u001b[0mtype\u001b[0m\u001b[1;33m(\u001b[0m\u001b[0mlista\u001b[0m\u001b[1;33m)\u001b[0m\u001b[1;33m\u001b[0m\u001b[1;33m\u001b[0m\u001b[0m\n\u001b[0m",
      "\u001b[1;31mNameError\u001b[0m: name 'lista' is not defined"
     ]
    }
   ],
   "source": [
    "type(lista)"
   ]
  },
  {
   "cell_type": "code",
   "execution_count": 61,
   "metadata": {},
   "outputs": [
    {
     "ename": "AttributeError",
     "evalue": "type object 'str' has no attribute 'sort'",
     "output_type": "error",
     "traceback": [
      "\u001b[1;31m---------------------------------------------------------------------------\u001b[0m",
      "\u001b[1;31mAttributeError\u001b[0m                            Traceback (most recent call last)",
      "\u001b[1;32m<ipython-input-61-850897ace906>\u001b[0m in \u001b[0;36m<module>\u001b[1;34m\u001b[0m\n\u001b[1;32m----> 1\u001b[1;33m \u001b[0mstr\u001b[0m\u001b[1;33m.\u001b[0m\u001b[0msort\u001b[0m\u001b[1;33m(\u001b[0m\u001b[1;33m)\u001b[0m\u001b[1;33m\u001b[0m\u001b[1;33m\u001b[0m\u001b[0m\n\u001b[0m\u001b[0;32m      2\u001b[0m \u001b[0mstr\u001b[0m\u001b[1;33m\u001b[0m\u001b[1;33m\u001b[0m\u001b[0m\n",
      "\u001b[1;31mAttributeError\u001b[0m: type object 'str' has no attribute 'sort'"
     ]
    }
   ],
   "source": [
    "str.sort()\n",
    "str"
   ]
  },
  {
   "cell_type": "markdown",
   "metadata": {
    "id": "3lnlO9NvD0lM"
   },
   "source": [
    "El tipo de dato lista en Python posee una serie de funciones que nos permiten manipular las listas realizando operaciones complejas de forma sencilla y con una simple instrucción. El formato de uso de la gran mayoria de las funciones es el siguiente:\n",
    "\n",
    "**_Lista.NombreFuncion(Parámetros)_**\n",
    "\n",
    "- Lista: lista que ejecuta la función.\n",
    "- NombreFuncion: nombre de la función que se quiere ejecutar.\n",
    "- Parámetros: no todas las funciones tienen parámetros para ejecutarse, esta parte es dependiente de la función que se quiere ejecutar. \n",
    "\n",
    "Las funciones de listas que pone a nuestra disposición Python están aquí: https://docs.python.org/3/tutorial/datastructures.html\n",
    "\n",
    "Por ejemplo:"
   ]
  },
  {
   "cell_type": "code",
   "execution_count": 63,
   "metadata": {
    "id": "AqopMLbvD0lM"
   },
   "outputs": [],
   "source": [
    "lista_andalucia = [[\"Málaga\", \"Antequera\", \"Estepona\"], \n",
    "                   \"Granada\", \n",
    "                   \"Sevilla\", \n",
    "                   [\"Cádiz\", \"Puerto de Santa Maria\"]]"
   ]
  },
  {
   "cell_type": "code",
   "execution_count": 64,
   "metadata": {
    "id": "cdArC51AD0lN"
   },
   "outputs": [
    {
     "name": "stdout",
     "output_type": "stream",
     "text": [
      "[['Málaga', 'Antequera', 'Estepona'], 'Granada', 'Sevilla', ['Cádiz', 'Puerto de Santa Maria']]\n"
     ]
    }
   ],
   "source": [
    "print(lista_andalucia)"
   ]
  },
  {
   "cell_type": "code",
   "execution_count": 65,
   "metadata": {
    "id": "cJKdZp7uD0lN"
   },
   "outputs": [],
   "source": [
    "lista_andalucia.append(\"Córdoba\")"
   ]
  },
  {
   "cell_type": "code",
   "execution_count": 68,
   "metadata": {},
   "outputs": [
    {
     "data": {
      "text/plain": [
       "True"
      ]
     },
     "execution_count": 68,
     "metadata": {},
     "output_type": "execute_result"
    }
   ],
   "source": [
    "#muestra cuantas veces aparece un elemento\n",
    "lista_andalucia.count('Sevilla')\n",
    "'Sevilla' in lista_andalucia"
   ]
  },
  {
   "cell_type": "code",
   "execution_count": 71,
   "metadata": {},
   "outputs": [],
   "source": [
    "lista_andalucia.insert(2,\"Jaén\")\n"
   ]
  },
  {
   "cell_type": "code",
   "execution_count": 72,
   "metadata": {},
   "outputs": [
    {
     "name": "stdout",
     "output_type": "stream",
     "text": [
      "[['Málaga', 'Antequera', 'Estepona'], 'Granada', 'Jaén', 'Sevilla', ['Cádiz', 'Puerto de Santa Maria'], 'Córdoba']\n"
     ]
    }
   ],
   "source": [
    "print(lista_andalucia)"
   ]
  },
  {
   "cell_type": "markdown",
   "metadata": {
    "id": "nGMjsPDLD0lN"
   },
   "source": [
    "Aunque el operador `\"+\"` y el método `append()` tienen el mismo efecto, que es añadir los elementos de una lista a otra lista, se recomienda que uséis el método `append()` por ser más eficiente: https://stackoverflow.com/questions/34376511/efficiently-adding-elements-to-a-list-in-python"
   ]
  },
  {
   "cell_type": "code",
   "execution_count": null,
   "metadata": {
    "id": "HTRGZd37D0lP"
   },
   "outputs": [],
   "source": []
  },
  {
   "cell_type": "markdown",
   "metadata": {
    "id": "GkazB_xuD0lP"
   },
   "source": [
    "### 3.2 Tuplas\n",
    "Las tuplas son un conjunto ordenado e **inmutable** de elementos. La diferencia con las listas reside en que en las listas puedes manipular los elementos y en las tuplas no, es decir, no es posible añadir/eliminar elementos, modificarlos, etc. Al igual que las listas, las tuplas pueden contener elementos de diferentes tipos, por ejemplo una tupla puede estar compuesta por cadenas de texto, por números enteros, etc.\n",
    "\n",
    "Las tuplas en Python se representan por una serie de elementos separados por comas y delimitados entre paréntesis. Veamos un ejemplo de tupla:\n",
    "\n",
    "`(\"Casa\", \"2\", 345, \"Perro\", 99)`\n"
   ]
  },
  {
   "cell_type": "markdown",
   "metadata": {
    "id": "lryOrw8nD0lP"
   },
   "source": [
    "Al igual que en las listas, los elementos de las tuplas ocupan posiciones concretas, y mediante esa posición que ocupan podemos acceder directamente a los elementos. En la siguiente tabla te mostramos la relación de cada elemento con la posición que ocupa en la tupla:"
   ]
  },
  {
   "cell_type": "markdown",
   "metadata": {
    "id": "lzbDlGiOD0lP"
   },
   "source": [
    "<dl>\n",
    "<table>\n",
    "  <tr>\n",
    "    <th>Elemento</th>\n",
    "    <th>Posición</th>\n",
    "  </tr>\n",
    "  <tr>\n",
    "    <td>\"Casa\"</td>\n",
    "    <td>0</td>\n",
    "  </tr>\n",
    "  <tr>\n",
    "    <td>\"2\"</td>\n",
    "    <td>1</td>\n",
    "  </tr>\n",
    "  <tr>\n",
    "    <td>345</td>\n",
    "    <td>2</td>\n",
    "  </tr>\n",
    "  <tr>\n",
    "    <td>\"Perro\"</td>\n",
    "    <td>3</td>\n",
    "  </tr>\n",
    "  <tr>\n",
    "    <td>99</td>\n",
    "    <td>4</td>\n",
    "  </tr>\n",
    "</table>    \n",
    "</dl>"
   ]
  },
  {
   "cell_type": "code",
   "execution_count": 73,
   "metadata": {
    "id": "RkWTId8XD0lQ"
   },
   "outputs": [
    {
     "name": "stdout",
     "output_type": "stream",
     "text": [
      "(99.9, 'una tupla en', 'Python', 345, 56)\n"
     ]
    }
   ],
   "source": [
    "mytuple = (99.9, \"una tupla en\", \"Python\", 345, 56)\n",
    "print(mytuple)"
   ]
  },
  {
   "cell_type": "code",
   "execution_count": 74,
   "metadata": {
    "id": "tukeM9BQD0lQ"
   },
   "outputs": [
    {
     "ename": "TypeError",
     "evalue": "'tuple' object does not support item assignment",
     "output_type": "error",
     "traceback": [
      "\u001b[1;31m---------------------------------------------------------------------------\u001b[0m",
      "\u001b[1;31mTypeError\u001b[0m                                 Traceback (most recent call last)",
      "\u001b[1;32m<ipython-input-74-91fe5d5ed939>\u001b[0m in \u001b[0;36m<module>\u001b[1;34m\u001b[0m\n\u001b[0;32m      1\u001b[0m \u001b[1;31m# inmutable\u001b[0m\u001b[1;33m\u001b[0m\u001b[1;33m\u001b[0m\u001b[1;33m\u001b[0m\u001b[0m\n\u001b[1;32m----> 2\u001b[1;33m \u001b[0mmytuple\u001b[0m\u001b[1;33m[\u001b[0m\u001b[1;36m0\u001b[0m\u001b[1;33m]\u001b[0m \u001b[1;33m=\u001b[0m \u001b[1;36m100\u001b[0m\u001b[1;33m\u001b[0m\u001b[1;33m\u001b[0m\u001b[0m\n\u001b[0m",
      "\u001b[1;31mTypeError\u001b[0m: 'tuple' object does not support item assignment"
     ]
    }
   ],
   "source": [
    "# inmutable\n",
    "mytuple[0] = 100"
   ]
  },
  {
   "cell_type": "markdown",
   "metadata": {
    "id": "QZn4wb-UD0lQ"
   },
   "source": [
    "###### Ejercicio 3.4 ¿Que tipo de elemento es mytuple? ¿cómo determinar cada elemento de la tupla?"
   ]
  },
  {
   "cell_type": "code",
   "execution_count": 75,
   "metadata": {
    "id": "qIeEqJzXD0lQ"
   },
   "outputs": [
    {
     "data": {
      "text/plain": [
       "tuple"
      ]
     },
     "execution_count": 75,
     "metadata": {},
     "output_type": "execute_result"
    }
   ],
   "source": [
    "type(mytuple)"
   ]
  },
  {
   "cell_type": "code",
   "execution_count": 76,
   "metadata": {
    "id": "MWg_1ygOD0lQ"
   },
   "outputs": [
    {
     "name": "stdout",
     "output_type": "stream",
     "text": [
      "<class 'float'>\n",
      "<class 'str'>\n"
     ]
    }
   ],
   "source": [
    "print(type(mytuple[0]))\n",
    "print(type(mytuple[1]))\n",
    "# ...etc."
   ]
  },
  {
   "cell_type": "code",
   "execution_count": 77,
   "metadata": {
    "id": "9WloP3JiD0lR"
   },
   "outputs": [
    {
     "name": "stdout",
     "output_type": "stream",
     "text": [
      "True\n",
      "False\n"
     ]
    }
   ],
   "source": [
    "print(\"tupla\" in mytuple[1])\n",
    "print(\"tupla\" in mytuple[2])"
   ]
  },
  {
   "cell_type": "code",
   "execution_count": 78,
   "metadata": {
    "id": "-WIys6tnD0lR"
   },
   "outputs": [
    {
     "name": "stdout",
     "output_type": "stream",
     "text": [
      "True\n"
     ]
    }
   ],
   "source": [
    "print(345 in mytuple)"
   ]
  },
  {
   "cell_type": "markdown",
   "metadata": {
    "id": "yuvamoRGD0lR"
   },
   "source": [
    "#### 3.2.1 Tuplas vs. Listas"
   ]
  },
  {
   "cell_type": "markdown",
   "metadata": {
    "id": "ov_siuJ7D0lR"
   },
   "source": [
    "Al igual que las listas, las tuplas tienen funciones asociadas al tipo de dato, pero el número de funciones disponibles es mucho menor que en las listas:\n",
    "\n",
    "- `count`: cuenta el número de veces que aparece el elemento indicado como parámetro dentro de la tupla\n",
    "\n",
    "- `index`: devuelve la posición de la primera ocurrencia de izquierda a derecha en la tupla del elemento pasado como parámetro."
   ]
  },
  {
   "cell_type": "markdown",
   "metadata": {
    "id": "dqaBUXGWD0lR"
   },
   "source": [
    "#### index()\n",
    "Sirve para buscar un elemento y saber su posición en la tupla. Da error si no se encuentra."
   ]
  },
  {
   "cell_type": "code",
   "execution_count": 79,
   "metadata": {
    "id": "aQr3ydrcD0lR"
   },
   "outputs": [],
   "source": [
    "tupla = (100,\"Hola\",[1,2,3],-50)"
   ]
  },
  {
   "cell_type": "code",
   "execution_count": 80,
   "metadata": {
    "id": "Yv_SfLWHD0lS"
   },
   "outputs": [
    {
     "data": {
      "text/plain": [
       "0"
      ]
     },
     "execution_count": 80,
     "metadata": {},
     "output_type": "execute_result"
    }
   ],
   "source": [
    "tupla.index(100)"
   ]
  },
  {
   "cell_type": "code",
   "execution_count": 81,
   "metadata": {
    "id": "zf6L5-rGD0lS"
   },
   "outputs": [
    {
     "data": {
      "text/plain": [
       "1"
      ]
     },
     "execution_count": 81,
     "metadata": {},
     "output_type": "execute_result"
    }
   ],
   "source": [
    "tupla.index('Hola')"
   ]
  },
  {
   "cell_type": "code",
   "execution_count": 83,
   "metadata": {
    "id": "BKEY2EpAD0lS"
   },
   "outputs": [],
   "source": [
    "if 'Otro' in tupla:\n",
    "    tupla.index('Otro')"
   ]
  },
  {
   "cell_type": "markdown",
   "metadata": {
    "id": "ZyGArVI2D0lS"
   },
   "source": [
    "#### count()\n",
    "Sirve para contar cuantas veces aparece un elemento en una tupla."
   ]
  },
  {
   "cell_type": "code",
   "execution_count": 84,
   "metadata": {
    "id": "xUdXAOodD0lS"
   },
   "outputs": [
    {
     "data": {
      "text/plain": [
       "1"
      ]
     },
     "execution_count": 84,
     "metadata": {},
     "output_type": "execute_result"
    }
   ],
   "source": [
    "tupla.count(100)"
   ]
  },
  {
   "cell_type": "code",
   "execution_count": 85,
   "metadata": {
    "id": "FdOD0zZzD0lS"
   },
   "outputs": [
    {
     "data": {
      "text/plain": [
       "0"
      ]
     },
     "execution_count": 85,
     "metadata": {},
     "output_type": "execute_result"
    }
   ],
   "source": [
    "tupla.count('Otro')"
   ]
  },
  {
   "cell_type": "code",
   "execution_count": 86,
   "metadata": {
    "id": "CE7bVS5UD0lS"
   },
   "outputs": [
    {
     "data": {
      "text/plain": [
       "0"
      ]
     },
     "execution_count": 86,
     "metadata": {},
     "output_type": "execute_result"
    }
   ],
   "source": [
    "tupla.count('Otro')"
   ]
  },
  {
   "cell_type": "code",
   "execution_count": 87,
   "metadata": {
    "id": "WpXO2iKyD0lS"
   },
   "outputs": [
    {
     "data": {
      "text/plain": [
       "True"
      ]
     },
     "execution_count": 87,
     "metadata": {},
     "output_type": "execute_result"
    }
   ],
   "source": [
    "'Hola' in tupla"
   ]
  },
  {
   "cell_type": "code",
   "execution_count": 88,
   "metadata": {
    "id": "nraq2MDpD0lT"
   },
   "outputs": [
    {
     "data": {
      "text/plain": [
       "1"
      ]
     },
     "execution_count": 88,
     "metadata": {},
     "output_type": "execute_result"
    }
   ],
   "source": [
    "tupla.count(100)"
   ]
  },
  {
   "cell_type": "code",
   "execution_count": 89,
   "metadata": {
    "id": "UhNCSgkfD0lT"
   },
   "outputs": [],
   "source": [
    "a = (\"Spiros\", 1969, 1.96)\n",
    "b = (1969, 1987, 2005, 2003)"
   ]
  },
  {
   "cell_type": "markdown",
   "metadata": {
    "id": "erFxv1bGD0lT"
   },
   "source": [
    "¿Porqué no se puede usar otras funciones como las de las listas?\n",
    "https://docs.python.org/3/tutorial/datastructures.html"
   ]
  },
  {
   "cell_type": "markdown",
   "metadata": {
    "id": "pnxQPoM5D0lT"
   },
   "source": [
    "Aunque las tuplas pueden parecer similares a las listas, a menudo se usan en diferentes situaciones y para diferentes propósitos. Las **tuplas** son inmutables y **generalmente contienen una secuencia heterogénea** de elementos a los que se accede *desempacando* o *indexando*. Las **listas** son mutables, y sus elementos son **generalmente homogéneos** y se accede iterando sobre la lista."
   ]
  },
  {
   "cell_type": "markdown",
   "metadata": {
    "id": "z_f_pRpDD0lT"
   },
   "source": [
    "Hasta ahora estamos habituados a ver código de asignación de valores a variables, con una única variable sobre la cual recae el valor a asignar. Es posible realizar una asignación múltiple a partir de estructuras de tipo secuencia (cadenas, listas y tuplas). Esto se conoce como **desempaquetado de secuencias**. "
   ]
  },
  {
   "cell_type": "markdown",
   "metadata": {},
   "source": []
  },
  {
   "cell_type": "code",
   "execution_count": null,
   "metadata": {},
   "outputs": [],
   "source": [
    "a=2"
   ]
  },
  {
   "cell_type": "code",
   "execution_count": 90,
   "metadata": {
    "id": "gBIkt5BUD0lT"
   },
   "outputs": [],
   "source": [
    "depredador, presa = ('águila', 'liebre')"
   ]
  },
  {
   "cell_type": "code",
   "execution_count": 91,
   "metadata": {
    "id": "UHaaJUmxD0lT"
   },
   "outputs": [
    {
     "data": {
      "text/plain": [
       "'águila'"
      ]
     },
     "execution_count": 91,
     "metadata": {},
     "output_type": "execute_result"
    }
   ],
   "source": [
    "depredador"
   ]
  },
  {
   "cell_type": "code",
   "execution_count": 92,
   "metadata": {
    "id": "O9Yr513OD0lT"
   },
   "outputs": [
    {
     "data": {
      "text/plain": [
       "'liebre'"
      ]
     },
     "execution_count": 92,
     "metadata": {},
     "output_type": "execute_result"
    }
   ],
   "source": [
    "presa"
   ]
  },
  {
   "cell_type": "markdown",
   "metadata": {
    "id": "WQGz3wsYD0lU"
   },
   "source": [
    "También podemos realizar un **empaquetado de secuencias**, donde varios valores a la derecha de la asignación se guardarán como una tupla en la variable a la izquierda."
   ]
  },
  {
   "cell_type": "code",
   "execution_count": 96,
   "metadata": {
    "id": "uK08iBmhD0lU"
   },
   "outputs": [],
   "source": [
    "coordenadas_3d = 34, 5.6, 86 # empaqeutado tupla\n",
    "#si no se pone nada, se entiende q es tupla ( )\n",
    "#para listas sí hay que poner [ ]\n",
    "\n",
    "x, y, z = coordenadas_3d     # desempaquetado"
   ]
  },
  {
   "cell_type": "code",
   "execution_count": 97,
   "metadata": {
    "id": "flLt758LD0lU"
   },
   "outputs": [
    {
     "data": {
      "text/plain": [
       "34"
      ]
     },
     "execution_count": 97,
     "metadata": {},
     "output_type": "execute_result"
    }
   ],
   "source": [
    "x "
   ]
  },
  {
   "cell_type": "code",
   "execution_count": 98,
   "metadata": {
    "id": "aDnXC5QWD0lU"
   },
   "outputs": [
    {
     "data": {
      "text/plain": [
       "5.6"
      ]
     },
     "execution_count": 98,
     "metadata": {},
     "output_type": "execute_result"
    }
   ],
   "source": [
    "y"
   ]
  },
  {
   "cell_type": "code",
   "execution_count": 99,
   "metadata": {
    "id": "MkMx_MteD0lU"
   },
   "outputs": [
    {
     "data": {
      "text/plain": [
       "86"
      ]
     },
     "execution_count": 99,
     "metadata": {},
     "output_type": "execute_result"
    }
   ],
   "source": [
    "z"
   ]
  },
  {
   "cell_type": "code",
   "execution_count": 100,
   "metadata": {
    "id": "q6yZGuURD0lU"
   },
   "outputs": [
    {
     "data": {
      "text/plain": [
       "(34, 5.6, 86)"
      ]
     },
     "execution_count": 100,
     "metadata": {},
     "output_type": "execute_result"
    }
   ],
   "source": [
    "coordenadas_3d"
   ]
  },
  {
   "cell_type": "markdown",
   "metadata": {
    "id": "ADm2XOQnD0lU"
   },
   "source": [
    "Se puede usar el operador \"+\" para realizar uniones de tuplas. Además puedes utilizar la función len() para conocer el número de elementos que componen la tupla. Al igual que las listas, se puede usar el operador \"*\" para concatenar una tupla con ella misma un número finito de veces."
   ]
  },
  {
   "cell_type": "code",
   "execution_count": 101,
   "metadata": {
    "id": "aM2QRibUD0lV"
   },
   "outputs": [
    {
     "name": "stdout",
     "output_type": "stream",
     "text": [
      "9\n"
     ]
    }
   ],
   "source": [
    "tupla = (1, 2, 3, 4, 5, 6, 7, 8, 9)\n",
    "print(len(tupla))"
   ]
  },
  {
   "cell_type": "code",
   "execution_count": 102,
   "metadata": {
    "id": "fPpGEmtdD0lV"
   },
   "outputs": [
    {
     "name": "stdout",
     "output_type": "stream",
     "text": [
      "(1, 2, 3, 4, 5, 6, 7, 8, 9, 10, 11, 12)\n"
     ]
    },
    {
     "data": {
      "text/plain": [
       "12"
      ]
     },
     "execution_count": 102,
     "metadata": {},
     "output_type": "execute_result"
    }
   ],
   "source": [
    "# ejemplos\n",
    "tupla = tupla + (10, 11, 12)\n",
    "print(tupla)\n",
    "len(tupla)"
   ]
  },
  {
   "cell_type": "markdown",
   "metadata": {
    "id": "EcrWYPO9D0lV"
   },
   "source": [
    "Las tuplas, al igual que las listas, permiten extraer porciones de ellas en otra tupla nueva. La extracción se realiza utilizando la siguiente instrucción:\n",
    "\n",
    "`Tupla[n:m]`\n",
    "\n",
    "Por ejemplo:"
   ]
  },
  {
   "cell_type": "code",
   "execution_count": 103,
   "metadata": {
    "id": "mCIVOqMRD0lV"
   },
   "outputs": [],
   "source": [
    "tupla = (1, 2, 3, 4, 5, 6, 7, 8, 9)"
   ]
  },
  {
   "cell_type": "code",
   "execution_count": 108,
   "metadata": {
    "id": "-4fTou7rD0lV"
   },
   "outputs": [
    {
     "name": "stdout",
     "output_type": "stream",
     "text": [
      "<class 'tuple'>\n"
     ]
    }
   ],
   "source": [
    "tupla2 = tupla[2:5] + (10, 11, 12)\n",
    "tupla2\n",
    "print(type(tupla2))"
   ]
  },
  {
   "cell_type": "code",
   "execution_count": 107,
   "metadata": {
    "id": "yxhyU0zYD0lV"
   },
   "outputs": [
    {
     "data": {
      "text/plain": [
       "(1, 3, 5, 7, 9)"
      ]
     },
     "execution_count": 107,
     "metadata": {},
     "output_type": "execute_result"
    }
   ],
   "source": [
    "#step 2\n",
    "tupla[::2]"
   ]
  },
  {
   "cell_type": "markdown",
   "metadata": {
    "id": "lpRTTbz6D0lW"
   },
   "source": [
    "### 3.3 Los conjuntos\n",
    "Son colecciones desordenadas de elementos únicos utilizados para hacer pruebas de pertenencia a grupos y eliminación de elementos duplicados. Los elementos de los conjuntos deberán de ser de tipo inmutable."
   ]
  },
  {
   "cell_type": "code",
   "execution_count": 109,
   "metadata": {
    "id": "AqF6ZfQ0D0lW"
   },
   "outputs": [],
   "source": [
    "conjunto = {1,2,3}"
   ]
  },
  {
   "cell_type": "code",
   "execution_count": 110,
   "metadata": {
    "id": "HdhWDPBvD0lW"
   },
   "outputs": [
    {
     "data": {
      "text/plain": [
       "set"
      ]
     },
     "execution_count": 110,
     "metadata": {},
     "output_type": "execute_result"
    }
   ],
   "source": [
    "type(conjunto)"
   ]
  },
  {
   "cell_type": "code",
   "execution_count": 111,
   "metadata": {
    "id": "DaHau94kD0lW"
   },
   "outputs": [
    {
     "data": {
      "text/plain": [
       "{1, 2, 3}"
      ]
     },
     "execution_count": 111,
     "metadata": {},
     "output_type": "execute_result"
    }
   ],
   "source": [
    "conjunto"
   ]
  },
  {
   "cell_type": "code",
   "execution_count": 113,
   "metadata": {},
   "outputs": [
    {
     "name": "stdout",
     "output_type": "stream",
     "text": [
      "{1, 2, 3, (2.1, 2.2)}\n"
     ]
    },
    {
     "data": {
      "text/plain": [
       "set"
      ]
     },
     "execution_count": 113,
     "metadata": {},
     "output_type": "execute_result"
    }
   ],
   "source": [
    "#tupla como elemento de conjunto\n",
    "con1={1,2,(2.1,2.2),3}\n",
    "print(con1)\n",
    "type(con1)"
   ]
  },
  {
   "cell_type": "markdown",
   "metadata": {
    "id": "CM3ANRUqD0lW"
   },
   "source": [
    "#### Método add()\n",
    "Sirve para añadir elementos al conjunto. Si un elemento ya se encuentra, no se añadirá de nuevo."
   ]
  },
  {
   "cell_type": "code",
   "execution_count": 114,
   "metadata": {
    "id": "VEj98fTpD0lW"
   },
   "outputs": [
    {
     "data": {
      "text/plain": [
       "{10, 50, 100}"
      ]
     },
     "execution_count": 114,
     "metadata": {},
     "output_type": "execute_result"
    }
   ],
   "source": [
    "con = {100,100,100,50,10}\n",
    "con"
   ]
  },
  {
   "cell_type": "code",
   "execution_count": 115,
   "metadata": {
    "id": "fiaiSMmcD0lX"
   },
   "outputs": [],
   "source": [
    "conjunto.add(4)"
   ]
  },
  {
   "cell_type": "code",
   "execution_count": 116,
   "metadata": {
    "id": "1Hs6qaNhD0lX"
   },
   "outputs": [
    {
     "data": {
      "text/plain": [
       "{1, 2, 3, 4}"
      ]
     },
     "execution_count": 116,
     "metadata": {},
     "output_type": "execute_result"
    }
   ],
   "source": [
    "conjunto"
   ]
  },
  {
   "cell_type": "code",
   "execution_count": 117,
   "metadata": {
    "id": "8rrUnzAWD0lX"
   },
   "outputs": [],
   "source": [
    "conjunto.add(3)"
   ]
  },
  {
   "cell_type": "code",
   "execution_count": 118,
   "metadata": {
    "id": "kD0mtZmKD0lX"
   },
   "outputs": [
    {
     "data": {
      "text/plain": [
       "{1, 2, 3, 4}"
      ]
     },
     "execution_count": 118,
     "metadata": {},
     "output_type": "execute_result"
    }
   ],
   "source": [
    "conjunto"
   ]
  },
  {
   "cell_type": "markdown",
   "metadata": {
    "id": "2TIWHtd-D0lX"
   },
   "source": [
    "#### Colecciones desordenadas\n",
    "Se dice que son ordenados porque gestionan automáticamente la posición de sus elementos, en lugar de conservarlos en la posición que nosotros los añadimos."
   ]
  },
  {
   "cell_type": "code",
   "execution_count": null,
   "metadata": {
    "id": "DDs0yB_uD0lX"
   },
   "outputs": [],
   "source": [
    "conjunto.add(1.5)"
   ]
  },
  {
   "cell_type": "code",
   "execution_count": null,
   "metadata": {},
   "outputs": [],
   "source": []
  },
  {
   "cell_type": "code",
   "execution_count": null,
   "metadata": {
    "id": "93kri0zMD0lX"
   },
   "outputs": [],
   "source": [
    "conjunto"
   ]
  },
  {
   "cell_type": "code",
   "execution_count": null,
   "metadata": {
    "id": "kmomOhn-D0lX"
   },
   "outputs": [],
   "source": [
    "conjunto.add(\"a\")"
   ]
  },
  {
   "cell_type": "code",
   "execution_count": null,
   "metadata": {
    "id": "rRA_0Eh7D0lY"
   },
   "outputs": [],
   "source": [
    "conjunto"
   ]
  },
  {
   "cell_type": "code",
   "execution_count": null,
   "metadata": {
    "id": "bqskDgtfD0lY"
   },
   "outputs": [],
   "source": [
    "conjunto.add( ('a', 'b', 'c') )"
   ]
  },
  {
   "cell_type": "code",
   "execution_count": null,
   "metadata": {
    "id": "U2YiZo7VD0lY"
   },
   "outputs": [],
   "source": [
    "conjunto"
   ]
  },
  {
   "cell_type": "markdown",
   "metadata": {
    "id": "GAI3j9GtD0lY"
   },
   "source": [
    "#### Pertenencia a grupos con *in*"
   ]
  },
  {
   "cell_type": "code",
   "execution_count": 119,
   "metadata": {
    "id": "ghnxsQiHD0lY"
   },
   "outputs": [],
   "source": [
    "grupo = {'Hector','Juan','Mario'}"
   ]
  },
  {
   "cell_type": "code",
   "execution_count": 120,
   "metadata": {
    "id": "ZqxalZCoD0lY"
   },
   "outputs": [
    {
     "data": {
      "text/plain": [
       "True"
      ]
     },
     "execution_count": 120,
     "metadata": {},
     "output_type": "execute_result"
    }
   ],
   "source": [
    "'Hector' in grupo"
   ]
  },
  {
   "cell_type": "code",
   "execution_count": 121,
   "metadata": {
    "id": "ejU96yi5D0lY"
   },
   "outputs": [
    {
     "data": {
      "text/plain": [
       "False"
      ]
     },
     "execution_count": 121,
     "metadata": {},
     "output_type": "execute_result"
    }
   ],
   "source": [
    "'Maria' in grupo"
   ]
  },
  {
   "cell_type": "code",
   "execution_count": 122,
   "metadata": {
    "id": "S94VBxVBD0lZ"
   },
   "outputs": [
    {
     "data": {
      "text/plain": [
       "False"
      ]
     },
     "execution_count": 122,
     "metadata": {},
     "output_type": "execute_result"
    }
   ],
   "source": [
    "'Hector' not in grupo"
   ]
  },
  {
   "cell_type": "markdown",
   "metadata": {
    "id": "U65MdNIMD0lZ"
   },
   "source": [
    "#### Auto-eliminación de elementos duplicados"
   ]
  },
  {
   "cell_type": "code",
   "execution_count": 123,
   "metadata": {
    "id": "PnKBFElAD0lZ"
   },
   "outputs": [],
   "source": [
    "test = {'Hector','Hector','Hector'}"
   ]
  },
  {
   "cell_type": "code",
   "execution_count": 124,
   "metadata": {
    "id": "KCToPMUWD0lZ"
   },
   "outputs": [
    {
     "data": {
      "text/plain": [
       "{'Hector'}"
      ]
     },
     "execution_count": 124,
     "metadata": {},
     "output_type": "execute_result"
    }
   ],
   "source": [
    "test"
   ]
  },
  {
   "cell_type": "markdown",
   "metadata": {
    "id": "8ZWESk4iD0lZ"
   },
   "source": [
    "#### Cast de lista a conjunto y viceversa\n",
    "Es muy útil transformar listas a conjuntos para borrar los elementos duplicados automáticamente."
   ]
  },
  {
   "cell_type": "code",
   "execution_count": null,
   "metadata": {
    "id": "7th_xRqkD0lZ"
   },
   "outputs": [],
   "source": [
    "l = [1,2,3,3,2,1]\n",
    "l"
   ]
  },
  {
   "cell_type": "code",
   "execution_count": null,
   "metadata": {
    "id": "zanwD-K9D0lZ"
   },
   "outputs": [],
   "source": [
    "c = set(l)\n",
    "c"
   ]
  },
  {
   "cell_type": "code",
   "execution_count": null,
   "metadata": {
    "id": "mVYArVJND0lZ"
   },
   "outputs": [],
   "source": [
    "l = list(c)"
   ]
  },
  {
   "cell_type": "code",
   "execution_count": null,
   "metadata": {
    "id": "vtn9u8ibD0la"
   },
   "outputs": [],
   "source": [
    "l"
   ]
  },
  {
   "cell_type": "code",
   "execution_count": null,
   "metadata": {
    "id": "ayMNog7ID0la"
   },
   "outputs": [],
   "source": [
    "l = [1,2,3,3,2,1]"
   ]
  },
  {
   "cell_type": "code",
   "execution_count": null,
   "metadata": {
    "id": "Q3Rw-1wjD0la"
   },
   "outputs": [],
   "source": [
    "# En una línea\n",
    "l = list( set( l ) )"
   ]
  },
  {
   "cell_type": "code",
   "execution_count": null,
   "metadata": {
    "id": "kgriRJLHD0la"
   },
   "outputs": [],
   "source": [
    "l"
   ]
  },
  {
   "cell_type": "markdown",
   "metadata": {
    "id": "wHNUfQ4ID0la"
   },
   "source": [
    "#### Cast de cadena a conjunto\n",
    "Sirve para crear un conjunto con todos los caracteres de la cadena."
   ]
  },
  {
   "cell_type": "code",
   "execution_count": 126,
   "metadata": {
    "id": "gTnZcOexD0la"
   },
   "outputs": [
    {
     "data": {
      "text/plain": [
       "{' ', 'A', 'a', 'i', 'l', 'n', 'o', 'p', 'v', 'y'}"
      ]
     },
     "execution_count": 126,
     "metadata": {},
     "output_type": "execute_result"
    }
   ],
   "source": [
    "s = \"Al pan pan y al vino vino\"\n",
    "set(s)"
   ]
  },
  {
   "cell_type": "code",
   "execution_count": 127,
   "metadata": {
    "id": "7va8MaraD0la"
   },
   "outputs": [
    {
     "data": {
      "text/plain": [
       "'Al pan pan y al vino vino'"
      ]
     },
     "execution_count": 127,
     "metadata": {},
     "output_type": "execute_result"
    }
   ],
   "source": [
    "s"
   ]
  },
  {
   "cell_type": "markdown",
   "metadata": {
    "id": "PDWExuu_D0lb"
   },
   "source": [
    "Los conjuntos también tienen funciones asociadas al tipo de dato. Usa el punto y tabulador en un objeto de tipo set para ver los métodos disponibles."
   ]
  },
  {
   "cell_type": "code",
   "execution_count": null,
   "metadata": {
    "id": "QecOo1NDD0lb"
   },
   "outputs": [],
   "source": [
    "# e.g. \n",
    "type(c)\n",
    "c."
   ]
  },
  {
   "cell_type": "markdown",
   "metadata": {
    "id": "5bOuwNE9D0lb"
   },
   "source": [
    "###### Ejercicio 3.5"
   ]
  },
  {
   "cell_type": "code",
   "execution_count": 131,
   "metadata": {
    "id": "ln5IGcC0D0lb"
   },
   "outputs": [
    {
     "name": "stdout",
     "output_type": "stream",
     "text": [
      "{'apple'}\n"
     ]
    }
   ],
   "source": [
    "v = {\"pear\", \"apple\",}\n",
    "x = {\"apple\", \"banana\", \"cherry\"}\n",
    "y = {\"google\", \"microsoft\", \"apple\"}\n",
    "\n",
    "z = x.intersection(y,v)\n",
    "\n",
    "print(z)"
   ]
  },
  {
   "cell_type": "code",
   "execution_count": 139,
   "metadata": {
    "scrolled": true
   },
   "outputs": [
    {
     "name": "stdout",
     "output_type": "stream",
     "text": [
      "{'pear'}\n"
     ]
    }
   ],
   "source": [
    "v = {\"pear\", \"apple\",}\n",
    "x = {\"apple\", \"banana\", \"cherry\"}\n",
    "y = {\"google\", \"microsoft\", \"apple\"}\n",
    "\n",
    "z=x.difference(y,v)\n",
    "\n",
    "z=y.difference(x,v)\n",
    "\n",
    "z=v.difference(x,y)\n",
    "\n",
    "print(z)"
   ]
  },
  {
   "cell_type": "code",
   "execution_count": 132,
   "metadata": {
    "id": "gZ86TwoyD0lb"
   },
   "outputs": [
    {
     "name": "stdout",
     "output_type": "stream",
     "text": [
      "A U B = {2, 'c', 'd', 'a'}\n",
      "B U C = {1, 2, 3, 'c', 'd'}\n",
      "A U B U C = {1, 2, 3, 'c', 'd', 'a'}\n",
      "A.union() = {'d', 'c', 'a'}\n"
     ]
    }
   ],
   "source": [
    "A = {'a', 'c', 'd'}\n",
    "B = {'c', 'd', 2 }\n",
    "C = {1, 2, 3}\n",
    "\n",
    "print('A U B =', A.union(B))\n",
    "print('B U C =', B.union(C))\n",
    "print('A U B U C =', A.union(B, C))\n",
    "print('A.union() =', A.union())"
   ]
  },
  {
   "cell_type": "code",
   "execution_count": null,
   "metadata": {
    "id": "x_Zwu-dJD0lb"
   },
   "outputs": [],
   "source": []
  }
 ],
 "metadata": {
  "colab": {
   "name": "M1-T3-ListsTuplesSets.ipynb",
   "provenance": []
  },
  "kernelspec": {
   "display_name": "Python 3",
   "language": "python",
   "name": "python3"
  },
  "language_info": {
   "codemirror_mode": {
    "name": "ipython",
    "version": 3
   },
   "file_extension": ".py",
   "mimetype": "text/x-python",
   "name": "python",
   "nbconvert_exporter": "python",
   "pygments_lexer": "ipython3",
   "version": "3.8.5"
  }
 },
 "nbformat": 4,
 "nbformat_minor": 1
}
