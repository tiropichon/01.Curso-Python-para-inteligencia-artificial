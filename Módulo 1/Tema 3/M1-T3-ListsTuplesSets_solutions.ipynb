{
 "cells": [
  {
   "cell_type": "markdown",
   "metadata": {},
   "source": [
    "### 2.4 Tipos mutables e inmutables"
   ]
  },
  {
   "cell_type": "markdown",
   "metadata": {},
   "source": [
    "Una variable es un identificador asociado a una posición en memoria donde se almacena el valor. En Python todo son objetos, es decir, almacenan información y tienen asociada una serie de métodos para operar sobre dicha información. Debemos diferenciar entre objetos “mutables” y objetos “inmutables”. Toda variable representa a un objeto de un tipo determinado. El tipo establece el formato del dato a almacenar. Un objeto inmutable es aquel cuyo tipo no permite modificar el contenido sin destruir la referencia al mismo. Si imaginamos el identificador de una variable como la etiqueta pegada al frontal de un cajón donde meter valores, un objeto inmutable sería un cajón que no podemos abrir, solo observar a través de un frontal transparente, como si de una vitrina se tratara. Cuando queremos que una variable almacene un valor distinto al asignado anteriormente para un objeto inmutable, debemos buscar otro cajón donde meter ese valor, meter el valor, cerrarlo y cambiar la etiqueta al nuevo cajón, a sabiendas de que no podremos cambiar su contenido. En cambio, un objeto mutable sí permite modificar el contenido sin cambiar la referencia. Es un cajón que abrimos y cuyo contenido modificamos sin impedimentos. Un objeto mutable puede actualizar sus valores, un inmutable, no. \n",
    "Como hemos dicho, la mutabilidad depende del tipo del objeto. Estos son los tipos mutables e inmutables establecidos por Python:\n",
    "- Mutables: listas, diccionarios y conjuntos.\n",
    "- Inmutables: todos los números (enteros, reales, complejos y booleanos), cadenas y tuplas."
   ]
  },
  {
   "cell_type": "code",
   "execution_count": null,
   "metadata": {},
   "outputs": [],
   "source": [
    "x = 4\n",
    "print(x)"
   ]
  },
  {
   "cell_type": "code",
   "execution_count": null,
   "metadata": {},
   "outputs": [],
   "source": [
    "id(x)\n",
    "# hex(id(x))"
   ]
  },
  {
   "cell_type": "code",
   "execution_count": null,
   "metadata": {},
   "outputs": [],
   "source": [
    "x += 1\n",
    "print(x)"
   ]
  },
  {
   "cell_type": "code",
   "execution_count": null,
   "metadata": {},
   "outputs": [],
   "source": [
    "id(x)\n",
    "# hex(id(x))"
   ]
  },
  {
   "cell_type": "markdown",
   "metadata": {},
   "source": [
    "Aunque pueda parecer que el código actualiza el valor de la variable `x` (`x += 1`), lo que tiene lugar realmente es la creación de una nueva variable, en un espacio de memoria nuevo, donde se toma el valor anterior de `x` y se asigna a una nueva variable `x`. La línea `x += 1` es equivalente a la instrucción `x = x + 1` que se resuelve de la siguiente manera: el intérprete primero resuelve la parte derecha, `x + 1`, buscando en la pila de tablas de símbolos la primera referencia con el identificador `x`. La encuentra y esta lleva a una dirección de memoria con el valor `4`. El intérprete sustituye `x` por `4` y resuelve la suma `4 + 1`. El valor calculado, `5`, va a asignarse a una variable, por lo que Python crea un espacio en memoria donde aloja dicho valor y cambiar la referencia en la tabla de símbolos para que `x` apunte a `5`, resolviendo así la asignación. Ahora, el espacio donde se alojaba `4` es **liberado por el recolector de basura**. "
   ]
  },
  {
   "cell_type": "markdown",
   "metadata": {},
   "source": [
    "El siguiente ejemplo ilustra también la inmutabilidad usando en este caso cadenas. Las variables `b` y `a` disponen de espacios de memoria distintos. Aunque podemos acceder a cada carácter mediante su posición, no es posible modificarlos, por lo que se genera un error al intentarlo."
   ]
  },
  {
   "cell_type": "code",
   "execution_count": null,
   "metadata": {},
   "outputs": [],
   "source": [
    "a = \"hola\"\n",
    "b = a\n",
    "a = a + \" caracola\"\n",
    "print(a)"
   ]
  },
  {
   "cell_type": "code",
   "execution_count": null,
   "metadata": {},
   "outputs": [],
   "source": [
    "b"
   ]
  },
  {
   "cell_type": "code",
   "execution_count": null,
   "metadata": {},
   "outputs": [],
   "source": [
    "b[2]"
   ]
  },
  {
   "cell_type": "code",
   "execution_count": null,
   "metadata": {},
   "outputs": [],
   "source": [
    "b[2] = 'j'"
   ]
  },
  {
   "cell_type": "code",
   "execution_count": null,
   "metadata": {},
   "outputs": [],
   "source": [
    "b.replace('l', 'j')"
   ]
  },
  {
   "cell_type": "markdown",
   "metadata": {},
   "source": [
    "https://stackoverflow.com/questions/41752946/replacing-a-character-from-a-certain-index/41753038"
   ]
  },
  {
   "cell_type": "markdown",
   "metadata": {},
   "source": [
    "## 3. Estructuras de datos compuestos (colecciones)"
   ]
  },
  {
   "cell_type": "markdown",
   "metadata": {},
   "source": [
    "En Python hay una serie de tipo de datos que se caracterizan por estar compuestos por secuencias de elementos. Son las llamadas colecciones. En Python tenemos cuatro posibles colecciones:\n",
    "\n",
    "- Listas (lists)\n",
    "- Tuplas (tuples)\n",
    "- Conjuntos (sets)\n",
    "- Diccionarios (dictionaries)"
   ]
  },
  {
   "cell_type": "markdown",
   "metadata": {},
   "source": [
    "### 3.1 Listas"
   ]
  },
  {
   "cell_type": "markdown",
   "metadata": {},
   "source": [
    "Una lista es un conjunto ordenado de elementos que puede contener datos de cualquier tipo. Una característica muy importante de las listas es que pueden contener elementos de diferentes tipos, por ejemplo una lista puede estar compuesta por cadenas de texto, por números enteros y por supuesto, por otras listas."
   ]
  },
  {
   "cell_type": "markdown",
   "metadata": {},
   "source": [
    "Las listas en Python se representan por una serie de elementos separados por comas y delimitados entre corchetes. Un ejemplo:"
   ]
  },
  {
   "cell_type": "code",
   "execution_count": null,
   "metadata": {},
   "outputs": [],
   "source": [
    "[99.9, \"una lista en\", \"Python\", 345, 56]"
   ]
  },
  {
   "cell_type": "markdown",
   "metadata": {},
   "source": [
    "Esta lista está compuesta por cinco elementos, el número real 99.9, la cadena de texto \"una lista en\", la cadena de texto \"Python\", y los números enteros 345 y 56.\n",
    "\n",
    "Los elementos en las listas ocupan posiciones concretas, y mediante esa posición que ocupan podemos acceder directamente a los elementos. En la siguiente tabla te mostramos la relación de cada elemento con la posición que ocupa en la lista:"
   ]
  },
  {
   "cell_type": "markdown",
   "metadata": {},
   "source": [
    "<dl>\n",
    "<table>\n",
    "  <tr>\n",
    "    <th>Elemento</th>\n",
    "    <th>Posición</th>\n",
    "  </tr>\n",
    "  <tr>\n",
    "    <td>99.9</td>\n",
    "    <td>0</td>\n",
    "  </tr>\n",
    "  <tr>\n",
    "    <td>\"una lista en\"</td>\n",
    "    <td>1</td>\n",
    "  </tr>\n",
    "  <tr>\n",
    "    <td>\"Python\"</td>\n",
    "    <td>2</td>\n",
    "  </tr>\n",
    "  <tr>\n",
    "    <td>345</td>\n",
    "    <td>3</td>\n",
    "  </tr>\n",
    "  <tr>\n",
    "    <td>56</td>\n",
    "    <td>4</td>\n",
    "  </tr>\n",
    "</table>    \n",
    "</dl>"
   ]
  },
  {
   "cell_type": "code",
   "execution_count": null,
   "metadata": {},
   "outputs": [],
   "source": [
    "mylist = [99.9, \"una lista en\", \"Python\", 345, 56]"
   ]
  },
  {
   "cell_type": "code",
   "execution_count": null,
   "metadata": {},
   "outputs": [],
   "source": [
    "type(mylist[0])"
   ]
  },
  {
   "cell_type": "markdown",
   "metadata": {},
   "source": [
    "###### Ejercicio 3.1: ¿Qué tipo de dato es `mylist`? ¿Cómo puedes determinar que tipo de dato es cada elemento de la lista? Hay dos elementos que son de tipo cadena de texto. Escribe el código Python que determina si la palabra \"list\" está incluida en alguno de los dos. Escribe el código Python que determina si el número 345 está incluido en `mylist`."
   ]
  },
  {
   "cell_type": "code",
   "execution_count": null,
   "metadata": {},
   "outputs": [],
   "source": [
    "print(type(mylist))\n",
    "print(type(mylist[0]))\n",
    "print(type(mylist[1]))\n",
    "print('list' in mylist[1])\n",
    "print('list' in mylist[2])\n",
    "print(345 in mylist)"
   ]
  },
  {
   "cell_type": "markdown",
   "metadata": {},
   "source": [
    "#### 3.1.1 Manipulación de listas"
   ]
  },
  {
   "cell_type": "markdown",
   "metadata": {},
   "source": [
    "Añadir elementos a una lista existente es una operación recurrente dentro de la programación. Una manera de añadir uno o más elementos a una lista es mediante el operador \"+\" y más adelante vamos a ver la función `append()`. "
   ]
  },
  {
   "cell_type": "markdown",
   "metadata": {},
   "source": [
    "Con el operador \"+\" puedes realizar uniones de listas, de la siguiente manera:\n",
    "\n",
    "**_ListaConcatenada = Lista1 + Lista2_**"
   ]
  },
  {
   "cell_type": "code",
   "execution_count": null,
   "metadata": {},
   "outputs": [],
   "source": [
    "lista1 = [\"Spiros\", \"Amaliada\", 1969, 51, \"verde\"]\n",
    "lista2 = [\"Silvia\", \"Madrid\", 1973, 47, \"negro\"]"
   ]
  },
  {
   "cell_type": "code",
   "execution_count": null,
   "metadata": {},
   "outputs": [],
   "source": [
    "print(lista1 + lista2)"
   ]
  },
  {
   "cell_type": "markdown",
   "metadata": {},
   "source": [
    "Para conocer el número de elementos que componen una lista se utiliza la función `len`, de la siguiente manera:\n",
    "\n",
    "**_NumeroElementos = len(Lista)_**"
   ]
  },
  {
   "cell_type": "code",
   "execution_count": null,
   "metadata": {},
   "outputs": [],
   "source": [
    "string = \"this is another fairly long string\"\n",
    "len(string)"
   ]
  },
  {
   "cell_type": "code",
   "execution_count": null,
   "metadata": {},
   "outputs": [],
   "source": [
    "print(\"Número elementos de lista1: %d\" % len(lista1))\n",
    "print(\"Número elementos de lista2: %d\" % len(lista2))\n",
    "lista_1y2 = lista1 + lista2\n",
    "print(\"Número elementos de lista_1y2: %d\" % len(lista_1y2))"
   ]
  },
  {
   "cell_type": "code",
   "execution_count": null,
   "metadata": {},
   "outputs": [],
   "source": [
    "print(lista_1y2)"
   ]
  },
  {
   "cell_type": "markdown",
   "metadata": {},
   "source": [
    "La modificación de elementos de una lista se hace de la siguiente forma:\n",
    "\n",
    "**_Lista[posición] = NuevoValor_**\n",
    "\n",
    "La posición indica el elemento que será modificado dentro de la lista, el valor asignado es el nuevo valor que tendrá dicho elemento."
   ]
  },
  {
   "cell_type": "code",
   "execution_count": null,
   "metadata": {},
   "outputs": [],
   "source": [
    "lista_1y2[0] = \"Miguel\""
   ]
  },
  {
   "cell_type": "markdown",
   "metadata": {},
   "source": [
    "El borrado de elementos existentes dentro de una lista se hace utilizando la instrucción `del`, de la siguiente forma:\n",
    "\n",
    "**_del Lista[posición]_**"
   ]
  },
  {
   "cell_type": "code",
   "execution_count": null,
   "metadata": {},
   "outputs": [],
   "source": [
    "del lista_1y2[3]"
   ]
  },
  {
   "cell_type": "markdown",
   "metadata": {},
   "source": [
    "El operador \"*\" nos permite concatenar una lista con ella misma un número finito de veces. Se utiliza de la siguiente forma:\n",
    "\n",
    "**_ListaResultante = Lista * NúmeroEntero_**\n",
    "\n",
    "Por ejemplo:"
   ]
  },
  {
   "cell_type": "code",
   "execution_count": null,
   "metadata": {},
   "outputs": [],
   "source": [
    "mylist = [\"a\", \"b\", \"c\"]\n",
    "print(mylist)\n",
    "mylist = mylist * 3\n",
    "print(mylist)"
   ]
  },
  {
   "cell_type": "code",
   "execution_count": null,
   "metadata": {},
   "outputs": [],
   "source": [
    "my_new_list = [0]*12"
   ]
  },
  {
   "cell_type": "code",
   "execution_count": null,
   "metadata": {},
   "outputs": [],
   "source": [
    "my_new_list"
   ]
  },
  {
   "cell_type": "code",
   "execution_count": null,
   "metadata": {},
   "outputs": [],
   "source": [
    "my_empty_string_list = [\"\"]*40\n",
    "print(my_empty_string_list)"
   ]
  },
  {
   "cell_type": "markdown",
   "metadata": {},
   "source": [
    "Como dijimos antes, las listas pueden tener otras listas como elementos. Por ejemplo: "
   ]
  },
  {
   "cell_type": "code",
   "execution_count": null,
   "metadata": {},
   "outputs": [],
   "source": [
    "lista_andalucia = [[\"Málaga\", \"Antequera\", \"Estepona\"], \"Granada\", \"Sevilla\", [\"Cádiz\", \"Puerto de Santa Maria\"]]"
   ]
  },
  {
   "cell_type": "code",
   "execution_count": null,
   "metadata": {},
   "outputs": [],
   "source": [
    "print(lista_andalucia)"
   ]
  },
  {
   "cell_type": "markdown",
   "metadata": {},
   "source": [
    "Para acceder a los elementos de la lista secundaria primero tenemos que acceder al elemento de la lista principal y después al elemento concreto de dicha lista. Para acceder al elemento \"Estepona\" tendremos que acceder al elemento [0] de la lista principal y al elemento [2] de la lista secundaria."
   ]
  },
  {
   "cell_type": "code",
   "execution_count": null,
   "metadata": {},
   "outputs": [],
   "source": [
    "print(lista_andalucia[0][2])"
   ]
  },
  {
   "cell_type": "markdown",
   "metadata": {},
   "source": [
    "Si tuviéramos un elemento dentro de la lista secundaria que fuera otra lista, únicamente tendríamos que añadir el elemento entre corchetes a continuación de la lista secundaria. Por ejemplo, si tuviéramos la lista en la posición 1 de la lista secundaria y quisiéramos acceder al elemento 0 de dicha lista lo haríamos de la siguiente forma:\n",
    "\n",
    "**_Lista[1][1][0]_**"
   ]
  },
  {
   "cell_type": "markdown",
   "metadata": {},
   "source": [
    "###### Ejercicio 3.2: ¿Qué pasa si accedes al elemento lista_andalucia[1][1][1] tal como está de momento? Cambia la lista_andalucia para que te devuelva algo y que no te salte un error."
   ]
  },
  {
   "cell_type": "code",
   "execution_count": null,
   "metadata": {},
   "outputs": [],
   "source": [
    "lista_andalucia[1][1][1]"
   ]
  },
  {
   "cell_type": "markdown",
   "metadata": {},
   "source": [
    "Para extraer una porción de una lista en otra lista nueva, se utiliza la siguiente instrucción:\n",
    "\n",
    "#### 3.1.2 **_Lista[n:m]_** o **Slicing**\n",
    "\n",
    "La instrucción extraerá una nueva lista que empezará en el índice `n` y terminará en el `m-1`. Tienes que tener en cuenta lo siguiente:\n",
    "\n",
    "- Si no se especifica el valor para `n` se supone que es `0`.\n",
    "- Si no se especifica el valor para `m` se supone que es el tamaño de la lista menos uno."
   ]
  },
  {
   "cell_type": "code",
   "execution_count": null,
   "metadata": {},
   "outputs": [],
   "source": [
    "mylist = [0, 1, 2, 3, 4, 5, 6]"
   ]
  },
  {
   "cell_type": "code",
   "execution_count": null,
   "metadata": {},
   "outputs": [],
   "source": [
    "mylist[-3:]"
   ]
  },
  {
   "cell_type": "markdown",
   "metadata": {},
   "source": [
    "La instrucción `[n:m]` es también conocida como **slicing**, o operaciones **slice** en Python. "
   ]
  },
  {
   "cell_type": "markdown",
   "metadata": {},
   "source": [
    "###### Ejercicio 3.3: ¿Cuál es el próximo número en la lista `fibo = [0, 1, 1, 2, 3]`? Escribe el código Python que añade el próximo número a la lista y borra el primer elemento para que su tamaño siga siendo 5."
   ]
  },
  {
   "cell_type": "code",
   "execution_count": null,
   "metadata": {},
   "outputs": [],
   "source": [
    "fibo = [0, 1, 1, 2, 3]"
   ]
  },
  {
   "cell_type": "code",
   "execution_count": null,
   "metadata": {},
   "outputs": [],
   "source": [
    "fibo = fibo + [fibo[-1]+fibo[-2]]\n",
    "del fibo[0]\n",
    "fibo"
   ]
  },
  {
   "cell_type": "markdown",
   "metadata": {},
   "source": [
    "###### Números negativos\n",
    "\n",
    "En operaciones slice se pueden usar números negativos. Por ejemplo, lo siguiente obtiene el último elemento:"
   ]
  },
  {
   "cell_type": "code",
   "execution_count": null,
   "metadata": {},
   "outputs": [],
   "source": [
    "mylist[-1:]"
   ]
  },
  {
   "cell_type": "markdown",
   "metadata": {},
   "source": [
    "Esto es porque comienza en -1, pero como no hay índices negativos, se regresa y entonces se encuentra con el último elemento. \n",
    "\n",
    "Igualmente si se quieren obtener los últimos dos elementos:"
   ]
  },
  {
   "cell_type": "code",
   "execution_count": null,
   "metadata": {},
   "outputs": [],
   "source": [
    "mylist[-2:]"
   ]
  },
  {
   "cell_type": "markdown",
   "metadata": {},
   "source": [
    "O desde el inicio, pero sin los últimos 2 elementos:"
   ]
  },
  {
   "cell_type": "code",
   "execution_count": null,
   "metadata": {},
   "outputs": [],
   "source": [
    "mylist[:-2]"
   ]
  },
  {
   "cell_type": "markdown",
   "metadata": {},
   "source": [
    "###### Con step o pasos"
   ]
  },
  {
   "cell_type": "markdown",
   "metadata": {},
   "source": [
    "La notación de **slice en Python** soporta un tercer \"argumento\" y es el número de pasos que se avanza al cortar. Por defecto, es 1; pero puede ser especificado de otra manera. Dicho de otro modo, cuando hacemos esto:"
   ]
  },
  {
   "cell_type": "code",
   "execution_count": null,
   "metadata": {},
   "outputs": [],
   "source": [
    "mylist[0:7] # obtiene desde el 0 hasta el 7-1"
   ]
  },
  {
   "cell_type": "markdown",
   "metadata": {},
   "source": [
    "Es lo mismo que hacer esto:"
   ]
  },
  {
   "cell_type": "code",
   "execution_count": null,
   "metadata": {},
   "outputs": [],
   "source": [
    "mylist[0:7:1] # obtiene desde el 0 hasta el 7-1 en pasos de 1"
   ]
  },
  {
   "cell_type": "markdown",
   "metadata": {},
   "source": [
    "Pero si cambiamos el tercer argumento, para que sea en pasos de 2:"
   ]
  },
  {
   "cell_type": "code",
   "execution_count": null,
   "metadata": {},
   "outputs": [],
   "source": [
    "mylist[0:7:3]"
   ]
  },
  {
   "cell_type": "markdown",
   "metadata": {},
   "source": [
    "Entonces obtiene los elementos del 0 hasta el 7, pero ignorando algunos. Comienza en el 0, y avanza 2 pasos, así que selecciona el que tiene el índice 2. Luego, desde el 2 avanza otros 2 pasos y se encuentra con el índice 4, etc. Si ya no hay más al saltar, entonces se detiene."
   ]
  },
  {
   "cell_type": "code",
   "execution_count": null,
   "metadata": {},
   "outputs": [],
   "source": [
    "mylist[::2]"
   ]
  },
  {
   "cell_type": "markdown",
   "metadata": {},
   "source": [
    "#### 3.1.3 Métodos propios"
   ]
  },
  {
   "cell_type": "markdown",
   "metadata": {},
   "source": [
    "El tipo de dato lista en Python posee una serie de funciones que nos permiten manipular las listas realizando operaciones complejas de forma sencilla y con una simple instrucción. El formato de uso de la gran mayoria de las funciones es el siguiente:\n",
    "\n",
    "**_Lista.NombreFuncion(Parámetros)_**\n",
    "\n",
    "- Lista: lista que ejecuta la función.\n",
    "- NombreFuncion: nombre de la función que se quiere ejecutar.\n",
    "- Parámetros: no todas las funciones tienen parámetros para ejecutarse, esta parte es dependiente de la función que se quiere ejecutar. \n",
    "\n",
    "Las funciones de listas que pone a nuestra disposición Python están aquí: https://docs.python.org/3/tutorial/datastructures.html\n",
    "\n",
    "Por ejemplo:"
   ]
  },
  {
   "cell_type": "code",
   "execution_count": null,
   "metadata": {},
   "outputs": [],
   "source": [
    "lista_andalucia = [[\"Málaga\", \"Antequera\", \"Estepona\"], \n",
    "                   \"Granada\", \n",
    "                   \"Sevilla\", \n",
    "                   [\"Cádiz\", \"Puerto de Santa Maria\"]]"
   ]
  },
  {
   "cell_type": "code",
   "execution_count": null,
   "metadata": {},
   "outputs": [],
   "source": [
    "print(lista_andalucia)"
   ]
  },
  {
   "cell_type": "code",
   "execution_count": null,
   "metadata": {},
   "outputs": [],
   "source": [
    "lista_andalucia.append(\"Córdoba\")"
   ]
  },
  {
   "cell_type": "markdown",
   "metadata": {},
   "source": [
    "Aunque el operador `\"+\"` y el método `append()` tienen el mismo efecto, que es añadir los elementos de una lista a otra lista, se recomienda que uséis el método `append()` por ser más eficiente: https://stackoverflow.com/questions/34376511/efficiently-adding-elements-to-a-list-in-python"
   ]
  },
  {
   "cell_type": "code",
   "execution_count": null,
   "metadata": {},
   "outputs": [],
   "source": []
  },
  {
   "cell_type": "markdown",
   "metadata": {},
   "source": [
    "### 3.2 Tuplas\n",
    "Las tuplas son un conjunto ordenado e **inmutable** de elementos. La diferencia con las listas reside en que en las listas puedes manipular los elementos y en las tuplas no, es decir, no es posible añadir/eliminar elementos, modificarlos, etc. Al igual que las listas, las tuplas pueden contener elementos de diferentes tipos, por ejemplo una tupla puede estar compuesta por cadenas de texto, por números enteros, etc.\n",
    "\n",
    "Las tuplas en Python se representan por una serie de elementos separados por comas y delimitados entre paréntesis. Veamos un ejemplo de tupla:\n",
    "\n",
    "`(\"Casa\", \"2\", 345, \"Perro\", 99)`\n"
   ]
  },
  {
   "cell_type": "markdown",
   "metadata": {},
   "source": [
    "Al igual que en las listas, los elementos de las tuplas ocupan posiciones concretas, y mediante esa posición que ocupan podemos acceder directamente a los elementos. En la siguiente tabla te mostramos la relación de cada elemento con la posición que ocupa en la tupla:"
   ]
  },
  {
   "cell_type": "markdown",
   "metadata": {},
   "source": [
    "<dl>\n",
    "<table>\n",
    "  <tr>\n",
    "    <th>Elemento</th>\n",
    "    <th>Posición</th>\n",
    "  </tr>\n",
    "  <tr>\n",
    "    <td>\"Casa\"</td>\n",
    "    <td>0</td>\n",
    "  </tr>\n",
    "  <tr>\n",
    "    <td>\"2\"</td>\n",
    "    <td>1</td>\n",
    "  </tr>\n",
    "  <tr>\n",
    "    <td>345</td>\n",
    "    <td>2</td>\n",
    "  </tr>\n",
    "  <tr>\n",
    "    <td>\"Perro\"</td>\n",
    "    <td>3</td>\n",
    "  </tr>\n",
    "  <tr>\n",
    "    <td>99</td>\n",
    "    <td>4</td>\n",
    "  </tr>\n",
    "</table>    \n",
    "</dl>"
   ]
  },
  {
   "cell_type": "code",
   "execution_count": null,
   "metadata": {},
   "outputs": [],
   "source": [
    "mytuple = (99.9, \"una tupla en\", \"Python\", 345, 56)\n",
    "print(mytuple)"
   ]
  },
  {
   "cell_type": "code",
   "execution_count": null,
   "metadata": {},
   "outputs": [],
   "source": [
    "# inmutable\n",
    "mytuple[0] = 100"
   ]
  },
  {
   "cell_type": "markdown",
   "metadata": {},
   "source": [
    "###### Ejercicio 3.4: ¿Qué tipo de dato es `mytuple`? ¿Cómo puedes determinar que tipo de dato es cada elemento de la lista? Hay dos elementos que son de tipo cadena de texto. Escribe el código Python que determina si la palabra \"tupla\" está incluida en alguno de los dos. Escribe el código Python que determina si el número 345 está incluido en `mytuple`."
   ]
  },
  {
   "cell_type": "code",
   "execution_count": null,
   "metadata": {},
   "outputs": [],
   "source": [
    "type(mytuple)"
   ]
  },
  {
   "cell_type": "code",
   "execution_count": null,
   "metadata": {},
   "outputs": [],
   "source": [
    "print(type(mytuple[0]))\n",
    "print(type(mytuple[1]))\n",
    "# ...etc."
   ]
  },
  {
   "cell_type": "code",
   "execution_count": null,
   "metadata": {},
   "outputs": [],
   "source": [
    "print(\"tupla\" in mytuple[1])\n",
    "print(\"tupla\" in mytuple[2])"
   ]
  },
  {
   "cell_type": "code",
   "execution_count": null,
   "metadata": {},
   "outputs": [],
   "source": [
    "print(345 in mytuple)"
   ]
  },
  {
   "cell_type": "markdown",
   "metadata": {},
   "source": [
    "#### 3.2.1 Tuplas vs. Listas"
   ]
  },
  {
   "cell_type": "markdown",
   "metadata": {},
   "source": [
    "Al igual que las listas, las tuplas tienen funciones asociadas al tipo de dato, pero el número de funciones disponibles es mucho menor que en las listas:\n",
    "\n",
    "- `count`: cuenta el número de veces que aparece el elemento indicado como parámetro dentro de la tupla\n",
    "\n",
    "- `index`: devuelve la posición de la primera ocurrencia de izquierda a derecha en la tupla del elemento pasado como parámetro."
   ]
  },
  {
   "cell_type": "markdown",
   "metadata": {},
   "source": [
    "#### index()\n",
    "Sirve para buscar un elemento y saber su posición en la tupla. Da error si no se encuentra."
   ]
  },
  {
   "cell_type": "code",
   "execution_count": null,
   "metadata": {},
   "outputs": [],
   "source": [
    "tupla = (100,\"Hola\",[1,2,3],-50)"
   ]
  },
  {
   "cell_type": "code",
   "execution_count": null,
   "metadata": {},
   "outputs": [],
   "source": [
    "tupla.index(100)"
   ]
  },
  {
   "cell_type": "code",
   "execution_count": null,
   "metadata": {},
   "outputs": [],
   "source": [
    "tupla.index('Hola')"
   ]
  },
  {
   "cell_type": "code",
   "execution_count": null,
   "metadata": {},
   "outputs": [],
   "source": [
    "tupla.index('Otro')"
   ]
  },
  {
   "cell_type": "markdown",
   "metadata": {},
   "source": [
    "#### count()\n",
    "Sirve para contar cuantas veces aparece un elemento en una tupla."
   ]
  },
  {
   "cell_type": "code",
   "execution_count": null,
   "metadata": {},
   "outputs": [],
   "source": [
    "tupla.count(100)"
   ]
  },
  {
   "cell_type": "code",
   "execution_count": null,
   "metadata": {},
   "outputs": [],
   "source": [
    "tupla.count('Otro')"
   ]
  },
  {
   "cell_type": "code",
   "execution_count": null,
   "metadata": {},
   "outputs": [],
   "source": [
    "tupla.count('Otro')"
   ]
  },
  {
   "cell_type": "code",
   "execution_count": null,
   "metadata": {},
   "outputs": [],
   "source": [
    "'Hola' in tupla"
   ]
  },
  {
   "cell_type": "code",
   "execution_count": null,
   "metadata": {},
   "outputs": [],
   "source": [
    "tupla.count(100)"
   ]
  },
  {
   "cell_type": "code",
   "execution_count": null,
   "metadata": {},
   "outputs": [],
   "source": [
    "a = (\"Spiros\", 1969, 1.96)\n",
    "b = (1969, 1987, 2005, 2003)"
   ]
  },
  {
   "cell_type": "markdown",
   "metadata": {},
   "source": [
    "¿Porqué no se puede usar otras funciones como las de las listas?\n",
    "https://docs.python.org/3/tutorial/datastructures.html"
   ]
  },
  {
   "cell_type": "markdown",
   "metadata": {},
   "source": [
    "Aunque las tuplas pueden parecer similares a las listas, a menudo se usan en diferentes situaciones y para diferentes propósitos. Las **tuplas** son inmutables y **generalmente contienen una secuencia heterogénea** de elementos a los que se accede *desempacando* o *indexando*. Las **listas** son mutables, y sus elementos son **generalmente homogéneos** y se accede iterando sobre la lista."
   ]
  },
  {
   "cell_type": "markdown",
   "metadata": {},
   "source": [
    "Hasta ahora estamos habituados a ver código de asignación de valores a variables, con una única variable sobre la cual recae el valor a asignar. Es posible realizar una asignación múltiple a partir de estructuras de tipo secuencia (cadenas, listas y tuplas). Esto se conoce como **desempaquetado de secuencias**. "
   ]
  },
  {
   "cell_type": "code",
   "execution_count": null,
   "metadata": {},
   "outputs": [],
   "source": [
    "depredador, presa = ('águila', 'liebre')"
   ]
  },
  {
   "cell_type": "code",
   "execution_count": null,
   "metadata": {},
   "outputs": [],
   "source": [
    "depredador"
   ]
  },
  {
   "cell_type": "code",
   "execution_count": null,
   "metadata": {},
   "outputs": [],
   "source": [
    "presa"
   ]
  },
  {
   "cell_type": "markdown",
   "metadata": {},
   "source": [
    "También podemos realizar un **empaquetado de secuencias**, donde varios valores a la derecha de la asignación se guardarán como una tupla en la variable a la izquierda."
   ]
  },
  {
   "cell_type": "code",
   "execution_count": null,
   "metadata": {},
   "outputs": [],
   "source": [
    "coordenadas_3d = 34, 5.6, 86 # empaqeutado\n",
    "x, y, z = coordenadas_3d     # desempaquetado"
   ]
  },
  {
   "cell_type": "code",
   "execution_count": null,
   "metadata": {},
   "outputs": [],
   "source": [
    "x "
   ]
  },
  {
   "cell_type": "code",
   "execution_count": null,
   "metadata": {},
   "outputs": [],
   "source": [
    "y"
   ]
  },
  {
   "cell_type": "code",
   "execution_count": null,
   "metadata": {},
   "outputs": [],
   "source": [
    "z"
   ]
  },
  {
   "cell_type": "code",
   "execution_count": null,
   "metadata": {},
   "outputs": [],
   "source": [
    "coordenadas_3d"
   ]
  },
  {
   "cell_type": "markdown",
   "metadata": {},
   "source": [
    "Se puede usar el operador \"+\" para realizar uniones de tuplas. Además puedes utilizar la función len() para conocer el número de elementos que componen la tupla. Al igual que las listas, se puede usar el operador \"*\" para concatenar una tupla con ella misma un número finito de veces."
   ]
  },
  {
   "cell_type": "code",
   "execution_count": null,
   "metadata": {},
   "outputs": [],
   "source": [
    "tupla = (1, 2, 3, 4, 5, 6, 7, 8, 9)\n",
    "print(len(tupla))"
   ]
  },
  {
   "cell_type": "code",
   "execution_count": null,
   "metadata": {},
   "outputs": [],
   "source": [
    "# ejemplos\n",
    "tupla = tupla + (10, 11, 12)\n",
    "print(tupla)\n",
    "len(tupla)"
   ]
  },
  {
   "cell_type": "markdown",
   "metadata": {},
   "source": [
    "Las tuplas, al igual que las listas, permiten extraer porciones de ellas en otra tupla nueva. La extracción se realiza utilizando la siguiente instrucción:\n",
    "\n",
    "`Tupla[n:m]`\n",
    "\n",
    "Por ejemplo:"
   ]
  },
  {
   "cell_type": "code",
   "execution_count": null,
   "metadata": {},
   "outputs": [],
   "source": [
    "tupla = (1, 2, 3, 4, 5, 6, 7, 8, 9)"
   ]
  },
  {
   "cell_type": "code",
   "execution_count": null,
   "metadata": {},
   "outputs": [],
   "source": [
    "tupla2 = tupla[2:5] + (10, 11, 12)\n",
    "tupla2"
   ]
  },
  {
   "cell_type": "code",
   "execution_count": null,
   "metadata": {},
   "outputs": [],
   "source": [
    "tupla[::2]"
   ]
  },
  {
   "cell_type": "markdown",
   "metadata": {},
   "source": [
    "### 3.3 Los conjuntos\n",
    "Son colecciones desordenadas de elementos únicos utilizados para hacer pruebas de pertenencia a grupos y eliminación de elementos duplicados. Los elementos de los conjuntos deberán de ser de tipo inmutable."
   ]
  },
  {
   "cell_type": "code",
   "execution_count": null,
   "metadata": {},
   "outputs": [],
   "source": [
    "conjunto = {1,2,3}"
   ]
  },
  {
   "cell_type": "code",
   "execution_count": null,
   "metadata": {},
   "outputs": [],
   "source": [
    "type(conjunto)"
   ]
  },
  {
   "cell_type": "code",
   "execution_count": null,
   "metadata": {},
   "outputs": [],
   "source": [
    "conjunto"
   ]
  },
  {
   "cell_type": "markdown",
   "metadata": {},
   "source": [
    "#### Método add()\n",
    "Sirve para añadir elementos al conjunto. Si un elemento ya se encuentra, no se añadirá de nuevo."
   ]
  },
  {
   "cell_type": "code",
   "execution_count": null,
   "metadata": {},
   "outputs": [],
   "source": [
    "con = {100,100,100,50,10}\n",
    "con"
   ]
  },
  {
   "cell_type": "code",
   "execution_count": null,
   "metadata": {},
   "outputs": [],
   "source": [
    "conjunto.add(4)"
   ]
  },
  {
   "cell_type": "code",
   "execution_count": null,
   "metadata": {},
   "outputs": [],
   "source": [
    "conjunto"
   ]
  },
  {
   "cell_type": "code",
   "execution_count": null,
   "metadata": {},
   "outputs": [],
   "source": [
    "conjunto.add(3)"
   ]
  },
  {
   "cell_type": "code",
   "execution_count": null,
   "metadata": {},
   "outputs": [],
   "source": [
    "conjunto"
   ]
  },
  {
   "cell_type": "markdown",
   "metadata": {},
   "source": [
    "#### Colecciones desordenadas\n",
    "Se dice que son desordenados porque gestionan automáticamente la posición de sus elementos, en lugar de conservarlos en la posición que nosotros los añadimos."
   ]
  },
  {
   "cell_type": "code",
   "execution_count": null,
   "metadata": {},
   "outputs": [],
   "source": [
    "conjunto.add(1.5)"
   ]
  },
  {
   "cell_type": "code",
   "execution_count": null,
   "metadata": {},
   "outputs": [],
   "source": [
    "conjunto"
   ]
  },
  {
   "cell_type": "code",
   "execution_count": null,
   "metadata": {},
   "outputs": [],
   "source": [
    "conjunto.add(\"a\")"
   ]
  },
  {
   "cell_type": "code",
   "execution_count": null,
   "metadata": {},
   "outputs": [],
   "source": [
    "conjunto"
   ]
  },
  {
   "cell_type": "code",
   "execution_count": null,
   "metadata": {},
   "outputs": [],
   "source": [
    "conjunto.add( ('a', 'b', 'c') )"
   ]
  },
  {
   "cell_type": "code",
   "execution_count": null,
   "metadata": {},
   "outputs": [],
   "source": [
    "conjunto"
   ]
  },
  {
   "cell_type": "markdown",
   "metadata": {},
   "source": [
    "#### Pertenencia a grupos con *in*"
   ]
  },
  {
   "cell_type": "code",
   "execution_count": null,
   "metadata": {},
   "outputs": [],
   "source": [
    "grupo = {'Hector','Juan','Mario'}"
   ]
  },
  {
   "cell_type": "code",
   "execution_count": null,
   "metadata": {},
   "outputs": [],
   "source": [
    "'Hector' in grupo"
   ]
  },
  {
   "cell_type": "code",
   "execution_count": null,
   "metadata": {},
   "outputs": [],
   "source": [
    "'Maria' in grupo"
   ]
  },
  {
   "cell_type": "code",
   "execution_count": null,
   "metadata": {},
   "outputs": [],
   "source": [
    "'Hector' not in grupo"
   ]
  },
  {
   "cell_type": "markdown",
   "metadata": {},
   "source": [
    "#### Auto-eliminación de elementos duplicados"
   ]
  },
  {
   "cell_type": "code",
   "execution_count": null,
   "metadata": {},
   "outputs": [],
   "source": [
    "test = {'Hector','Hector','Hector'}"
   ]
  },
  {
   "cell_type": "code",
   "execution_count": null,
   "metadata": {},
   "outputs": [],
   "source": [
    "test"
   ]
  },
  {
   "cell_type": "markdown",
   "metadata": {},
   "source": [
    "#### Cast de lista a conjunto y viceversa\n",
    "Es muy útil transformar listas a conjuntos para borrar los elementos duplicados automáticamente."
   ]
  },
  {
   "cell_type": "code",
   "execution_count": null,
   "metadata": {},
   "outputs": [],
   "source": [
    "l = [1,2,3,3,2,1]\n",
    "l"
   ]
  },
  {
   "cell_type": "code",
   "execution_count": null,
   "metadata": {},
   "outputs": [],
   "source": [
    "c = set(l)\n",
    "c"
   ]
  },
  {
   "cell_type": "code",
   "execution_count": null,
   "metadata": {},
   "outputs": [],
   "source": [
    "l = list(c)"
   ]
  },
  {
   "cell_type": "code",
   "execution_count": null,
   "metadata": {},
   "outputs": [],
   "source": [
    "l"
   ]
  },
  {
   "cell_type": "code",
   "execution_count": null,
   "metadata": {},
   "outputs": [],
   "source": [
    "l = [1,2,3,3,2,1]"
   ]
  },
  {
   "cell_type": "code",
   "execution_count": null,
   "metadata": {},
   "outputs": [],
   "source": [
    "# En una línea\n",
    "l = list( set( l ) )"
   ]
  },
  {
   "cell_type": "code",
   "execution_count": null,
   "metadata": {},
   "outputs": [],
   "source": [
    "l"
   ]
  },
  {
   "cell_type": "markdown",
   "metadata": {},
   "source": [
    "#### Cast de cadena a conjunto\n",
    "Sirve para crear un conjunto con todos los caracteres de la cadena."
   ]
  },
  {
   "cell_type": "code",
   "execution_count": null,
   "metadata": {},
   "outputs": [],
   "source": [
    "s = \"Al pan pan y al vino vino\"\n",
    "set(s)"
   ]
  },
  {
   "cell_type": "code",
   "execution_count": null,
   "metadata": {},
   "outputs": [],
   "source": [
    "s"
   ]
  },
  {
   "cell_type": "markdown",
   "metadata": {},
   "source": [
    "Los conjuntos también tienen funciones asociadas al tipo de dato. Usa el punto y tabulador en un objeto de tipo set para ver los métodos disponibles."
   ]
  },
  {
   "cell_type": "code",
   "execution_count": null,
   "metadata": {},
   "outputs": [],
   "source": [
    "# e.g. \n",
    "type(c)\n",
    "# c."
   ]
  },
  {
   "cell_type": "markdown",
   "metadata": {},
   "source": [
    "###### Ejercicio 3.5: Demuestra el funcionamiento del siguiente método:\n",
    "- grupo 1: `union` \n",
    "- grupo 2: `intersection` \n",
    "- grupo 3: `difference` \n"
   ]
  },
  {
   "cell_type": "code",
   "execution_count": null,
   "metadata": {},
   "outputs": [],
   "source": [
    "v = {\"pear\", \"apple\",}\n",
    "x = {\"apple\", \"banana\", \"cherry\"}\n",
    "y = {\"google\", \"microsoft\", \"apple\"}\n",
    "\n",
    "z = x.intersection(y,v)\n",
    "\n",
    "print(z)"
   ]
  },
  {
   "cell_type": "code",
   "execution_count": null,
   "metadata": {},
   "outputs": [],
   "source": [
    "A = {'a', 'c', 'd'}\n",
    "B = {'c', 'd', 2 }\n",
    "C = {1, 2, 3}\n",
    "\n",
    "print('A U B =', A.union(B))\n",
    "print('B U C =', B.union(C))\n",
    "print('A U B U C =', A.union(B, C))\n",
    "print('A.union() =', A.union())"
   ]
  },
  {
   "cell_type": "code",
   "execution_count": null,
   "metadata": {},
   "outputs": [],
   "source": []
  }
 ],
 "metadata": {
  "kernelspec": {
   "display_name": "Python 3",
   "language": "python",
   "name": "python3"
  },
  "language_info": {
   "codemirror_mode": {
    "name": "ipython",
    "version": 3
   },
   "file_extension": ".py",
   "mimetype": "text/x-python",
   "name": "python",
   "nbconvert_exporter": "python",
   "pygments_lexer": "ipython3",
   "version": "3.8.5"
  }
 },
 "nbformat": 4,
 "nbformat_minor": 4
}
