{
 "cells": [
  {
   "cell_type": "markdown",
   "metadata": {},
   "source": [
    "###### Ejercicio 3.6. Durante el desarrollo de un pequeño videojuego se te encarga configurar y balancear cada clase de personaje jugable. Partiendo que la estadística base es 2, debes cumplir las siguientes condiciones:\n",
    "* El caballero tiene el doble de vida y defensa que un guerrero.\n",
    "* El guerrero tiene el doble de ataque y alcance que un caballero.\n",
    "* El arquero tiene la misma vida y ataque que un guerrero, pero la mitad de su defensa y el doble de su alcance.\n",
    "* Muestra como quedan las propiedades de los tres personajes.\n",
    "\n",
    "Cuando termines, mándame la solución aquí: spiros.eoi@gmail.com, y dime\n",
    "en el polling que lo has mandado."
   ]
  },
  {
   "cell_type": "code",
   "execution_count": null,
   "metadata": {},
   "outputs": [],
   "source": [
    "caballero = { 'vida':2, 'ataque':2, 'defensa': 2, 'alcance':2 }\n",
    "guerrero  = { 'vida':2, 'ataque':2, 'defensa': 2, 'alcance':2 }\n",
    "arquero   = { 'vida':2, 'ataque':2, 'defensa': 2, 'alcance':2 }\n",
    "\n",
    "# completa el ejercicio aquí\n"
   ]
  },
  {
   "cell_type": "code",
   "execution_count": 2,
   "metadata": {},
   "outputs": [
    {
     "name": "stdout",
     "output_type": "stream",
     "text": [
      "Caballero:\t {'vida': 4, 'ataque': 2, 'defensa': 4, 'alcance': 2}\n",
      "Guerrero:\t {'vida': 2, 'ataque': 4, 'defensa': 2, 'alcance': 4}\n",
      "Arquero:\t {'vida': 2, 'ataque': 4, 'defensa': 1.0, 'alcance': 8}\n"
     ]
    }
   ],
   "source": [
    "caballero = { 'vida':2, 'ataque':2, 'defensa': 2, 'alcance':2 }\n",
    "guerrero  = { 'vida':2, 'ataque':2, 'defensa': 2, 'alcance':2 }\n",
    "arquero   = { 'vida':2, 'ataque':2, 'defensa': 2, 'alcance':2 }\n",
    "\n",
    "# Completa el ejercicio aquí\n",
    "\n",
    "caballero['vida'] = guerrero['vida']*2\n",
    "caballero['defensa'] = guerrero['defensa']*2\n",
    "guerrero['ataque'] = caballero['ataque']*2\n",
    "guerrero['alcance'] = caballero['alcance']*2\n",
    "arquero['vida'] = guerrero['vida']\n",
    "arquero['ataque'] = guerrero['ataque']\n",
    "arquero['defensa'] =guerrero['defensa']/2\n",
    "arquero['alcance'] = guerrero['alcance']*2\n",
    "\n",
    "print(\"Caballero:\\t\", caballero)\n",
    "print(\"Guerrero:\\t\",guerrero)\n",
    "print(\"Arquero:\\t\",arquero)"
   ]
  },
  {
   "cell_type": "code",
   "execution_count": 12,
   "metadata": {},
   "outputs": [
    {
     "name": "stdout",
     "output_type": "stream",
     "text": [
      "Caballero: {'vida': 4, 'ataque': 2, 'defensa': 4, 'alcance': 2}\n",
      "Guerrero: {'vida': 2, 'ataque': 4, 'defensa': 2, 'alcance': 4}\n",
      "Arquero: {'vida': 2, 'ataque': 4, 'defensa': 1, 'alcance': 8}\n"
     ]
    }
   ],
   "source": [
    "# Mario\n",
    "\n",
    "caballero = { 'vida':2, 'ataque':2, 'defensa': 2, 'alcance':2 }\n",
    "guerrero  = { 'vida':2, 'ataque':2, 'defensa': 2, 'alcance':2 }\n",
    "arquero   = { 'vida':2, 'ataque':2, 'defensa': 2, 'alcance':2 }\n",
    "\n",
    "# completa el ejercicio aquí\n",
    "caballero['vida']=guerrero['vida']*2\n",
    "caballero['defensa']=guerrero['defensa']*2\n",
    "guerrero['ataque']=caballero['ataque']*2\n",
    "guerrero['alcance']=caballero['alcance']*2\n",
    "arquero['vida']=guerrero['vida']\n",
    "arquero['ataque']=guerrero['ataque']\n",
    "arquero['alcance']=guerrero['alcance']*2\n",
    "arquero['defensa']=int(guerrero['defensa']/2)\n",
    "\n",
    "print('Caballero:',caballero)\n",
    "print('Guerrero:',guerrero)\n",
    "print('Arquero:',arquero)\n"
   ]
  },
  {
   "cell_type": "code",
   "execution_count": 10,
   "metadata": {},
   "outputs": [
    {
     "data": {
      "text/plain": [
       "{'vida': 2, 'ataque': 4, 'defensa': 1.0, 'alcance': 8}"
      ]
     },
     "execution_count": 10,
     "metadata": {},
     "output_type": "execute_result"
    }
   ],
   "source": [
    "# David\n",
    "\n",
    "caballero = { 'vida':2, 'ataque':2, 'defensa': 2, 'alcance':2 }\n",
    "\n",
    "guerrero  = { 'vida':2, 'ataque':2, 'defensa': 2, 'alcance':2 }\n",
    "\n",
    "arquero   = { 'vida':2, 'ataque':2, 'defensa': 2, 'alcance':2 }\n",
    "\n",
    " \n",
    "\n",
    "# completa el ejercicio aquí\n",
    "\n",
    "caballero['vida'] = guerrero['vida'] * 2\n",
    "\n",
    "caballero['defensa'] = guerrero['defensa'] * 2\n",
    "\n",
    "guerrero['ataque'] = caballero['ataque'] * 2\n",
    "\n",
    "guerrero['alcance'] = caballero['alcance'] * 2\n",
    "\n",
    "arquero['vida'] = guerrero['vida']\n",
    "\n",
    "arquero['ataque'] = guerrero['ataque']\n",
    "\n",
    "arquero['defensa'] = guerrero['defensa'] / 2\n",
    "\n",
    "arquero['alcance'] = guerrero['alcance'] * 2\n",
    "\n",
    " \n",
    "\n",
    "caballero\n",
    "\n",
    "guerrero\n",
    "\n",
    "arquero"
   ]
  },
  {
   "cell_type": "code",
   "execution_count": 4,
   "metadata": {},
   "outputs": [
    {
     "name": "stdout",
     "output_type": "stream",
     "text": [
      "Caballero {'vida': 4, 'ataque': 2, 'defensa': 4, 'alcance': 2}\n",
      "Guerrero {'vida': 2, 'ataque': 4, 'defensa': 2, 'alcance': 4}\n",
      "Arquero {'vida': 2, 'ataque': 4, 'defensa': 1.0, 'alcance': 8}\n"
     ]
    }
   ],
   "source": [
    "# Mavi\n",
    "\n",
    "caballero = { 'vida':2, 'ataque':2, 'defensa': 2, 'alcance':2 }\n",
    "guerrero  = { 'vida':2, 'ataque':2, 'defensa': 2, 'alcance':2 }\n",
    "arquero   = { 'vida':2, 'ataque':2, 'defensa': 2, 'alcance':2 }\n",
    "\n",
    "# completa el ejercicio aquí\n",
    "caballero['vida'] = guerrero['vida']*2\n",
    "caballero['defensa']=guerrero['defensa']*2\n",
    "\n",
    "guerrero['ataque']=caballero['ataque']*2\n",
    "guerrero['alcance']=caballero['alcance']*2\n",
    "\n",
    "arquero['vida']=guerrero['vida']\n",
    "arquero['ataque']=guerrero['ataque']\n",
    "arquero['defensa']=guerrero['defensa']/2\n",
    "arquero['alcance']=guerrero['alcance']*2\n",
    "\n",
    "print('Caballero', caballero)\n",
    "print('Guerrero',guerrero)\n",
    "print('Arquero',arquero)"
   ]
  },
  {
   "cell_type": "code",
   "execution_count": 5,
   "metadata": {},
   "outputs": [
    {
     "name": "stdout",
     "output_type": "stream",
     "text": [
      "Caballero {'vida': 4, 'ataque': 2, 'defensa': 4, 'alcance': 2} \n",
      "Guerrero {'vida': 2, 'ataque': 4, 'defensa': 2, 'alcance': 4} \n",
      "Arquero {'vida': 2, 'ataque': 4, 'defensa': 1.0, 'alcance': 8}\n"
     ]
    }
   ],
   "source": [
    "# Pedro\n",
    "caballero = { 'vida':2, 'ataque':2, 'defensa': 2, 'alcance':2 }\n",
    "\n",
    "guerrero  = { 'vida':2, 'ataque':2, 'defensa': 2, 'alcance':2 }\n",
    "\n",
    "arquero   = { 'vida':2, 'ataque':2, 'defensa': 2, 'alcance':2 }\n",
    "\n",
    " \n",
    "\n",
    "caballero['vida'] = guerrero['vida']*2\n",
    "\n",
    "caballero['defensa'] = guerrero['defensa']*2\n",
    "\n",
    "guerrero['ataque'] = caballero['ataque']*2\n",
    "\n",
    "guerrero['alcance'] = caballero['alcance']*2\n",
    "\n",
    "arquero['vida'] = guerrero['vida']\n",
    "\n",
    "arquero['ataque'] = guerrero['ataque']\n",
    "\n",
    "arquero['defensa'] = guerrero['defensa']/2\n",
    "\n",
    "arquero['alcance'] = guerrero['alcance']*2\n",
    "\n",
    " \n",
    "\n",
    "print('Caballero',caballero,'\\nGuerrero',guerrero,'\\nArquero',arquero)"
   ]
  },
  {
   "cell_type": "code",
   "execution_count": 6,
   "metadata": {},
   "outputs": [
    {
     "name": "stdout",
     "output_type": "stream",
     "text": [
      "CABALLERO:  {'vida': 4, 'ataque': 2, 'defensa': 4, 'alcance': 2}\n",
      "GUERRERO:  {'vida': 2, 'ataque': 4, 'defensa': 2, 'alcance': 4}\n",
      "ARQUERO:  {'vida': 2, 'ataque': 4, 'defensa': 1.0, 'alcance': 8}\n"
     ]
    }
   ],
   "source": [
    "# Raul\n",
    "caballero = { 'vida':2, 'ataque':2, 'defensa': 2, 'alcance':2 }\n",
    "guerrero  = { 'vida':2, 'ataque':2, 'defensa': 2, 'alcance':2 }\n",
    "arquero   = { 'vida':2, 'ataque':2, 'defensa': 2, 'alcance':2 }\n",
    "\n",
    "# completa el ejercicio aquí\n",
    "caballero['vida'] = 2*caballero['vida']\n",
    "caballero['defensa'] = 2*caballero['defensa']\n",
    "\n",
    "guerrero['ataque'] = 2*caballero['ataque']\n",
    "guerrero['alcance'] = 2*caballero['alcance']\n",
    "\n",
    "arquero['vida'] = guerrero['vida']\n",
    "arquero['ataque'] = guerrero['ataque']\n",
    "arquero['defensa'] = 0.5 * guerrero['defensa']\n",
    "arquero['alcance'] = 2 *guerrero['alcance']\n",
    "\n",
    "print('CABALLERO: ', caballero)\n",
    "print('GUERRERO: ', guerrero)\n",
    "print('ARQUERO: ', arquero)"
   ]
  },
  {
   "cell_type": "code",
   "execution_count": 13,
   "metadata": {},
   "outputs": [
    {
     "name": "stdout",
     "output_type": "stream",
     "text": [
      "CABALLERO:  {'vida': 4, 'ataque': 2, 'defensa': 4, 'alcance': 2}\n",
      "GUERRERO:  {'vida': 2, 'ataque': 4, 'defensa': 2, 'alcance': 4}\n",
      "ARQUERO:  {'vida': 2, 'ataque': 4, 'defensa': 1, 'alcance': 8}\n"
     ]
    }
   ],
   "source": [
    "# Alejandro Jiménez\n",
    "\n",
    "caballero = { 'vida':2, 'ataque':2, 'defensa': 2, 'alcance':2 }\n",
    "guerrero  = { 'vida':2, 'ataque':2, 'defensa': 2, 'alcance':2 }\n",
    "arquero   = { 'vida':2, 'ataque':2, 'defensa': 2, 'alcance':2 }\n",
    "\n",
    "caballero[\"vida\"] = guerrero[\"vida\"] * 2\n",
    "caballero[\"defensa\"] = guerrero[\"defensa\"] *2\n",
    "guerrero[\"ataque\"] = caballero[\"ataque\"] * 2\n",
    "guerrero[\"alcance\"] = caballero[\"alcance\"] *2\n",
    "arquero['vida'] = guerrero['vida']\n",
    "arquero['ataque'] = guerrero[\"ataque\"]\n",
    "arquero ['defensa'] = guerrero['defensa']//2\n",
    "arquero['alcance'] = guerrero['alcance'] * 2\n",
    "\n",
    "print('CABALLERO: ', caballero)\n",
    "print('GUERRERO: ', guerrero)\n",
    "print('ARQUERO: ', arquero)"
   ]
  },
  {
   "cell_type": "code",
   "execution_count": 1,
   "metadata": {},
   "outputs": [],
   "source": [
    "# Pablo Ramos\n",
    "\n",
    "caballero = { 'vida':2, 'ataque':2, 'defensa': 2, 'alcance':2 }\n",
    "guerrero  = { 'vida':2, 'ataque':2, 'defensa': 2, 'alcance':2 }\n",
    "arquero   = { 'vida':2, 'ataque':2, 'defensa': 2, 'alcance':2 }\n",
    "\n",
    "# completa el ejercicio aquí\n",
    "caballero[\"vida\"] = guerrero[\"vida\"]*2\n",
    "caballero[\"defensa\"] = guerrero[\"defensa\"]*2\n",
    "guerrero[\"ataque\"] = caballero[\"ataque\"]*2\n",
    "guerrero[\"alcance\"] = caballero[\"alcance\"]*2\n",
    "arquero[\"vida\"] = guerrero[\"vida\"]\n",
    "arquero[\"ataque\"] = guerrero[\"ataque\"]\n",
    "arquero[\"defensa\"] = guerrero[\"defensa\"]//2\n",
    "arquero[\"alcance\"] = guerrero[\"alcance\"]*2"
   ]
  },
  {
   "cell_type": "code",
   "execution_count": null,
   "metadata": {},
   "outputs": [],
   "source": [
    "# Pablo Coceres\n",
    "\n",
    "caballero[\"vida\"] = caballero[\"vida\"]*2\n",
    "caballero[\"defensa\"] = caballero[\"defensa\"]*2\n",
    "guerrero[\"ataque\"] = caballero[\"ataque\"]*2\n",
    "guerrero[\"defensa\"] = caballero[\"defensa\"]*2\n",
    "arquero[\"vida\"] = guerrero[\"vida\"]\n",
    "arquero[\"ataque\"] = guerrero[\"ataque\"]\n",
    "arquero[\"defensa\"] = guerrero[\"defensa\"]/2\n",
    "arquero[\"alcance\"] = guerrero[\"alcance\"]*2\n",
    "\n",
    "print( [caballero])\n",
    "print([guerrero])\n",
    "print([arquero])\n"
   ]
  },
  {
   "cell_type": "code",
   "execution_count": 2,
   "metadata": {},
   "outputs": [],
   "source": [
    "caballero = { 'vida':2, 'ataque':2, 'defensa': 2, 'alcance':2 }\n",
    "guerrero  = { 'vida':2, 'ataque':2, 'defensa': 2, 'alcance':2 }\n",
    "arquero   = { 'vida':2, 'ataque':2, 'defensa': 2, 'alcance':2 }\n",
    "\n",
    "caballero['vida'] = guerrero['vida']*2\n",
    "\n",
    "caballero['defensa'] = guerrero['defensa']*2\n",
    "\n",
    "guerrero['ataque'] = caballero['ataque']*2\n",
    "\n",
    "guerrero['alcance'] = caballero['alcance']*2\n",
    "\n",
    "arquero['defensa'] = guerrero['defensa']/2\n",
    "\n",
    "arquero['alcance'] = guerrero['ataque']*2\n",
    "\n",
    " \n",
    "\n",
    "# Francisco Javier Jiménez Trillo."
   ]
  },
  {
   "cell_type": "code",
   "execution_count": 6,
   "metadata": {},
   "outputs": [
    {
     "name": "stdout",
     "output_type": "stream",
     "text": [
      "caballero {'vida': 4, 'ataque': 2, 'defensa': 4, 'alcance': 2}\n",
      "guerrero {'vida': 2, 'ataque': 4, 'defensa': 2, 'alcance': 4}\n",
      "arquro {'vida': 2, 'ataque': 4, 'defensa': 1.0, 'alcance': 8}\n"
     ]
    }
   ],
   "source": [
    "# Luis\n",
    "#Diccionario[ClaveQueSeVaAModificar] = NuevoValor\n",
    "\n",
    "caballero = { 'vida':2, 'ataque':2, 'defensa': 2, 'alcance':2 }\n",
    "guerrero  = { 'vida':2, 'ataque':2, 'defensa': 2, 'alcance':2 }\n",
    "arquero   = { 'vida':2, 'ataque':2, 'defensa': 2, 'alcance':2 }\n",
    "\n",
    "caballero['vida'] = guerrero['vida']*2\n",
    "caballero['defensa'] = guerrero['defensa']*2\n",
    "print(\"caballero\",caballero)\n",
    "guerrero['ataque'] = caballero['ataque']*2\n",
    "guerrero['alcance'] = caballero['alcance']*2\n",
    "print(\"guerrero\",guerrero)\n",
    "arquero['vida'] = guerrero['vida']\n",
    "arquero['ataque'] = guerrero['ataque']\n",
    "arquero['defensa'] = guerrero['defensa']/2\n",
    "arquero['alcance'] = guerrero['alcance']*2\n",
    "print(\"arquro\",arquero)\n",
    "\n",
    "# completa el ejercicio aquí\n"
   ]
  },
  {
   "cell_type": "code",
   "execution_count": 7,
   "metadata": {},
   "outputs": [],
   "source": [
    "# Virginia\n",
    "\n",
    "caballero = { 'vida':2, 'ataque':2, 'defensa': 2, 'alcance':2 }\n",
    "\n",
    "guerrero  = { 'vida':2, 'ataque':2, 'defensa': 2, 'alcance':2 }\n",
    "\n",
    "arquero   = { 'vida':2, 'ataque':2, 'defensa': 2, 'alcance':2 }\n",
    "\n",
    " \n",
    "\n",
    "# completa el ejercicio aquí\n",
    "\n",
    "caballero['vida']=guerrero['vida']*2\n",
    "\n",
    "caballero['defensa']=guerrero['defensa']*2\n",
    "\n",
    " \n",
    "\n",
    "guerrero['ataque']=guerrero['ataque']*2\n",
    "\n",
    "guerrero['alcance']=guerrero['alcance']*2\n",
    "\n",
    " \n",
    "\n",
    "arquero['vida']=guerrero['vida']\n",
    "\n",
    "arquero['ataque'] = guerrero['ataque']\n",
    "\n",
    "arquero['defensa']=guerrero['defensa']/2\n",
    "\n",
    "arquero['alcance']=guerrero['alcance']*2\n",
    "\n",
    " \n",
    "\n",
    " "
   ]
  },
  {
   "cell_type": "code",
   "execution_count": 8,
   "metadata": {},
   "outputs": [],
   "source": [
    "# Alejandro San Antonio\n",
    "\n",
    "caballero = { 'vida':2, 'ataque':2, 'defensa': 2, 'alcance':2 }\n",
    "guerrero  = { 'vida':2, 'ataque':2, 'defensa': 2, 'alcance':2 }\n",
    "arquero   = { 'vida':2, 'ataque':2, 'defensa': 2, 'alcance':2 }\n",
    "\n",
    "\n",
    "caballero['vida'] = guerrero['vida']*2\n",
    "caballero['defensa'] = guerrero['defensa']*2\n",
    "\n",
    "guerrero['ataque'] = caballero['ataque']*2\n",
    "guerrero['alcance'] = caballero['alcance']*2\n",
    "\n",
    "arquero['vida'] = guerrero['vida']\n",
    "arquero['ataque']= guerrero['ataque']\n",
    "arquero['defensa']= guerrero['defensa']/2\n",
    "arquero['alcance']= guerrero['alcance']*2\n",
    "\n"
   ]
  },
  {
   "cell_type": "code",
   "execution_count": 9,
   "metadata": {},
   "outputs": [],
   "source": [
    "# Marouane\n",
    "\n",
    "caballero = { 'vida':2, 'ataque':2, 'defensa': 2, 'alcance':2 }\n",
    "guerrero  = { 'vida':2, 'ataque':2, 'defensa': 2, 'alcance':2 }\n",
    "arquero   = { 'vida':2, 'ataque':2, 'defensa': 2, 'alcance':2 }\n",
    "\n",
    "\n",
    "caballero['vida'] = guerrero['vida']*2\n",
    "caballero['defensa'] = guerrero['defensa']*2\n",
    "\n",
    "guerrero['ataque'] = caballero['ataque']*2\n",
    "guerrero['alcance'] = caballero['alcance']*2\n",
    "\n",
    "arquero['vida'] = guerrero['vida']\n",
    "arquero['ataque']= guerrero['ataque']\n",
    "arquero['defensa']= guerrero['defensa']/2\n",
    "arquero['alcance']= guerrero['alcance']*2\n",
    "\n"
   ]
  },
  {
   "cell_type": "code",
   "execution_count": 10,
   "metadata": {},
   "outputs": [],
   "source": [
    "# Alejandro Jimenez\n",
    "\n",
    "# Ejercicio 3.6.\n",
    "# Durante el desarrollo de un pequeño videojuego se te encarga configurar y balancear cada clase de\n",
    "# personaje jugable. Partiendo que la estadística base es 2, debes cumplir las siguientes condiciones:\n",
    "#\n",
    "#   El caballero tiene el doble de vida y defensa que un guerrero.\n",
    "#   El guerrero tiene el doble de ataque y alcance que un caballero.\n",
    "#   El arquero tiene la misma vida y ataque que un guerrero, pero la mitad de su defensa y el doble de su alcance.\n",
    "#\n",
    "# Muestra como quedan las propiedades de los tres personajes.\n",
    "# Cuando termines, mándame la solución aquí: mailto:spiros.eoi@gmail.com, y dime en el polling que lo has mandado.\n",
    "\n",
    "\n",
    "caballero = { 'vida':2, 'ataque':2, 'defensa': 2, 'alcance':2 }\n",
    "guerrero  = { 'vida':2, 'ataque':2, 'defensa': 2, 'alcance':2 }\n",
    "arquero   = { 'vida':2, 'ataque':2, 'defensa': 2, 'alcance':2 }\n",
    "\n",
    "caballero[\"vida\"] = guerrero[\"vida\"] * 2\n",
    "caballero[\"defensa\"] = guerrero[\"defensa\"] *2\n",
    "guerrero[\"ataque\"] = caballero[\"ataque\"] * 2\n",
    "guerrero[\"alcance\"] = caballero[\"alcance\"] *2\n",
    "arquero['vida'] = guerrero['vida']\n",
    "arquero['ataque'] = guerrero[\"ataque\"]\n",
    "arquero ['defensa'] = guerrero['defensa']/2\n",
    "arquero['alcance'] = guerrero['alcance'] * 2"
   ]
  },
  {
   "cell_type": "code",
   "execution_count": 11,
   "metadata": {},
   "outputs": [
    {
     "data": {
      "text/plain": [
       "{'vida': 2, 'ataque': 4, 'defensa': 1.0, 'alcance': 8}"
      ]
     },
     "execution_count": 11,
     "metadata": {},
     "output_type": "execute_result"
    }
   ],
   "source": [
    "# Rocio\n",
    "\n",
    "caballero['vida'] = guerrero['vida']*2\n",
    "caballero['defensa'] = guerrero['defensa']*2\n",
    "guerrero['ataque'] = caballero['ataque']*2\n",
    "guerrero['alcance'] = caballero['alcance']*2\n",
    "arquero['vida'] = guerrero['vida']\n",
    "arquero['ataque'] = guerrero['ataque']\n",
    "arquero['defensa'] = guerrero['defensa']/2\n",
    "arquero['alcance'] = guerrero['alcance']*2\n",
    "caballero\n",
    "guerrero\n",
    "arquero\n",
    "\n"
   ]
  },
  {
   "cell_type": "code",
   "execution_count": 12,
   "metadata": {},
   "outputs": [
    {
     "name": "stdout",
     "output_type": "stream",
     "text": [
      "caballero {'vida': 4, 'ataque': 2, 'defensa': 4, 'alcance': 2}\n",
      "guerrero {'vida': 2, 'ataque': 4, 'defensa': 2, 'alcance': 4}\n",
      "arquero {'vida': 2, 'ataque': 4, 'defensa': 1.0, 'alcance': 8}\n"
     ]
    }
   ],
   "source": [
    "# Marcela\n",
    "\n",
    "caballero = { 'vida':2, 'ataque':2, 'defensa': 2, 'alcance':2 }\n",
    "guerrero  = { 'vida':2, 'ataque':2, 'defensa': 2, 'alcance':2 }\n",
    "arquero   = { 'vida':2, 'ataque':2, 'defensa': 2, 'alcance':2 }\n",
    "\n",
    "# completa el ejercicio aquí\n",
    "caballero['vida'] = guerrero['vida']*2\n",
    "caballero['defensa'] = guerrero['defensa']*2\n",
    "guerrero['ataque'] = caballero['ataque']*2\n",
    "guerrero['alcance'] = caballero['alcance']*2\n",
    "arquero['vida'] = guerrero['vida']\n",
    "arquero['ataque'] = guerrero['ataque']\n",
    "arquero['defensa'] = guerrero['defensa']/2\n",
    "arquero['alcance'] = guerrero['alcance']*2\n",
    "print('caballero', caballero)\n",
    "print('guerrero', guerrero)\n",
    "print('arquero', arquero)\n",
    "\n",
    "\n"
   ]
  },
  {
   "cell_type": "code",
   "execution_count": null,
   "metadata": {},
   "outputs": [],
   "source": []
  }
 ],
 "metadata": {
  "kernelspec": {
   "display_name": "Python 3",
   "language": "python",
   "name": "python3"
  },
  "language_info": {
   "codemirror_mode": {
    "name": "ipython",
    "version": 3
   },
   "file_extension": ".py",
   "mimetype": "text/x-python",
   "name": "python",
   "nbconvert_exporter": "python",
   "pygments_lexer": "ipython3",
   "version": "3.8.5"
  }
 },
 "nbformat": 4,
 "nbformat_minor": 4
}
