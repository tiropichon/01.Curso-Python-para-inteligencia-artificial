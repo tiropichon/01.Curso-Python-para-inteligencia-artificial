{
 "cells": [
  {
   "cell_type": "markdown",
   "metadata": {},
   "source": [
    "###### Ejercicio 3.8:\n",
    "\n",
    "Partiendo de los diccionarios `triangulo`, `rectangulo` y `circulo`,\n",
    "calcula las áreas de las figuras y almacénalas en el diccionario\n",
    "`areas`. Puedes importar el `pi` de la librería math así:\n",
    "`from math import pi` (como está hecho abajo). También puedes importar\n",
    "la función `pow` de la misma librería, o usar el operador ** para hacer\n",
    "el cuadrado.\n",
    "\n",
    "Cuando termines, mándame la solución aquí: spiros.eoi@gmail.com, y dime\n",
    "en el polling que lo has mandado.\n"
   ]
  },
  {
   "cell_type": "code",
   "execution_count": 1,
   "metadata": {},
   "outputs": [
    {
     "name": "stdout",
     "output_type": "stream",
     "text": [
      "AREAS:  {'triangle': 17.5, 'rectangle': 18, 'circle': 28.274}\n"
     ]
    }
   ],
   "source": [
    "# Raul\n",
    "\n",
    " \n",
    "\n",
    "triangle = {\"height\": 5, \"base\": 7}\n",
    "\n",
    "rectangle = {\"height\": 3, \"base\": 6}\n",
    "\n",
    "circle = {\"radius\": 3}\n",
    "\n",
    " \n",
    "\n",
    "areas = {\"triangle\": -1, \"rectangle\": -1, \"circle\": -1}\n",
    "\n",
    " \n",
    "\n",
    "# completa el ejercicio aquí\n",
    "\n",
    "from math import pi\n",
    "\n",
    "# from math import pow\n",
    "\n",
    "temp_triangle = triangle.get(\"height\")*triangle.get(\"base\")*0.5\n",
    "\n",
    "temp_rectangle = rectangle.get(\"height\")*rectangle.get(\"base\")\n",
    "\n",
    "temp_circle = round(pi*circle.get(\"radius\")**2, 3)\n",
    "\n",
    "areas.update({\"triangle\": temp_triangle, \"rectangle\": temp_rectangle, \"circle\": temp_circle})\n",
    "\n",
    "print(\"AREAS: \", areas)"
   ]
  },
  {
   "cell_type": "code",
   "execution_count": 3,
   "metadata": {},
   "outputs": [
    {
     "name": "stdout",
     "output_type": "stream",
     "text": [
      "{'triangle': 17.5, 'rectangle': 18, 'circle': 28.274333882308138}\n"
     ]
    }
   ],
   "source": [
    "# David\n",
    "\n",
    "triangle = {\"height\": 5, \"base\": 7}\n",
    "\n",
    "rectangle = {\"height\": 3, \"base\": 6}\n",
    "\n",
    "circle = {\"radius\": 3}\n",
    "\n",
    " \n",
    "\n",
    "areas = {\"triangle\": -1, \"rectangle\": -1, \"circle\": -1}\n",
    "\n",
    " \n",
    "\n",
    "# completa el ejercicio aquí\n",
    "\n",
    "from math import pi\n",
    "\n",
    "# from math import pow\n",
    "\n",
    "areas[\"triangle\"] = triangle[\"height\"] * triangle[\"base\"] / 2\n",
    "\n",
    "areas[\"rectangle\"] = rectangle[\"height\"] * rectangle[\"base\"]\n",
    "\n",
    "areas[\"circle\"] = pi * (pow(circle[\"radius\"], 2))\n",
    "\n",
    "print(areas)"
   ]
  },
  {
   "cell_type": "code",
   "execution_count": 7,
   "metadata": {},
   "outputs": [
    {
     "name": "stdout",
     "output_type": "stream",
     "text": [
      "17.5\n",
      "18\n",
      "28.274333882308138\n"
     ]
    }
   ],
   "source": [
    "# Pablo Cóceres\n",
    "\n",
    "from math import pi\n",
    "\n",
    "triangle = {\"height\": 5, \"base\": 7}\n",
    "rectangle = {\"height\": 3, \"base\": 6}\n",
    "circle = {\"radius\": 3}\n",
    "\n",
    "areas = {\"triangle\": -1, \"rectangle\": -1, \"circle\": -1}\n",
    "\n",
    "area_triangulo = triangle[\"base\"]*triangle[\"height\"]/2\n",
    "print(area_triangulo)\n",
    "area_rectangulo = rectangle[\"base\"]*rectangle[\"height\"]\n",
    "print(area_rectangulo)\n",
    "area_circle = pi*circle[\"radius\"]*circle[\"radius\"]\n",
    "print(area_circle)"
   ]
  },
  {
   "cell_type": "code",
   "execution_count": 5,
   "metadata": {},
   "outputs": [
    {
     "name": "stdout",
     "output_type": "stream",
     "text": [
      "{'triangle': 17.5, 'rectangle': 18, 'circle': 56.548667764616276}\n"
     ]
    }
   ],
   "source": [
    "# Mario\n",
    "\n",
    "triangle = {\"height\": 5, \"base\": 7}\n",
    "rectangle = {\"height\": 3, \"base\": 6}\n",
    "circle = {\"radius\": 3}\n",
    "\n",
    "areas = {\"triangle\": -1, \"rectangle\": -1, \"circle\": -1}\n",
    "\n",
    "# completa el ejercicio aquí\n",
    "from math import pi\n",
    "# from math import pow\n",
    "baseT=triangle[\"height\"]\n",
    "alturaT=triangle[\"base\"]\n",
    "areaT=(baseT*alturaT)/2\n",
    "\n",
    "baseR=rectangle[\"base\"]\n",
    "alturaR=rectangle[\"height\"]\n",
    "areaR=baseR*alturaR\n",
    "\n",
    "radio=circle[\"radius\"]\n",
    "areaC=2 * pi * pow(radio,2)\n",
    "\n",
    "areas[\"triangle\"]=areaT\n",
    "areas[\"rectangle\"]=areaR\n",
    "areas[\"circle\"]=areaC\n",
    "\n",
    "print(areas)\n"
   ]
  },
  {
   "cell_type": "code",
   "execution_count": 9,
   "metadata": {},
   "outputs": [
    {
     "name": "stdout",
     "output_type": "stream",
     "text": [
      "{'triangle': 17.5, 'rectangle': 18, 'circle': 28.274}\n"
     ]
    }
   ],
   "source": [
    "# Pedro\n",
    "\n",
    "from math import pi\n",
    "\n",
    "from math import pow\n",
    "\n",
    " \n",
    "\n",
    "triangle = {\"height\": 5, \"base\": 7}\n",
    "\n",
    "rectangle = {\"height\": 3, \"base\": 6}\n",
    "\n",
    "circle = {\"radius\": 3}\n",
    "\n",
    "areas = {\"triangle\": -1, \"rectangle\": -1, \"circle\": -1}\n",
    "\n",
    "areat = triangle['base']*triangle['height']/2\n",
    "\n",
    "arear = rectangle['base']*rectangle['height']\n",
    "\n",
    "areac = pi*pow(circle['radius'],2)\n",
    "\n",
    " \n",
    "\n",
    "areac = round(areac,3)\n",
    "\n",
    "areas.update({\"triangle\":areat,\"rectangle\":arear,\"circle\":areac})\n",
    "\n",
    "print(areas)\n",
    "\n",
    " \n",
    "\n",
    "# {'triangle': 17.5, 'rectangle': 18, 'circle': 28.274}\n",
    "\n",
    " "
   ]
  },
  {
   "cell_type": "code",
   "execution_count": 10,
   "metadata": {},
   "outputs": [],
   "source": [
    "# Alejandro San Antonio\n",
    "\n",
    "import math as m\n",
    "\n",
    "\n",
    "\n",
    "triangulo = {'altura': 5, 'base':7}\n",
    "rectangulo = {'altura':3, 'base':6}\n",
    "ciruclo = {'radio':3}\n",
    "\n",
    "areaTriangulo = (triangulo['altura']*triangulo['base'])/2\n",
    "areaRectangulo = (rectangulo['altura']*rectangulo['base'])\n",
    "areaCirculo = m.pow((m.pi * ciruclo['radio']),2)\n",
    "\n",
    "\n",
    "\n",
    "areas = {'triangulo': areaTriangulo, 'rectangulo': areaRectangulo, 'ciculo': areaCirculo}\n",
    "\n",
    "\n"
   ]
  },
  {
   "cell_type": "code",
   "execution_count": 11,
   "metadata": {},
   "outputs": [
    {
     "ename": "NameError",
     "evalue": "name 'math' is not defined",
     "output_type": "error",
     "traceback": [
      "\u001b[0;31m---------------------------------------------------------------------------\u001b[0m",
      "\u001b[0;31mNameError\u001b[0m                                 Traceback (most recent call last)",
      "\u001b[0;32m<ipython-input-11-e1bc30c2f2c4>\u001b[0m in \u001b[0;36m<module>\u001b[0;34m\u001b[0m\n\u001b[1;32m     14\u001b[0m \u001b[0mareas\u001b[0m\u001b[0;34m[\u001b[0m\u001b[0;34m'triangle'\u001b[0m\u001b[0;34m]\u001b[0m \u001b[0;34m=\u001b[0m \u001b[0mtriangle\u001b[0m\u001b[0;34m[\u001b[0m\u001b[0;34m'base'\u001b[0m\u001b[0;34m]\u001b[0m \u001b[0;34m*\u001b[0m \u001b[0mtriangle\u001b[0m\u001b[0;34m[\u001b[0m\u001b[0;34m'height'\u001b[0m\u001b[0;34m]\u001b[0m\u001b[0;34m/\u001b[0m\u001b[0;36m2\u001b[0m\u001b[0;34m\u001b[0m\u001b[0;34m\u001b[0m\u001b[0m\n\u001b[1;32m     15\u001b[0m \u001b[0mareas\u001b[0m\u001b[0;34m[\u001b[0m\u001b[0;34m'rectangle'\u001b[0m\u001b[0;34m]\u001b[0m \u001b[0;34m=\u001b[0m \u001b[0mtriangle\u001b[0m\u001b[0;34m[\u001b[0m\u001b[0;34m'base'\u001b[0m\u001b[0;34m]\u001b[0m \u001b[0;34m*\u001b[0m \u001b[0mtriangle\u001b[0m\u001b[0;34m[\u001b[0m\u001b[0;34m'height'\u001b[0m\u001b[0;34m]\u001b[0m\u001b[0;34m\u001b[0m\u001b[0;34m\u001b[0m\u001b[0m\n\u001b[0;32m---> 16\u001b[0;31m \u001b[0mareas\u001b[0m\u001b[0;34m[\u001b[0m\u001b[0;34m'circle'\u001b[0m\u001b[0;34m]\u001b[0m \u001b[0;34m=\u001b[0m \u001b[0mmath\u001b[0m\u001b[0;34m.\u001b[0m\u001b[0mpi\u001b[0m \u001b[0;34m**\u001b[0m \u001b[0mcircle\u001b[0m\u001b[0;34m[\u001b[0m\u001b[0;34m'radius'\u001b[0m\u001b[0;34m]\u001b[0m\u001b[0;34m\u001b[0m\u001b[0;34m\u001b[0m\u001b[0m\n\u001b[0m\u001b[1;32m     17\u001b[0m \u001b[0;34m\u001b[0m\u001b[0m\n\u001b[1;32m     18\u001b[0m \u001b[0mprint\u001b[0m\u001b[0;34m(\u001b[0m\u001b[0mareas\u001b[0m\u001b[0;34m)\u001b[0m\u001b[0;34m\u001b[0m\u001b[0;34m\u001b[0m\u001b[0m\n",
      "\u001b[0;31mNameError\u001b[0m: name 'math' is not defined"
     ]
    }
   ],
   "source": [
    "# Luis\n",
    "\n",
    "triangle = {\"height\": 5, \"base\": 7}\n",
    "rectangle = {\"height\": 3, \"base\": 6}\n",
    "circle = {\"radius\": 3}\n",
    "\n",
    "areas = {\"triangle\": -1, \"rectangle\": -1, \"circle\": -1}\n",
    "\n",
    "# completa el ejercicio aquí\n",
    "from math import pi\n",
    "\n",
    "\n",
    "\n",
    "areas['triangle'] = triangle['base'] * triangle['height']/2\n",
    "areas['rectangle'] = triangle['base'] * triangle['height']\n",
    "areas['circle'] = math.pi ** circle['radius']\n",
    "\n",
    "print(areas)\n"
   ]
  },
  {
   "cell_type": "code",
   "execution_count": 12,
   "metadata": {},
   "outputs": [
    {
     "name": "stdout",
     "output_type": "stream",
     "text": [
      "Base x Altura partido por 2 = 17.5 m2\n",
      "Base x Altura = 18 m2\n",
      "Pi x radio al cuadrado = 28.274333882308138 m2\n"
     ]
    }
   ],
   "source": [
    "#  Mavi\n",
    "\n",
    "triangle = {\"height\": 5, \"base\": 7}\n",
    "rectangle = {\"height\": 3, \"base\": 6}\n",
    "circle = {\"radius\": 3}\n",
    "\n",
    "areas = {\"triangle\": -1, \"rectangle\": -1, \"circle\": -1}\n",
    "\n",
    "# completa el ejercicio aquí\n",
    "\n",
    "from math import pi\n",
    "from math import pow\n",
    "\n",
    "bt=triangle[\"base\"]\n",
    "ht=triangle[\"height\"]\n",
    "areat=(bt*ht)/2\n",
    "print('Base x Altura partido por 2 =', areat, 'm2')\n",
    "\n",
    "br=rectangle[\"base\"]\n",
    "hr=rectangle[\"height\"]\n",
    "arear=br*hr\n",
    "print('Base x Altura =', arear, 'm2')\n",
    "\n",
    "rad=circle['radius']\n",
    "pi=pi\n",
    "rad2=pow(rad,2)\n",
    "areac=pi*rad2\n",
    "print('Pi x radio al cuadrado =', areac, 'm2')\n"
   ]
  },
  {
   "cell_type": "code",
   "execution_count": 13,
   "metadata": {},
   "outputs": [
    {
     "name": "stdout",
     "output_type": "stream",
     "text": [
      "{'triangle': 17.5, 'rectangle': 18, 'circle': 28.274333882308138}\n"
     ]
    }
   ],
   "source": [
    "# Alejandro Jimenez\n",
    "\n",
    "# Ejercicio 3.8:\n",
    "#\n",
    "# Partiendo de los diccionarios triangulo, rectangulo y circulo, calcula las áreas de las figuras y almacénalas en el\n",
    "# diccionario areas. Puedes importar el pi de la librería math así: from math import pi (como está hecho abajo). También\n",
    "# puedes importar la función pow de la misma librería, o usar el operador ** para hacer el cuadrado.\n",
    "#\n",
    "# Cuando termines, mándame la solución aquí: mailto:spiros.eoi@gmail.com, y dime en el polling que lo has mandado.\n",
    "\n",
    "triangle = {\"height\": 5, \"base\": 7}\n",
    "rectangle = {\"height\": 3, \"base\": 6}\n",
    "circle = {\"radius\": 3}\n",
    "\n",
    "areas = {\"triangle\": -1, \"rectangle\": -1, \"circle\": -1}\n",
    "\n",
    "# completa el ejercicio aquí\n",
    "from math import pi\n",
    "# from math import pow\n",
    "areas[\"triangle\"] = (triangle[\"height\"] * triangle[\"base\"]) / 2\n",
    "areas[\"rectangle\"] = rectangle[\"base\"] * rectangle[\"height\"]\n",
    "areas[\"circle\"] = pi * (circle[\"radius\"] ** 2)\n",
    "\n",
    "print(areas)\n"
   ]
  },
  {
   "cell_type": "code",
   "execution_count": 14,
   "metadata": {},
   "outputs": [
    {
     "name": "stdout",
     "output_type": "stream",
     "text": [
      "17.5\n",
      "18\n",
      "28.274333882308138\n"
     ]
    },
    {
     "data": {
      "text/plain": [
       "{'triangle': 17.5, 'rectangle': 18, 'circle': 28.274333882308138}"
      ]
     },
     "execution_count": 14,
     "metadata": {},
     "output_type": "execute_result"
    }
   ],
   "source": [
    "# Rocio\n",
    "\n",
    "from math import pi\n",
    "areatrian = triangle[\"base\"]*triangle[\"height\"]/2\n",
    "arearectan = rectangle[\"base\"]*rectangle[\"height\"]\n",
    "areacircle = pi*circle[\"radius\"]**2\n",
    "print(areatrian)\n",
    "print(arearectan)\n",
    "print(areacircle)\n",
    "\n",
    "areas[\"triangle\"] = areatrian\n",
    "areas[\"rectangle\"] = arearectan\n",
    "areas[\"circle\"] = areacircle\n",
    "areas\n"
   ]
  },
  {
   "cell_type": "code",
   "execution_count": 15,
   "metadata": {},
   "outputs": [
    {
     "name": "stdout",
     "output_type": "stream",
     "text": [
      "Área del triangulo = Base x Altura / 2 = 17.5 m2\n",
      "Área del rectangulo = Base x Altura = 18 m2\n",
      "Área del círculo = Pi x radio2 = 28.27 m2\n"
     ]
    }
   ],
   "source": [
    "# Mavi\n",
    "\n",
    "triangle = {\"height\": 5, \"base\": 7}\n",
    "rectangle = {\"height\": 3, \"base\": 6}\n",
    "circle = {\"radius\": 3}\n",
    "\n",
    "areas = {\"triangle\": -1, \"rectangle\": -1, \"circle\": -1}\n",
    "\n",
    "# completa el ejercicio aquí\n",
    "\n",
    "from math import pi\n",
    "from math import pow\n",
    "\n",
    "bt=triangle[\"base\"]\n",
    "ht=triangle[\"height\"]\n",
    "areat=(bt*ht)/2\n",
    "print('Área del triangulo = Base x Altura / 2 =', areat, 'm2')\n",
    "\n",
    "br=rectangle[\"base\"]\n",
    "hr=rectangle[\"height\"]\n",
    "arear=br*hr\n",
    "print('Área del rectangulo = Base x Altura =', arear, 'm2')\n",
    "\n",
    "rad=circle['radius']\n",
    "pi=pi\n",
    "rad2=pow(rad,2)\n",
    "areac=pi*rad2\n",
    "print('Área del círculo = Pi x radio2 =', round(areac,2), 'm2')\n"
   ]
  },
  {
   "cell_type": "code",
   "execution_count": 16,
   "metadata": {},
   "outputs": [
    {
     "ename": "AttributeError",
     "evalue": "'dict' object attribute 'update' is read-only",
     "output_type": "error",
     "traceback": [
      "\u001b[0;31m---------------------------------------------------------------------------\u001b[0m",
      "\u001b[0;31mAttributeError\u001b[0m                            Traceback (most recent call last)",
      "\u001b[0;32m<ipython-input-16-f5ffc5ff5699>\u001b[0m in \u001b[0;36m<module>\u001b[0;34m\u001b[0m\n\u001b[1;32m     43\u001b[0m \u001b[0;34m\u001b[0m\u001b[0m\n\u001b[1;32m     44\u001b[0m \u001b[0;34m\u001b[0m\u001b[0m\n\u001b[0;32m---> 45\u001b[0;31m \u001b[0mareas\u001b[0m\u001b[0;34m.\u001b[0m\u001b[0mupdate\u001b[0m \u001b[0;34m=\u001b[0m \u001b[0;34m{\u001b[0m\u001b[0;34m\"triangle\"\u001b[0m\u001b[0;34m:\u001b[0m \u001b[0mnewTriangle\u001b[0m\u001b[0;34m,\u001b[0m \u001b[0;34m\"rectangle\"\u001b[0m\u001b[0;34m:\u001b[0m \u001b[0mnewRectangle\u001b[0m\u001b[0;34m,\u001b[0m \u001b[0;34m\"circle\"\u001b[0m\u001b[0;34m:\u001b[0m \u001b[0mnewCircle\u001b[0m\u001b[0;34m}\u001b[0m\u001b[0;34m\u001b[0m\u001b[0;34m\u001b[0m\u001b[0m\n\u001b[0m\u001b[1;32m     46\u001b[0m \u001b[0;34m\u001b[0m\u001b[0m\n\u001b[1;32m     47\u001b[0m \u001b[0;34m\u001b[0m\u001b[0m\n",
      "\u001b[0;31mAttributeError\u001b[0m: 'dict' object attribute 'update' is read-only"
     ]
    }
   ],
   "source": [
    "triangle = {\"height\": 5, \"base\": 7}\n",
    "\n",
    "rectangle = {\"height\": 3, \"base\": 6}\n",
    "\n",
    "circle = {\"radius\": 3}\n",
    "\n",
    " \n",
    "\n",
    "areas = {\"triangle\": -1, \"rectangle\": -1, \"circle\": -1}\n",
    "\n",
    " \n",
    "\n",
    "from math import pi\n",
    "\n",
    "# from math import pow\n",
    "\n",
    " \n",
    "\n",
    " \n",
    "\n",
    "triangle = {\"height\": 5, \"base\": 7}\n",
    "\n",
    "rectangle = {\"height\": 3, \"base\": 6}\n",
    "\n",
    "circle = {\"radius\": 3}\n",
    "\n",
    " \n",
    "\n",
    "newTriangle = triangle.get(\"base\")*triangle.get(\"height\")*0.5\n",
    "\n",
    " \n",
    "\n",
    "newRectangle = rectangle.get(\"base\")*rectangle.get(\"height\")\n",
    "\n",
    " \n",
    "\n",
    " \n",
    "\n",
    " \n",
    "\n",
    "newCircle = circle.get(\"radius\")*pi\n",
    "\n",
    " \n",
    "\n",
    "areas.update = {\"triangle\": newTriangle, \"rectangle\": newRectangle, \"circle\": newCircle}\n",
    "\n",
    " \n",
    "\n",
    " \n",
    "\n",
    "# Francisco Javier Jiménez Trillo."
   ]
  },
  {
   "cell_type": "code",
   "execution_count": 17,
   "metadata": {},
   "outputs": [
    {
     "name": "stdout",
     "output_type": "stream",
     "text": [
      "17.5\n",
      "18\n",
      "28.27\n"
     ]
    }
   ],
   "source": [
    "#  Mavi\n",
    "\n",
    "triangle = {\"height\": 5, \"base\": 7}\n",
    "rectangle = {\"height\": 3, \"base\": 6}\n",
    "circle = {\"radius\": 3}\n",
    "\n",
    "areas = {\"triangle\": -1, \"rectangle\": -1, \"circle\": -1}\n",
    "\n",
    "# completa el ejercicio aquí\n",
    "\n",
    "from math import pi\n",
    "from math import pow\n",
    "\n",
    "areat1=triangle['base']*triangle['height']/2\n",
    "arear1=rectangle['base']*rectangle['height']\n",
    "areac1=pi*pow(circle[\"radius\"],2)\n",
    "\n",
    "print(areat1)\n",
    "print(arear1)\n",
    "print(round(areac1,2))"
   ]
  },
  {
   "cell_type": "code",
   "execution_count": 18,
   "metadata": {},
   "outputs": [
    {
     "name": "stdout",
     "output_type": "stream",
     "text": [
      "areas:  {'triangle': 17.5, 'rectangle': 35, 'circle': 28.27}\n"
     ]
    }
   ],
   "source": [
    "# Luis\n",
    "\n",
    "triangle = {\"height\": 5, \"base\": 7}\n",
    "rectangle = {\"height\": 3, \"base\": 6}\n",
    "circle = {\"radius\": 3}\n",
    "\n",
    "areas = {\"triangle\": -1, \"rectangle\": -1, \"circle\": -1}\n",
    "\n",
    "# completa el ejercicio aquí\n",
    "from math import pi\n",
    "\n",
    "from math import pow\n",
    "\n",
    "\n",
    "areas['triangle'] = triangle['base'] * triangle['height']/2\n",
    "areas['rectangle'] = triangle['base'] * triangle['height']\n",
    "areas['circle'] = round(((circle['radius'])**2*pi),2)\n",
    "\n",
    "print(\"areas: \", areas)\n",
    "\n"
   ]
  },
  {
   "cell_type": "code",
   "execution_count": 19,
   "metadata": {},
   "outputs": [
    {
     "name": "stdout",
     "output_type": "stream",
     "text": [
      "{'triangle': 17.5, 'rectangle': 18, 'circle': 25.132741228718345}\n"
     ]
    }
   ],
   "source": [
    "# Virginia\n",
    "\n",
    "import math\n",
    "\n",
    " \n",
    "\n",
    "triangle = {\"height\": 5, \"base\": 7}\n",
    "\n",
    "rectangle = {\"height\": 3, \"base\": 6}\n",
    "\n",
    "circle = {\"radius\": 3}\n",
    "\n",
    " \n",
    "\n",
    " \n",
    "\n",
    "areas = {\"triangle\": -1, \"rectangle\": -1, \"circle\": -1}\n",
    "\n",
    " \n",
    "\n",
    "# base * height / 2\n",
    "\n",
    "areas['triangle'] = triangle['height'] * triangle['base'] / 2\n",
    "\n",
    " \n",
    "\n",
    "# base * height\n",
    "\n",
    "areas['rectangle'] = rectangle['height'] * rectangle['base']\n",
    "\n",
    " \n",
    "\n",
    "# 2 * pi * radius\n",
    "\n",
    "areas['circle'] = (2 ** circle['radius']) * math.pi\n",
    "\n",
    " \n",
    "\n",
    " \n",
    "\n",
    "print(areas)"
   ]
  },
  {
   "cell_type": "code",
   "execution_count": 21,
   "metadata": {},
   "outputs": [
    {
     "name": "stdout",
     "output_type": "stream",
     "text": [
      "El área del rectángulo es: 18\n",
      "El área del triángulo es: 17.5\n",
      "El área del círculo es: 28.274333882308138\n"
     ]
    }
   ],
   "source": [
    "# Alejandro San Antonio\n",
    "\n",
    "import math as m\n",
    "\n",
    "\n",
    "triangulo = {'altura': 5, 'base':7}\n",
    "rectangulo = {'altura':3, 'base':6}\n",
    "circulo = {'radio':3}\n",
    "\n",
    "numeroPI = m.pi\n",
    "\n",
    "areaTriangulo = (triangulo['altura']*triangulo['base'])/2\n",
    "areaRectangulo = (rectangulo['altura']*rectangulo['base'])\n",
    "areaCirculo = numeroPI * m.pow(circulo['radio'],2)\n",
    "\n",
    "\n",
    "areas = {'triangulo': areaTriangulo, 'rectangulo': areaRectangulo, 'ciculo': areaCirculo}\n",
    "\n",
    "print(\"El área del rectángulo es:\",areaRectangulo)\n",
    "print(\"El área del triángulo es:\", areaTriangulo)\n",
    "print(\"El área del círculo es:\",areaCirculo)\n",
    "\n"
   ]
  },
  {
   "cell_type": "code",
   "execution_count": 24,
   "metadata": {},
   "outputs": [
    {
     "name": "stdout",
     "output_type": "stream",
     "text": [
      " Números premiados:  [20, 9, 29, 3, 16, 43]\n",
      " Reintegro:  7\n",
      " Complementario:  40\n"
     ]
    }
   ],
   "source": [
    "# Pablo Ramos\n",
    "\n",
    "import random\n",
    "\n",
    "numeros = random.sample(range(1,49), 7)\n",
    "\n",
    "reintegro = random.sample(range(0,9), 1)\n",
    "\n",
    "complementario = numeros[-1]\n",
    "\n",
    "print(\" Números premiados: \", numeros[:6])\n",
    "print(\" Reintegro: \", reintegro[0])\n",
    "print(\" Complementario: \", complementario)"
   ]
  },
  {
   "cell_type": "code",
   "execution_count": null,
   "metadata": {},
   "outputs": [],
   "source": []
  }
 ],
 "metadata": {
  "kernelspec": {
   "display_name": "Python 3",
   "language": "python",
   "name": "python3"
  },
  "language_info": {
   "codemirror_mode": {
    "name": "ipython",
    "version": 3
   },
   "file_extension": ".py",
   "mimetype": "text/x-python",
   "name": "python",
   "nbconvert_exporter": "python",
   "pygments_lexer": "ipython3",
   "version": "3.8.5"
  }
 },
 "nbformat": 4,
 "nbformat_minor": 4
}
