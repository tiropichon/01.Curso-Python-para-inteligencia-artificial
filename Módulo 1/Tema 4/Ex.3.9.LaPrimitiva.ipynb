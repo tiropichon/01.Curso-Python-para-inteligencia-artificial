{
 "cells": [
  {
   "cell_type": "markdown",
   "metadata": {},
   "source": [
    "#### Ejercicio 3.9:\n",
    "\n",
    "La Lotería *Primitiva* es un juego de azar regulado por Loterías y\n",
    "Apuestas del Estado (LAE) que consiste en elegir 6 números diferentes\n",
    "entre 1 y 49, con el objetivo de acertar la Combinación Ganadora en el\n",
    "sorteo correspondiente, formada por 7 bolas, de las cuales 6 se extraen\n",
    "de un bombo con 49 números (modalidad comúnmente conocida como 6/49) y 1\n",
    "se extrae de otro bombo con 10 bolas (con números que van desde 0 a 9) y\n",
    "correspondiente con el «reintegro». También se extrae una bola extra\n",
    "como número complementario.\n",
    "(https://es.wikipedia.org/wiki/Loter%C3%ADa_Primitiva_de_Espa%C3%B1a#:~:text=La%20Loter%C3%ADa%20Primitiva%20es%20un,bombo%20con%2049%20n%C3%BAmeros%20(modalidad)\n",
    "\n",
    "Escribe un programa en Python que elija los 6 números ganadores, más el\n",
    "número complementario y el reintegro. El programa debe imprimir en\n",
    "pantalla los 6 números ganadores en orden, y los números complementarios\n",
    "y del reintegro por separado.\n",
    "\n",
    "Debes usar la librería `random`\n",
    "(https://docs.python.org/3/library/random.html). No te preocupes si el\n",
    "reintegro por casualidad es igual al complementario o a uno de los\n",
    "números ganadores, este programa no va a ser usado para la lotería\n",
    "oficial ;-) \n",
    "\n",
    "El output debe ser parecido a este:\n",
    "\n",
    "`Números ganadores: [10, 13, 16, 22, 26, 36]`\n",
    "\n",
    "`Complementario: 25`\n",
    "\n",
    "`Reintegro: 5`\n"
   ]
  },
  {
   "cell_type": "code",
   "execution_count": 3,
   "metadata": {},
   "outputs": [
    {
     "name": "stdout",
     "output_type": "stream",
     "text": [
      "WINNER NUMBERS:  [2, 7, 23, 28, 36, 39]\n",
      "COMPLEMENTARY NUMBER:  4\n",
      "REINT. NUMBER:  44\n"
     ]
    }
   ],
   "source": [
    "# Raul\n",
    "\n",
    "import random\n",
    "\n",
    " \n",
    "\n",
    "numbers = list(random.sample(range(1,49), 6))\n",
    "\n",
    "numbers.sort()\n",
    "\n",
    "complementary = random.randint(0, 9)\n",
    "\n",
    "reint = random.randint(1, 49)\n",
    "\n",
    "print(\"WINNER NUMBERS: \", numbers)\n",
    "\n",
    "print(\"COMPLEMENTARY NUMBER: \", complementary)\n",
    "\n",
    "print(\"REINT. NUMBER: \", reint)"
   ]
  },
  {
   "cell_type": "code",
   "execution_count": 9,
   "metadata": {},
   "outputs": [
    {
     "name": "stdout",
     "output_type": "stream",
     "text": [
      "numeros sorteo:  [41, 18, 25, 15, 4, 1]\n",
      "numero complementario:  [4]\n",
      "numero reintegro:  [8]\n"
     ]
    }
   ],
   "source": [
    "# Pablo Cóceres\n",
    "\n",
    "import random\n",
    "from random import randint\n",
    "nume = random.sample(range(1,49), 6)\n",
    "comple = random.sample(range(0,9), 1)\n",
    "reint = random.sample(range(0,9), 1)\n",
    "\n",
    "print(\"numeros sorteo: \", nume)\n",
    "print(\"numero complementario: \", comple)\n",
    "print(\"numero reintegro: \", reint)"
   ]
  },
  {
   "cell_type": "code",
   "execution_count": 11,
   "metadata": {},
   "outputs": [
    {
     "name": "stdout",
     "output_type": "stream",
     "text": [
      "Los numeros ganadores son:  [9, 12, 20, 21, 39, 40, 41]\n",
      "El complementario es:  [21]\n",
      "El reintegro es:  [5]\n"
     ]
    }
   ],
   "source": [
    "#Asi funciona, lo revisare por si le puedo hacer algo mas\n",
    "\n",
    " \n",
    "\n",
    "import random\n",
    "\n",
    "Nganadores = random.sample(range(1, 50), 7)\n",
    "Ncomple = random.sample(range(1, 50), 1)\n",
    "Nreint = random.sample(range(1, 10), 1)\n",
    "Nganadores.sort()\n",
    "print(\"Los numeros ganadores son: \", Nganadores)\n",
    "\n",
    "if Ncomple in Nganadores:\n",
    "    Ncomple = random.sample(range(1, 50), 1)\n",
    "else:\n",
    "    print(\"El complementario es: \", Ncomple)\n",
    "\n",
    "print(\"El reintegro es: \", Nreint)\n",
    "\n",
    " \n",
    "\n",
    "# Un Saludo,\n",
    "\n",
    "# Pedro Guerrero"
   ]
  },
  {
   "cell_type": "code",
   "execution_count": 12,
   "metadata": {},
   "outputs": [
    {
     "name": "stdout",
     "output_type": "stream",
     "text": [
      "Números ganadores: [9, 17, 25, 39, 44, 49]\n",
      "Complementario: [10]\n",
      "Reintegro: [27]\n"
     ]
    }
   ],
   "source": [
    "# Mario\n",
    "\n",
    "import random\n",
    "\n",
    "'''Obtengo los 6 números. Con random.sample(range(1,50),6) indico que\n",
    "me extraiga 6 cifras entre los números\n",
    "1 y 49. Devuelve una lista, la cual ordeno con la función sorted()'''\n",
    "lista_ordenada=sorted(random.sample(range(1,50),6))\n",
    "print(\"Números ganadores:\",lista_ordenada)\n",
    "\n",
    "'''Obtengo el complementario. Cojo una muestra desde 1 hasta 10'''\n",
    "print(\"Complementario:\",random.sample(range(1,11),1))\n",
    "\n",
    "'''obtengo reintegro. Cojo una muestra desde el 1 hasta el 49'''\n",
    "print(\"Reintegro:\",random.sample(range(1,50),1))\n"
   ]
  },
  {
   "cell_type": "code",
   "execution_count": 15,
   "metadata": {},
   "outputs": [
    {
     "name": "stdout",
     "output_type": "stream",
     "text": [
      "Los numeros ganadores son:  [21, 39, 42, 44, 46, 49]\n",
      "El complementario es:  [16]\n",
      "El reintegro es:  [9]\n"
     ]
    }
   ],
   "source": [
    "# Pedro\n",
    "\n",
    "import random\n",
    "\n",
    " \n",
    "\n",
    "Nganadores = random.sample(range(1, 50), 6)\n",
    "\n",
    "Ncomple = random.sample(range(1, 50), 1)\n",
    "\n",
    "Nreint = random.sample(range(1, 10), 1)\n",
    "\n",
    "Nganadores.sort()\n",
    "\n",
    "print(\"Los numeros ganadores son: \", Nganadores)\n",
    "\n",
    " \n",
    "\n",
    "if Ncomple in Nganadores:\n",
    "\n",
    "    Ncomple = random.sample(range(1, 50), 1)\n",
    "\n",
    "else:\n",
    "\n",
    "    print(\"El complementario es: \", Ncomple)\n",
    "\n",
    " \n",
    "\n",
    "print(\"El reintegro es: \", Nreint)\n",
    "\n",
    " \n",
    "\n",
    " \n",
    "\n",
    "# Perdón en el anterior puse sacar 7 números en vez de 6."
   ]
  },
  {
   "cell_type": "code",
   "execution_count": 19,
   "metadata": {},
   "outputs": [
    {
     "name": "stdout",
     "output_type": "stream",
     "text": [
      "Números seleccionados:  [48, 31, 6, 39, 45, 25, 2]\n",
      "Números ganadores:  [6, 31, 39, 45, 48]\n",
      "Complementario:  [2]\n",
      "Reintegro:  [8]\n"
     ]
    }
   ],
   "source": [
    "# Mavi\n",
    "\n",
    "#  Lo que he hecho es coger del bombo de los números del 1 al 49, 7 bolas con la función range.\n",
    "# De esas 7 bolas, él último número seleccionado es el complementario, y lo llamo con la opción [-1: ]\n",
    "# Luego, de la lista de los 7 seleccionados primeros, cojo los 5 primeros como ganadores y los ordeno mediante la función sorted.\n",
    "\n",
    "num_selec=random.sample(range(1,50), 7)\n",
    "num_gan=num_selec[0:5]\n",
    "num_gan_ord=sorted(num_gan)\n",
    "compl=num_selec[-1:]\n",
    "\n",
    "reint=random.sample(range(1,9), 1)\n",
    "\n",
    "print('Números seleccionados: ', num_selec)\n",
    "print('Números ganadores: ', num_gan_ord)\n",
    "print('Complementario: ',compl)\n",
    "print('Reintegro: ', reint)"
   ]
  },
  {
   "cell_type": "code",
   "execution_count": 21,
   "metadata": {},
   "outputs": [
    {
     "name": "stdout",
     "output_type": "stream",
     "text": [
      "Tus numeros ganadores son:  [9, 30, 37, 12, 44, 36]\n",
      "Tu numero complementario es:  [11]\n",
      "EL numero de tu Reintegro:  [8]\n"
     ]
    }
   ],
   "source": [
    "# Luis\n",
    "\n",
    "import random\n",
    "\n",
    "nG = (random.sample(range(1,50), 6))\n",
    "\n",
    "\n",
    "nC = (random.sample(range(1,50), 1))\n",
    "if nC is nG:\n",
    "    nC = (random.sample(range(1, 50), 1))\n",
    "\n",
    "\n",
    "nR = (random.sample(range(1,11), 1))\n",
    "\n",
    "print(\"Tus numeros ganadores son: \",nG)\n",
    "print(\"Tu numero complementario es: \",nC)\n",
    "print(\"EL numero de tu Reintegro: \",nR)\n",
    "#No se exactamente si el if hace lo que pretende, \n",
    "# he probado varias secuencias y no ha repetido nunca.\n",
    "\n"
   ]
  },
  {
   "cell_type": "code",
   "execution_count": 22,
   "metadata": {},
   "outputs": [
    {
     "name": "stdout",
     "output_type": "stream",
     "text": [
      "numeros sorteo:  [41, 13, 38, 42, 24]\n",
      "numero complementario:  [22]\n",
      "numero reintegro:  [2]\n"
     ]
    }
   ],
   "source": [
    "# Pablo Cóceres\n",
    "\n",
    "import random\n",
    "from random import randint\n",
    "\n",
    "comple = random.sample(range(1,49), 1)\n",
    "\n",
    "numeros = [nume for nume in random.sample(range(1,49), 6) if nume not in comple] \n",
    "reint = random.sample(range(0,9), 1)\n",
    "\n",
    "print(\"numeros sorteo: \", numeros)\n",
    "print(\"numero complementario: \", comple)\n",
    "print(\"numero reintegro: \", reint)"
   ]
  },
  {
   "cell_type": "code",
   "execution_count": 23,
   "metadata": {},
   "outputs": [
    {
     "name": "stdout",
     "output_type": "stream",
     "text": [
      "Números ganadores: [11, 12, 16, 20, 33, 45]\n",
      "Complementario: 6\n",
      "Reintegro: 28\n"
     ]
    }
   ],
   "source": [
    "# Mario\n",
    "\n",
    "import random\n",
    "\n",
    "'''Obtengo los 6 números. Con random.sample(range(1,50),6) indico que\n",
    "me extraiga 6 cifras entre los números\n",
    "1 y 49. Devuelve una lista, la cual ordeno con la función sorted()'''\n",
    "lista_ordenada=sorted(random.sample(range(1,50),6))\n",
    "print(\"Números ganadores:\",lista_ordenada)\n",
    "\n",
    "'''Obtengo el complementario. Cojo una muestra desde 1 hasta 10'''\n",
    "#print(\"Complementario:\",random.sample(range(1,11),1))\n",
    "print(\"Complementario:\",random.randint(1,10))\n",
    "\n",
    "'''obtengo reintegro. Cojo una muestra desde el 1 hasta el 49'''\n",
    "#print(\"Reintegro:\",random.sample(range(1,50),1))\n",
    "print(\"Reintegro:\",random.randint(1,49))"
   ]
  },
  {
   "cell_type": "code",
   "execution_count": 25,
   "metadata": {},
   "outputs": [
    {
     "name": "stdout",
     "output_type": "stream",
     "text": [
      "Los numeros ganadores son:  [6, 12, 20, 23, 33, 35]\n",
      "El complementario es:  [33]\n",
      "El reintegro es:  [1]\n"
     ]
    }
   ],
   "source": [
    "# Creo que este es más correcto\n",
    "\n",
    " \n",
    "\n",
    "import random\n",
    "\n",
    "Nganadores = random.sample(range(1, 50), 6)\n",
    "Ncomple = random.sample(range(1, 50), 1)\n",
    "Nreint = random.sample(range(1, 10), 1)\n",
    "Nganadores.sort()\n",
    "\n",
    "print(\"Los numeros ganadores son: \", Nganadores)\n",
    "\n",
    "if Ncomple not in Nganadores:\n",
    "    print(\"El complementario es: \", Ncomple)\n",
    "else:\n",
    "    Ncomple = random.sample(range(1, 50), 1)\n",
    "\n",
    "print(\"El reintegro es: \", Nreint)\n",
    "\n",
    " \n",
    "\n",
    "# Un saludo,\n",
    "\n",
    " \n",
    "\n",
    "# Pedro Guerrero"
   ]
  },
  {
   "cell_type": "code",
   "execution_count": 26,
   "metadata": {},
   "outputs": [],
   "source": [
    "# Francisco Javier Jiménez Trillo."
   ]
  },
  {
   "cell_type": "markdown",
   "metadata": {},
   "source": [
    "Generación de los primeros 6 numeros mediante una lista, la función random.sample para una muestra de tamaño 6,y\n",
    "con range aparecen los números aleatorios, con el método sort aparecen ordenados"
   ]
  },
  {
   "cell_type": "code",
   "execution_count": 27,
   "metadata": {},
   "outputs": [
    {
     "name": "stdout",
     "output_type": "stream",
     "text": [
      "[25, 26, 28, 32, 39, 40]\n",
      "<class 'list'>\n"
     ]
    }
   ],
   "source": [
    "import random\n",
    "\n",
    "listaLoteria = random.sample(range(1,49),6)\n",
    "listaLoteria.sort()\n",
    "print(listaLoteria)\n",
    "print(type(listaLoteria))\n"
   ]
  },
  {
   "cell_type": "markdown",
   "metadata": {},
   "source": [
    "Generamos otro número aleatorio, aunque podiamos hacerlo con la función random.sample como en el anterior ejemplo, ahora uso la función random.randint"
   ]
  },
  {
   "cell_type": "code",
   "execution_count": 28,
   "metadata": {},
   "outputs": [
    {
     "name": "stdout",
     "output_type": "stream",
     "text": [
      "[25, 26, 28, 32, 39, 40]\n"
     ]
    }
   ],
   "source": [
    "listaLoteriaComplementario = random.sample(range(0,9),1)\n",
    "numeroComplementario = random.randint(0,9)\n",
    "print(listaLoteria)"
   ]
  },
  {
   "cell_type": "markdown",
   "metadata": {},
   "source": [
    "Por último, usamos de nuevo la función random.sample para generar el último número."
   ]
  },
  {
   "cell_type": "code",
   "execution_count": 29,
   "metadata": {},
   "outputs": [
    {
     "name": "stdout",
     "output_type": "stream",
     "text": [
      "[39]\n"
     ]
    }
   ],
   "source": [
    "listaLoteriaReintegro = random.sample(range(1,49),1)\n",
    "print(listaLoteriaReintegro)"
   ]
  },
  {
   "cell_type": "code",
   "execution_count": 30,
   "metadata": {},
   "outputs": [
    {
     "name": "stdout",
     "output_type": "stream",
     "text": [
      "Tus numeros ganadores son:  [43, 26, 40, 23, 15, 33]\n",
      "Tu numero complementario es:  [19]\n",
      "EL numero de tu Reintegro:  [5]\n"
     ]
    }
   ],
   "source": [
    "# Luis\n",
    "\n",
    "import random\n",
    "\n",
    "nG = (random.sample(range(1,50), 6))\n",
    "nC = (random.sample(range(1,50), 2))\n",
    "\n",
    "\n",
    "xN = nC[0] in nG\n",
    "xN1 = nC[1] in nG\n",
    "\n",
    "\n",
    "nR = (random.sample(range(1,11), 1))\n",
    "\n",
    "\n",
    "print(\"Tus numeros ganadores son: \",nG)\n",
    "if  xN is True:\n",
    "    nC.remove(nC[0])\n",
    "    print(\"Tu numero complementario es: \",nC)\n",
    "elif xN1 is True:\n",
    "    nC.remove(nC[1])\n",
    "    print(\"Tu numero complementario es: \", nC)\n",
    "elif xN is False:\n",
    "    nC.remove(nC[1])\n",
    "    print(\"Tu numero complementario es: \", nC)\n",
    "elif xN1 is False:\n",
    "    nC.remove(nC[0])\n",
    "    print(\"Tu numero complementario es: \", nC)\n",
    "\n",
    "\n",
    "print(\"EL numero de tu Reintegro: \",nR)"
   ]
  },
  {
   "cell_type": "code",
   "execution_count": 32,
   "metadata": {},
   "outputs": [
    {
     "name": "stdout",
     "output_type": "stream",
     "text": [
      "Números ganadores: [3, 5, 8, 13, 17, 48]\n",
      "Reintegro: [4]\n",
      "Complementario: [27]\n"
     ]
    }
   ],
   "source": [
    "# Alejandro San Antonio\n",
    "\n",
    "import random\n",
    "\n",
    "'''Definimos el número de bolas que extraemos del bombo principal más la bola\n",
    "del complementario que se extrae del mismo bombo. También definimos el total de bolas\n",
    "para el reintegro que se extraerá de un bombo aparte'''\n",
    "\n",
    "totalBolasPrincipales=6\n",
    "totalBolasReintegro = 1\n",
    "totalBolasComplementario = 1\n",
    "\n",
    "#Definimos las 50 bolas del bombo principal que irán de 0 a 49 ---range(inicio, fin-1)\n",
    "bomboPrincipal = list(range(0,50))\n",
    "\n",
    "#Definimos las 9 bolas del bombo del reintegro que irán de 0 a 9 -- range(inicio, fin-1 )\n",
    "bomboReintegro = list(range(0,10))\n",
    "\n",
    "#Generamos las 6 bolas aleatorias del bomboPrinciapl y las ordenamos\n",
    "numerosGanadores = random.sample(bomboPrincipal,totalBolasPrincipales)\n",
    "numerosGanadores.sort()\n",
    "\n",
    "#Generamos la bola aleatoria del bomboReintegro\n",
    "reintegro = random.sample(bomboReintegro,totalBolasReintegro)\n",
    "\n",
    "#Generamos la bola para el número complementario del bomboPrincipal\n",
    "complementario = random.sample(bomboPrincipal,totalBolasComplementario)\n",
    "\n",
    "\n",
    "#Mostramos resultados por pantalla\n",
    "print(\"Números ganadores:\",numerosGanadores)\n",
    "print(\"Reintegro:\",reintegro)\n",
    "print(\"Complementario:\",complementario)\n",
    "\n"
   ]
  },
  {
   "cell_type": "code",
   "execution_count": 3,
   "metadata": {},
   "outputs": [
    {
     "name": "stdout",
     "output_type": "stream",
     "text": [
      " Números premiados:  [43, 24, 10, 41, 19, 7]\n",
      " Reintegro:  5\n",
      " Complementario:  44\n"
     ]
    }
   ],
   "source": [
    "# Pablo\n",
    "# Buenas noches, aquí tienes el método que he utilizado. Intenté usar for o elif para tener la condición de que volviera a hacer el cálculo para el número complementario en caso que su resultado fuese igual a alguno de los números premiados pero no he sido capaz, así que he optado por la solución fácil.\n",
    "\n",
    "import random\n",
    "\n",
    "numeros = random.sample(range(1,49), 7)\n",
    "\n",
    "reintegro = random.sample(range(0,9), 1)\n",
    "\n",
    "complementario = numeros[-1]\n",
    "\n",
    "print(\" Números premiados: \", numeros[:6])\n",
    "print(\" Reintegro: \", reintegro[0])\n",
    "print(\" Complementario: \", complementario)"
   ]
  },
  {
   "cell_type": "code",
   "execution_count": 4,
   "metadata": {},
   "outputs": [
    {
     "name": "stdout",
     "output_type": "stream",
     "text": [
      "Números premiados: [5, 10, 16, 24, 31, 35]\n",
      "Complementario: 32\n",
      "Reintegro: 4\n"
     ]
    }
   ],
   "source": [
    "# Buenos días, Spiros:\n",
    "\n",
    "# Aquí te envío la solución que he encontrado al ejercicio 3.9. Al principio pensé en usar if o not in, pero no he sabido cómo hacerlo. A ver qué te parece mi propuesta.\n",
    "\n",
    "#Ejercicio 3.9. Con random.sample salen 7 bolas distintas,\n",
    "#numeradas del 1 al 49: 6 premiadas y el complementario.\n",
    "#Con random.randint sale otra bola del 0-9 para el reintegro.\n",
    "#Los números premiados se ordenan de menor a mayor con sorted.\n",
    "\n",
    "import random\n",
    "numeros = random.sample(range(1,50), 7)\n",
    "premiados = numeros[:6]\n",
    "complementario = numeros[-1]\n",
    "reintegro = random.randint(0,9)\n",
    "\n",
    "print(\"Números premiados:\", sorted(premiados))\n",
    "print(\"Complementario:\", complementario)\n",
    "print(\"Reintegro:\", reintegro)\n",
    "\n",
    "\n",
    "# Un saludo,\n",
    "# Rocío"
   ]
  },
  {
   "cell_type": "code",
   "execution_count": null,
   "metadata": {},
   "outputs": [],
   "source": []
  }
 ],
 "metadata": {
  "kernelspec": {
   "display_name": "Python 3",
   "language": "python",
   "name": "python3"
  },
  "language_info": {
   "codemirror_mode": {
    "name": "ipython",
    "version": 3
   },
   "file_extension": ".py",
   "mimetype": "text/x-python",
   "name": "python",
   "nbconvert_exporter": "python",
   "pygments_lexer": "ipython3",
   "version": "3.8.5"
  }
 },
 "nbformat": 4,
 "nbformat_minor": 4
}
