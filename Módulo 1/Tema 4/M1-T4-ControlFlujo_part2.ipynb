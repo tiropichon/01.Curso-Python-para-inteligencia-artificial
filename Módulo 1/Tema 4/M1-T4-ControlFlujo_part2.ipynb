{
 "cells": [
  {
   "cell_type": "markdown",
   "metadata": {},
   "source": [
    "## 4.5 `break`, `continue`, `pass`"
   ]
  },
  {
   "cell_type": "markdown",
   "metadata": {},
   "source": [
    "La sentencia `break` permite **romper** un bucle en cualquier momento, terminar las iteraciones y continuar después del mismo. Generalmente usaremos `break` después de realizar alguna comprobación que motive abandonar una repetición `while` o `for`. Aquí tenemos un ejemplo:"
   ]
  },
  {
   "cell_type": "code",
   "execution_count": 2,
   "metadata": {},
   "outputs": [
    {
     "name": "stdout",
     "output_type": "stream",
     "text": [
      "810 no es primo\n"
     ]
    }
   ],
   "source": [
    "num = 811\n",
    "test = 'es primo'\n",
    "\n",
    "for div in range(2, num):\n",
    "    if num % div == 0:\n",
    "        test = 'no es primo'\n",
    "        break\n",
    "        \n",
    "print(num, test)"
   ]
  },
  {
   "cell_type": "markdown",
   "metadata": {},
   "source": [
    "Este programa determina si un número es primo, comprobando que no es divisible entre ningún número menor a él. Para comprobar la divisibilidad usamos el operador %, el cual devuelve el resto de una división entera entre dos números. Si ese resto es cero, entonces el número es divisible, por lo que no debemos seguir comprobando. El `break` nos ayuda a evitar más comprobaciones innecesarios, pues nos basta con encontrar un solo divisor para asegurar que el número en cuestión no es primo. La sentencia `break` rompe el flujo dentro del cuerpo de instrucciones del bucle para abandonarlo. En cambio, la sentencia `continue` rompe ese flujo para saltar a la siguiente iteración. Gracias a esta sentencia podemos forzar la conclusión de una iteración para continuar con la siguiente. \n",
    "\n",
    "Supongamos un mes de 31 días con el día 1 en lunes. El siguiente programa indica qué hacer cada día si sábados y domingos son no laborables. La sentencia `continue` nos servirá aquí para hacer más simple nuestra vida cuando no trabajamos. "
   ]
  },
  {
   "cell_type": "code",
   "execution_count": 2,
   "metadata": {},
   "outputs": [
    {
     "name": "stdout",
     "output_type": "stream",
     "text": [
      "----\n",
      "Día  1\n",
      "Levantarse temprano\n",
      "Ir a trabajar\n",
      "----\n",
      "Día  2\n",
      "Levantarse temprano\n",
      "Ir a trabajar\n",
      "----\n",
      "Día  3\n",
      "Levantarse temprano\n",
      "Ir a trabajar\n",
      "----\n",
      "Día  4\n",
      "Levantarse temprano\n",
      "Ir a trabajar\n",
      "----\n",
      "Día  5\n",
      "Levantarse temprano\n",
      "Ir a trabajar\n",
      "----\n",
      "Día  6\n",
      "Descansar\n",
      "----\n",
      "Día  7\n",
      "Descansar\n",
      "----\n",
      "Día  8\n",
      "Levantarse temprano\n",
      "Ir a trabajar\n",
      "----\n",
      "Día  9\n",
      "Levantarse temprano\n",
      "Ir a trabajar\n",
      "----\n",
      "Día  10\n",
      "Levantarse temprano\n",
      "Ir a trabajar\n",
      "----\n",
      "Día  11\n",
      "Levantarse temprano\n",
      "Ir a trabajar\n",
      "----\n",
      "Día  12\n",
      "Levantarse temprano\n",
      "Ir a trabajar\n",
      "----\n",
      "Día  13\n",
      "Descansar\n",
      "----\n",
      "Día  14\n",
      "Descansar\n",
      "----\n",
      "Día  15\n",
      "Levantarse temprano\n",
      "Ir a trabajar\n",
      "----\n",
      "Día  16\n",
      "Levantarse temprano\n",
      "Ir a trabajar\n",
      "----\n",
      "Día  17\n",
      "Levantarse temprano\n",
      "Ir a trabajar\n",
      "----\n",
      "Día  18\n",
      "Levantarse temprano\n",
      "Ir a trabajar\n",
      "----\n",
      "Día  19\n",
      "Levantarse temprano\n",
      "Ir a trabajar\n",
      "----\n",
      "Día  20\n",
      "Descansar\n",
      "----\n",
      "Día  21\n",
      "Descansar\n",
      "----\n",
      "Día  22\n",
      "Levantarse temprano\n",
      "Ir a trabajar\n",
      "----\n",
      "Día  23\n",
      "Levantarse temprano\n",
      "Ir a trabajar\n",
      "----\n",
      "Día  24\n",
      "Levantarse temprano\n",
      "Ir a trabajar\n",
      "----\n",
      "Día  25\n",
      "Levantarse temprano\n",
      "Ir a trabajar\n",
      "----\n",
      "Día  26\n",
      "Levantarse temprano\n",
      "Ir a trabajar\n",
      "----\n",
      "Día  27\n",
      "Descansar\n",
      "----\n",
      "Día  28\n",
      "Descansar\n",
      "----\n",
      "Día  29\n",
      "Levantarse temprano\n",
      "Ir a trabajar\n",
      "----\n",
      "Día  30\n",
      "Levantarse temprano\n",
      "Ir a trabajar\n"
     ]
    }
   ],
   "source": [
    "for d in range(1, 31):\n",
    "    print(\"----\")\n",
    "    print(\"Día \", d)\n",
    "    if d % 7 == 6 or d % 7 == 0:\n",
    "        print(\"Descansar\")\n",
    "        continue\n",
    "    print(\"Levantarse temprano\")\n",
    "    print(\"Ir a trabajar\")"
   ]
  },
  {
   "cell_type": "markdown",
   "metadata": {},
   "source": [
    "El operador % hace que el contador de días d tome consecutivamente los valores 1, 2, 3, 4 ,5, 6 y . Así, el sábado y el domingo corresponden con los valores  y 0, en cuyo caso solo hay que descansar y dejar pasar el resto del día."
   ]
  },
  {
   "cell_type": "markdown",
   "metadata": {},
   "source": [
    "La sentencia `pass` no hace nada. Así de simple. Aunque pueda sorprendernos, resulta útil en varias situaciones. En Python no podemos tener sin definir un bloque de código (por ejemplo, el cuerpo de una función, el cuerpo de una condición o el de un bucle). Es habitual usar `pass` cuando estamos escribiendo la estructura de nuestro programa pero aún no hemos abordado la implementación de determinados bloques de código. "
   ]
  },
  {
   "cell_type": "code",
   "execution_count": 10,
   "metadata": {},
   "outputs": [],
   "source": [
    "contador_clientes = int()\n",
    "if contador_clientes == 1000:\n",
    "    pass   # POR HACER: celebrar nuestro cliente número 1000"
   ]
  },
  {
   "cell_type": "code",
   "execution_count": 3,
   "metadata": {},
   "outputs": [],
   "source": [
    "#todo: calculate volume of sphere\n",
    "def calc_sphere_volume():\n",
    "    pass"
   ]
  },
  {
   "cell_type": "markdown",
   "metadata": {},
   "source": [
    "En ele ejemplo anterior reflejamos la consideración de legar al cliente número 1000 y, aunque no hemos implementado ninguna acción concreta, lo hemos dejado indicado mediante un comentario. "
   ]
  },
  {
   "cell_type": "markdown",
   "metadata": {},
   "source": []
  },
  {
   "cell_type": "markdown",
   "metadata": {},
   "source": [
    "## 4.6 Sentencia `else` en bucles `while` y `for`"
   ]
  },
  {
   "cell_type": "markdown",
   "metadata": {},
   "source": [
    "También existe la posibilidad de utilizar else inmediatamente después de un bucle while o for. Esta opción permite ejecutar un bloque de instrucciones determinado en caso de completar todas las iteraciones, es decir, cuando no se produce un break.\n",
    "\n",
    "Supongamos que estamos comprobando el estado de seguridad de nuestro hogar, si la puerta y todas las ventanas están cerradas. En el momento en que uno solo de esos elementos esté abierto, debemos llamar a la policía de inmediato. Si se ha comprobado todo sin incidencias, lo indicaremos:"
   ]
  },
  {
   "cell_type": "code",
   "execution_count": 7,
   "metadata": {},
   "outputs": [
    {
     "name": "stdout",
     "output_type": "stream",
     "text": [
      "Avisar a la policia\n"
     ]
    }
   ],
   "source": [
    "for elemento in ['cerrado', 'cerrado', 'cerrado', 'cerrado', 'abierto', 'cerrado', 'cerrado']:\n",
    "    if elemento == 'abierto':\n",
    "        print('Avisar a la policia')\n",
    "        break\n",
    "else:\n",
    "    print('Todo en orden')"
   ]
  },
  {
   "cell_type": "markdown",
   "metadata": {},
   "source": [
    "Prueba el código anterior y mira su comportamiento. Después, cambia el valor del elemento 'abierto' a 'cerrado' y comprueba de nuevo el resultado de ejecutar el programa. El uso de `else` en `while` y `for` evita variables contador para asegurar la ejecución completa de todas las repeticiones, por lo que resulta útil en determinadas ocasiones. "
   ]
  },
  {
   "cell_type": "code",
   "execution_count": 12,
   "metadata": {},
   "outputs": [
    {
     "name": "stdout",
     "output_type": "stream",
     "text": [
      "Todo en orden\n"
     ]
    }
   ],
   "source": [
    "for elemento in ['cerrado', 'cerrado', 'cerrado', 'cerrado', 'cerrado', 'cerrado', 'cerrado']:\n",
    "    if elemento == 'abierto':\n",
    "        print('Avisar a la policia')\n",
    "        break\n",
    "else:\n",
    "    print('Todo en orden')"
   ]
  },
  {
   "cell_type": "markdown",
   "metadata": {},
   "source": [
    "#### Ejercicio 4F: \n",
    "\n",
    "Haz una traza de este programa. Elijiré alguien para presentarlo."
   ]
  },
  {
   "cell_type": "code",
   "execution_count": 13,
   "metadata": {},
   "outputs": [
    {
     "name": "stdout",
     "output_type": "stream",
     "text": [
      "0\n",
      "1\n",
      "2\n",
      "3\n",
      "Hecho\n"
     ]
    }
   ],
   "source": [
    "# ejercicio_bucle1.py\n",
    "i = 0\n",
    "while i <= 3:\n",
    "    print(i)  \n",
    "    i += 1\n",
    "print(\"Hecho\")"
   ]
  },
  {
   "cell_type": "code",
   "execution_count": null,
   "metadata": {},
   "outputs": [],
   "source": []
  },
  {
   "cell_type": "markdown",
   "metadata": {},
   "source": [
    "#### Ejercicio 4G"
   ]
  },
  {
   "cell_type": "code",
   "execution_count": null,
   "metadata": {},
   "outputs": [],
   "source": []
  },
  {
   "cell_type": "markdown",
   "metadata": {},
   "source": [
    "#### Ejercicio 4H"
   ]
  },
  {
   "cell_type": "markdown",
   "metadata": {},
   "source": [
    "#### Ejercicio 4J"
   ]
  },
  {
   "cell_type": "code",
   "execution_count": null,
   "metadata": {},
   "outputs": [],
   "source": []
  },
  {
   "cell_type": "markdown",
   "metadata": {},
   "source": [
    "## 4.7 Comprensión de listas y otras colecciones\n",
    "https://recursospython.com/guias-y-manuales/comprension-de-listas-y-otras-colecciones/\n",
    "\n",
    "La comprensión de listas en Python es un método sintáctico para crear listas (y por extensión también otras colecciones que veremos más abajo) a partir de los elementos de otras listas (o colecciones) de una forma rápida de escribir, muy legible y funcionalmente eficiente.\n",
    "\n",
    "Consideremos la siguiente lista de lenguajes:"
   ]
  },
  {
   "cell_type": "code",
   "execution_count": 14,
   "metadata": {},
   "outputs": [],
   "source": [
    "languages = [\"python\", \"c\", \"c++\", \"java\"]"
   ]
  },
  {
   "cell_type": "markdown",
   "metadata": {},
   "source": [
    "Usando comprensión de listas, podemos crear una nueva lista con las mismas cadenas pero con su primera letra en mayúscula (es decir, aplicar el método capitalize() de las cadenas)."
   ]
  },
  {
   "cell_type": "code",
   "execution_count": 15,
   "metadata": {},
   "outputs": [
    {
     "name": "stdout",
     "output_type": "stream",
     "text": [
      "['Python', 'C', 'C++', 'Java']\n"
     ]
    }
   ],
   "source": [
    "cap_languages = [language.capitalize() for language in languages]\n",
    "print(cap_languages)"
   ]
  },
  {
   "cell_type": "code",
   "execution_count": null,
   "metadata": {},
   "outputs": [],
   "source": []
  },
  {
   "cell_type": "markdown",
   "metadata": {},
   "source": [
    "Que es funcionalmente similar a lo siguiente:"
   ]
  },
  {
   "cell_type": "code",
   "execution_count": 16,
   "metadata": {},
   "outputs": [
    {
     "name": "stdout",
     "output_type": "stream",
     "text": [
      "['Python', 'C', 'C++', 'Java']\n"
     ]
    }
   ],
   "source": [
    "cap_languages = []\n",
    "for language in languages:\n",
    "    cap_languages.append(language.capitalize())\n",
    "    \n",
    "print(cap_languages)"
   ]
  },
  {
   "cell_type": "code",
   "execution_count": 17,
   "metadata": {},
   "outputs": [
    {
     "data": {
      "text/plain": [
       "['Python', 'C', 'C++', 'Java']"
      ]
     },
     "execution_count": 17,
     "metadata": {},
     "output_type": "execute_result"
    }
   ],
   "source": [
    "[language.capitalize() for language in languages]"
   ]
  },
  {
   "cell_type": "markdown",
   "metadata": {},
   "source": [
    "Veamos otro ejemplo. Consideremos esta lista de números:"
   ]
  },
  {
   "cell_type": "code",
   "execution_count": null,
   "metadata": {},
   "outputs": [],
   "source": []
  },
  {
   "cell_type": "code",
   "execution_count": 18,
   "metadata": {},
   "outputs": [],
   "source": [
    "numbers = [1, 2, 3, 4, 5]"
   ]
  },
  {
   "cell_type": "code",
   "execution_count": 19,
   "metadata": {},
   "outputs": [
    {
     "name": "stdout",
     "output_type": "stream",
     "text": [
      "[2, 4, 6, 8, 10]\n"
     ]
    }
   ],
   "source": [
    "doubled_numbers = [n * 2 for n in numbers]\n",
    "print(doubled_numbers)"
   ]
  },
  {
   "cell_type": "markdown",
   "metadata": {},
   "source": [
    "En estos dos ejemplos trabajados todos los elementos de la lista primigenia aparecen de algún modo transformados en la nueva lista que generamos: en el primer caso se modificaba la primera letra de la cadena para que fuese mayúscula; en este segundo, se multiplica el número por dos. Ahora bien, si queremos indicar que los elementos deben incluirse en la nueva lista en función de una condición, podemos agregar ─justamente─ un condicional. Por ejemplo, el siguiente código crea una lista con números del 1 al 100 que sean múltiplos de 5."
   ]
  },
  {
   "cell_type": "code",
   "execution_count": 8,
   "metadata": {},
   "outputs": [
    {
     "name": "stdout",
     "output_type": "stream",
     "text": [
      "[5, 10, 15, 20, 25, 30, 35, 40, 45, 50, 55, 60, 65, 70, 75, 80, 85, 90, 95, 100]\n"
     ]
    }
   ],
   "source": [
    "multiples = [n for n in range(1, 101) if n % 5 == 0]\n",
    "print(multiples)"
   ]
  },
  {
   "cell_type": "markdown",
   "metadata": {},
   "source": [
    "Este código es funcionalmente igual al siguiente:"
   ]
  },
  {
   "cell_type": "code",
   "execution_count": 9,
   "metadata": {},
   "outputs": [
    {
     "name": "stdout",
     "output_type": "stream",
     "text": [
      "[5, 10, 15, 20, 25, 30, 35, 40, 45, 50, 55, 60, 65, 70, 75, 80, 85, 90, 95, 100]\n"
     ]
    }
   ],
   "source": [
    "multiples = []\n",
    "for n in range(1, 101):\n",
    "    if n % 5 == 0:\n",
    "        multiples.append(n)\n",
    "print(multiples)"
   ]
  },
  {
   "cell_type": "code",
   "execution_count": 22,
   "metadata": {},
   "outputs": [
    {
     "name": "stdout",
     "output_type": "stream",
     "text": [
      "[5, 10, 15, 20, 25, 30, 35, 40, 45, 50, 55, 60, 65, 70, 75, 80, 85, 90, 95, 100]\n",
      "[5, 10, 15, 20, 25, 30, 35, 40, 45, 50, 55, 60, 65, 70, 75, 80, 85, 90, 95, 100]\n"
     ]
    }
   ],
   "source": [
    "multiples = [n for n in range(1, 101) if n % 5 == 0]\n",
    "print(multiples)\n",
    "\n",
    "# Este código es funcionalmente igual al siguiente:\n",
    "\n",
    "multiples = []\n",
    "for n in range(1, 101):\n",
    "    if n % 5 == 0:\n",
    "        multiples.append(n)\n",
    "print(multiples)"
   ]
  },
  {
   "cell_type": "code",
   "execution_count": null,
   "metadata": {},
   "outputs": [],
   "source": []
  },
  {
   "cell_type": "markdown",
   "metadata": {},
   "source": [
    "A través de la comprensión de listas también podemos expresar de forma compacta un conjunto de bucles anidados. Por ejemplo, el siguiente código crea una lista points que contiene (en forma de tuplas de dos elementos) la posición de todos los puntos bidimencionales entre las coordenadas (0, 0) y (5, 10)."
   ]
  },
  {
   "cell_type": "code",
   "execution_count": 23,
   "metadata": {},
   "outputs": [
    {
     "name": "stdout",
     "output_type": "stream",
     "text": [
      "[(0, 0), (0, 1), (0, 2), (0, 3), (0, 4), (0, 5), (0, 6), (0, 7), (0, 8), (0, 9), (0, 10), (1, 0), (1, 1), (1, 2), (1, 3), (1, 4), (1, 5), (1, 6), (1, 7), (1, 8), (1, 9), (1, 10), (2, 0), (2, 1), (2, 2), (2, 3), (2, 4), (2, 5), (2, 6), (2, 7), (2, 8), (2, 9), (2, 10), (3, 0), (3, 1), (3, 2), (3, 3), (3, 4), (3, 5), (3, 6), (3, 7), (3, 8), (3, 9), (3, 10), (4, 0), (4, 1), (4, 2), (4, 3), (4, 4), (4, 5), (4, 6), (4, 7), (4, 8), (4, 9), (4, 10), (5, 0), (5, 1), (5, 2), (5, 3), (5, 4), (5, 5), (5, 6), (5, 7), (5, 8), (5, 9), (5, 10)]\n"
     ]
    }
   ],
   "source": [
    "points = []\n",
    "for x in range(0, 5 + 1):\n",
    "    for y in range(0, 10 + 1):\n",
    "        points.append((x, y))\n",
    "print(points)"
   ]
  },
  {
   "cell_type": "markdown",
   "metadata": {},
   "source": [
    "¿Cómo traducimos esto usando el nuevo método? Sencillamente así:"
   ]
  },
  {
   "cell_type": "code",
   "execution_count": 24,
   "metadata": {
    "scrolled": true
   },
   "outputs": [
    {
     "name": "stdout",
     "output_type": "stream",
     "text": [
      "[(0, 0), (0, 1), (0, 2), (0, 3), (0, 4), (0, 5), (0, 6), (0, 7), (0, 8), (0, 9), (0, 10), (1, 0), (1, 1), (1, 2), (1, 3), (1, 4), (1, 5), (1, 6), (1, 7), (1, 8), (1, 9), (1, 10), (2, 0), (2, 1), (2, 2), (2, 3), (2, 4), (2, 5), (2, 6), (2, 7), (2, 8), (2, 9), (2, 10), (3, 0), (3, 1), (3, 2), (3, 3), (3, 4), (3, 5), (3, 6), (3, 7), (3, 8), (3, 9), (3, 10), (4, 0), (4, 1), (4, 2), (4, 3), (4, 4), (4, 5), (4, 6), (4, 7), (4, 8), (4, 9), (4, 10), (5, 0), (5, 1), (5, 2), (5, 3), (5, 4), (5, 5), (5, 6), (5, 7), (5, 8), (5, 9), (5, 10)]\n"
     ]
    }
   ],
   "source": [
    "points = [(x, y) for x in range(0, 5 + 1) for y in range(0, 10 + 1)]\n",
    "print(points)"
   ]
  },
  {
   "cell_type": "code",
   "execution_count": null,
   "metadata": {},
   "outputs": [],
   "source": []
  },
  {
   "cell_type": "markdown",
   "metadata": {},
   "source": [
    "#### Ejercicio 4K Traduce  el siguiente código para que use comprensión de listas."
   ]
  },
  {
   "cell_type": "code",
   "execution_count": 28,
   "metadata": {},
   "outputs": [
    {
     "name": "stdout",
     "output_type": "stream",
     "text": [
      "lista 1:  [1, 2, 3, 4, 5, 8, 10, 15, 17, 19]\n",
      "lista 2:  [0, 1, 2, 6, 7, 8, 9, 12, 13, 15]\n",
      "lista final:  [1, 2, 8, 15]\n",
      "[None, None, None]\n"
     ]
    }
   ],
   "source": [
    "# Completa el ejercicio aquí\n",
    "import random\n",
    "\n",
    "lst1 = random.sample(range(20), 10)\n",
    "lst2 = random.sample(range(20), 10)\n",
    "\n",
    "# genera lst\n",
    "# lst = ??? completa con comprensión de lista\n",
    "'''\n",
    "for number in lst1:\n",
    "        if number in lst2:\n",
    "            lst.append(number)\n",
    "'''\n",
    "lst=[number for number in lst1 if number in lst2]\n",
    "\n",
    "# ordena las tres listas\n",
    "# ...con otra comprensión de lista\n",
    "#lst.sort()\n",
    "#lst1.sort()\n",
    "#lst2.sort()\n",
    "[l.sort() for l in [lst, lst1, lst2]]\n",
    "\n",
    "print(\"lista 1: \", lst1)\n",
    "print(\"lista 2: \", lst2)\n",
    "print(\"lista final: \", lst)\n"
   ]
  },
  {
   "cell_type": "markdown",
   "metadata": {},
   "source": [
    "Ejercicio 4L: Traduce el siguiente código para que use comprensión de\n",
    "listas:\n",
    "#### A)\n",
    "\n",
    "python\n",
    "i = 0\n",
    "while i < 3:\n",
    "     print(i)\n",
    "     i += 1\n",
    "print(\"Hecho\")\n",
    "\n",
    "#### B)\n",
    "\n",
    "python\n",
    "for item in range(5):\n",
    "     for item2 in range(3):\n",
    "         print(\"Iteración \" + str(item) + \",\" + str(item2))"
   ]
  },
  {
   "cell_type": "code",
   "execution_count": 59,
   "metadata": {},
   "outputs": [
    {
     "name": "stdout",
     "output_type": "stream",
     "text": [
      "0\n",
      "1\n",
      "2\n",
      "hecho\n"
     ]
    }
   ],
   "source": [
    "#A\n",
    "#i = 0\n",
    "#while i < 3:\n",
    "#     print(i)\n",
    "#     i += 1\n",
    "#print(\"Hecho\")\n",
    "\n",
    "#for i in range(0,2+1):\n",
    "#    print(i)\n",
    "#print(\"Hecho\")\n",
    "\n",
    "[print(i) for i in range(0,3)]\n",
    "print(\"hecho\")"
   ]
  },
  {
   "cell_type": "code",
   "execution_count": 41,
   "metadata": {},
   "outputs": [
    {
     "name": "stdout",
     "output_type": "stream",
     "text": [
      "Iteración 0,0\n",
      "Iteración 0,1\n",
      "Iteración 0,2\n",
      "Iteración 1,0\n",
      "Iteración 1,1\n",
      "Iteración 1,2\n",
      "Iteración 2,0\n",
      "Iteración 2,1\n",
      "Iteración 2,2\n",
      "Iteración 3,0\n",
      "Iteración 3,1\n",
      "Iteración 3,2\n",
      "Iteración 4,0\n",
      "Iteración 4,1\n",
      "Iteración 4,2\n"
     ]
    }
   ],
   "source": [
    "#B original\n",
    "for item in range(5):\n",
    "     for item2 in range(3):\n",
    "         print(\"Iteración \" + str(item) + \",\" + str(item2))\n"
   ]
  },
  {
   "cell_type": "code",
   "execution_count": 60,
   "metadata": {},
   "outputs": [
    {
     "name": "stdout",
     "output_type": "stream",
     "text": [
      "Iteración 0,0\n",
      "Iteración 0,1\n",
      "Iteración 0,2\n",
      "Iteración 1,0\n",
      "Iteración 1,1\n",
      "Iteración 1,2\n",
      "Iteración 2,0\n",
      "Iteración 2,1\n",
      "Iteración 2,2\n",
      "Iteración 3,0\n",
      "Iteración 3,1\n",
      "Iteración 3,2\n",
      "Iteración 4,0\n",
      "Iteración 4,1\n",
      "Iteración 4,2\n"
     ]
    },
    {
     "data": {
      "text/plain": [
       "[None,\n",
       " None,\n",
       " None,\n",
       " None,\n",
       " None,\n",
       " None,\n",
       " None,\n",
       " None,\n",
       " None,\n",
       " None,\n",
       " None,\n",
       " None,\n",
       " None,\n",
       " None,\n",
       " None]"
      ]
     },
     "execution_count": 60,
     "metadata": {},
     "output_type": "execute_result"
    }
   ],
   "source": [
    "#B comprension\n",
    "[print('Iteración '+str(item)+','+str(item2)) for item in range(5) for item2 in range(3)]\n"
   ]
  },
  {
   "cell_type": "code",
   "execution_count": null,
   "metadata": {},
   "outputs": [],
   "source": []
  },
  {
   "cell_type": "markdown",
   "metadata": {},
   "source": [
    "## 4.8 Otras colecciones\n",
    "\n",
    "Esto que acabamos de decir se aplica por extensión a otras colecciones. Por ejemplo, podemos crear un diccionario de la misma forma, pero en este caso utilizamos llaves en lugar de corchetes."
   ]
  },
  {
   "cell_type": "code",
   "execution_count": 61,
   "metadata": {},
   "outputs": [
    {
     "name": "stdout",
     "output_type": "stream",
     "text": [
      "{1: 2, 2: 4, 3: 6, 4: 8, 5: 10, 6: 12, 7: 14, 8: 16, 9: 18, 10: 20}\n"
     ]
    }
   ],
   "source": [
    "#puedes hacer comprension de diccionarios igual que con las listas\n",
    "#usas llaves {} en vez de corchetes y el ':' para separar clave:valor\n",
    "#\n",
    "doubles = {n: n * 2 for n in range(1, 11)}\n",
    "print(doubles)"
   ]
  },
  {
   "cell_type": "code",
   "execution_count": null,
   "metadata": {},
   "outputs": [],
   "source": []
  },
  {
   "cell_type": "markdown",
   "metadata": {},
   "source": [
    "Más ejemplos aquí: https://cmdlinetips.com/2018/01/5-examples-using-dict-comprehension/#:~:text=In%20Python%2C%20dictionary%20is%20a,is%20associated%20with%20a%20key.&text=The%20idea%20used%20in%20list,key%3Avalue%20pair%20in%20expression."
   ]
  },
  {
   "cell_type": "markdown",
   "metadata": {},
   "source": [
    "Algo casi idéntico sintácticamente es la comprensión de conjuntos (sets), que también se realiza con llaves pero prescindiendo de los dos puntos."
   ]
  },
  {
   "cell_type": "code",
   "execution_count": 63,
   "metadata": {},
   "outputs": [
    {
     "name": "stdout",
     "output_type": "stream",
     "text": [
      "{8}\n"
     ]
    }
   ],
   "source": [
    "#puedes hacer comprension de conjuntos.\n",
    "#usas llaves {} pero sin ':'\n",
    "#\n",
    "doubles = {n * 2 for n in range(1, 11)}\n",
    "print(doubles)"
   ]
  },
  {
   "cell_type": "code",
   "execution_count": null,
   "metadata": {},
   "outputs": [],
   "source": []
  }
 ],
 "metadata": {
  "kernelspec": {
   "display_name": "Python 3",
   "language": "python",
   "name": "python3"
  },
  "language_info": {
   "codemirror_mode": {
    "name": "ipython",
    "version": 3
   },
   "file_extension": ".py",
   "mimetype": "text/x-python",
   "name": "python",
   "nbconvert_exporter": "python",
   "pygments_lexer": "ipython3",
   "version": "3.8.5"
  }
 },
 "nbformat": 4,
 "nbformat_minor": 4
}
