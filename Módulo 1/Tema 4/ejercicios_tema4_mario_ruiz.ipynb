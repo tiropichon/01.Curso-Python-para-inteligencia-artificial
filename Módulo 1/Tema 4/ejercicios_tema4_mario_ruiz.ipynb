{
 "cells": [
  {
   "cell_type": "code",
   "execution_count": 53,
   "metadata": {},
   "outputs": [
    {
     "name": "stdout",
     "output_type": "stream",
     "text": [
      "['orange', 'kiwi', 'melon', 'mango']\n"
     ]
    }
   ],
   "source": [
    "'''\n",
    "Dadas dos listas, debes generar una tercera con todos los \n",
    "elementos que se repitan en ellas, pero no debe repetirse ningún elemento \n",
    "en la nueva lista\n",
    "\n",
    "x=[\"apple\",\"banana\", \"cherry\",\"orange\",\"kiwi\",\"melon\",\"mango\"]\n",
    "y=[\"orange\",\"kiwi\",\"melon\",\"mango\"]\n",
    "'''\n",
    "lista1=[\"apple\",\"banana\", \"cherry\",\"orange\",\"kiwi\",\"melon\",\"mango\",\"melon\"]\n",
    "lista2=[\"orange\",\"kiwi\",\"melon\",\"mango\",\"mango\"]\n",
    "\n",
    "#inicializo una variable de tipo lista\n",
    "lista3=[]\n",
    "\n",
    "#Uso dos variables para recorrer las listas, indice1 para lista1, e indice2 para lista2\n",
    "for indice1 in range(0,len(lista1)):\n",
    "    for indice2 in range(0,len(lista2)):\n",
    "        #comparo los elementos de las listas, si los elementos son iguales...\n",
    "        if lista1[indice1] == lista2[indice2]:\n",
    "            #compruebo si ese elemento ya existe dentro de la nueva lista. Si no existe, lo añado\n",
    "            if not lista1[indice1] in lista3:\n",
    "                lista3.append(lista1[indice1])\n",
    "\n",
    "#muestro por pantalla el contenido de la lista\n",
    "print(lista3)"
   ]
  },
  {
   "cell_type": "code",
   "execution_count": 5,
   "metadata": {
    "scrolled": true
   },
   "outputs": [
    {
     "name": "stdout",
     "output_type": "stream",
     "text": [
      "Introduce la cantidad de números a introducir:5\n",
      "Introduce el numero nº 1:9\n",
      "Introduce el numero nº 2:99\n",
      "Introduce el numero nº 3:58\n",
      "Introduce el numero nº 4:63\n",
      "Introduce el numero nº 5:14\n",
      "Números introducidos: [9, 99, 58, 63, 14]\n",
      "Cantidad de números introducidos: 5\n",
      "Suma de las cantidades introducidas: 243\n",
      "Media de 243 entre 5 números introducidos es: 48.6\n"
     ]
    }
   ],
   "source": [
    "'''\n",
    "Realiza un programa que pida al usuario cuantos números quiere introducir.\n",
    "Luego lee todos los números y realiza una media aritmética\n",
    "'''\n",
    "'''\n",
    "Inicializo las variables. \n",
    "Lista[] va a contener los números que se van a introducir, para mostrarlos al final.\n",
    "cantidad es un entero que va a almacenar la cantidad de números que vamos a introducir\n",
    "numero es un entero que almacenará las cifras que se van introduciendo por input()\n",
    "suma es un entero que irá acumulando las cantidades correspondientes a las cifras que se introduzcan.\n",
    "media es una variable de tipo real, que almacenará la media de las cantidades introducidas\n",
    "contador es una entero auxiliar, para controlar el bucle while.\n",
    "'''\n",
    "\n",
    "lista=[]\n",
    "cantidad=0\n",
    "numero=0\n",
    "suma=0\n",
    "media=0.0\n",
    "contador=0\n",
    "\n",
    "#El usuario introduce cuantos números va a introducir\n",
    "cantidad=int(input(\"Introduce la cantidad de números a introducir:\"))\n",
    "\n",
    "#mientras contador sea menor que la cantidad de números que se van a introducir, se entra en el bucle\n",
    "while contador < cantidad:\n",
    "    #almaceno en la variable \"numero\" los números que se van introduciendo.\n",
    "    numero=int(input(\"Introduce el numero nº \" + str(contador+1)+\":\"))\n",
    "    #almaceno en una lista cada uno de los números, para mostrarlos al final\n",
    "    lista.append(numero)\n",
    "    #acumulo en \"suma\" las cantidades que se van introduciendo.\n",
    "    suma += numero\n",
    "    #Por cada número que introduzco, la variable \"contador\" se incrementa en 1\n",
    "    contador +=1\n",
    "\n",
    "#Calculo la media, dividiendo la variable suma, por la cantidad de números que se han introducido.\n",
    "#Éstos los obtengo a través de la longitud de la lista.\n",
    "media=round((suma/len(lista)),2)\n",
    "\n",
    "'''\n",
    "Por último, muestro todos los datos que contienen las variables del programa.\n",
    "'''\n",
    "print(\"Números introducidos:\",lista)\n",
    "print(\"Cantidad de números introducidos:\",len(lista))\n",
    "print(\"Suma de las cantidades introducidas:\",suma)\n",
    "print(\"Media de\",suma,\"entre\",len(lista),\"números introducidos es:\",media)"
   ]
  }
 ],
 "metadata": {
  "kernelspec": {
   "display_name": "Python 3",
   "language": "python",
   "name": "python3"
  },
  "language_info": {
   "codemirror_mode": {
    "name": "ipython",
    "version": 3
   },
   "file_extension": ".py",
   "mimetype": "text/x-python",
   "name": "python",
   "nbconvert_exporter": "python",
   "pygments_lexer": "ipython3",
   "version": "3.8.5"
  }
 },
 "nbformat": 4,
 "nbformat_minor": 4
}
