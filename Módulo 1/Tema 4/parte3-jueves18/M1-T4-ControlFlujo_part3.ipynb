{
 "cells": [
  {
   "cell_type": "markdown",
   "metadata": {},
   "source": [
    "## 4.9 Iteración sobre los elementos de un diccionario\n",
    "\n",
    "Como con cualquier otro contenedor, los elementos de un diccionario pueden obtenerse uno a uno hasta recorrer completamente todo su contenido. De nuevo, la sentencia `for` y el operador `in` harán la magia por nosotros:"
   ]
  },
  {
   "cell_type": "code",
   "execution_count": 4,
   "metadata": {},
   "outputs": [
    {
     "name": "stdout",
     "output_type": "stream",
     "text": [
      "nombre\n",
      "apellidos\n",
      "teléfono\n",
      "edad\n"
     ]
    }
   ],
   "source": [
    "d = {'nombre': 'Miriam', \n",
    "     'apellidos': 'García Martínez', \n",
    "     'teléfono': '555 34 34 34', \n",
    "     'edad': 21}\n",
    "for k in d:\n",
    "    print(k)"
   ]
  },
  {
   "cell_type": "code",
   "execution_count": 8,
   "metadata": {},
   "outputs": [
    {
     "name": "stdout",
     "output_type": "stream",
     "text": [
      "nombre\n",
      "apellidos\n",
      "teléfono\n",
      "edad\n"
     ]
    },
    {
     "data": {
      "text/plain": [
       "[None, None, None, None]"
      ]
     },
     "execution_count": 8,
     "metadata": {},
     "output_type": "execute_result"
    }
   ],
   "source": [
    "[print(k) for k in d]"
   ]
  },
  {
   "cell_type": "markdown",
   "metadata": {},
   "source": [
    "Si queremos mostrar los valores, bastaría con tomar la clave obtenida y reverenciarla:"
   ]
  },
  {
   "cell_type": "code",
   "execution_count": 5,
   "metadata": {},
   "outputs": [
    {
     "name": "stdout",
     "output_type": "stream",
     "text": [
      "Miriam\n",
      "García Martínez\n",
      "555 34 34 34\n",
      "21\n"
     ]
    }
   ],
   "source": [
    "for k in d:\n",
    "    print(d[k])"
   ]
  },
  {
   "cell_type": "code",
   "execution_count": 7,
   "metadata": {},
   "outputs": [
    {
     "name": "stdout",
     "output_type": "stream",
     "text": [
      "Miriam\n",
      "García Martínez\n",
      "555 34 34 34\n",
      "21\n"
     ]
    },
    {
     "data": {
      "text/plain": [
       "[None, None, None, None]"
      ]
     },
     "execution_count": 7,
     "metadata": {},
     "output_type": "execute_result"
    }
   ],
   "source": [
    "[print(d[k]) for k in d]"
   ]
  },
  {
   "cell_type": "markdown",
   "metadata": {},
   "source": [
    "Podemos lograr el mismo resultado de manera más eficiente accediendo a los valores mediante el método `values()`. El siguiente fragmento de código produciría el mismo resultado que el anterior, pero resulta más conveniente en términos de rendimiento, pues evita el cálculo del valor *hash* o valor resumen de una clave en cada iteración debido al uso de la expresión `d[k]`:"
   ]
  },
  {
   "cell_type": "code",
   "execution_count": 6,
   "metadata": {},
   "outputs": [
    {
     "name": "stdout",
     "output_type": "stream",
     "text": [
      "Miriam\n",
      "García Martínez\n",
      "555 34 34 34\n",
      "21\n"
     ]
    }
   ],
   "source": [
    "for v in d.values():\n",
    "    print(v)"
   ]
  },
  {
   "cell_type": "code",
   "execution_count": 6,
   "metadata": {},
   "outputs": [
    {
     "name": "stdout",
     "output_type": "stream",
     "text": [
      "Miriam\n",
      "García Martínez\n",
      "555 34 34 34\n",
      "21\n"
     ]
    },
    {
     "data": {
      "text/plain": [
       "[None, None, None, None]"
      ]
     },
     "execution_count": 6,
     "metadata": {},
     "output_type": "execute_result"
    }
   ],
   "source": [
    "[print(v) for v in d.values()]"
   ]
  },
  {
   "cell_type": "markdown",
   "metadata": {},
   "source": [
    "Si deseamos mostrar tanto clave como valor, el siguiente código es la forma más sencilla de lograrlo:"
   ]
  },
  {
   "cell_type": "code",
   "execution_count": 7,
   "metadata": {},
   "outputs": [
    {
     "name": "stdout",
     "output_type": "stream",
     "text": [
      "nombre -> Miriam\n",
      "apellidos -> García Martínez\n",
      "teléfono -> 555 34 34 34\n",
      "edad -> 21\n"
     ]
    }
   ],
   "source": [
    "for k in d:\n",
    "    print(k, '->', d[k])"
   ]
  },
  {
   "cell_type": "code",
   "execution_count": 5,
   "metadata": {},
   "outputs": [
    {
     "name": "stdout",
     "output_type": "stream",
     "text": [
      "nombre -> Miriam\n",
      "apellidos -> García Martínez\n",
      "teléfono -> 555 34 34 34\n",
      "edad -> 21\n"
     ]
    },
    {
     "data": {
      "text/plain": [
       "[None, None, None, None]"
      ]
     },
     "execution_count": 5,
     "metadata": {},
     "output_type": "execute_result"
    }
   ],
   "source": [
    "d = {'nombre': 'Miriam', \n",
    "     'apellidos': 'García Martínez', \n",
    "     'teléfono': '555 34 34 34', \n",
    "     'edad': 21}\n",
    "[print(k,'->',d[k]) for k in d]"
   ]
  },
  {
   "cell_type": "markdown",
   "metadata": {},
   "source": [
    "De igual forma, si estamos interesados en obtener los pares `<clave, valor>` de manera explícita y evitar el cálculo del valor resumen de la clave en cada iteración debido al uso de la expresión `d[k]`, disponemos del método `items()` para generar dichos pares. Este código tendría el mismo efecto que el anterior, pero resulta más recomendable:"
   ]
  },
  {
   "cell_type": "code",
   "execution_count": 8,
   "metadata": {},
   "outputs": [
    {
     "name": "stdout",
     "output_type": "stream",
     "text": [
      "nombre -> Miriam\n",
      "apellidos -> García Martínez\n",
      "teléfono -> 555 34 34 34\n",
      "edad -> 21\n"
     ]
    }
   ],
   "source": [
    "for k, v in d.items():\n",
    "    print(k, '->', v)"
   ]
  },
  {
   "cell_type": "code",
   "execution_count": 2,
   "metadata": {},
   "outputs": [
    {
     "name": "stdout",
     "output_type": "stream",
     "text": [
      "nombre -> Miriam\n",
      "apellidos -> García Martínez\n",
      "teléfono -> 555 34 34 34\n",
      "edad -> 21\n"
     ]
    },
    {
     "data": {
      "text/plain": [
       "[None, None, None, None]"
      ]
     },
     "execution_count": 2,
     "metadata": {},
     "output_type": "execute_result"
    }
   ],
   "source": [
    "d = {'nombre': 'Miriam', \n",
    "     'apellidos': 'García Martínez', \n",
    "     'teléfono': '555 34 34 34', \n",
    "     'edad': 21}\n",
    "[print(k,'->',v) for k,v in d.items()]"
   ]
  },
  {
   "cell_type": "markdown",
   "metadata": {},
   "source": [
    "###### Ejercicio 4M      El programa `Exercise4M.py` lee valores del teclado para crear una colección de contactos bajo la forma de lista de diccionarios. Solo cuando se introducen valores no vacíos, se almacenan en el diccionario. \n",
    "\n",
    "\n",
    "    El número total de contactos es indefinido y depende del usuario, al que se le pregunta si desea introducir más contactos después de cada uno de ellos. \n",
    "\n",
    "\n",
    "    Prueba este código en Spyder o otro IDE: ejecútalo e introduce los valores que pide el programa desde la terminal. Puedes pulsar Enter si no quieres indicar valor alguno para un campo. \n",
    "\n",
    "\n",
    "    Cuando seas capaz de ejecutarlo, añade las siguientes funcionalidades al programa. \n",
    "    \n",
    "1. Aumenta el programa con el código necesario para calcular y mostrar el número total de contactos almacenados y cuántos de ellos disponen correo electrónico.\n",
    "\n",
    "2. Una vez introducidos los datos, ¿qué código de una sola linea serviria para asignar al primer contacto los valores asignados al último.\n"
   ]
  },
  {
   "cell_type": "code",
   "execution_count": 9,
   "metadata": {},
   "outputs": [
    {
     "name": "stdout",
     "output_type": "stream",
     "text": [
      "nombre: m\n",
      "apellidos: m\n",
      "email: \n",
      "teléfono: 4545\n",
      "¿Introducir otro contacto? s/n:n\n",
      "nombre: m\n",
      "apellidos: m\n",
      "teléfono: 4545\n",
      "------\n",
      "Número total de contactos: 1\n",
      "Número de contactos con email: 0\n"
     ]
    }
   ],
   "source": [
    "# -*- coding: utf-8 -*-\n",
    "\"\"\"\n",
    "    Código fuente de ejemplos y ejercicios del libro\n",
    "    \"Curso de Programación Python\"\n",
    "    (C) Ediciones Anaya Multimedia 2019\n",
    "\n",
    "    Autores: Arturo Montejo Ráez y Salud María Jiménez Zafra\n",
    "\"\"\"\n",
    "# estos son los datos que vamos a solicitar para cada contacto\n",
    "campos = ('nombre', 'apellidos', 'email', 'teléfono')\n",
    "\n",
    "# esta lista contendrá todos los contactos\n",
    "contactos = []\n",
    "\n",
    "# inicialimos la variable 'seguir'\n",
    "seguir = 's'\n",
    "\n",
    "# mientras el valor de seguir sea 's' o 'S' introducimos contactos\n",
    "while seguir in ('s', 'S'):\n",
    "    \n",
    "    # este diccionario almacena los valores de un contacto\n",
    "    contacto = {}    \n",
    "    \n",
    "    # con este bucle preguntamos campo a campo\n",
    "    for campo in campos:\n",
    "        valor = input(campo + ': ')\n",
    "        \n",
    "        # si el usuario introduce algo, se almacena\n",
    "        if len(valor) > 0:\n",
    "            contacto[campo] = valor\n",
    "    \n",
    "    # añadimos el contacto a la lista\n",
    "    contactos.append(contacto)\n",
    "    \n",
    "    # preguntamos si seguimos añadiendo contactos\n",
    "    seguir = input('¿Introducir otro contacto? s/n:')\n",
    "    \n",
    "# mostramos todos los contactos\n",
    "for contacto in contactos:\n",
    "    \n",
    "    for k, v in contacto.items():\n",
    "        print(k + ': ' + v)\n",
    "        \n",
    "        \n",
    "    # mostramos esto para facilitar la lectura\n",
    "    print('------')\n",
    "   \n",
    "#Ejercicio 1\n",
    "#Muestra el número de contactos.\n",
    "print(\"Número total de contactos:\",len(contactos))\n",
    "\n",
    "#Muestra el número de contactos con email.\n",
    "#Comprueba que el elemento 'email' exista en las claves de contacto\n",
    "print(\"Número de contactos con email:\",\n",
    "      len([contacto for contacto in contactos if 'email' in contacto.keys()]))\n"
   ]
  },
  {
   "cell_type": "code",
   "execution_count": 13,
   "metadata": {},
   "outputs": [
    {
     "data": {
      "text/plain": [
       "\"{'nombre': 'm', 'apellidos': 'm', 'teléfono': '4545'}\""
      ]
     },
     "execution_count": 13,
     "metadata": {},
     "output_type": "execute_result"
    }
   ],
   "source": [
    "# Ejercicio 2\n",
    "# Una vez introducidos los datos, \n",
    "# ¿qué código de una sola linea serviria para \n",
    "# asignar al primer contacto los valores asignados al último.\n",
    "\n",
    "contactos[0] = contactos[-1]"
   ]
  },
  {
   "cell_type": "code",
   "execution_count": 12,
   "metadata": {},
   "outputs": [
    {
     "data": {
      "text/plain": [
       "'Escribe el código para mostrar los datos del usuario cuyo correo electrónico haya sido introducido por teclado. Si no existe contacto alguno con ese correo electrónico, se mostrara el mensaje “No encontrado”.'"
      ]
     },
     "execution_count": 12,
     "metadata": {},
     "output_type": "execute_result"
    }
   ],
   "source": [
    "'''Escribe el código para mostrar los datos del usuario cuyo correo electrónico haya sido introducido por teclado. Si no existe contacto alguno con ese correo electrónico, se mostrara el mensaje “No encontrado”.'''\n",
    "mail=str(input(\"Introduce un mail:\"))\n",
    "for contactos in contactos:\n",
    "    if 'email' in contacto.keys():\n",
    "        if mail in contacto.values():\n",
    "            print(\"Nombre:\",contacto['nombre'])\n",
    "            print(\"Apellidos:\",contacto['apellidos'])\n",
    "            print(\"E-mail:\",contacto['email'])\n",
    "            print(\"Teléfono:\",contacto['teléfono'])\n",
    "        else:\n",
    "           print(\"No encontrado\")\n"
   ]
  },
  {
   "cell_type": "markdown",
   "metadata": {},
   "source": [
    "###### Ejercicio 4N"
   ]
  },
  {
   "cell_type": "code",
   "execution_count": null,
   "metadata": {},
   "outputs": [],
   "source": []
  }
 ],
 "metadata": {
  "kernelspec": {
   "display_name": "Python 3",
   "language": "python",
   "name": "python3"
  },
  "language_info": {
   "codemirror_mode": {
    "name": "ipython",
    "version": 3
   },
   "file_extension": ".py",
   "mimetype": "text/x-python",
   "name": "python",
   "nbconvert_exporter": "python",
   "pygments_lexer": "ipython3",
   "version": "3.8.5"
  }
 },
 "nbformat": 4,
 "nbformat_minor": 4
}
