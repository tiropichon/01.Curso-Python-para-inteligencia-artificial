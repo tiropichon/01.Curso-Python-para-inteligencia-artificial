{
 "cells": [
  {
   "cell_type": "markdown",
   "metadata": {},
   "source": [
    "## 5 Iteradores & Generadores"
   ]
  },
  {
   "cell_type": "markdown",
   "metadata": {
    "colab_type": "text",
    "id": "UXYHRjQmGYJ-"
   },
   "source": [
    "### 5.1 Iterando en Python (*FUNDAMENTAL*)\n",
    "La iteración funciona utilizando el bucle `for` en objetos como listas o diccionarios"
   ]
  },
  {
   "cell_type": "code",
   "execution_count": 1,
   "metadata": {
    "colab": {
     "base_uri": "https://localhost:8080/",
     "height": 68
    },
    "colab_type": "code",
    "id": "F481P1gVQLmo",
    "outputId": "e5a18be0-fb14-4568-ce0e-5d6245c9f002"
   },
   "outputs": [
    {
     "name": "stdout",
     "output_type": "stream",
     "text": [
      "1\n",
      "2\n",
      "3\n"
     ]
    }
   ],
   "source": [
    "lista = [1,2,3]\n",
    "\n",
    "for x in lista:\n",
    "    print(x)"
   ]
  },
  {
   "cell_type": "markdown",
   "metadata": {
    "colab_type": "text",
    "id": "G8oJ2-jtRA_D"
   },
   "source": [
    "En los diccionarios, están predefinidas como iterables las palabras clave, en el orden en el que han sido insertadas"
   ]
  },
  {
   "cell_type": "code",
   "execution_count": 2,
   "metadata": {
    "colab": {
     "base_uri": "https://localhost:8080/",
     "height": 68
    },
    "colab_type": "code",
    "id": "MErTnCJVQZU5",
    "outputId": "28f39efb-9154-4f85-bff6-a1fb7f25ec19"
   },
   "outputs": [
    {
     "name": "stdout",
     "output_type": "stream",
     "text": [
      "prenda_1\n",
      "prenda_2\n",
      "prenda_3\n"
     ]
    }
   ],
   "source": [
    "diccionario = {'prenda_1':'pantalones',\n",
    "               'prenda_2':'camisa',\n",
    "               'prenda_3':'calcetines'}\n",
    "\n",
    "for x in diccionario:\n",
    "    print(x)"
   ]
  },
  {
   "cell_type": "markdown",
   "metadata": {
    "colab_type": "text",
    "id": "6JE_ujMpRpeY"
   },
   "source": [
    "Las cadenas también son iterables y el bucle `for` nos da cada caracter. Un error común aquí es pasar una serie de cadenas con el título del documento en vez de pasarlo como lista."
   ]
  },
  {
   "cell_type": "code",
   "execution_count": 3,
   "metadata": {
    "colab": {
     "base_uri": "https://localhost:8080/",
     "height": 187
    },
    "colab_type": "code",
    "id": "q7E586b1RcGG",
    "outputId": "cad27359-13c7-4553-82f4-c3d8821635e0"
   },
   "outputs": [
    {
     "name": "stdout",
     "output_type": "stream",
     "text": [
      "r\n",
      "e\n",
      "s\n",
      "u\n",
      "m\n",
      "e\n",
      ".\n",
      "p\n",
      "d\n",
      "f\n"
     ]
    }
   ],
   "source": [
    "for name in 'resume.pdf':\n",
    "    print(name)"
   ]
  },
  {
   "cell_type": "markdown",
   "metadata": {
    "colab_type": "text",
    "id": "XGfw_KY8SHUK"
   },
   "source": [
    "Ejercicios Tema 8: 1, 2 3 y 4"
   ]
  },
  {
   "cell_type": "markdown",
   "metadata": {},
   "source": [
    "#### Ejercicio 5A (*FUNDAMENTAL*): Iterando con for en una tupla y un set. \n",
    "¿Se puede aplicar el bucle for sobre una tupla? Crea una tupla y compruébalo. \n",
    "\n",
    "¿Se puede aplicar el bucle for sobre un set? Declara el set nums con los elementos 3, 4, 5, 3, 7, 4, 8 y utiliza el bucle for para mostrar en pantalla los elementos contenidos en el set."
   ]
  },
  {
   "cell_type": "code",
   "execution_count": 10,
   "metadata": {},
   "outputs": [
    {
     "name": "stdout",
     "output_type": "stream",
     "text": [
      "<class 'tuple'>\n",
      "1\n",
      "2\n",
      "3\n",
      "3\n",
      "4\n",
      "5\n",
      "<class 'set'>\n",
      "3\n",
      "4\n",
      "5\n",
      "7\n",
      "8\n"
     ]
    }
   ],
   "source": [
    "tupla=(1,2,3,3,4,5)\n",
    "print(type(tupla))\n",
    "for i in tupla:\n",
    "    print(i)\n",
    "    \n",
    "conjunto={3,4,5,3,7,4,8}\n",
    "print(type(conjunto))\n",
    "for i in conjunto:\n",
    "    print(i)"
   ]
  },
  {
   "cell_type": "code",
   "execution_count": null,
   "metadata": {},
   "outputs": [],
   "source": [
    "myt=tuple()\n",
    "myt.__len__()"
   ]
  },
  {
   "cell_type": "markdown",
   "metadata": {
    "colab_type": "text",
    "id": "g2rD1bJbWQZ3"
   },
   "source": [
    "PRESENTACIÓN Tema 8 - Diapositivas 8-17"
   ]
  },
  {
   "cell_type": "code",
   "execution_count": 12,
   "metadata": {},
   "outputs": [
    {
     "name": "stdout",
     "output_type": "stream",
     "text": [
      "0\n",
      "1\n",
      "2\n",
      "3\n"
     ]
    },
    {
     "ename": "IndexError",
     "evalue": "list index out of range",
     "output_type": "error",
     "traceback": [
      "\u001b[1;31m---------------------------------------------------------------------------\u001b[0m",
      "\u001b[1;31mIndexError\u001b[0m                                Traceback (most recent call last)",
      "\u001b[1;32m<ipython-input-12-f2e8d0eed689>\u001b[0m in \u001b[0;36m<module>\u001b[1;34m\u001b[0m\n\u001b[0;32m      4\u001b[0m \u001b[0mprint\u001b[0m\u001b[1;33m(\u001b[0m\u001b[0mmylist\u001b[0m\u001b[1;33m[\u001b[0m\u001b[1;36m2\u001b[0m\u001b[1;33m]\u001b[0m\u001b[1;33m)\u001b[0m\u001b[1;33m\u001b[0m\u001b[1;33m\u001b[0m\u001b[0m\n\u001b[0;32m      5\u001b[0m \u001b[0mprint\u001b[0m\u001b[1;33m(\u001b[0m\u001b[0mmylist\u001b[0m\u001b[1;33m[\u001b[0m\u001b[1;36m3\u001b[0m\u001b[1;33m]\u001b[0m\u001b[1;33m)\u001b[0m\u001b[1;33m\u001b[0m\u001b[1;33m\u001b[0m\u001b[0m\n\u001b[1;32m----> 6\u001b[1;33m \u001b[0mprint\u001b[0m\u001b[1;33m(\u001b[0m\u001b[0mmylist\u001b[0m\u001b[1;33m[\u001b[0m\u001b[1;36m4\u001b[0m\u001b[1;33m]\u001b[0m\u001b[1;33m)\u001b[0m\u001b[1;33m\u001b[0m\u001b[1;33m\u001b[0m\u001b[0m\n\u001b[0m",
      "\u001b[1;31mIndexError\u001b[0m: list index out of range"
     ]
    }
   ],
   "source": [
    "mylist=[0,1,2,3]\n",
    "print(mylist[0])\n",
    "print(mylist[1])\n",
    "print(mylist[2])\n",
    "print(mylist[3])\n",
    "print(mylist[4])"
   ]
  },
  {
   "cell_type": "markdown",
   "metadata": {
    "colab_type": "text",
    "id": "szVL4tRnVfuT"
   },
   "source": [
    "El \"Iterator Protocol\" en acción:"
   ]
  },
  {
   "cell_type": "code",
   "execution_count": 14,
   "metadata": {
    "colab": {
     "base_uri": "https://localhost:8080/",
     "height": 34
    },
    "colab_type": "code",
    "id": "ivcbL-w5x7QS",
    "outputId": "5aac6167-a3e6-43a6-802e-d1e2d4de84cc"
   },
   "outputs": [
    {
     "name": "stdout",
     "output_type": "stream",
     "text": [
      "<class 'list_iterator'>\n"
     ]
    },
    {
     "data": {
      "text/plain": [
       "0"
      ]
     },
     "execution_count": 14,
     "metadata": {},
     "output_type": "execute_result"
    }
   ],
   "source": [
    "r=[0,1,2,3]\n",
    "#r = range(4)\n",
    "it = iter(r)\n",
    "print(type(it))\n",
    "next(it)"
   ]
  },
  {
   "cell_type": "code",
   "execution_count": 15,
   "metadata": {
    "colab": {
     "base_uri": "https://localhost:8080/",
     "height": 34
    },
    "colab_type": "code",
    "id": "hIjdvFQxYBtC",
    "outputId": "52257c7e-4bce-4fc1-ce02-aa5e87f7f50a"
   },
   "outputs": [
    {
     "data": {
      "text/plain": [
       "1"
      ]
     },
     "execution_count": 15,
     "metadata": {},
     "output_type": "execute_result"
    }
   ],
   "source": [
    "next(it)"
   ]
  },
  {
   "cell_type": "code",
   "execution_count": 16,
   "metadata": {
    "colab": {
     "base_uri": "https://localhost:8080/",
     "height": 34
    },
    "colab_type": "code",
    "id": "m33wTPKxYDsL",
    "outputId": "58d438fb-ca1e-415b-fb34-1a4472597b07"
   },
   "outputs": [
    {
     "data": {
      "text/plain": [
       "2"
      ]
     },
     "execution_count": 16,
     "metadata": {},
     "output_type": "execute_result"
    }
   ],
   "source": [
    "next(it)"
   ]
  },
  {
   "cell_type": "code",
   "execution_count": 17,
   "metadata": {
    "colab": {
     "base_uri": "https://localhost:8080/",
     "height": 34
    },
    "colab_type": "code",
    "id": "nfxu1PnYYGgA",
    "outputId": "4a6c5eba-4aba-4425-e86e-05d16307e82f"
   },
   "outputs": [
    {
     "data": {
      "text/plain": [
       "3"
      ]
     },
     "execution_count": 17,
     "metadata": {},
     "output_type": "execute_result"
    }
   ],
   "source": [
    "next(it)"
   ]
  },
  {
   "cell_type": "code",
   "execution_count": 18,
   "metadata": {
    "colab": {
     "base_uri": "https://localhost:8080/",
     "height": 164
    },
    "colab_type": "code",
    "id": "Rn35Oe1NYI0F",
    "outputId": "e58cbb99-f911-4356-9e89-e79d24e0ec49"
   },
   "outputs": [
    {
     "ename": "StopIteration",
     "evalue": "",
     "output_type": "error",
     "traceback": [
      "\u001b[1;31m---------------------------------------------------------------------------\u001b[0m",
      "\u001b[1;31mStopIteration\u001b[0m                             Traceback (most recent call last)",
      "\u001b[1;32m<ipython-input-18-bc1ab118995a>\u001b[0m in \u001b[0;36m<module>\u001b[1;34m\u001b[0m\n\u001b[1;32m----> 1\u001b[1;33m \u001b[0mnext\u001b[0m\u001b[1;33m(\u001b[0m\u001b[0mit\u001b[0m\u001b[1;33m)\u001b[0m\u001b[1;33m\u001b[0m\u001b[1;33m\u001b[0m\u001b[0m\n\u001b[0m",
      "\u001b[1;31mStopIteration\u001b[0m: "
     ]
    }
   ],
   "source": [
    "next(it)"
   ]
  },
  {
   "cell_type": "markdown",
   "metadata": {
    "colab_type": "text",
    "id": "mNCqiBnvZ5Yn"
   },
   "source": [
    "Cuando ya no quedaban más elementos en el iterador, aparece la excepción `StopIteration`"
   ]
  },
  {
   "cell_type": "markdown",
   "metadata": {
    "colab_type": "text",
    "id": "Crj0xNJkaGmz"
   },
   "source": [
    "Probamos con una cadena:"
   ]
  },
  {
   "cell_type": "code",
   "execution_count": 19,
   "metadata": {
    "colab": {
     "base_uri": "https://localhost:8080/",
     "height": 35
    },
    "colab_type": "code",
    "id": "s5d4q3w3aJky",
    "outputId": "08c2518d-9686-47e7-e125-6f71ac1cd5ea"
   },
   "outputs": [
    {
     "data": {
      "text/plain": [
       "'H'"
      ]
     },
     "execution_count": 19,
     "metadata": {},
     "output_type": "execute_result"
    }
   ],
   "source": [
    "saludo = \"Hola Mundo\"\n",
    "letra = iter(saludo)\n",
    "next(letra)"
   ]
  },
  {
   "cell_type": "code",
   "execution_count": 20,
   "metadata": {},
   "outputs": [
    {
     "data": {
      "text/plain": [
       "str_iterator"
      ]
     },
     "execution_count": 20,
     "metadata": {},
     "output_type": "execute_result"
    }
   ],
   "source": [
    "type(letra)"
   ]
  },
  {
   "cell_type": "code",
   "execution_count": 21,
   "metadata": {
    "colab": {
     "base_uri": "https://localhost:8080/",
     "height": 35
    },
    "colab_type": "code",
    "id": "TC7NdWpGbYqd",
    "outputId": "c2d59e16-d30c-4680-ee73-7fc64782fec8"
   },
   "outputs": [
    {
     "data": {
      "text/plain": [
       "'o'"
      ]
     },
     "execution_count": 21,
     "metadata": {},
     "output_type": "execute_result"
    }
   ],
   "source": [
    "next(letra)"
   ]
  },
  {
   "cell_type": "code",
   "execution_count": 22,
   "metadata": {
    "colab": {
     "base_uri": "https://localhost:8080/",
     "height": 317
    },
    "colab_type": "code",
    "id": "a4Ep-vs-bb7u",
    "outputId": "20912ccf-36e7-474f-9273-286d9b40e0fa",
    "scrolled": true
   },
   "outputs": [
    {
     "name": "stdout",
     "output_type": "stream",
     "text": [
      "l\n",
      "a\n",
      " \n",
      "M\n",
      "u\n",
      "n\n",
      "d\n",
      "o\n"
     ]
    },
    {
     "ename": "StopIteration",
     "evalue": "",
     "output_type": "error",
     "traceback": [
      "\u001b[1;31m---------------------------------------------------------------------------\u001b[0m",
      "\u001b[1;31mStopIteration\u001b[0m                             Traceback (most recent call last)",
      "\u001b[1;32m<ipython-input-22-22c4425cbf34>\u001b[0m in \u001b[0;36m<module>\u001b[1;34m\u001b[0m\n\u001b[0;32m      1\u001b[0m \u001b[1;32mwhile\u001b[0m \u001b[0mletra\u001b[0m\u001b[1;33m:\u001b[0m\u001b[1;33m\u001b[0m\u001b[1;33m\u001b[0m\u001b[0m\n\u001b[1;32m----> 2\u001b[1;33m     \u001b[0mprint\u001b[0m\u001b[1;33m(\u001b[0m\u001b[0mnext\u001b[0m\u001b[1;33m(\u001b[0m\u001b[0mletra\u001b[0m\u001b[1;33m)\u001b[0m\u001b[1;33m)\u001b[0m\u001b[1;33m\u001b[0m\u001b[1;33m\u001b[0m\u001b[0m\n\u001b[0m",
      "\u001b[1;31mStopIteration\u001b[0m: "
     ]
    }
   ],
   "source": [
    "while letra:\n",
    "    print(next(letra))"
   ]
  },
  {
   "cell_type": "markdown",
   "metadata": {
    "colab_type": "text",
    "id": "7rtxB1lDb96e"
   },
   "source": [
    "Ahora con una tupla:"
   ]
  },
  {
   "cell_type": "code",
   "execution_count": 23,
   "metadata": {
    "colab": {
     "base_uri": "https://localhost:8080/",
     "height": 34
    },
    "colab_type": "code",
    "id": "vNBfkOC9cDd9",
    "outputId": "07585964-00f0-4fad-8316-66068ad6a384"
   },
   "outputs": [
    {
     "data": {
      "text/plain": [
       "2"
      ]
     },
     "execution_count": 23,
     "metadata": {},
     "output_type": "execute_result"
    }
   ],
   "source": [
    "tupla = (2,3)\n",
    "it = iter(tupla)\n",
    "\n",
    "next(it)"
   ]
  },
  {
   "cell_type": "code",
   "execution_count": 25,
   "metadata": {
    "colab": {
     "base_uri": "https://localhost:8080/",
     "height": 34
    },
    "colab_type": "code",
    "id": "1bXwAzT2cOWs",
    "outputId": "2567435f-f75b-4cf4-a6c5-c371d20418ca"
   },
   "outputs": [
    {
     "ename": "StopIteration",
     "evalue": "",
     "output_type": "error",
     "traceback": [
      "\u001b[1;31m---------------------------------------------------------------------------\u001b[0m",
      "\u001b[1;31mStopIteration\u001b[0m                             Traceback (most recent call last)",
      "\u001b[1;32m<ipython-input-25-bc1ab118995a>\u001b[0m in \u001b[0;36m<module>\u001b[1;34m\u001b[0m\n\u001b[1;32m----> 1\u001b[1;33m \u001b[0mnext\u001b[0m\u001b[1;33m(\u001b[0m\u001b[0mit\u001b[0m\u001b[1;33m)\u001b[0m\u001b[1;33m\u001b[0m\u001b[1;33m\u001b[0m\u001b[0m\n\u001b[0m",
      "\u001b[1;31mStopIteration\u001b[0m: "
     ]
    }
   ],
   "source": [
    "next(it)"
   ]
  },
  {
   "cell_type": "markdown",
   "metadata": {
    "colab_type": "text",
    "id": "W1W6l6Y8fzhe"
   },
   "source": [
    "Otro ejemplo con tuplas"
   ]
  },
  {
   "cell_type": "code",
   "execution_count": 26,
   "metadata": {
    "colab": {
     "base_uri": "https://localhost:8080/",
     "height": 68
    },
    "colab_type": "code",
    "id": "EZpzuNubSlc9",
    "outputId": "8f55f40a-3ff2-4f9d-b612-a5c5225372e6",
    "scrolled": true
   },
   "outputs": [
    {
     "name": "stdout",
     "output_type": "stream",
     "text": [
      "apple\n",
      "banana\n",
      "cherry\n"
     ]
    }
   ],
   "source": [
    "mytuple = (\"apple\", \"banana\", \"cherry\")\n",
    "myit = iter(mytuple)\n",
    "\n",
    "print(next(myit))\n",
    "print(next(myit))\n",
    "print(next(myit))"
   ]
  },
  {
   "cell_type": "markdown",
   "metadata": {
    "colab_type": "text",
    "id": "qJOcya-fiPnM"
   },
   "source": [
    "También podemos obtener iteradores a partir de estructuras de datos mutables, como las listas:"
   ]
  },
  {
   "cell_type": "code",
   "execution_count": 27,
   "metadata": {
    "colab": {
     "base_uri": "https://localhost:8080/",
     "height": 34
    },
    "colab_type": "code",
    "id": "7wRPgrX6TB6Z",
    "outputId": "95a0cea5-88ff-45b5-a6ed-b5cf7c0db152"
   },
   "outputs": [
    {
     "data": {
      "text/plain": [
       "1.2"
      ]
     },
     "execution_count": 27,
     "metadata": {},
     "output_type": "execute_result"
    }
   ],
   "source": [
    "medidas = [1.2, 3.2, 4.0, 2.4]\n",
    "medida = iter(medidas)\n",
    "\n",
    "next(medida)"
   ]
  },
  {
   "cell_type": "code",
   "execution_count": 28,
   "metadata": {
    "colab": {
     "base_uri": "https://localhost:8080/",
     "height": 34
    },
    "colab_type": "code",
    "id": "2NibU2ZVi7au",
    "outputId": "b0f59a52-793a-4fb6-bad3-7eb6ed8bfc92"
   },
   "outputs": [
    {
     "data": {
      "text/plain": [
       "3.2"
      ]
     },
     "execution_count": 28,
     "metadata": {},
     "output_type": "execute_result"
    }
   ],
   "source": [
    "next(medida)"
   ]
  },
  {
   "cell_type": "code",
   "execution_count": 31,
   "metadata": {
    "colab": {
     "base_uri": "https://localhost:8080/",
     "height": 34
    },
    "colab_type": "code",
    "id": "C78BosSdjR3b",
    "outputId": "eaf41c81-552b-4d17-e840-813b888ef07e"
   },
   "outputs": [
    {
     "ename": "StopIteration",
     "evalue": "",
     "output_type": "error",
     "traceback": [
      "\u001b[1;31m---------------------------------------------------------------------------\u001b[0m",
      "\u001b[1;31mStopIteration\u001b[0m                             Traceback (most recent call last)",
      "\u001b[1;32m<ipython-input-31-04774d87f025>\u001b[0m in \u001b[0;36m<module>\u001b[1;34m\u001b[0m\n\u001b[1;32m----> 1\u001b[1;33m \u001b[0mnext\u001b[0m\u001b[1;33m(\u001b[0m\u001b[0mmedida\u001b[0m\u001b[1;33m)\u001b[0m\u001b[1;33m\u001b[0m\u001b[1;33m\u001b[0m\u001b[0m\n\u001b[0m",
      "\u001b[1;31mStopIteration\u001b[0m: "
     ]
    }
   ],
   "source": [
    "next(medida)"
   ]
  },
  {
   "cell_type": "markdown",
   "metadata": {
    "colab_type": "text",
    "id": "g8-0XrABaL96"
   },
   "source": [
    "Y ahora, podemos trabajar con el diccionario que habíamos pasado por un bucle *for* antes:"
   ]
  },
  {
   "cell_type": "code",
   "execution_count": 32,
   "metadata": {
    "colab": {
     "base_uri": "https://localhost:8080/",
     "height": 68
    },
    "colab_type": "code",
    "id": "ENV8Op7wZ8Rg",
    "outputId": "3b9e7f83-8563-470b-c837-3185a0ce4ce9"
   },
   "outputs": [
    {
     "name": "stdout",
     "output_type": "stream",
     "text": [
      "prenda_1\n",
      "prenda_2\n",
      "prenda_3\n"
     ]
    }
   ],
   "source": [
    "diccionario = {'prenda_1':'pantalones','prenda_2':'camisa','prenda_3':'calcetines'}\n",
    "\n",
    "it_diccionario = iter(diccionario)\n",
    "\n",
    "print(next(it_diccionario))\n",
    "print(next(it_diccionario))\n",
    "print(next(it_diccionario))"
   ]
  },
  {
   "cell_type": "code",
   "execution_count": 33,
   "metadata": {},
   "outputs": [
    {
     "data": {
      "text/plain": [
       "dict_keyiterator"
      ]
     },
     "execution_count": 33,
     "metadata": {},
     "output_type": "execute_result"
    }
   ],
   "source": [
    "type(it_diccionario)"
   ]
  },
  {
   "cell_type": "code",
   "execution_count": 40,
   "metadata": {},
   "outputs": [
    {
     "data": {
      "text/plain": [
       "2"
      ]
     },
     "execution_count": 40,
     "metadata": {},
     "output_type": "execute_result"
    }
   ],
   "source": [
    "mylist=[2,3,4]\n",
    "#next(mylist)\n",
    "\n",
    "it = iter(mylist)\n",
    "next(it)\n"
   ]
  },
  {
   "cell_type": "markdown",
   "metadata": {
    "colab_type": "text",
    "id": "9yWtyYCYd4l0"
   },
   "source": [
    "PRESENTACIÓN Tema 8, diapositiva 18"
   ]
  },
  {
   "cell_type": "markdown",
   "metadata": {
    "colab_type": "text",
    "id": "ANEMRR_WhEQT"
   },
   "source": [
    "Un iterable puede ser utilizado para crear un iterador, pero no es un iterador \"per se\". Por ejemplo, range, en Python 3 es un iterable, pero no un iterador. Si hacemos un dir sobre range, vemos que tiene el método iter, por lo que puede generar un iterador, pero no tiene el método next."
   ]
  },
  {
   "cell_type": "code",
   "execution_count": 41,
   "metadata": {
    "colab": {
     "base_uri": "https://localhost:8080/",
     "height": 595
    },
    "colab_type": "code",
    "id": "sBC6bNT-dakH",
    "outputId": "2da56b99-10ed-4225-86e2-a4f5d709c6e9"
   },
   "outputs": [
    {
     "data": {
      "text/plain": [
       "['__bool__',\n",
       " '__class__',\n",
       " '__contains__',\n",
       " '__delattr__',\n",
       " '__dir__',\n",
       " '__doc__',\n",
       " '__eq__',\n",
       " '__format__',\n",
       " '__ge__',\n",
       " '__getattribute__',\n",
       " '__getitem__',\n",
       " '__gt__',\n",
       " '__hash__',\n",
       " '__init__',\n",
       " '__init_subclass__',\n",
       " '__iter__',\n",
       " '__le__',\n",
       " '__len__',\n",
       " '__lt__',\n",
       " '__ne__',\n",
       " '__new__',\n",
       " '__reduce__',\n",
       " '__reduce_ex__',\n",
       " '__repr__',\n",
       " '__reversed__',\n",
       " '__setattr__',\n",
       " '__sizeof__',\n",
       " '__str__',\n",
       " '__subclasshook__',\n",
       " 'count',\n",
       " 'index',\n",
       " 'start',\n",
       " 'step',\n",
       " 'stop']"
      ]
     },
     "execution_count": 41,
     "metadata": {},
     "output_type": "execute_result"
    }
   ],
   "source": [
    "dir(range(2))"
   ]
  },
  {
   "cell_type": "markdown",
   "metadata": {
    "colab_type": "text",
    "id": "A5ZinA3eieqy"
   },
   "source": [
    "Al crear el iterador a partir del iterable, si hacemos dir, ya sí tiene el método next."
   ]
  },
  {
   "cell_type": "code",
   "execution_count": 42,
   "metadata": {
    "colab": {},
    "colab_type": "code",
    "id": "UeBAYS_lhAv0"
   },
   "outputs": [],
   "source": [
    "r_iter = iter(range(2))"
   ]
  },
  {
   "cell_type": "code",
   "execution_count": 43,
   "metadata": {
    "colab": {
     "base_uri": "https://localhost:8080/",
     "height": 476
    },
    "colab_type": "code",
    "id": "BVUXDEo4iVKs",
    "outputId": "60e8600d-ab82-4d74-d353-82b8abaaa394"
   },
   "outputs": [
    {
     "data": {
      "text/plain": [
       "['__class__',\n",
       " '__delattr__',\n",
       " '__dir__',\n",
       " '__doc__',\n",
       " '__eq__',\n",
       " '__format__',\n",
       " '__ge__',\n",
       " '__getattribute__',\n",
       " '__gt__',\n",
       " '__hash__',\n",
       " '__init__',\n",
       " '__init_subclass__',\n",
       " '__iter__',\n",
       " '__le__',\n",
       " '__length_hint__',\n",
       " '__lt__',\n",
       " '__ne__',\n",
       " '__new__',\n",
       " '__next__',\n",
       " '__reduce__',\n",
       " '__reduce_ex__',\n",
       " '__repr__',\n",
       " '__setattr__',\n",
       " '__setstate__',\n",
       " '__sizeof__',\n",
       " '__str__',\n",
       " '__subclasshook__']"
      ]
     },
     "execution_count": 43,
     "metadata": {},
     "output_type": "execute_result"
    }
   ],
   "source": [
    "dir(r_iter)"
   ]
  },
  {
   "cell_type": "markdown",
   "metadata": {},
   "source": [
    "#### Ejercicio 5B (*MEDIO*): Diferencia entre un iterable y un iterador\n",
    "Imagina que debes explicar a alguien la diferencia entre un iterable y un iterador. Escribe un ejemplo con Python que lo ilustre y añade los comentarios correspondientes."
   ]
  },
  {
   "cell_type": "markdown",
   "metadata": {
    "colab_type": "text",
    "id": "8XkTH8INkx18"
   },
   "source": [
    "### 5.2 Creando un iterador (*AVANZADO*)\n",
    "Vamos a crear la clase Counter que se adhiere al \"Iterator Protocol\", para lo cual hay que definir los métodos especiales al crearla"
   ]
  },
  {
   "cell_type": "code",
   "execution_count": null,
   "metadata": {
    "colab": {},
    "colab_type": "code",
    "id": "fSSqk1ayiZZO"
   },
   "outputs": [],
   "source": [
    "class Counter(object):\n",
    "    def __init__(self, size):\n",
    "        self.size = size\n",
    "        self.start = 0\n",
    "  \n",
    "    def __iter__(self):\n",
    "        print(\"Se ha llamado al método iter\", self.size)\n",
    "        return self\n",
    "  \n",
    "    def __next__(self):\n",
    "        if self.start < self.size:\n",
    "            self.start = self.start + 1\n",
    "            return self.start\n",
    "        raise StopIteration"
   ]
  },
  {
   "cell_type": "code",
   "execution_count": null,
   "metadata": {
    "colab": {
     "base_uri": "https://localhost:8080/",
     "height": 85
    },
    "colab_type": "code",
    "id": "4RvsP3Rel2dO",
    "outputId": "185bcce6-b109-4465-a563-b5e4866cddce"
   },
   "outputs": [],
   "source": [
    "c = Counter(3)\n",
    "\n",
    "for num in c:\n",
    "    print(num)"
   ]
  },
  {
   "cell_type": "markdown",
   "metadata": {
    "colab_type": "text",
    "id": "sdlke2IqIe5i"
   },
   "source": [
    "Y comprobamos que el protocolo se cumple:"
   ]
  },
  {
   "cell_type": "code",
   "execution_count": null,
   "metadata": {
    "colab": {
     "base_uri": "https://localhost:8080/",
     "height": 51
    },
    "colab_type": "code",
    "id": "RoB1ej3sl927",
    "outputId": "3c96b324-a474-45ff-ac3d-34815c8f1730"
   },
   "outputs": [],
   "source": [
    "c = Counter(2)\n",
    "\n",
    "c_iter = iter(c)\n",
    "next(c_iter)"
   ]
  },
  {
   "cell_type": "code",
   "execution_count": null,
   "metadata": {
    "colab": {
     "base_uri": "https://localhost:8080/",
     "height": 34
    },
    "colab_type": "code",
    "id": "UWDZNCR_I4-I",
    "outputId": "57e5c1e0-8bce-48f6-91b0-b554c05d487b"
   },
   "outputs": [],
   "source": [
    "next(c_iter)"
   ]
  },
  {
   "cell_type": "code",
   "execution_count": null,
   "metadata": {
    "colab": {
     "base_uri": "https://localhost:8080/",
     "height": 249
    },
    "colab_type": "code",
    "id": "mpC4w9E_JAhr",
    "outputId": "31935bed-f69b-4678-d95f-3fc3b531e5b5"
   },
   "outputs": [],
   "source": [
    "next(c_iter)"
   ]
  },
  {
   "cell_type": "markdown",
   "metadata": {
    "colab_type": "text",
    "id": "V9Ly7ARDJlrt"
   },
   "source": [
    "Decimos que Counter es un \"iterador propio\" o \"self iterator\", porque al llamar al método iter, se devuelve el mismo objeto como iterador. La mayoría de iterables, ya hemos visto que no son iteradores en sí mismos. Lo podemos ver:"
   ]
  },
  {
   "cell_type": "code",
   "execution_count": null,
   "metadata": {
    "colab": {
     "base_uri": "https://localhost:8080/",
     "height": 34
    },
    "colab_type": "code",
    "id": "dcS2zzoGJEA9",
    "outputId": "318f024d-d753-482e-db94-f31fef661d3a"
   },
   "outputs": [],
   "source": [
    "print(c)"
   ]
  },
  {
   "cell_type": "code",
   "execution_count": null,
   "metadata": {
    "colab": {
     "base_uri": "https://localhost:8080/",
     "height": 51
    },
    "colab_type": "code",
    "id": "4tttRCSIKKqj",
    "outputId": "1c5e4c69-1909-4ab8-ffc8-7180c19a45a5"
   },
   "outputs": [],
   "source": [
    "print(iter(c))"
   ]
  },
  {
   "cell_type": "markdown",
   "metadata": {
    "colab_type": "text",
    "id": "3uxUraKUKS9m"
   },
   "source": [
    "El id para ambos es el mismo"
   ]
  },
  {
   "cell_type": "code",
   "execution_count": null,
   "metadata": {
    "colab": {
     "base_uri": "https://localhost:8080/",
     "height": 51
    },
    "colab_type": "code",
    "id": "ZvVP4cUQKPzY",
    "outputId": "052a17e8-7809-4ccf-baf0-08f017baa797"
   },
   "outputs": [],
   "source": [
    "id(c) == id(iter(c))"
   ]
  },
  {
   "cell_type": "markdown",
   "metadata": {
    "colab_type": "text",
    "id": "KMwgs0onKjQ-"
   },
   "source": [
    "SON el mismo objeto\n",
    "\n",
    "Esto no pasa con otras secuencias, que son iterables pero no iteradores"
   ]
  },
  {
   "cell_type": "code",
   "execution_count": null,
   "metadata": {
    "colab": {
     "base_uri": "https://localhost:8080/",
     "height": 34
    },
    "colab_type": "code",
    "id": "cpNhRec_Kgiz",
    "outputId": "aff6853a-994c-4bb2-fe19-a945b01a6419"
   },
   "outputs": [],
   "source": [
    "items = [1,2,3]\n",
    "\n",
    "id(items) == id(iter(items))"
   ]
  },
  {
   "cell_type": "markdown",
   "metadata": {
    "colab_type": "text",
    "id": "MNB9KEwsMvOd"
   },
   "source": [
    "### 5.3 Agotamiento de un iterador (Iterator exhaustion) (*AVANZADO*)\n",
    "Ya hemos dicho que un iterador está pensado para ser utilizado, en todo su recorrido iterativo, solo una vez. Es importante tener en cuenta este comportamiento en la arquitectura del código para evitar problemas.\n",
    "\n",
    "Vamos a verlo con un ejemplo"
   ]
  },
  {
   "cell_type": "code",
   "execution_count": null,
   "metadata": {
    "colab": {
     "base_uri": "https://localhost:8080/",
     "height": 119
    },
    "colab_type": "code",
    "id": "saxXj91WLjvG",
    "outputId": "ae93d920-571d-4a6a-d17e-209c2e7809cd"
   },
   "outputs": [],
   "source": [
    "c2 = Counter(2)\n",
    "c3 = Counter(3)\n",
    "# Vamos a crear una matriz \n",
    "for x in c2:\n",
    "    for y in c3:\n",
    "        print(x,y)\n"
   ]
  },
  {
   "cell_type": "markdown",
   "metadata": {
    "colab_type": "text",
    "id": "8yl3b3fjOq5K"
   },
   "source": [
    "¿Qué ha pasado? nos falta la segunda vuelta en c2...\n",
    "\n",
    "Después de iniciar la iteración en c2 con su primer elemento 1, pasamos a recorrer c3 y llegamos al final de c3, de manera que internamente surge StopIteration. Decimos que c3 está exhausto.\n",
    "\n",
    "Cuando el flujo de control vuelve al iterador c2, se produce una invocación al elemento 2 y al tratar de volver a invocar el primer elemento de c3, surge StopIteration y se detiene la ejecución.\n",
    "\n",
    "La clase range en Python 3, no sufre este agotamiento pues no es un iterador en sí mismo. En este caso, nos serviría mejor que la clase Counter (pero solo para este ejemplo)"
   ]
  },
  {
   "cell_type": "code",
   "execution_count": null,
   "metadata": {
    "colab": {
     "base_uri": "https://localhost:8080/",
     "height": 119
    },
    "colab_type": "code",
    "id": "b6U7uBhBOmkS",
    "outputId": "b96dc3cb-c95d-4da5-a766-9d965667d475"
   },
   "outputs": [],
   "source": [
    "r2 = range(1,3)\n",
    "r3 = range(1,4)\n",
    "for x in r2:\n",
    "    for y in r3:\n",
    "        print(x,y)"
   ]
  },
  {
   "cell_type": "markdown",
   "metadata": {
    "colab_type": "text",
    "id": "_mS5BkJPfLvR"
   },
   "source": [
    "En general, una solución será introducir el método dentro del ciclo para que se cree el iterador cada vez que sea necesario"
   ]
  },
  {
   "cell_type": "code",
   "execution_count": null,
   "metadata": {
    "colab": {
     "base_uri": "https://localhost:8080/",
     "height": 170
    },
    "colab_type": "code",
    "id": "bG0S6XvKRRbH",
    "outputId": "d41186e0-23f7-4006-9f0b-4342361d8700"
   },
   "outputs": [],
   "source": [
    "for x in Counter(2):\n",
    "    for y in Counter(3):\n",
    "        print(x,y)"
   ]
  },
  {
   "cell_type": "markdown",
   "metadata": {
    "colab_type": "text",
    "id": "Ek5gh1AejpMj"
   },
   "source": [
    "PRESENTACIÓN diapositiva 21"
   ]
  },
  {
   "cell_type": "markdown",
   "metadata": {
    "colab_type": "text",
    "id": "Vcwwh4Bej7Xd"
   },
   "source": [
    "### 5.4 Creando un iterable (*AVANZADO*)"
   ]
  },
  {
   "cell_type": "code",
   "execution_count": null,
   "metadata": {
    "colab": {},
    "colab_type": "code",
    "id": "pZ27u_byfeya"
   },
   "outputs": [],
   "source": [
    "CounterIterator = Counter\n",
    "\n",
    "class Counter2(object):\n",
    "    def __init__(self, size):\n",
    "        self.size = size\n",
    "  \n",
    "    def __iter__(self):\n",
    "        return CounterIterator(self.size)\n",
    "  "
   ]
  },
  {
   "cell_type": "code",
   "execution_count": null,
   "metadata": {
    "colab": {
     "base_uri": "https://localhost:8080/",
     "height": 51
    },
    "colab_type": "code",
    "id": "s_5yxMHNk0JJ",
    "outputId": "b2cd33b2-5c8a-4984-fec9-4c32a4d180c5"
   },
   "outputs": [],
   "source": [
    "c = Counter2(2)\n",
    "for num in c:\n",
    "    print(num)"
   ]
  },
  {
   "cell_type": "markdown",
   "metadata": {
    "colab_type": "text",
    "id": "DSQafzNYk9-Q"
   },
   "source": [
    "Si ahora queremos crear la matriz, anidando bucles..."
   ]
  },
  {
   "cell_type": "code",
   "execution_count": null,
   "metadata": {
    "colab": {
     "base_uri": "https://localhost:8080/",
     "height": 119
    },
    "colab_type": "code",
    "id": "_Lt5GuSUk8Lj",
    "outputId": "f11046b7-da30-4543-bf71-71c7a913d2ab"
   },
   "outputs": [],
   "source": [
    "filas = Counter2(2)\n",
    "columnas = Counter2(3)\n",
    "\n",
    "for x in filas:\n",
    "    for y in columnas:\n",
    "        print(x,y)"
   ]
  },
  {
   "cell_type": "markdown",
   "metadata": {
    "colab_type": "text",
    "id": "Fqkw6myaKrb-"
   },
   "source": [
    "PRESENTACIÓN diapositiva 22"
   ]
  },
  {
   "cell_type": "markdown",
   "metadata": {
    "colab_type": "text",
    "id": "Ci5eD0HaKwxU"
   },
   "source": [
    "### 5.5 Serie infinita con iterador (*AVANZADO*)"
   ]
  },
  {
   "cell_type": "code",
   "execution_count": null,
   "metadata": {
    "colab": {},
    "colab_type": "code",
    "id": "PACQB2uklVKr"
   },
   "outputs": [],
   "source": [
    "class InfiniteCounter:\n",
    "\n",
    "    def __init__(self):\n",
    "        self.num = 0\n",
    "  \n",
    "    def __iter__(self):\n",
    "        return self\n",
    "  \n",
    "    def __next__(self):\n",
    "        self.num += 1\n",
    "        return self.num"
   ]
  },
  {
   "cell_type": "code",
   "execution_count": null,
   "metadata": {
    "colab": {
     "base_uri": "https://localhost:8080/",
     "height": 68
    },
    "colab_type": "code",
    "id": "TWB_hh5zMBZn",
    "outputId": "eed248b4-2efe-4c53-ab3e-7a2403f84559"
   },
   "outputs": [],
   "source": [
    "for num in InfiniteCounter():\n",
    "    if num > 3:\n",
    "        break\n",
    "    print(num)"
   ]
  },
  {
   "cell_type": "markdown",
   "metadata": {
    "colab_type": "text",
    "id": "14PgwxHAxZg6"
   },
   "source": [
    "### 5.6 Generadores (*MEDIO*)"
   ]
  },
  {
   "cell_type": "markdown",
   "metadata": {
    "colab_type": "text",
    "id": "ntkDJts1lj1W"
   },
   "source": [
    "Una función generadora es distinta al resto de funciones. Al llamarla, no se ejecuta"
   ]
  },
  {
   "cell_type": "code",
   "execution_count": null,
   "metadata": {
    "colab": {
     "base_uri": "https://localhost:8080/",
     "height": 34
    },
    "colab_type": "code",
    "id": "gBHzAGWkxTxc",
    "outputId": "1a792a83-fee1-4bae-fea8-a2204ae12012"
   },
   "outputs": [],
   "source": [
    "def simple_generator():\n",
    "    print(\"Generate\")\n",
    "    yield 1\n",
    "    yield 2\n",
    "\n",
    "print(simple_generator())"
   ]
  },
  {
   "cell_type": "markdown",
   "metadata": {
    "colab_type": "text",
    "id": "qWj-OJRqlqdW"
   },
   "source": [
    "Se ejecuta al iterar con ella, por ejemplo, en un bucle for:"
   ]
  },
  {
   "cell_type": "code",
   "execution_count": null,
   "metadata": {
    "colab": {
     "base_uri": "https://localhost:8080/",
     "height": 68
    },
    "colab_type": "code",
    "id": "Gtt2U_Ni2F9b",
    "outputId": "c09c763e-d7c1-488d-e1c5-127ff06df2c9"
   },
   "outputs": [],
   "source": [
    "for x in simple_generator():\n",
    "    print(x)\n",
    "  "
   ]
  },
  {
   "cell_type": "markdown",
   "metadata": {
    "colab_type": "text",
    "id": "ogS02lPHlvzj"
   },
   "source": [
    "Probamos a definir un contador"
   ]
  },
  {
   "cell_type": "code",
   "execution_count": null,
   "metadata": {
    "colab": {},
    "colab_type": "code",
    "id": "a1rQ5B8c3ZWX"
   },
   "outputs": [],
   "source": [
    "def counter_gen(size):\n",
    "    num = 1\n",
    "    while num <= size:\n",
    "        yield num\n",
    "        num = num + 1"
   ]
  },
  {
   "cell_type": "code",
   "execution_count": null,
   "metadata": {
    "colab": {
     "base_uri": "https://localhost:8080/",
     "height": 68
    },
    "colab_type": "code",
    "id": "55Lcxev9nRta",
    "outputId": "9bcf022e-35e0-4424-95b1-7017070fb84b"
   },
   "outputs": [],
   "source": [
    "for n in counter_gen(3):\n",
    "    print(n)"
   ]
  },
  {
   "cell_type": "markdown",
   "metadata": {
    "colab_type": "text",
    "id": "pWpkwq5ioLvi"
   },
   "source": [
    "Los generadores también se \"agotan\" como ocurría con los iteradores. Por eso no son buenos para generar matrices"
   ]
  },
  {
   "cell_type": "code",
   "execution_count": null,
   "metadata": {
    "colab": {
     "base_uri": "https://localhost:8080/",
     "height": 68
    },
    "colab_type": "code",
    "id": "iT6FZMXGncIF",
    "outputId": "04269359-5965-4c17-96ca-b12f0219cff8"
   },
   "outputs": [],
   "source": [
    "c1 = counter_gen(2)\n",
    "c2 = counter_gen(3)\n",
    "\n",
    "for x in c1:\n",
    "    for y in c2:\n",
    "        print(x,y)"
   ]
  },
  {
   "cell_type": "markdown",
   "metadata": {
    "colab_type": "text",
    "id": "-ERuQg97otGc"
   },
   "source": [
    "El resultado de llamar a una función generadora es un objeto generador"
   ]
  },
  {
   "cell_type": "code",
   "execution_count": null,
   "metadata": {
    "colab": {
     "base_uri": "https://localhost:8080/",
     "height": 34
    },
    "colab_type": "code",
    "id": "PK-kw25uojdD",
    "outputId": "8c25ab6c-6135-47ac-ecf7-fb8a50099550"
   },
   "outputs": [],
   "source": [
    "gen = counter_gen(3)\n",
    "\n",
    "gen"
   ]
  },
  {
   "cell_type": "markdown",
   "metadata": {
    "colab_type": "text",
    "id": "P3jkiec7pFBD"
   },
   "source": [
    "y contiene los métodos iter y next. Un generador es un auto-iterador"
   ]
  },
  {
   "cell_type": "code",
   "execution_count": null,
   "metadata": {
    "colab": {
     "base_uri": "https://localhost:8080/",
     "height": 612
    },
    "colab_type": "code",
    "id": "BJvhiZ8Ao50x",
    "outputId": "780ef18b-9e1b-4f5b-ff1d-aa7d40fa4065"
   },
   "outputs": [],
   "source": [
    "dir(gen)"
   ]
  },
  {
   "cell_type": "code",
   "execution_count": null,
   "metadata": {
    "colab": {
     "base_uri": "https://localhost:8080/",
     "height": 34
    },
    "colab_type": "code",
    "id": "RTIcigtoo7pb",
    "outputId": "47de3726-e5b2-4370-f0e5-ce4b24afbeb0"
   },
   "outputs": [],
   "source": [
    "iter(gen) == gen.__iter__() == gen"
   ]
  },
  {
   "cell_type": "markdown",
   "metadata": {
    "colab_type": "text",
    "id": "7t1i8kq4qI8x"
   },
   "source": [
    "Recapitulando: todo esto es porque, al definir esta función, hemos utilizado \"yield\""
   ]
  },
  {
   "cell_type": "markdown",
   "metadata": {
    "colab_type": "text",
    "id": "fNrIJ8RxuHXm"
   },
   "source": [
    "Un generador puede iterar de forma infinita"
   ]
  },
  {
   "cell_type": "code",
   "execution_count": null,
   "metadata": {
    "colab": {
     "base_uri": "https://localhost:8080/",
     "height": 187
    },
    "colab_type": "code",
    "id": "OL76KAcQqA34",
    "outputId": "ea35af73-0cfc-4bc0-94e1-dcf9d88bfbee"
   },
   "outputs": [],
   "source": [
    "def gen_forever():\n",
    "    i = 1\n",
    "    while True:\n",
    "        yield i\n",
    "        i = i + 1\n",
    "\n",
    "for n in gen_forever():\n",
    "    if n > 10:\n",
    "        break\n",
    "    print(n)"
   ]
  },
  {
   "cell_type": "markdown",
   "metadata": {
    "colab_type": "text",
    "id": "-55lT4Nhu0yc"
   },
   "source": [
    "La instrucción return interrumpe la iteración."
   ]
  },
  {
   "cell_type": "code",
   "execution_count": null,
   "metadata": {
    "colab": {
     "base_uri": "https://localhost:8080/",
     "height": 51
    },
    "colab_type": "code",
    "id": "_swJZBbNuwaY",
    "outputId": "973995b1-f392-4f40-bc5c-ecf51f2d1da3"
   },
   "outputs": [],
   "source": [
    "def gen_return():\n",
    "    yield 1\n",
    "    yield 2\n",
    "    return\n",
    "    yield 3\n",
    "\n",
    "for n in gen_return():\n",
    "    print(n)"
   ]
  },
  {
   "cell_type": "markdown",
   "metadata": {
    "colab_type": "text",
    "id": "xxFvlQBZvW8N"
   },
   "source": [
    "No se ha llegado a generar el 3. La instrucción return provoca la excepción StopIteration"
   ]
  },
  {
   "cell_type": "code",
   "execution_count": null,
   "metadata": {
    "colab": {},
    "colab_type": "code",
    "id": "XyswoJcnvOeE"
   },
   "outputs": [],
   "source": [
    "un_iterador = iter(gen_return())"
   ]
  },
  {
   "cell_type": "code",
   "execution_count": null,
   "metadata": {
    "colab": {
     "base_uri": "https://localhost:8080/",
     "height": 34
    },
    "colab_type": "code",
    "id": "mcTQzO9iB2Kx",
    "outputId": "c5844261-9bf7-4eba-efea-7a8e2a0aabe0"
   },
   "outputs": [],
   "source": [
    "next(un_iterador)"
   ]
  },
  {
   "cell_type": "code",
   "execution_count": null,
   "metadata": {
    "colab": {
     "base_uri": "https://localhost:8080/",
     "height": 34
    },
    "colab_type": "code",
    "id": "mcTQzO9iB2Kx",
    "outputId": "c5844261-9bf7-4eba-efea-7a8e2a0aabe0"
   },
   "outputs": [],
   "source": [
    "next(un_iterador)"
   ]
  },
  {
   "cell_type": "code",
   "execution_count": null,
   "metadata": {
    "colab": {
     "base_uri": "https://localhost:8080/",
     "height": 34
    },
    "colab_type": "code",
    "id": "mcTQzO9iB2Kx",
    "outputId": "c5844261-9bf7-4eba-efea-7a8e2a0aabe0"
   },
   "outputs": [],
   "source": [
    "next(un_iterador)"
   ]
  },
  {
   "cell_type": "markdown",
   "metadata": {
    "colab_type": "text",
    "id": "MNB9KEwsMvOd"
   },
   "source": [
    "### 5.7 Agotamiento de un generador (generator exhaustion) (*AVANZADO*)"
   ]
  },
  {
   "cell_type": "markdown",
   "metadata": {
    "colab_type": "text",
    "id": "pWpkwq5ioLvi"
   },
   "source": [
    "Los generadores también se \"agotan\" como ocurría con los iteradores. Por eso no son buenos para generar matrices"
   ]
  },
  {
   "cell_type": "code",
   "execution_count": null,
   "metadata": {
    "colab": {
     "base_uri": "https://localhost:8080/",
     "height": 68
    },
    "colab_type": "code",
    "id": "iT6FZMXGncIF",
    "outputId": "04269359-5965-4c17-96ca-b12f0219cff8"
   },
   "outputs": [],
   "source": [
    "c1 = counter_gen(2)\n",
    "c2 = counter_gen(3)\n",
    "\n",
    "for x in c1:\n",
    "    for y in c2:\n",
    "        print(x,y)"
   ]
  },
  {
   "cell_type": "markdown",
   "metadata": {
    "colab_type": "text",
    "id": "mtOxPCx0QL1g"
   },
   "source": [
    "PRESENTACIÓN diapositiva 27"
   ]
  },
  {
   "cell_type": "markdown",
   "metadata": {
    "colab_type": "text",
    "id": "XwoKM45gYALy"
   },
   "source": [
    "### 5.8 Generadores con objetos (*AVANZADO*)\n",
    "Vamos a ver cómo podemos usar generadores con objetos y clases. Hacemos que el método iter sea un generador y, además, creamos otro método que también va a ser definido como un generador"
   ]
  },
  {
   "cell_type": "code",
   "execution_count": null,
   "metadata": {
    "colab": {
     "base_uri": "https://localhost:8080/",
     "height": 68
    },
    "colab_type": "code",
    "id": "ByfGKI5gB8cR",
    "outputId": "4922cb0d-7614-4501-908d-af0b94e4f9e5"
   },
   "outputs": [],
   "source": [
    "class Counter3:\n",
    "\n",
    "    def __init__(self, size):\n",
    "        self.size = size\n",
    "  \n",
    "    def __iter__(self):\n",
    "        num = 1\n",
    "        while num <= self.size:\n",
    "            yield num\n",
    "            num = num + 1\n",
    "  \n",
    "    def reverse(self):\n",
    "        val = self.size\n",
    "        while val > 0:\n",
    "            yield val\n",
    "            val -= 1\n",
    "\n",
    "\n",
    "for x in Counter3(3):\n",
    "    print(x)"
   ]
  },
  {
   "cell_type": "code",
   "execution_count": null,
   "metadata": {
    "colab": {
     "base_uri": "https://localhost:8080/",
     "height": 68
    },
    "colab_type": "code",
    "id": "FjYaIH73ZHs_",
    "outputId": "3cdd33b1-6a9d-4e05-987d-225d754c2f9c"
   },
   "outputs": [],
   "source": [
    "for x in Counter3(3).reverse():\n",
    "    print(x)"
   ]
  },
  {
   "cell_type": "markdown",
   "metadata": {
    "colab_type": "text",
    "id": "YWz9VikDabVx"
   },
   "source": [
    "### 5.9 Reutilización de un objeto generador (*AVANZADO*)\n",
    "Los objetos de clases con el método iter en formato de generador, evitan el agotamiento típico de los iteradores y de las funciones generadoras."
   ]
  },
  {
   "cell_type": "code",
   "execution_count": null,
   "metadata": {
    "colab": {
     "base_uri": "https://localhost:8080/",
     "height": 68
    },
    "colab_type": "code",
    "id": "oZVvA5swZRcu",
    "outputId": "c3ca8e35-bb6e-40c2-ff3d-bd6620deb20f"
   },
   "outputs": [],
   "source": [
    "c1 = Counter3(3)\n",
    "for x in c1:\n",
    "    print(x)"
   ]
  },
  {
   "cell_type": "code",
   "execution_count": null,
   "metadata": {
    "colab": {
     "base_uri": "https://localhost:8080/",
     "height": 68
    },
    "colab_type": "code",
    "id": "8RAWXVMLa9bz",
    "outputId": "d62eb914-e508-4463-ade8-34df67077c08"
   },
   "outputs": [],
   "source": [
    "for x in c1:\n",
    "    print(x)"
   ]
  },
  {
   "cell_type": "markdown",
   "metadata": {
    "colab_type": "text",
    "id": "754KdFGebDq9"
   },
   "source": [
    "Ahora sí podríamos generar una matriz, porque cada iteración sobre c3 implica la creación de un nuevo generador, es decir, iter es llamado de nuevo, pues c2 es ejecutado en cada iteración sobre sí mismo."
   ]
  },
  {
   "cell_type": "code",
   "execution_count": null,
   "metadata": {
    "colab": {
     "base_uri": "https://localhost:8080/",
     "height": 119
    },
    "colab_type": "code",
    "id": "0g1JLLAXbAp9",
    "outputId": "b14eb918-e6a0-4019-a3d0-92c7c6acfe6c"
   },
   "outputs": [],
   "source": [
    "c2 = Counter3(2)\n",
    "c3 = Counter3(3)\n",
    "\n",
    "for x in c2:\n",
    "    for y in c3:\n",
    "        print(x,y)"
   ]
  },
  {
   "cell_type": "markdown",
   "metadata": {
    "colab_type": "text",
    "id": "8f-oAwij9T2B"
   },
   "source": [
    "### 5.10 Cuando usar Generadores (*AVANZADO*)\n",
    "Un generador puede sustituir a cualquier función que devuelva una lista. Pero la cuestión clave es la “acumulación que se da en la lista durante la iteración. \n",
    "Consideremos dos funciones, una de ellas generadora"
   ]
  },
  {
   "cell_type": "markdown",
   "metadata": {
    "colab_type": "text",
    "id": "YWlogNR8Wxrq"
   },
   "source": [
    "PRESENTACIÓN diapositiva 27"
   ]
  },
  {
   "cell_type": "code",
   "execution_count": null,
   "metadata": {
    "colab": {},
    "colab_type": "code",
    "id": "T24D67clbQPK"
   },
   "outputs": [],
   "source": [
    "def counter_list(size):\n",
    "    results = []\n",
    "    num = 1\n",
    "    while num <= size:\n",
    "        results.append(num)\n",
    "        num = num + 1\n",
    "    return results\n",
    "\n",
    "def counter_gen(size):\n",
    "    num = 1\n",
    "    while num <= size:\n",
    "        yield num\n",
    "        num = num + 1\n"
   ]
  },
  {
   "cell_type": "markdown",
   "metadata": {
    "colab_type": "text",
    "id": "9SKwgvluAlXB"
   },
   "source": [
    "comprobamos que la lista generada por ambas contiene lo mismo:"
   ]
  },
  {
   "cell_type": "code",
   "execution_count": null,
   "metadata": {
    "colab": {
     "base_uri": "https://localhost:8080/",
     "height": 34
    },
    "colab_type": "code",
    "id": "EYCsO36RAiVw",
    "outputId": "47b7ec25-ba6e-416b-bbb3-77ed29d90a21"
   },
   "outputs": [],
   "source": [
    "list(counter_gen(500)) == counter_list(500)"
   ]
  },
  {
   "cell_type": "markdown",
   "metadata": {
    "colab_type": "text",
    "id": "fhowhyuyCAZX"
   },
   "source": [
    "Hay varias diferencias claras:\n",
    "- Para el generador, el acumulador, *results*, no se ha llegado a crear.\n",
    "- En el generador, en vez de añadir items a *results*, el item es \"recolectado\"\n",
    "- No verás la instrucción *return* en este generador, a no ser que se quiera detener por alguna razón\n",
    "\n",
    "Cuando se trata de \"acumular\" items, es mejor que esa función o método sea un generador"
   ]
  },
  {
   "cell_type": "markdown",
   "metadata": {
    "colab_type": "text",
    "id": "2osw9Ye4XoZ9"
   },
   "source": [
    "### 5.11 Encadenando generadores (*AVANZADO*)\n",
    "Son útiles para filtrar o manipular con lógica compleja las secuencias. Por ejemplo, definimos varias funciones generadoras:"
   ]
  },
  {
   "cell_type": "code",
   "execution_count": null,
   "metadata": {
    "colab": {},
    "colab_type": "code",
    "id": "uJfqRGynA2T8"
   },
   "outputs": [],
   "source": [
    "def positive(seq):\n",
    "    for x in seq:\n",
    "        if x >= 0:\n",
    "            yield x\n",
    "\n",
    "def every_other(gen):\n",
    "    for x in gen:\n",
    "        yield x\n",
    "        next(gen)\n",
    "        \n",
    "def twice(seq):\n",
    "    for x in seq:\n",
    "        yield x\n",
    "        yield x\n"
   ]
  },
  {
   "cell_type": "code",
   "execution_count": null,
   "metadata": {
    "colab": {
     "base_uri": "https://localhost:8080/",
     "height": 88
    },
    "colab_type": "code",
    "id": "B5HobKCsZkH-",
    "outputId": "17ddd83f-cdf8-4729-f02c-b073cdf45ad4"
   },
   "outputs": [],
   "source": [
    "seq = range(-5,5)\n",
    "pos = positive(seq)\n",
    "# print(pos)\n",
    "skip = every_other(pos)\n",
    "two = twice(skip)\n",
    "\n",
    "[x for x in two]"
   ]
  },
  {
   "cell_type": "markdown",
   "metadata": {
    "colab_type": "text",
    "id": "4LXNYWq8dYsc"
   },
   "source": [
    "Advertencia: la función every_other utiliza next sobre el parámetro que se le pasa. Por eso, dicho parámetro debe ser un iterador, no un iterable (como una lista). Pero este problema lo podríamos evitar no utilizando next"
   ]
  },
  {
   "cell_type": "code",
   "execution_count": null,
   "metadata": {
    "colab": {},
    "colab_type": "code",
    "id": "56yIg2RPZ_qA"
   },
   "outputs": [],
   "source": [
    "def positive(seq):\n",
    "    for x in seq:\n",
    "        if x >= 0:\n",
    "            yield x\n",
    "\n",
    "def every_other(gen):\n",
    "    for i,x in enumerate(gen):\n",
    "        if i % 2 == 0:\n",
    "            yield x\n",
    "\n",
    "def twice(seq):\n",
    "    for x in seq:\n",
    "        yield x\n",
    "        yield x\n"
   ]
  },
  {
   "cell_type": "code",
   "execution_count": null,
   "metadata": {
    "colab": {
     "base_uri": "https://localhost:8080/",
     "height": 34
    },
    "colab_type": "code",
    "id": "e4J-01g9gCpX",
    "outputId": "5e7a35f8-33b1-44a6-ccbc-40cb87762330"
   },
   "outputs": [],
   "source": [
    "seq = range(-5,5)\n",
    "pos = positive(seq)\n",
    "skip = every_other(pos)\n",
    "two = twice(skip)\n",
    "\n",
    "[x for x in two]"
   ]
  },
  {
   "cell_type": "markdown",
   "metadata": {
    "colab_type": "text",
    "id": "ejUkYFjqhr9r"
   },
   "source": [
    "Se podría haber creado un generador único para obtener lo mismo, pero dividirlo en varios pasos hace el código más legible. *Unix Philosophy: \"do one thing well\"*"
   ]
  },
  {
   "cell_type": "markdown",
   "metadata": {
    "colab_type": "text",
    "id": "5w8nGR4miOfj"
   },
   "source": [
    "PRESENTACIÓN diapositiva 29"
   ]
  },
  {
   "cell_type": "markdown",
   "metadata": {
    "colab_type": "text",
    "id": "MRX9x1ONidXh"
   },
   "source": [
    "### 5.12 Utilizando \"islice\" (*MEDIO*)\n",
    "Los generadores no soportan indexado ni slicing"
   ]
  },
  {
   "cell_type": "code",
   "execution_count": null,
   "metadata": {
    "colab": {
     "base_uri": "https://localhost:8080/",
     "height": 181
    },
    "colab_type": "code",
    "id": "hitTiY-tg1n2",
    "outputId": "4297ecfe-ce90-4c50-9b11-6d7b827d7f10"
   },
   "outputs": [],
   "source": [
    "pos = positive(range(-5,5))\n",
    "pos[1]"
   ]
  },
  {
   "cell_type": "markdown",
   "metadata": {
    "colab_type": "text",
    "id": "s3fABKuFi7Xv"
   },
   "source": [
    "En la librería estandar de Python tenemos el módulo itertools, que contiene la función islice, la cual simula la funcionalidad de slice. En vez de devolver una lista, nos va a devolver un objeto iterable:"
   ]
  },
  {
   "cell_type": "code",
   "execution_count": null,
   "metadata": {
    "colab": {
     "base_uri": "https://localhost:8080/",
     "height": 34
    },
    "colab_type": "code",
    "id": "h60E0Gimi2Ir",
    "outputId": "14e9ad86-1c4e-4b4e-c55b-a88bc78b5584"
   },
   "outputs": [],
   "source": [
    "from itertools import islice\n",
    "seq = islice(pos, 1, 3)\n",
    "print(seq)"
   ]
  },
  {
   "cell_type": "code",
   "execution_count": null,
   "metadata": {
    "colab": {
     "base_uri": "https://localhost:8080/",
     "height": 34
    },
    "colab_type": "code",
    "id": "hiCyW-OCjj3k",
    "outputId": "46642032-928a-4ad0-cdd1-730214f3c2c5"
   },
   "outputs": [],
   "source": [
    "next(seq)"
   ]
  },
  {
   "cell_type": "code",
   "execution_count": null,
   "metadata": {
    "colab": {
     "base_uri": "https://localhost:8080/",
     "height": 34
    },
    "colab_type": "code",
    "id": "hiCyW-OCjj3k",
    "outputId": "46642032-928a-4ad0-cdd1-730214f3c2c5"
   },
   "outputs": [],
   "source": [
    "next(seq)"
   ]
  },
  {
   "cell_type": "code",
   "execution_count": null,
   "metadata": {},
   "outputs": [],
   "source": [
    "next(seq)"
   ]
  },
  {
   "cell_type": "markdown",
   "metadata": {
    "colab_type": "text",
    "id": "J7-YWdBkksfc"
   },
   "source": [
    "PRESENTACIÓN diapositiva 30"
   ]
  },
  {
   "cell_type": "markdown",
   "metadata": {
    "colab_type": "text",
    "id": "MRX9x1ONidXh"
   },
   "source": [
    "### 5.13 timeit (*MEDIO*)"
   ]
  },
  {
   "cell_type": "markdown",
   "metadata": {
    "colab_type": "text",
    "id": "RzVyyIAok6Gm"
   },
   "source": [
    "Iterar sobre una secuencia requiere utilizar el protocolo de iteración, llamando next en cada paso. En algunos casos ésto será más lento, por ejemplo comparado con la iteración en listas. El módulo timeit puede ayudar a tomar la decisión de si es razonable utilizar un generador en un caso en el que el tiempo importe."
   ]
  },
  {
   "cell_type": "code",
   "execution_count": null,
   "metadata": {
    "colab": {},
    "colab_type": "code",
    "id": "yc_yTwSVj1KG"
   },
   "outputs": [],
   "source": [
    "def iter_list():\n",
    "    for x in [0,1,2,3,4,5]:\n",
    "        pass\n",
    "\n",
    "def iter_gen():\n",
    "    def gen():\n",
    "        yield 1\n",
    "        yield 2\n",
    "        yield 3\n",
    "        yield 4\n",
    "        yield 5\n",
    "    for x in gen():\n",
    "        pass\n",
    "  "
   ]
  },
  {
   "cell_type": "code",
   "execution_count": null,
   "metadata": {
    "colab": {
     "base_uri": "https://localhost:8080/",
     "height": 34
    },
    "colab_type": "code",
    "id": "T4k249fLl44D",
    "outputId": "64df8926-cd4a-47a4-94f1-83afb70f4508"
   },
   "outputs": [],
   "source": [
    "import timeit\n",
    "t = timeit.Timer('iter_list()',\n",
    "                 setup = 'from __main__ import iter_list')\n",
    "\n",
    "print(t.timeit())"
   ]
  },
  {
   "cell_type": "code",
   "execution_count": null,
   "metadata": {
    "colab": {
     "base_uri": "https://localhost:8080/",
     "height": 34
    },
    "colab_type": "code",
    "id": "-eM_WUSKmSKk",
    "outputId": "f4432659-c008-45d3-d8b4-a6dc03f9c215"
   },
   "outputs": [],
   "source": [
    "t = timeit.Timer('iter_gen()',\n",
    "                 setup = 'from __main__ import iter_gen')\n",
    "\n",
    "print(t.timeit())"
   ]
  },
  {
   "cell_type": "markdown",
   "metadata": {},
   "source": []
  },
  {
   "cell_type": "markdown",
   "metadata": {
    "colab_type": "text",
    "id": "MRX9x1ONidXh"
   },
   "source": [
    "### 5.14 Comprensiones de generadores (*MEDIO*)"
   ]
  },
  {
   "cell_type": "markdown",
   "metadata": {
    "colab_type": "text",
    "id": "sWQrraptnks9"
   },
   "source": [
    "PRESENTACIÓN diapositiva 32-33"
   ]
  },
  {
   "cell_type": "code",
   "execution_count": null,
   "metadata": {},
   "outputs": [],
   "source": []
  }
 ],
 "metadata": {
  "kernelspec": {
   "display_name": "Python 3",
   "language": "python",
   "name": "python3"
  },
  "language_info": {
   "codemirror_mode": {
    "name": "ipython",
    "version": 3
   },
   "file_extension": ".py",
   "mimetype": "text/x-python",
   "name": "python",
   "nbconvert_exporter": "python",
   "pygments_lexer": "ipython3",
   "version": "3.8.5"
  }
 },
 "nbformat": 4,
 "nbformat_minor": 4
}
