{
 "cells": [
  {
   "cell_type": "code",
   "execution_count": 6,
   "metadata": {},
   "outputs": [
    {
     "name": "stdout",
     "output_type": "stream",
     "text": [
      "The factorial of 5 is 120\n"
     ]
    }
   ],
   "source": [
    "'''\n",
    "def factorial(x):\n",
    "    \"\"\"This is a recursive function\n",
    "    to find the factorial of an integer\"\"\"\n",
    "\n",
    "    if x == 1:\n",
    "        return 1\n",
    "    else:\n",
    "        return (x * factorial(x-1))\n",
    "\n",
    "\n",
    "num = 5\n",
    "print(\"The factorial of\", num, \"is\", factorial(num))\n",
    "'''\n",
    "\n",
    "# -*- coding: utf-8 -*-\n",
    "#Código hecho por Mario Ruiz. Calcular factorial sin funciones recursivas.\n",
    "def factorial(x):\n",
    "    resultado=1\n",
    "    if x==0:\n",
    "        resultado*=1\n",
    "        return resultado\n",
    "    else:\n",
    "        for num in range(1,x+1):\n",
    "            resultado *= num\n",
    "        return resultado\n",
    "            \n",
    "numero=4\n",
    "print(\"El factorial de\",numero,\"es\",factorial(numero))\n",
    "\n",
    "#codigo hecho por Spiros\n",
    "def loops(num):\n",
    "    x=1\n",
    "    for i in range(1,num+1):\n",
    "        x *= i        \n",
    "    return x\n",
    "        \n",
    "num = 5\n",
    "print(\"The factorial of\",num,\"is\",loops(num))\n",
    "\n",
    "#codigo de alejandro san antonio\n",
    "def factorial (numero):\n",
    "    inicio = 1\n",
    "    resultado = 1\n",
    "    while inicio <= numero:\n",
    "        resultado *=inicio\n",
    "        inicio+=1\n",
    "    return resultado\n",
    "print(factorial(8))\n"
   ]
  },
  {
   "cell_type": "code",
   "execution_count": null,
   "metadata": {},
   "outputs": [],
   "source": []
  }
 ],
 "metadata": {
  "kernelspec": {
   "display_name": "Python 3",
   "language": "python",
   "name": "python3"
  },
  "language_info": {
   "codemirror_mode": {
    "name": "ipython",
    "version": 3
   },
   "file_extension": ".py",
   "mimetype": "text/x-python",
   "name": "python",
   "nbconvert_exporter": "python",
   "pygments_lexer": "ipython3",
   "version": "3.8.5"
  }
 },
 "nbformat": 4,
 "nbformat_minor": 4
}
