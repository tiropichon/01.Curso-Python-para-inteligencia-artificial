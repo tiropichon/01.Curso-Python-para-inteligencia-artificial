{
 "cells": [
  {
   "cell_type": "markdown",
   "metadata": {
    "id": "am8RYSLsPK6Y"
   },
   "source": [
    "# Ejercicios Funciones I"
   ]
  },
  {
   "cell_type": "markdown",
   "metadata": {
    "id": "XaHnqHk04xbV"
   },
   "source": [
    "## 1. Test\n",
    "Es bueno poner \"checkpoints\" en el código, sobre todo en bloques con muchas partes o mucha complejidad, para comprobar si todo se ejecuta correctamente y como estaba planeado. En caso de fallos, nos ayuda a localizar en qué parte del código las cosas han empezado a fallar.\n",
    "\n",
    "Define una función todo_OK() que devuelva el valor True y otra función fallo() que devuelva False\n",
    "\n",
    "Escribe un bloque de código con un if/else en el que se llame a una de las funciones en la condición if, y se muestre en pantalla un mensaje de que la ejecución está yendo bien. En la parte else, programa que se muestre un mensaje de que algo ha fallado. Escribe primero el bloque llamando a la función todo_OK() y luego escríbelo llamando a la función fallo()."
   ]
  },
  {
   "cell_type": "code",
   "execution_count": 2,
   "metadata": {
    "id": "g9vJ5oFp7YPw"
   },
   "outputs": [
    {
     "name": "stdout",
     "output_type": "stream",
     "text": [
      "Todo está yendo bien\n"
     ]
    }
   ],
   "source": [
    "# Define la función todo_OK()\n",
    "def todo_OK():\n",
    "    return True\n",
    "\n",
    "# Define la función fallo()\n",
    "def fallo():\n",
    "    return False\n",
    "\n",
    "# Código para el test:\n",
    "if (todo_OK()):\n",
    "    print(\"Todo está yendo bien\")\n",
    "else:\n",
    "    print(\"Todo ha fallado\")\n",
    "    \n",
    "if(fallo()):\n",
    "    print(\"Todo ha fallado\")\n",
    "else:\n",
    "    print(\"Todo está yendo bien\")\n"
   ]
  },
  {
   "cell_type": "markdown",
   "metadata": {
    "id": "FkNa8NxRYTL1"
   },
   "source": [
    "## 2. Inspiración\n",
    "\n",
    "Crea una función que, al ser llamada, muestre en pantalla un mensaje de inspiración o una reflexión motivadora.\n",
    "\n",
    "Crea un script que pida al usuario entrada por teclado como respuesta a una pregunta de si se encuentra bien o se encuentra mal. Programa el condicional para llamar a la función cuando la respuesta sea que se encuentra mal."
   ]
  },
  {
   "cell_type": "code",
   "execution_count": 4,
   "metadata": {
    "id": "Nk0NwGvWblP0"
   },
   "outputs": [
    {
     "name": "stdout",
     "output_type": "stream",
     "text": [
      "¿Cómo te encuentras hoy?:mal\n",
      "Ánimo\n"
     ]
    }
   ],
   "source": [
    "# Escribe aquí tu código:\n",
    "def mensaje():\n",
    "   print(\"Ánimo\")\n",
    "\n",
    "estado=str(input(\"¿Cómo te encuentras hoy? ¿Bien o mal?:\"))\n",
    "if estado == \"mal\" or estado == \"Mal\":\n",
    "    mensaje()\n",
    "        \n",
    "\n"
   ]
  },
  {
   "cell_type": "markdown",
   "metadata": {
    "id": "_dTUO9m6D2Na"
   },
   "source": [
    "## 3. Función presentación\n",
    "Define una función que muestre un mensaje de presentación sobre ti, cuyo parámetro sea un diccionario con los datos:\n",
    "\n",
    "*   Nombre\n",
    "*   Mascota (True o False)\n",
    "*   Edad\n",
    "*   Libro o peli favorito\n",
    "\n",
    "Crea el diccionario con datos sobre ti (si quieres, pueden ser ficticios), y llama a la función para mostrar un mensaje de presentación.\n",
    "\n",
    "\n"
   ]
  },
  {
   "cell_type": "code",
   "execution_count": 28,
   "metadata": {
    "id": "RfPZdBTU-oD3"
   },
   "outputs": [
    {
     "name": "stdout",
     "output_type": "stream",
     "text": [
      "Nombre: Mario\n",
      "Mascota: No\n",
      "Edad: 40\n",
      "Libro o peli favorita: Alien\n"
     ]
    }
   ],
   "source": [
    "# Escribe aquí tu código\n",
    "datos={\"Nombre\":\"Mario\",\"Mascota\":False, \"Edad\":40, \"Peli\":\"Alien\"}\n",
    "\n",
    "def muestra_datos(mis_datos):\n",
    "    print(\"Nombre:\",mis_datos[\"Nombre\"])\n",
    "    if mis_datos[\"Mascota\"] == True:\n",
    "        print(\"Mascota: Si\")\n",
    "    else:\n",
    "        print(\"Mascota: No\")\n",
    "    print(\"Edad:\",mis_datos[\"Edad\"])\n",
    "    print(\"Libro o peli favorita:\",mis_datos[\"Peli\"])\n",
    "    return\n",
    "\n",
    "muestra_datos(datos)\n"
   ]
  },
  {
   "cell_type": "markdown",
   "metadata": {
    "id": "XIcFk8_dw_6B"
   },
   "source": [
    "## 4. Paga al taxista\n",
    "Crea una función que genere la cantidad que hay que pagar por un viaje de un taxi. El parámetro de entrada deben ser los kilómetros del trayecto.\n",
    "Para el cálculo del precio del trayecto, se debe aplicar una cuota básica de 4€ (la bajada de bandera) a lo que se irá añadiendo 0,25€ por cada 200 metros recorridos.\n",
    "Escribe el código para probar la función.\n",
    "\n",
    "Bonus: no superar 22 líneas de código."
   ]
  },
  {
   "cell_type": "code",
   "execution_count": 33,
   "metadata": {
    "id": "D7aWfvr0L7xG"
   },
   "outputs": [
    {
     "name": "stdout",
     "output_type": "stream",
     "text": [
      "Introduce los kilómetros recorridos:6\n",
      "La cantidad a pagar es: 11.5\n"
     ]
    }
   ],
   "source": [
    "#Escribe aquí tu código:\n",
    "#ejercicio 4\n",
    "def taximetro(km):\n",
    "    cantidad= 4 + (((km*1000)/200)*0.25)\n",
    "    print(f\"La cantidad a pagar es: {cantidad}\")\n",
    "    return\n",
    "\n",
    "num_km=int(input(\"Introduce los kilómetros recorridos:\"))\n",
    "taximetro(num_km)"
   ]
  },
  {
   "cell_type": "markdown",
   "metadata": {
    "id": "YreoaNa4rEdb"
   },
   "source": [
    "## 5. La tienda de camisetas\n",
    "Crea una función con el nombre *make_Tshirt* con los parámetros *size* para la talla y *message* para el mensaje a imprimir en la camiseta. Define la función con los argumentos por defecto de talla L y mensaje \"I love Python\". Fabrica con ella tres camisetas, una con los argumentos por defecto y otras dos para dos personas que conozcas (¡una puedes ser para la profe!).\n",
    "\n",
    "```\n",
    "# Una primera camiseta\n",
    "   ___    ___\n",
    "  /_  \\__/  _\\\n",
    "    |  I   |\n",
    "    | love |\n",
    "    |Python|\n",
    "    |______| \n",
    "```\n",
    "\n"
   ]
  },
  {
   "cell_type": "code",
   "execution_count": 36,
   "metadata": {
    "id": "7kfacsOqqz8O"
   },
   "outputs": [
    {
     "name": "stdout",
     "output_type": "stream",
     "text": [
      "Talla de camiseta: L\n",
      "Mensaje: I love Python\n",
      "Talla de camiseta: S\n",
      "Mensaje: I love Python\n",
      "Talla de camiseta: L\n",
      "Mensaje: I love C#\n"
     ]
    }
   ],
   "source": [
    "# Escribe aquí tu código\n",
    "\n",
    "#defino una variable con dos argumentos opcionales\n",
    "def make_Tshirt(size=\"L\",message=\"I love Python\"):\n",
    "    \n",
    "    #muestro en pantalla el valor de los dos argumentos.\n",
    "    print(f\"Talla de camiseta: {size}\\nMensaje: {message}\")\n",
    "    return\n",
    "\n",
    "#Llamo a la función sin pasar argumentos, por lo que la función usará los argumentos opcionales.\n",
    "make_Tshirt()\n",
    "\n",
    "#Llamo a la función pasando el argumento 'size', por lo que la función usa el argumento opcional 'message'\n",
    "make_Tshirt(size=\"S\")\n",
    "\n",
    "#Llamo a la función pasando el argumento 'message', por lo que la función usa el argumento opcional 'size'\n",
    "make_Tshirt(message=\"I love C#\")"
   ]
  },
  {
   "cell_type": "markdown",
   "metadata": {
    "id": "amnjN1geeSRK"
   },
   "source": [
    "## 6. Gastos de envío\n",
    "\n",
    "Tienes una tienda online y estás programando un script que automatice el cálculo de los gastos de envío para cada pedido. Según las tarifas que te han dado en la empresa de transportes, hay un coste básico mínimo de 6€ por envio. Es decir, por enviar un único producto, debes cobrar 6€ de gastos de envío, pero luego, por cada producto extra que haya en el pedido, se debe añadir 1,5€.\n",
    "\n",
    "Crea una función que calcule el gasto del envío a partir del número de productos que haya en el pedido como único parámetro.\n",
    "\n",
    "Prueba la función en un programa para tres pedidos diferentes."
   ]
  },
  {
   "cell_type": "code",
   "execution_count": 51,
   "metadata": {
    "id": "jrPmarYbfhW1"
   },
   "outputs": [
    {
     "name": "stdout",
     "output_type": "stream",
     "text": [
      "Introduce el nº de productos del envío:2\n",
      "El coste del envío es 9.0\n"
     ]
    }
   ],
   "source": [
    "# Escribe aquí tu código:\n",
    "\n",
    "#defino una función que reciba como argumento el número de productos.\n",
    "#como segundo argumento le paso una variable con valor 6, q es el coste mínimo\n",
    "def calcula_envio(numProductos,coste_minimo=6):\n",
    "    #para calcular el coste, es multiplicar el num. de productos por 1.5 € cada uno\n",
    "    coste_producto = (numProductos * 1.5)\n",
    "    #calculo el coste total del envío\n",
    "    coste_total = coste_minimo + coste_producto\n",
    "    print(f\"El coste del envío es: {coste_total}\")\n",
    "    return\n",
    "\n",
    "#recojo en una variable, el nº de productos del envío\n",
    "num_productos=int(input(\"Introduce el nº de productos del envío:\"))\n",
    "\n",
    "#Llamo a la función pasandole como argumento el número de productos.\n",
    "calcula_envio(num_productos)\n",
    "\n"
   ]
  },
  {
   "cell_type": "markdown",
   "metadata": {
    "id": "5MWHSD-cwCsn"
   },
   "source": [
    "## 7. Mascota Virtual\n",
    "Crea un diccionario con el nombre *hamster* que incluya las siguientes características de tu mascota:\n",
    "\n",
    "\n",
    "*   Name: asigna un valor de tipo cadena con el nombre que quieras para tu mascota virtual\n",
    "*   Age: asigna a esta clave un número entero que representa la edad de la mascota\n",
    "*   Weight: elige un valor de tipo float para el peso de la mascota\n",
    "*   Hungry: asigna a esta clave una variable de tipo lógico (True o False) para poner a tu mascota en estado \"hambriento\" o no\n",
    "*   Mood: asigna a esta variable el estado \"happy\" o \"sad\" para indicar el estado de ánimo de la mascota\n",
    "*   Photo: asigna una cadena de caracteres \"<:3 )---\"\n",
    "\n",
    "Crea una función con el nombre *feed* que tenga como parámetro el nombre de la mascota que se quiere alimentar y que haga que *hungry* pase a ser False si era True, o que muestre un mensaje de que la mascota no tiene hambre si Hungry ya era False. Además, la función debe hacer que la variable Weight aumente ligeramente si la mascota come.\n",
    "\n",
    "Crea también otra función con el nombre *play* que cambie el estado de ánimo de la mascota de \"sad\" a \"happy\" al ser llamada, y que haga que la mascota pierda una pequeña cantidad de peso cada vez. La función debe mostrar un mensaje y volver Hungry al valor \"True\" si el peso está por debajo de un cierto valor límite, para avisar de que la mascota está cansada y hambrienta.\n",
    "\n",
    "Finalmente, escribe el código para:\n",
    "\n",
    "*   Presentar a tu mascota y describirla\n",
    "*   Poner valores iniciales de Hungry en True y de Mood en \"sad\"\n",
    "*   Alimentar a la mascota\n",
    "*   Poner a jugar a la mascota y revisar el estado de sus valores\n",
    "*   Crear un nuevo diccionario con una nueva mascota\n",
    "*   Alimentar a las mascotas con un bucle de iteración\n",
    "\n",
    "\n",
    "\n",
    "\n",
    "\n",
    "\n"
   ]
  },
  {
   "cell_type": "code",
   "execution_count": null,
   "metadata": {
    "id": "CcTXHZlJCAS7"
   },
   "outputs": [],
   "source": [
    "# Escribe aquí tu código\n",
    "\n"
   ]
  },
  {
   "cell_type": "markdown",
   "metadata": {
    "id": "muFiFV4ALsl7"
   },
   "source": [
    "## 8. Segundo nombre opcional\n",
    "\n",
    "Define una función que devuelva el nombre y apellidos de una persona con la primera letra en mayúscula. La función debe tener como parámetros de entrada:\n",
    "\n",
    "*   Nombre de pila\n",
    "*   Segundo nombre si se tiene\n",
    "*   Primer apellido\n",
    "*   Segundo apellido\n",
    "\n",
    "La función debe funcionar tanto si se le da un segundo nombre como si no.\n",
    "\n",
    "Llama a la función dando como argumentos estos nombres:\n",
    "\n",
    "- juan,antonio,rebolledo,lópez\n",
    "- miranda,galvez,aranda\n",
    "- luis,fernando,malik,moreno"
   ]
  },
  {
   "cell_type": "code",
   "execution_count": 52,
   "metadata": {
    "id": "yp0LaB3tPWGQ"
   },
   "outputs": [
    {
     "name": "stdout",
     "output_type": "stream",
     "text": [
      "Introduzca los datos\n",
      "--------------------\n"
     ]
    },
    {
     "ename": "KeyboardInterrupt",
     "evalue": "Interrupted by user",
     "output_type": "error",
     "traceback": [
      "\u001b[0;31m---------------------------------------------------------------------------\u001b[0m",
      "\u001b[0;31mKeyboardInterrupt\u001b[0m                         Traceback (most recent call last)",
      "\u001b[0;32m<ipython-input-52-1ed86833b431>\u001b[0m in \u001b[0;36m<module>\u001b[0;34m\u001b[0m\n\u001b[1;32m      9\u001b[0m \u001b[0mprint\u001b[0m\u001b[0;34m(\u001b[0m\u001b[0;34m\"Introduzca los datos\"\u001b[0m\u001b[0;34m)\u001b[0m\u001b[0;34m\u001b[0m\u001b[0;34m\u001b[0m\u001b[0m\n\u001b[1;32m     10\u001b[0m \u001b[0mprint\u001b[0m\u001b[0;34m(\u001b[0m\u001b[0;34m\"--------------------\"\u001b[0m\u001b[0;34m)\u001b[0m\u001b[0;34m\u001b[0m\u001b[0;34m\u001b[0m\u001b[0m\n\u001b[0;32m---> 11\u001b[0;31m \u001b[0mnom_pila\u001b[0m \u001b[0;34m=\u001b[0m \u001b[0minput\u001b[0m\u001b[0;34m(\u001b[0m\u001b[0;34m\"Nombre de pila:\"\u001b[0m\u001b[0;34m)\u001b[0m\u001b[0;34m\u001b[0m\u001b[0;34m\u001b[0m\u001b[0m\n\u001b[0m\u001b[1;32m     12\u001b[0m \u001b[0mseg_nombre\u001b[0m \u001b[0;34m=\u001b[0m \u001b[0minput\u001b[0m\u001b[0;34m(\u001b[0m\u001b[0;34m\"Segundo nombre, si posee:\"\u001b[0m\u001b[0;34m)\u001b[0m\u001b[0;34m\u001b[0m\u001b[0;34m\u001b[0m\u001b[0m\n\u001b[1;32m     13\u001b[0m \u001b[0mprim_apellido\u001b[0m \u001b[0;34m=\u001b[0m \u001b[0minput\u001b[0m\u001b[0;34m(\u001b[0m\u001b[0;34m\"Primer apellido:\"\u001b[0m\u001b[0;34m)\u001b[0m\u001b[0;34m\u001b[0m\u001b[0;34m\u001b[0m\u001b[0m\n",
      "\u001b[0;32m~/anaconda3/lib/python3.8/site-packages/ipykernel/kernelbase.py\u001b[0m in \u001b[0;36mraw_input\u001b[0;34m(self, prompt)\u001b[0m\n\u001b[1;32m    858\u001b[0m                 \u001b[0;34m\"raw_input was called, but this frontend does not support input requests.\"\u001b[0m\u001b[0;34m\u001b[0m\u001b[0;34m\u001b[0m\u001b[0m\n\u001b[1;32m    859\u001b[0m             )\n\u001b[0;32m--> 860\u001b[0;31m         return self._input_request(str(prompt),\n\u001b[0m\u001b[1;32m    861\u001b[0m             \u001b[0mself\u001b[0m\u001b[0;34m.\u001b[0m\u001b[0m_parent_ident\u001b[0m\u001b[0;34m,\u001b[0m\u001b[0;34m\u001b[0m\u001b[0;34m\u001b[0m\u001b[0m\n\u001b[1;32m    862\u001b[0m             \u001b[0mself\u001b[0m\u001b[0;34m.\u001b[0m\u001b[0m_parent_header\u001b[0m\u001b[0;34m,\u001b[0m\u001b[0;34m\u001b[0m\u001b[0;34m\u001b[0m\u001b[0m\n",
      "\u001b[0;32m~/anaconda3/lib/python3.8/site-packages/ipykernel/kernelbase.py\u001b[0m in \u001b[0;36m_input_request\u001b[0;34m(self, prompt, ident, parent, password)\u001b[0m\n\u001b[1;32m    902\u001b[0m             \u001b[0;32mexcept\u001b[0m \u001b[0mKeyboardInterrupt\u001b[0m\u001b[0;34m:\u001b[0m\u001b[0;34m\u001b[0m\u001b[0;34m\u001b[0m\u001b[0m\n\u001b[1;32m    903\u001b[0m                 \u001b[0;31m# re-raise KeyboardInterrupt, to truncate traceback\u001b[0m\u001b[0;34m\u001b[0m\u001b[0;34m\u001b[0m\u001b[0;34m\u001b[0m\u001b[0m\n\u001b[0;32m--> 904\u001b[0;31m                 \u001b[0;32mraise\u001b[0m \u001b[0mKeyboardInterrupt\u001b[0m\u001b[0;34m(\u001b[0m\u001b[0;34m\"Interrupted by user\"\u001b[0m\u001b[0;34m)\u001b[0m \u001b[0;32mfrom\u001b[0m \u001b[0;32mNone\u001b[0m\u001b[0;34m\u001b[0m\u001b[0;34m\u001b[0m\u001b[0m\n\u001b[0m\u001b[1;32m    905\u001b[0m             \u001b[0;32mexcept\u001b[0m \u001b[0mException\u001b[0m \u001b[0;32mas\u001b[0m \u001b[0me\u001b[0m\u001b[0;34m:\u001b[0m\u001b[0;34m\u001b[0m\u001b[0;34m\u001b[0m\u001b[0m\n\u001b[1;32m    906\u001b[0m                 \u001b[0mself\u001b[0m\u001b[0;34m.\u001b[0m\u001b[0mlog\u001b[0m\u001b[0;34m.\u001b[0m\u001b[0mwarning\u001b[0m\u001b[0;34m(\u001b[0m\u001b[0;34m\"Invalid Message:\"\u001b[0m\u001b[0;34m,\u001b[0m \u001b[0mexc_info\u001b[0m\u001b[0;34m=\u001b[0m\u001b[0;32mTrue\u001b[0m\u001b[0;34m)\u001b[0m\u001b[0;34m\u001b[0m\u001b[0;34m\u001b[0m\u001b[0m\n",
      "\u001b[0;31mKeyboardInterrupt\u001b[0m: Interrupted by user"
     ]
    }
   ],
   "source": [
    "# Escribe aquí tu código:\n",
    "\n",
    "#defino la función, con los argumentos no opcionales primero, y el opcional al final.\n",
    "def dev_datos(nomPila,primApellido,segApellido,seg_nombre=\"\"):\n",
    "    #Muestro en pantalla los datos que se han introducido.\n",
    "    print(f\"Su nombre completo es:{nomPila.title()} {seg_nombre.title()} {primApellido.title()} {segApellido.title()}\")\n",
    "\n",
    "#Empezamos a almacenar en variables, los datos introducidos por el usuario \n",
    "print(\"Introduzca los datos\")\n",
    "print(\"--------------------\")\n",
    "nom_pila = input(\"Nombre de pila:\")\n",
    "seg_nombre = input(\"Segundo nombre, si posee:\")\n",
    "prim_apellido = input(\"Primer apellido:\")\n",
    "seg_apellido = input(\"Segundo apellido:\")\n",
    "\n",
    "#comprobamos si se ha introducido un segundo nombre.\n",
    "#si no se introduce segundo nombre, la longitud de la variable es 0\n",
    "#llamamos a la función con 3 argumentos\n",
    "if len(seg_nombre) == 0:\n",
    "    dev_datos(nom_pila,prim_apellido,seg_apellido)\n",
    "else:\n",
    "    #Si la longitud es mayor que 0, quiere decir que se ha introducido algo\n",
    "    #por lo que llamamos a la función con los 4 argumentos.\n",
    "    dev_datos(nom_pila,prim_apellido,seg_apellido,seg_nombre)\n"
   ]
  },
  {
   "cell_type": "markdown",
   "metadata": {
    "id": "NeBecPer6roq"
   },
   "source": [
    "## 9. Imprimiendo en 3D\n",
    "Tienes una empresa que se dedica a imprimir modelos en 3D que los usuarios suben a la plataforma web de la empresa. Los diseños pendientes de imprimir se guardan en una lista. Una vez impresos, se guardan en otra lista a parte.\n",
    "\n",
    "El siguiente código representa el flujo de trabajo:"
   ]
  },
  {
   "cell_type": "code",
   "execution_count": null,
   "metadata": {
    "colab": {
     "base_uri": "https://localhost:8080/",
     "height": 153
    },
    "id": "TJJf2Zfk6hrI",
    "outputId": "fba3bfab-1488-4b40-b5ad-36a9b6c4c6fb"
   },
   "outputs": [
    {
     "name": "stdout",
     "output_type": "stream",
     "text": [
      "Imprimiendo ahora: figura robot\n",
      "Imprimiendo ahora: funda de movil\n",
      "Imprimiendo ahora: colgante\n",
      "\n",
      "Ya se han impreso en 3D los modelos:\n",
      "figura robot\n",
      "funda de movil\n",
      "colgante\n"
     ]
    }
   ],
   "source": [
    "# List with designs which need to be printed\n",
    "unprinted_designs = ['colgante', 'funda de movil', 'figura robot']\n",
    "# List of printed designs is empty for now\n",
    "completed_models = []\n",
    "\n",
    "# Simulate printing each design\n",
    "while unprinted_designs:\n",
    "  printing_design = unprinted_designs.pop()\n",
    "  print(f\"Imprimiendo ahora: {printing_design}\")\n",
    "  completed_models.append(printing_design)\n",
    "\n",
    "# When all designs have been printed\n",
    "print(\"\\nYa se han impreso en 3D los modelos:\")\n",
    "for completed_model in completed_models:\n",
    "  print(completed_model)\n"
   ]
  },
  {
   "cell_type": "markdown",
   "metadata": {
    "id": "ynoquPKaInBt"
   },
   "source": [
    "Ahora, escribe el programa, pero utilizando dos funciones, cada una responsable de una de las tareas."
   ]
  },
  {
   "cell_type": "code",
   "execution_count": null,
   "metadata": {
    "id": "nddLN2MwIhuW"
   },
   "outputs": [],
   "source": [
    "# Escribe aquí tu código\n"
   ]
  },
  {
   "cell_type": "markdown",
   "metadata": {
    "id": "WCnkYScVLcMK"
   },
   "source": [
    "Se han comprado varios modelos de impresora 3D y se quieren comparar las impresiones de una y otras. La cuestión es que no queremos que la lista original *unprinted_designs* se vacíe o modifique a medida que se imprimen los modelos con cada impresora. ¿Cómo podemos conseguir que se ejecute el mismo código con los mismos resultados pero sin que se modifique las lista original de *unprinted_designs*?"
   ]
  },
  {
   "cell_type": "code",
   "execution_count": null,
   "metadata": {
    "id": "keZFnxVHOXt2"
   },
   "outputs": [],
   "source": [
    "# Escribe aquí tu código\n",
    "\n"
   ]
  },
  {
   "cell_type": "markdown",
   "metadata": {
    "id": "JthT2BpzXnvq"
   },
   "source": [
    "## 10. Sirviendo pizzas\n",
    "\n",
    "Continuando con el ejemplo de la pizzería, define una función *make_pizza* con un parámetro size para pasarle un argumento de tamaño (pequeña, mediana o familiar) y con parámetros indeterminados por posición para los ingredientes o *toppings*.\n",
    "\n",
    "Después, llama a la función para hacer tres pizzas, con diferentes tamaños e ingredientes."
   ]
  },
  {
   "cell_type": "code",
   "execution_count": null,
   "metadata": {
    "id": "CnjBs-GKaY-i"
   },
   "outputs": [],
   "source": [
    "# Escribe aquí tu código\n"
   ]
  },
  {
   "cell_type": "markdown",
   "metadata": {
    "id": "Qa8EH9RbacqJ"
   },
   "source": [
    "Define de nuevo la función, incluyendo los argumentos por defecto de la salsa de tomate y el queso mozzarela.\n",
    "\n",
    "Llama a la función para hacer dos pizzas con los valores por defecto y varios ingredientes, y llámala una tercera vez pero pidiendo salsa carbonara y queso cheddar."
   ]
  },
  {
   "cell_type": "code",
   "execution_count": null,
   "metadata": {
    "id": "eyzN0hIybRyK"
   },
   "outputs": [],
   "source": [
    "# Escribe aquí tu código\n"
   ]
  },
  {
   "cell_type": "markdown",
   "metadata": {
    "id": "tXvSjWe0bVg8"
   },
   "source": [
    "## 11. Perfil de usuario\n",
    "\n",
    "Estás creando una red social y necesitas programar cómo se va a almacenar la información de los usuarios que se dan de alta. Quieres que los usuarios puedan meter toda la información sobre ellos mismos que quieran.\n",
    "\n",
    "Define una función con dos parámetros por posición: *f_name* para el nombre y *l_name* para el apellido; y que admita indeterminados argumentos por nombre para información variada, como \"ciudad\", \"edad\", \"aficiones\",...\n",
    "\n",
    "Llama la función para dar de alta 2 usuarios y muestra la información de forma ordenada."
   ]
  },
  {
   "cell_type": "code",
   "execution_count": null,
   "metadata": {
    "id": "v4yxUPY5dtHO"
   },
   "outputs": [],
   "source": [
    "# Escribe aquí tu código\n"
   ]
  },
  {
   "cell_type": "markdown",
   "metadata": {
    "id": "H9Z_t6HNdyvy"
   },
   "source": [
    "## 12. Concesionario de coches\n",
    "\n",
    "Define una función con parámetros por referencia de marca y modelo de un coche. También debe admitir indeterminados parámetros por referencia de otras características del vehículo, como el color y otras prestaciones. El resultado de la función debe ser un diccionario que se asigne a una variable de forma similar a ésta:\n",
    "\n",
    "`car = make_car(\"seat\", \"leon\", color=\"amarillo\", tinted_windows=True, doors=5)`\n",
    "\n",
    "Llama a la función para dar de alta tres vehículos y muestra los diccionarios creados para comprobar que, efectivamente, se han generado y almacenado correctamente."
   ]
  },
  {
   "cell_type": "code",
   "execution_count": null,
   "metadata": {
    "id": "mFEAQQrJ03Xs"
   },
   "outputs": [],
   "source": [
    "# Escribe aquí tu código:\n",
    "\n"
   ]
  }
 ],
 "metadata": {
  "colab": {
   "name": "Ejercicios_Tema6_Funciones_1.ipynb",
   "provenance": []
  },
  "kernelspec": {
   "display_name": "Python 3",
   "language": "python",
   "name": "python3"
  },
  "language_info": {
   "codemirror_mode": {
    "name": "ipython",
    "version": 3
   },
   "file_extension": ".py",
   "mimetype": "text/x-python",
   "name": "python",
   "nbconvert_exporter": "python",
   "pygments_lexer": "ipython3",
   "version": "3.8.5"
  }
 },
 "nbformat": 4,
 "nbformat_minor": 1
}
