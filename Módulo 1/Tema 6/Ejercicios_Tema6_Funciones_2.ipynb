{
 "cells": [
  {
   "cell_type": "markdown",
   "metadata": {
    "id": "0vpYkzBOP0eS"
   },
   "source": [
    "## 1. Stack Diagram\n",
    "Dado este programa:\n",
    "\n",
    "\n",
    "```\n",
    "def recurse(n, s):\n",
    "  if n == 0:\n",
    "    print(s)\n",
    "  else:\n",
    "    recurse(n-1, n+s)\n",
    "\n",
    "recurse(3, 0)\n",
    "```\n",
    "a) ¿Cuál sería la salida de este programa?\n",
    "\n",
    "b) Dibuja el diagrama de pilas que muestra el estado del programa cuando se muestra el resultado en pantalla\n",
    "\n",
    "c) ¿Qué ocurriría si hacemos la siguiente llamada?\n",
    "\n",
    "\n",
    "```\n",
    "recurse(-1, 0)\n",
    "```\n",
    "\n",
    "\n"
   ]
  },
  {
   "cell_type": "code",
   "execution_count": 1,
   "metadata": {
    "id": "JUXDqzddPt7W"
   },
   "outputs": [
    {
     "name": "stdout",
     "output_type": "stream",
     "text": [
      "6\n"
     ]
    }
   ],
   "source": [
    "def recurse(n, s):\n",
    "  if n == 0:\n",
    "    print(s)\n",
    "  else:\n",
    "    recurse(n-1, n+s)\n",
    "\n",
    "recurse(3, 0)"
   ]
  },
  {
   "cell_type": "markdown",
   "metadata": {
    "id": "wjPTKl0eQ53G"
   },
   "source": [
    "## 2. ¿Qué hace esta función?\n",
    "En este ejercicio es necesario trabajar con el [módulo Turtle](https://docs.python.org/3.3/library/turtle.html?highlight=turtle). Lee la siguiente función y trata de predecir lo que hace:\n",
    "\n",
    "\n",
    "```\n",
    "def draw(t, length, n):\n",
    "        if n == 0:\n",
    "            return\n",
    "        angle = 50\n",
    "        t.fd(length*n) \n",
    "        t.lt(angle)\n",
    "        draw(t, length, n-1) \n",
    "        t.rt(2*angle) \n",
    "        draw(t, length, n-1) \n",
    "        t.lt(angle) \n",
    "        t.bk(length*n)\n",
    "```\n",
    "\n",
    "Después, pruébala en este [repl](https://repl.it/@CarmenBartolome/Ejerciciofuncrecursivasturtle) y observa si habías acertado. Cambia los argumentos que se pasan a la función y pruéba a ejecutar varias veces."
   ]
  },
  {
   "cell_type": "code",
   "execution_count": null,
   "metadata": {
    "id": "6PG3BI3bb-Xp"
   },
   "outputs": [],
   "source": []
  },
  {
   "cell_type": "markdown",
   "metadata": {
    "id": "LvTT0TG14BuD"
   },
   "source": [
    "## 3. Leyendo valores\n",
    "Escribe un programa que pida al usuario que introduzca un valor y que esta acción se repita hasta que el usuario introduzca una línea en blanco. Entonces, se debe mostrar el total de los valores (o 0.0 si el primer valor ya era una línea en blanco). Intenta resolver este ejercicio utilizando recursión en vez de iteración.\n",
    "\n",
    "Pista: la función recursiva no necesita ningún parámetro, aunque sí debe devolver un valor numérico.\n"
   ]
  },
  {
   "cell_type": "code",
   "execution_count": 12,
   "metadata": {
    "id": "T01F3_F_t-4p"
   },
   "outputs": [
    {
     "name": "stdout",
     "output_type": "stream",
     "text": [
      "Introduce número:1\n",
      "Introduce número:2\n",
      "Introduce número:\n",
      "3.0\n"
     ]
    }
   ],
   "source": [
    "# Escribe aquí tu código\n",
    "def recursiva(): \n",
    "    \n",
    "    num = input(\"Introduce número:\")\n",
    "    if num == \"\":\n",
    "        return 0.0\n",
    "    else:\n",
    "        return float(num) + recursiva()\n",
    "\n",
    "suma = recursiva()\n",
    "print(suma)\n"
   ]
  },
  {
   "cell_type": "markdown",
   "metadata": {
    "id": "b4rcjmKJuDbM"
   },
   "source": [
    "## 4. Run-Length Decoding\n",
    "La codificación \"run-length\" es una técnica de compresión de datos que es muy útil cuando tenemos una lista de valores que se repiten en posiciones adyacentes. Por ejemplo, la lista `[\"A\",\"A\",\"A\",\"A\",\"A\",\"A\",\"A\",\"A\",\"A\",\"A\",\"A\",\"A\",\"B\",\"B\",\"B\",\"B\",\"A\",\"A\",\"A\",\"A\",\"A\",\"A\",\"B\"]` se comprimiría como `[\"A\",12,\"B\",4,\"A\",6,\"B\",1]`. La descompresión consiste en replicar cada valor el número indicado de veces.\n",
    "\n",
    "Escribe una función recursiva que descomprima una lista codificada en run-length. Su único parámetro debe ser sicha lista codificada y devolverá la lista decodificada como único resultado.\n",
    "\n",
    "Escribe un programa que muestre una lista codificada y que llame a la función para decodificarla."
   ]
  },
  {
   "cell_type": "code",
   "execution_count": 13,
   "metadata": {
    "id": "p4P_NXpJ0NeF"
   },
   "outputs": [
    {
     "name": "stdout",
     "output_type": "stream",
     "text": [
      "['A', 8, 'B', 4, 'A', 1, 'B', 3]\n",
      "['A', 'A', 'A', 'A', 'A', 'A', 'A', 'A', 'B', 'B', 'B', 'B', 'A', 'B', 'B', 'B']\n"
     ]
    }
   ],
   "source": [
    "# Escribe aquí tu código\n",
    "indice = 0\n",
    "decoded_list = []\n",
    "\n",
    "def decode(lista):\n",
    "    if indice == len(lista):\n",
    "        return decoded_list\n",
    "\n",
    "    for i in range(lista[indice+1]):\n",
    "        decoded_list.append(lista[indice])\n",
    "    return decode(lista[indice+2:len(lista)])\n",
    "\n",
    "encoded_list = [\"A\",8,\"B\",4,\"A\",1,\"B\",3]\n",
    "print(encoded_list)\n",
    "print(decode(encoded_list))\n"
   ]
  },
  {
   "cell_type": "markdown",
   "metadata": {
    "id": "FAjBG6rx0Q6G"
   },
   "source": [
    "## 5. Run-Length Encoding\n",
    "Escribe una función recursiva que implemente la técnica de compresión run-length que se ha descrito en el ejercicio anterior. Tu función debe admitir una lista o una cadena como su único parámetro y debe devolver una lista comprimida como su único resultado.\n",
    "\n",
    "Escribe un programa que lea una lista o una cadena del usuario, la comprima y muestre el resultado.\n",
    "\n",
    "Pista: esta vez puede ser necesario recurrir a un bucle de iteración dentro de la función."
   ]
  },
  {
   "cell_type": "code",
   "execution_count": 14,
   "metadata": {
    "id": "Z7DfjCso13fz"
   },
   "outputs": [
    {
     "name": "stdout",
     "output_type": "stream",
     "text": [
      "['A', 4, 'B', 4, 'A', 1, 'B', 4, 'A', 3]\n"
     ]
    }
   ],
   "source": [
    "# Escribe aquí tu código\n",
    "def ecode(cadena):\n",
    "    if len(cadena) == 0:\n",
    "        return []\n",
    "    \n",
    "    indice = 1\n",
    "    while indice < len(cadena) and cadena[indice] == cadena[indice - 1]:\n",
    "            indice += 1\n",
    "    \n",
    "    ecoded_data = [cadena[0],indice]\n",
    "    \n",
    "    return ecoded_data + ecode(cadena[indice:len(cadena)])\n",
    "\n",
    "s=\"AAAABBBBABBBBAAA\"\n",
    "print(ecode(s))"
   ]
  },
  {
   "cell_type": "markdown",
   "metadata": {
    "id": "LsvC4ih4vMei"
   },
   "source": [
    "## 6. Ordenando una secuencia\n",
    "Dada la secuencia (lista de diccionarios):\n",
    "\n",
    "\n",
    "```\n",
    "notas = [{'nombre':'Lola','final':9},\n",
    "        {'nombre':'Javier','final':9.2},\n",
    "        {'nombre':'Marta','final':9.5}]\n",
    "```\n",
    "1. Utiliza la función sorted para ordenar la secuencia por nombre, siendo uno de los argumentos de la función sorted una expresión lambda como argumento por palabra clave de la forma:\n",
    "Puedes consultar la documentación [aquí](https://www.w3schools.com/python/ref_func_sorted.asp).\n",
    "\n",
    "```\n",
    "sorted(notas, key = ..expresión lambda..)\n",
    "```\n",
    "2. Utiliza de nuevo la función sorted pero para ordenar, esta vez, por notas, pasando también una expresión lambda como argumento para el parámetro key.\n",
    "\n",
    "3. Queremos ahora encontrar el valor máximo y mínimo en la lista de estudiantes. Para ello, utilizamos las funciones integradas max() y min():\n",
    "\n",
    "\n",
    "```\n",
    "max(notas, key = ..expresión lambda..)\n",
    "min(notas, key = ..expresión lambda..)\n",
    "```\n",
    "Escribe el código necesario para mostrar los resultados en cada caso\n"
   ]
  },
  {
   "cell_type": "code",
   "execution_count": null,
   "metadata": {
    "id": "vUUl0lky6XYL"
   },
   "outputs": [],
   "source": [
    "# Escribe aquí tu código\n"
   ]
  },
  {
   "cell_type": "markdown",
   "metadata": {
    "id": "Nkh13SuTs4GG"
   },
   "source": [
    "## 7. Una decoradora test\n",
    "Define una función decoradora llamada \"test\" que muestre en pantalla el mensaje 'start' cuando una función es llamada y que muestre el mensaje 'end' cuando la función se ha ejecutado.\n",
    "\n",
    "Define una función a la que añadir esta decoradora y llámala para probarlo todo."
   ]
  },
  {
   "cell_type": "code",
   "execution_count": 27,
   "metadata": {
    "id": "dZAjbsCCgZcl"
   },
   "outputs": [
    {
     "name": "stdout",
     "output_type": "stream",
     "text": [
      "start\n",
      "end\n"
     ]
    }
   ],
   "source": [
    "# Escribe aquí tu código\n",
    "def decoradora(func):\n",
    "    def new_function(*args,**kwargs):\n",
    "        result=func(*args,**kwargs)\n",
    "        print(\"end\")\n",
    "        return result\n",
    "    return new_function\n",
    "\n",
    "@decoradora\n",
    "def funcion_inicial():\n",
    "    print(\"start\")\n",
    "    return\n",
    "    \n",
    "\n",
    "funcion_inicial()"
   ]
  },
  {
   "cell_type": "markdown",
   "metadata": {
    "id": "0hQDeVmz_rDX"
   },
   "source": [
    "## 8. Haciendo un sandwich\n",
    "Crea una función decoradora, llamada *sandwich* que añada\n",
    "\n",
    "```\n",
    "=== REBANADA SUPERIOR ===\n",
    "```\n",
    "antes de la llamada a la función que se va a decorar, y que después complete con\n",
    "\n",
    "\n",
    "```\n",
    "=== REBANADA INFERIOR ===\n",
    "```\n",
    "después de la llamada a la función a decorar.\n",
    "\n",
    "Utiliza la decoradora en la definición de una función *relleno* que admita una lista de ingredientes y los muestre en una línea (*join* puede servir) de la forma:\n",
    "\n",
    "```\n",
    "lechuga / tomate / jamon\n",
    "```\n",
    "Escribe un programa que pida al usuario que introduzca un ingrediente hasta 3 veces y que, con la lista que se genere con estos ingredientes, se muestre un sandwich completo \n",
    "\n",
    "\n"
   ]
  },
  {
   "cell_type": "code",
   "execution_count": null,
   "metadata": {
    "id": "DF1cb4t5DAkU"
   },
   "outputs": [],
   "source": [
    "# Escribe aquí tu codigo\n"
   ]
  }
 ],
 "metadata": {
  "colab": {
   "name": "Ejercicios_Tema6_Funciones_2.ipynb",
   "provenance": []
  },
  "kernelspec": {
   "display_name": "Python 3",
   "language": "python",
   "name": "python3"
  },
  "language_info": {
   "codemirror_mode": {
    "name": "ipython",
    "version": 3
   },
   "file_extension": ".py",
   "mimetype": "text/x-python",
   "name": "python",
   "nbconvert_exporter": "python",
   "pygments_lexer": "ipython3",
   "version": "3.8.5"
  }
 },
 "nbformat": 4,
 "nbformat_minor": 1
}
