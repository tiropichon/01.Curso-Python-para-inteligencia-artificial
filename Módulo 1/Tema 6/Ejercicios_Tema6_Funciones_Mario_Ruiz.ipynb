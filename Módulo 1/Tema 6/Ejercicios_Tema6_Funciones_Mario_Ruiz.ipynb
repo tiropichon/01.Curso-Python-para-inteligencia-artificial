{
 "cells": [
  {
   "cell_type": "markdown",
   "metadata": {
    "id": "am8RYSLsPK6Y"
   },
   "source": [
    "# Ejercicios Funciones I"
   ]
  },
  {
   "cell_type": "markdown",
   "metadata": {
    "id": "XaHnqHk04xbV"
   },
   "source": [
    "## 1. Test\n",
    "Es bueno poner \"checkpoints\" en el código, sobre todo en bloques con muchas partes o mucha complejidad, para comprobar si todo se ejecuta correctamente y como estaba planeado. En caso de fallos, nos ayuda a localizar en qué parte del código las cosas han empezado a fallar.\n",
    "\n",
    "Define una función todo_OK() que devuelva el valor True y otra función fallo() que devuelva False\n",
    "\n",
    "Escribe un bloque de código con un if/else en el que se llame a una de las funciones en la condición if, y se muestre en pantalla un mensaje de que la ejecución está yendo bien. En la parte else, programa que se muestre un mensaje de que algo ha fallado. Escribe primero el bloque llamando a la función todo_OK() y luego escríbelo llamando a la función fallo()."
   ]
  },
  {
   "cell_type": "code",
   "execution_count": 2,
   "metadata": {
    "id": "g9vJ5oFp7YPw"
   },
   "outputs": [
    {
     "name": "stdout",
     "output_type": "stream",
     "text": [
      "Todo está yendo bien\n"
     ]
    }
   ],
   "source": [
    "# Define la función todo_OK()\n",
    "def todo_OK():\n",
    "    return True\n",
    "\n",
    "# Define la función fallo()\n",
    "def fallo():\n",
    "    return False\n",
    "\n",
    "# Código para el test:\n",
    "if (todo_OK()):\n",
    "    print(\"Todo está yendo bien\")\n",
    "else:\n",
    "    print(\"Todo ha fallado\")\n",
    "    \n",
    "if(fallo()):\n",
    "    print(\"Todo ha fallado\")\n",
    "else:\n",
    "    print(\"Todo está yendo bien\")\n"
   ]
  },
  {
   "cell_type": "markdown",
   "metadata": {
    "id": "FkNa8NxRYTL1"
   },
   "source": [
    "## 2. Inspiración\n",
    "\n",
    "Crea una función que, al ser llamada, muestre en pantalla un mensaje de inspiración o una reflexión motivadora.\n",
    "\n",
    "Crea un script que pida al usuario entrada por teclado como respuesta a una pregunta de si se encuentra bien o se encuentra mal. Programa el condicional para llamar a la función cuando la respuesta sea que se encuentra mal."
   ]
  },
  {
   "cell_type": "code",
   "execution_count": 4,
   "metadata": {
    "id": "Nk0NwGvWblP0"
   },
   "outputs": [
    {
     "name": "stdout",
     "output_type": "stream",
     "text": [
      "¿Cómo te encuentras hoy?:mal\n",
      "Ánimo\n"
     ]
    }
   ],
   "source": [
    "# Escribe aquí tu código:\n",
    "def mensaje():\n",
    "   print(\"Ánimo\")\n",
    "\n",
    "estado=str(input(\"¿Cómo te encuentras hoy? ¿Bien o mal?:\"))\n",
    "if estado == \"mal\" or estado == \"Mal\":\n",
    "    mensaje()\n",
    "        \n",
    "\n"
   ]
  },
  {
   "cell_type": "markdown",
   "metadata": {
    "id": "_dTUO9m6D2Na"
   },
   "source": [
    "## 3. Función presentación\n",
    "Define una función que muestre un mensaje de presentación sobre ti, cuyo parámetro sea un diccionario con los datos:\n",
    "\n",
    "*   Nombre\n",
    "*   Mascota (True o False)\n",
    "*   Edad\n",
    "*   Libro o peli favorito\n",
    "\n",
    "Crea el diccionario con datos sobre ti (si quieres, pueden ser ficticios), y llama a la función para mostrar un mensaje de presentación.\n",
    "\n",
    "\n"
   ]
  },
  {
   "cell_type": "code",
   "execution_count": 28,
   "metadata": {
    "id": "RfPZdBTU-oD3"
   },
   "outputs": [
    {
     "name": "stdout",
     "output_type": "stream",
     "text": [
      "Nombre: Mario\n",
      "Mascota: No\n",
      "Edad: 40\n",
      "Libro o peli favorita: Alien\n"
     ]
    }
   ],
   "source": [
    "# Escribe aquí tu código\n",
    "datos={\"Nombre\":\"Mario\",\"Mascota\":False, \"Edad\":40, \"Peli\":\"Alien\"}\n",
    "\n",
    "def muestra_datos(mis_datos):\n",
    "    print(\"Nombre:\",mis_datos[\"Nombre\"])\n",
    "    if mis_datos[\"Mascota\"] == True:\n",
    "        print(\"Mascota: Si\")\n",
    "    else:\n",
    "        print(\"Mascota: No\")\n",
    "    print(\"Edad:\",mis_datos[\"Edad\"])\n",
    "    print(\"Libro o peli favorita:\",mis_datos[\"Peli\"])\n",
    "    return\n",
    "\n",
    "muestra_datos(datos)\n"
   ]
  },
  {
   "cell_type": "markdown",
   "metadata": {
    "id": "XIcFk8_dw_6B"
   },
   "source": [
    "## 4. Paga al taxista\n",
    "Crea una función que genere la cantidad que hay que pagar por un viaje de un taxi. El parámetro de entrada deben ser los kilómetros del trayecto.\n",
    "Para el cálculo del precio del trayecto, se debe aplicar una cuota básica de 4€ (la bajada de bandera) a lo que se irá añadiendo 0,25€ por cada 200 metros recorridos.\n",
    "Escribe el código para probar la función.\n",
    "\n",
    "Bonus: no superar 22 líneas de código."
   ]
  },
  {
   "cell_type": "code",
   "execution_count": 33,
   "metadata": {
    "id": "D7aWfvr0L7xG"
   },
   "outputs": [
    {
     "name": "stdout",
     "output_type": "stream",
     "text": [
      "Introduce los kilómetros recorridos:6\n",
      "La cantidad a pagar es: 11.5\n"
     ]
    }
   ],
   "source": [
    "#Escribe aquí tu código:\n",
    "#ejercicio 4\n",
    "def taximetro(km):\n",
    "    cantidad= 4 + (((km*1000)/200)*0.25)\n",
    "    print(f\"La cantidad a pagar es: {cantidad}\")\n",
    "    return\n",
    "\n",
    "num_km=int(input(\"Introduce los kilómetros recorridos:\"))\n",
    "taximetro(num_km)"
   ]
  },
  {
   "cell_type": "markdown",
   "metadata": {
    "id": "YreoaNa4rEdb"
   },
   "source": [
    "## 5. La tienda de camisetas\n",
    "Crea una función con el nombre *make_Tshirt* con los parámetros *size* para la talla y *message* para el mensaje a imprimir en la camiseta. Define la función con los argumentos por defecto de talla L y mensaje \"I love Python\". Fabrica con ella tres camisetas, una con los argumentos por defecto y otras dos para dos personas que conozcas (¡una puedes ser para la profe!).\n",
    "\n",
    "```\n",
    "# Una primera camiseta\n",
    "   ___    ___\n",
    "  /_  \\__/  _\\\n",
    "    |  I   |\n",
    "    | love |\n",
    "    |Python|\n",
    "    |______| \n",
    "```\n",
    "\n"
   ]
  },
  {
   "cell_type": "code",
   "execution_count": 36,
   "metadata": {
    "id": "7kfacsOqqz8O"
   },
   "outputs": [
    {
     "name": "stdout",
     "output_type": "stream",
     "text": [
      "Talla de camiseta: L\n",
      "Mensaje: I love Python\n",
      "Talla de camiseta: S\n",
      "Mensaje: I love Python\n",
      "Talla de camiseta: L\n",
      "Mensaje: I love C#\n"
     ]
    }
   ],
   "source": [
    "# Escribe aquí tu código\n",
    "\n",
    "#defino una variable con dos argumentos opcionales\n",
    "def make_Tshirt(size=\"L\",message=\"I love Python\"):\n",
    "    \n",
    "    #muestro en pantalla el valor de los dos argumentos.\n",
    "    print(f\"Talla de camiseta: {size}\\nMensaje: {message}\")\n",
    "    \n",
    "    return\n",
    "\n",
    "#Llamo a la función sin pasar argumentos, por lo que la función usará los argumentos opcionales.\n",
    "make_Tshirt()\n",
    "\n",
    "#Llamo a la función pasando el argumento 'size', por lo que la función usa el argumento opcional 'message'\n",
    "make_Tshirt(size=\"S\")\n",
    "\n",
    "#Llamo a la función pasando el argumento 'message', por lo que la función usa el argumento opcional 'size'\n",
    "make_Tshirt(message=\"I love C#\")"
   ]
  },
  {
   "cell_type": "markdown",
   "metadata": {
    "id": "amnjN1geeSRK"
   },
   "source": [
    "## 6. Gastos de envío\n",
    "\n",
    "Tienes una tienda online y estás programando un script que automatice el cálculo de los gastos de envío para cada pedido. Según las tarifas que te han dado en la empresa de transportes, hay un coste básico mínimo de 6€ por envio. Es decir, por enviar un único producto, debes cobrar 6€ de gastos de envío, pero luego, por cada producto extra que haya en el pedido, se debe añadir 1,5€.\n",
    "\n",
    "Crea una función que calcule el gasto del envío a partir del número de productos que haya en el pedido como único parámetro.\n",
    "\n",
    "Prueba la función en un programa para tres pedidos diferentes."
   ]
  },
  {
   "cell_type": "code",
   "execution_count": 51,
   "metadata": {
    "id": "jrPmarYbfhW1"
   },
   "outputs": [
    {
     "name": "stdout",
     "output_type": "stream",
     "text": [
      "Introduce el nº de productos del envío:2\n",
      "El coste del envío es 9.0\n"
     ]
    }
   ],
   "source": [
    "# Escribe aquí tu código:\n",
    "\n",
    "#defino una función que reciba como argumento el número de productos.\n",
    "#como segundo argumento le paso una variable con valor 6, q es el coste mínimo\n",
    "def calcula_envio(numProductos,coste_minimo=6):\n",
    "    \n",
    "    #para calcular el coste, es multiplicar el num. de productos por 1.5 € cada uno\n",
    "    coste_producto = (numProductos * 1.5)\n",
    "    \n",
    "    #calculo el coste total del envío\n",
    "    coste_total = coste_minimo + coste_producto\n",
    "    \n",
    "    #Muestro por pantalla el coste total del envío\n",
    "    print(f\"El coste del envío es: {coste_total}\")\n",
    "    return\n",
    "\n",
    "#recojo en una variable, el nº de productos del envío\n",
    "num_productos=int(input(\"Introduce el nº de productos del envío:\"))\n",
    "\n",
    "#Llamo a la función pasandole como argumento el número de productos.\n",
    "calcula_envio(num_productos)\n",
    "\n"
   ]
  },
  {
   "cell_type": "markdown",
   "metadata": {
    "id": "5MWHSD-cwCsn"
   },
   "source": [
    "## 7. Mascota Virtual\n",
    "Crea un diccionario con el nombre *hamster* que incluya las siguientes características de tu mascota:\n",
    "\n",
    "\n",
    "*   Name: asigna un valor de tipo cadena con el nombre que quieras para tu mascota virtual\n",
    "*   Age: asigna a esta clave un número entero que representa la edad de la mascota\n",
    "*   Weight: elige un valor de tipo float para el peso de la mascota\n",
    "*   Hungry: asigna a esta clave una variable de tipo lógico (True o False) para poner a tu mascota en estado \"hambriento\" o no\n",
    "*   Mood: asigna a esta variable el estado \"happy\" o \"sad\" para indicar el estado de ánimo de la mascota\n",
    "*   Photo: asigna una cadena de caracteres \"<:3 )---\"\n",
    "\n",
    "Crea una función con el nombre *feed* que tenga como parámetro el nombre de la mascota que se quiere alimentar y que haga que *hungry* pase a ser False si era True, o que muestre un mensaje de que la mascota no tiene hambre si Hungry ya era False. Además, la función debe hacer que la variable Weight aumente ligeramente si la mascota come.\n",
    "\n",
    "Crea también otra función con el nombre *play* que cambie el estado de ánimo de la mascota de \"sad\" a \"happy\" al ser llamada, y que haga que la mascota pierda una pequeña cantidad de peso cada vez. La función debe mostrar un mensaje y volver Hungry al valor \"True\" si el peso está por debajo de un cierto valor límite, para avisar de que la mascota está cansada y hambrienta.\n",
    "\n",
    "Finalmente, escribe el código para:\n",
    "\n",
    "*   Presentar a tu mascota y describirla\n",
    "*   Poner valores iniciales de Hungry en True y de Mood en \"sad\"\n",
    "*   Alimentar a la mascota\n",
    "*   Poner a jugar a la mascota y revisar el estado de sus valores\n",
    "*   Crear un nuevo diccionario con una nueva mascota\n",
    "*   Alimentar a las mascotas con un bucle de iteración\n",
    "\n",
    "\n",
    "\n",
    "\n",
    "\n",
    "\n"
   ]
  },
  {
   "cell_type": "code",
   "execution_count": 2,
   "metadata": {
    "id": "CcTXHZlJCAS7"
   },
   "outputs": [
    {
     "name": "stdout",
     "output_type": "stream",
     "text": [
      "Opciones\n",
      "========\n",
      "1 -> Mostrar datos de mi mascota\n",
      "2 -> Poner valores iniciales de 'hungry' en 'True' y de 'Mood' en 'Sad'\n",
      "3 -> Alimentar a la mascota\n",
      "4 -> Jugar con la mascota\n",
      "5 -> Crear una nueva mascota\n",
      "6 -> Alimentar a las mascotas con un bucle de iteración\n",
      "--------------------------\n",
      "0 -> Salir\n",
      "Introduce opción:0\n"
     ]
    }
   ],
   "source": [
    "# -*- coding: utf-8 -*-\n",
    "\n",
    "# Escribe aquí tu código\n",
    "def mostrar_menu():\n",
    "    #Creo un diccionario con los datos de mi mascota\n",
    "    hamster={\"name\":\"Toni\",\"age\":5,\"weight\":12.0,\"hungry\":False,\"mood\":\"happy\",\"photo\":\"<:3)---\"}\n",
    "    hamster2={\"name\":\"\",\"age\":0,\"weight\":0.0,\"hungry\":False,\"mood\":\"\",\"photo\":\"\"}\n",
    "    \n",
    "    \n",
    "    #Inicializo la variable opcion a 1 para que el bucle while se ejecute al \n",
    "    #menos 1 vez\n",
    "    opcion = 1\n",
    "    \n",
    "        \n",
    "    #Muestro el menú, hasta q se introduzca el 0\n",
    "    while opcion != 0:\n",
    "        print(\"Opciones\")\n",
    "        print(\"========\")\n",
    "        print(\"1 -> Mostrar datos de mi mascota\")\n",
    "        print(\"2 -> Poner valores iniciales de 'hungry' en 'True' y de 'Mood' en 'Sad'\")\n",
    "        print(\"3 -> Alimentar a la mascota\")\n",
    "        print(\"4 -> Jugar con la mascota\")\n",
    "        print(\"5 -> Crear una nueva mascota\")\n",
    "        print(\"6 -> Alimentar a las mascotas con un bucle de iteración\")\n",
    "        print(\"--------------------------\")\n",
    "        print(\"0 -> Salir\")\n",
    "        opcion=int(input(\"Introduce opción:\"))\n",
    "        if (opcion == 1):   \n",
    "            #Muestro los datos de mi mascota\n",
    "            mostrar_datos(hamster)\n",
    "        \n",
    "        if (opcion == 2):  \n",
    "            #Cambio valores 'hungry' a True y 'mood' a 'Sad\n",
    "            cambiar_valores(hamster)\n",
    "        \n",
    "        if (opcion == 3):    \n",
    "            #Alimento una mascota. Pido el nombre.\n",
    "            nmascota = str(input(\"Introduce nombre de la mascota a alimentar: \"))\n",
    "            feed(nmascota,hamster)\n",
    "        \n",
    "        if (opcion == 4):\n",
    "            #Juego con la mascota\n",
    "            play(hamster)\n",
    "        \n",
    "        if (opcion == 5):\n",
    "            #creo una nueva mascota\n",
    "            crear_mascota(hamster2)\n",
    "                \n",
    "        if (opcion == 6):\n",
    "            #alimento las mascotas con un bucle de iteración\n",
    "            alimentar_mascotas(hamster,hamster2)\n",
    "    return\n",
    "\n",
    "\n",
    "def feed(nombre, hamster):\n",
    "    \n",
    "    if nombre in hamster.values():\n",
    "        if hamster[\"hungry\"] == False:\n",
    "            print(f\"La mascosa {hamster['name']} no tiene hambre\\n\")\n",
    "        else:\n",
    "            hamster[\"hungry\"] = False\n",
    "            hamster[\"weight\"] += 0.1 \n",
    "            mostrar_datos(hamster)\n",
    "    else:\n",
    "        print(\"Ese nombre de mascota no existe.\\n\")\n",
    "    return hamster\n",
    "\n",
    "def mostrar_datos(hamster):\n",
    "    \n",
    "    #Presento mi mascota y la describo\n",
    "    print(\"Datos de mi mascota\")\n",
    "    print(\"-------------------\")\n",
    "    print(f\"Nombre: {hamster['name']}\")\n",
    "    print(f\"Edad: {hamster['age']}\")\n",
    "    print(f\"Peso: {hamster['weight']}\") \n",
    "    if hamster[\"hungry\"] == False:\n",
    "        print(\"Hambriento: No\")\n",
    "    else:\n",
    "        print(\"Hambriento: Sí\")\n",
    "    if hamster[\"mood\"] == \"sad\" or hamster[\"mood\"] == \"Sad\":\n",
    "        print(\"Estado de ánimo: Triste\")\n",
    "    else:\n",
    "        print(\"Estado de ánimo: Feliz\")\n",
    "    print(f\"Foto: {hamster['photo']} \\n\")\n",
    "    \n",
    "def mostrar_datos_masc2(hamster2):\n",
    "    \n",
    "    #Presento mi mascota y la describo\n",
    "    print(\"Datos de mi mascota\")\n",
    "    print(\"-------------------\")\n",
    "    print(f\"Nombre: {hamster2['name']}\")\n",
    "    print(f\"Edad: {hamster2['age']}\")\n",
    "    print(f\"Peso: {hamster2['weight']}\") \n",
    "    if hamster2[\"hungry\"] == False:\n",
    "        print(\"Hambriento: No\")\n",
    "    else:\n",
    "        print(\"Hambriento: Sí\")\n",
    "    if hamster2[\"mood\"] == \"sad\" or hamster2[\"mood\"] == \"Sad\":\n",
    "        print(\"Estado de ánimo: Triste\")\n",
    "    else:\n",
    "        print(\"Estado de ánimo: Feliz\")\n",
    "    print(f\"Foto: {hamster2['photo']} \\n\")\n",
    "    return\n",
    "\n",
    "def cambiar_valores(hamster):\n",
    "    \n",
    "    hamster[\"hungry\"] = True\n",
    "    hamster[\"mood\"] = \"sad\"\n",
    "    mostrar_datos(hamster)\n",
    "    return hamster\n",
    "\n",
    "\n",
    "def crear_mascota(hamster2):\n",
    "    \n",
    "    \n",
    "    print(\"Datos nueva mascota\")\n",
    "    print(\"===================\")\n",
    "    nombre_masc = str(input(\"Nombre mascota:\"))\n",
    "    edad_masc = int(input(\"Edad:\"))\n",
    "    peso_masc = float(input(\"Peso:\"))\n",
    "    pedir_hamb = True\n",
    "    while (pedir_hamb == True):\n",
    "        hambriento = str(input(\"¿Esta hambriento? (s/n):\"))\n",
    "        if (hambriento == \"S\" or hambriento == \"s\" or \n",
    "            hambriento == \"N\" or hambriento == \"n\"):\n",
    "           if (hambriento == 'S' or hambriento == 's'):\n",
    "               hambre_masc = True\n",
    "               pedir_hamb = False \n",
    "           else:\n",
    "               hambre_masc = False\n",
    "               pedir_hamb = False \n",
    "        else:\n",
    "            pedir_hamb = True\n",
    "    \n",
    "    pedir_mood = True\n",
    "    while(pedir_mood == True):\n",
    "        animo=str(input(\"¿La mascota esta feliz? (s/n):\"))\n",
    "        if (animo == \"S\" or animo == \"s\" or animo == \"N\" or animo == \"n\"):\n",
    "            if(animo == \"S\" or animo == \"s\"):\n",
    "                animo_masc=\"happy\"\n",
    "                pedir_mood = False \n",
    "            else:\n",
    "                animo_masc=\"sad\"\n",
    "                pedir_mood = False \n",
    "        else:\n",
    "            pedir_mood = True\n",
    "            \n",
    "    foto_masc = str(input(\"Foto de la mascota:\"))\n",
    "    hamster2[\"name\"]=nombre_masc\n",
    "    hamster2[\"age\"]=edad_masc\n",
    "    hamster2[\"weight\"]=peso_masc\n",
    "    hamster2[\"hungry\"]=hambre_masc\n",
    "    hamster2[\"mood\"]=animo_masc\n",
    "    hamster2[\"photo\"]=foto_masc\n",
    "    \n",
    "    #hamster2={\"name\":nombre_masc,\"age\":edad_masc,\"weight\":peso_masc,\n",
    "    #          \"hungry\":hambre_masc,\"mood\":animo_masc,\"photo\":foto_masc}\n",
    "    mostrar_datos_masc2(hamster2)\n",
    "    return hamster2\n",
    "\n",
    "def alimentar_mascotas(hamster, hamster2):\n",
    "    \n",
    "    #recorro el diccionario hamster.\n",
    "    for k,y in hamster.items():\n",
    "            #Asigno False al elemento \"hungry\"\n",
    "            if str(k) == \"hungry\": \n",
    "                y = False \n",
    "            \n",
    "            #Asigno al elemento \"weight\", el peso + 0.1\n",
    "            if str(k) == \"weight\":\n",
    "                y += 0.1\n",
    "    mostrar_datos(hamster)\n",
    "    \n",
    "    #recorro el diccionario hamster2.\n",
    "    if len(hamster2) > 0:\n",
    "        for k,y in hamster2.items():\n",
    "            #Asigno False al elemento \"hungry\"\n",
    "            if str(k) == \"hungry\": \n",
    "                y = False\n",
    "            \n",
    "            #Asigno al elemento \"weight\", el peso + 0.1\n",
    "            if str(k) == \"weight\":\n",
    "                y += 0.1\n",
    "        mostrar_datos_masc2(hamster2)\n",
    "      \n",
    "    return hamster, hamster2\n",
    "\n",
    "def play(hamster):\n",
    "    \n",
    "    #asigno a la mascota los valores \"mood\" -> feliz, \n",
    "    #y el peso -> peso - 0.2\n",
    "    hamster[\"mood\"]=\"happy\"\n",
    "    hamster[\"weight\"] -= 0.2\n",
    "    \n",
    "    #Si el peso es menor a 11.9, establece estado \"hungry\" a True\n",
    "    #Y muestra un mensaje que la mascota está cansada y hambrienta\n",
    "    if (hamster[\"weight\"] < 11.9):\n",
    "        hamster[\"hungry\"] = True\n",
    "        print(\"---> La mascota está cansada y hambrienta. Peso por debajo de 11.9 <--- \\n\")\n",
    "    \n",
    "    mostrar_datos(hamster)\n",
    "    return hamster   \n",
    "    \n",
    "#main\n",
    "#llamo a la función que va a mostrar el menú por pantalla.\n",
    "mostrar_menu()\n"
   ]
  },
  {
   "cell_type": "markdown",
   "metadata": {
    "id": "muFiFV4ALsl7"
   },
   "source": [
    "## 8. Segundo nombre opcional\n",
    "\n",
    "Define una función que devuelva el nombre y apellidos de una persona con la primera letra en mayúscula. La función debe tener como parámetros de entrada:\n",
    "\n",
    "*   Nombre de pila\n",
    "*   Segundo nombre si se tiene\n",
    "*   Primer apellido\n",
    "*   Segundo apellido\n",
    "\n",
    "La función debe funcionar tanto si se le da un segundo nombre como si no.\n",
    "\n",
    "Llama a la función dando como argumentos estos nombres:\n",
    "\n",
    "- juan,antonio,rebolledo,lópez\n",
    "- miranda,galvez,aranda\n",
    "- luis,fernando,malik,moreno"
   ]
  },
  {
   "cell_type": "code",
   "execution_count": 11,
   "metadata": {
    "id": "yp0LaB3tPWGQ"
   },
   "outputs": [
    {
     "name": "stdout",
     "output_type": "stream",
     "text": [
      "Introduzca los datos\n",
      "--------------------\n",
      "Nombre de pila:Miguel\n",
      "Segundo nombre, si posee:Temprano\n",
      "Primer apellido:Euiz\n",
      "Segundo apellido:Pendon\n",
      "Su nombre completo es:Miguel Temprano Euiz Pendon\n"
     ]
    }
   ],
   "source": [
    "# Escribe aquí tu código:\n",
    "\n",
    "#defino la función, con los argumentos no opcionales primero, y el opcional al final.\n",
    "def dev_datos(nomPila,primApellido,segApellido,seg_nombre=\"\"):\n",
    "    #Muestro en pantalla los datos que se han introducido.\n",
    "    if len(seg_nombre) > 0:\n",
    "        print(f\"Su nombre completo es:{nomPila.title()} {seg_nombre.title()} {primApellido.title()} {segApellido.title()}\")\n",
    "    else:\n",
    "        print(f\"Su nombre completo es:{nomPila.title()} {primApellido.title()} {segApellido.title()}\")\n",
    "    return\n",
    "\n",
    "#Empezamos a almacenar en variables, los datos introducidos por el usuario \n",
    "print(\"Introduzca los datos\")\n",
    "print(\"--------------------\")\n",
    "nom_pila = input(\"Nombre de pila:\")\n",
    "seg_nombre = input(\"Segundo nombre, si posee:\")\n",
    "prim_apellido = input(\"Primer apellido:\")\n",
    "seg_apellido = input(\"Segundo apellido:\")\n",
    "\n",
    "#comprobamos si se ha introducido un segundo nombre.\n",
    "#si no se introduce segundo nombre, la longitud de la variable es 0\n",
    "#llamamos a la función con 3 argumentos\n",
    "if len(seg_nombre) == 0:\n",
    "    dev_datos(nom_pila,prim_apellido,seg_apellido)\n",
    "else:\n",
    "    #Si la longitud es mayor que 0, quiere decir que se ha introducido algo\n",
    "    #por lo que llamamos a la función con los 4 argumentos.\n",
    "    dev_datos(nom_pila,prim_apellido,seg_apellido,seg_nombre)\n"
   ]
  },
  {
   "cell_type": "markdown",
   "metadata": {
    "id": "NeBecPer6roq"
   },
   "source": [
    "## 9. Imprimiendo en 3D\n",
    "Tienes una empresa que se dedica a imprimir modelos en 3D que los usuarios suben a la plataforma web de la empresa. Los diseños pendientes de imprimir se guardan en una lista. Una vez impresos, se guardan en otra lista a parte.\n",
    "\n",
    "El siguiente código representa el flujo de trabajo:"
   ]
  },
  {
   "cell_type": "code",
   "execution_count": null,
   "metadata": {
    "colab": {
     "base_uri": "https://localhost:8080/",
     "height": 153
    },
    "id": "TJJf2Zfk6hrI",
    "outputId": "fba3bfab-1488-4b40-b5ad-36a9b6c4c6fb"
   },
   "outputs": [
    {
     "name": "stdout",
     "output_type": "stream",
     "text": [
      "Imprimiendo ahora: figura robot\n",
      "Imprimiendo ahora: funda de movil\n",
      "Imprimiendo ahora: colgante\n",
      "\n",
      "Ya se han impreso en 3D los modelos:\n",
      "figura robot\n",
      "funda de movil\n",
      "colgante\n"
     ]
    }
   ],
   "source": [
    "# List with designs which need to be printed\n",
    "unprinted_designs = ['colgante', 'funda de movil', 'figura robot']\n",
    "# List of printed designs is empty for now\n",
    "completed_models = []\n",
    "\n",
    "# Simulate printing each design\n",
    "while unprinted_designs:\n",
    "  printing_design = unprinted_designs.pop()\n",
    "  print(f\"Imprimiendo ahora: {printing_design}\")\n",
    "  completed_models.append(printing_design)\n",
    "\n",
    "# When all designs have been printed\n",
    "print(\"\\nYa se han impreso en 3D los modelos:\")\n",
    "for completed_model in completed_models:\n",
    "  print(completed_model)\n"
   ]
  },
  {
   "cell_type": "markdown",
   "metadata": {
    "id": "ynoquPKaInBt"
   },
   "source": [
    "Ahora, escribe el programa, pero utilizando dos funciones, cada una responsable de una de las tareas."
   ]
  },
  {
   "cell_type": "code",
   "execution_count": null,
   "metadata": {
    "id": "nddLN2MwIhuW"
   },
   "outputs": [],
   "source": [
    "# Escribe aquí tu código\n"
   ]
  },
  {
   "cell_type": "markdown",
   "metadata": {
    "id": "WCnkYScVLcMK"
   },
   "source": [
    "Se han comprado varios modelos de impresora 3D y se quieren comparar las impresiones de una y otras. La cuestión es que no queremos que la lista original *unprinted_designs* se vacíe o modifique a medida que se imprimen los modelos con cada impresora. ¿Cómo podemos conseguir que se ejecute el mismo código con los mismos resultados pero sin que se modifique las lista original de *unprinted_designs*?"
   ]
  },
  {
   "cell_type": "code",
   "execution_count": null,
   "metadata": {
    "id": "keZFnxVHOXt2"
   },
   "outputs": [],
   "source": [
    "# Escribe aquí tu código\n",
    "\n"
   ]
  },
  {
   "cell_type": "markdown",
   "metadata": {
    "id": "JthT2BpzXnvq"
   },
   "source": [
    "## 10. Sirviendo pizzas\n",
    "\n",
    "Continuando con el ejemplo de la pizzería, define una función *make_pizza* con un parámetro size para pasarle un argumento de tamaño (pequeña, mediana o familiar) y con parámetros indeterminados por posición para los ingredientes o *toppings*.\n",
    "\n",
    "Después, llama a la función para hacer tres pizzas, con diferentes tamaños e ingredientes."
   ]
  },
  {
   "cell_type": "code",
   "execution_count": null,
   "metadata": {
    "id": "CnjBs-GKaY-i"
   },
   "outputs": [],
   "source": [
    "# Escribe aquí tu código\n"
   ]
  },
  {
   "cell_type": "markdown",
   "metadata": {
    "id": "Qa8EH9RbacqJ"
   },
   "source": [
    "Define de nuevo la función, incluyendo los argumentos por defecto de la salsa de tomate y el queso mozzarela.\n",
    "\n",
    "Llama a la función para hacer dos pizzas con los valores por defecto y varios ingredientes, y llámala una tercera vez pero pidiendo salsa carbonara y queso cheddar."
   ]
  },
  {
   "cell_type": "code",
   "execution_count": null,
   "metadata": {
    "id": "eyzN0hIybRyK"
   },
   "outputs": [],
   "source": [
    "# Escribe aquí tu código\n"
   ]
  },
  {
   "cell_type": "markdown",
   "metadata": {
    "id": "tXvSjWe0bVg8"
   },
   "source": [
    "## 11. Perfil de usuario\n",
    "\n",
    "Estás creando una red social y necesitas programar cómo se va a almacenar la información de los usuarios que se dan de alta. Quieres que los usuarios puedan meter toda la información sobre ellos mismos que quieran.\n",
    "\n",
    "Define una función con dos parámetros por posición: *f_name* para el nombre y *l_name* para el apellido; y que admita indeterminados argumentos por nombre para información variada, como \"ciudad\", \"edad\", \"aficiones\",...\n",
    "\n",
    "Llama la función para dar de alta 2 usuarios y muestra la información de forma ordenada."
   ]
  },
  {
   "cell_type": "code",
   "execution_count": null,
   "metadata": {
    "id": "v4yxUPY5dtHO"
   },
   "outputs": [],
   "source": [
    "# Escribe aquí tu código\n"
   ]
  },
  {
   "cell_type": "markdown",
   "metadata": {
    "id": "H9Z_t6HNdyvy"
   },
   "source": [
    "## 12. Concesionario de coches\n",
    "\n",
    "Define una función con parámetros por referencia de marca y modelo de un coche. También debe admitir indeterminados parámetros por referencia de otras características del vehículo, como el color y otras prestaciones. El resultado de la función debe ser un diccionario que se asigne a una variable de forma similar a ésta:\n",
    "\n",
    "`car = make_car(\"seat\", \"leon\", color=\"amarillo\", tinted_windows=True, doors=5)`\n",
    "\n",
    "Llama a la función para dar de alta tres vehículos y muestra los diccionarios creados para comprobar que, efectivamente, se han generado y almacenado correctamente."
   ]
  },
  {
   "cell_type": "code",
   "execution_count": 10,
   "metadata": {
    "id": "mFEAQQrJ03Xs"
   },
   "outputs": [
    {
     "name": "stdout",
     "output_type": "stream",
     "text": [
      "{'Marca': 'Seat', 'Modelo': 'Leon', 'color': 'blanco', 'puertas': 'cinco'}\n",
      "{'Marca': 'Renault', 'Modelo': 'Kangoo', 'color': 'azul', 'ventanas_tintadas': 'Si'}\n",
      "{'Marca': 'Volkswagen', 'Modelo': 'Golf', 'color': 'rojo', 'ventanas_tintadas': 'No'}\n"
     ]
    }
   ],
   "source": [
    "# -*- coding: utf-8 -*-\n",
    "\"\"\"\n",
    "Created on Mon Mar 22 12:28:03 2021\n",
    "\n",
    "@author: mario\n",
    "\"\"\"\n",
    "def ref_coche(marca, modelo,**kwargs):\n",
    "    \n",
    "    car = {\"Marca\":marca,\"Modelo\":modelo}\n",
    "    for kwarg in kwargs:\n",
    "        car[kwarg]=kwargs[kwarg]\n",
    "        \n",
    "    return car\n",
    "\n",
    "coche1 = ref_coche(\"Seat\",\"Leon\",color=\"blanco\",puertas=\"cinco\")\n",
    "\n",
    "coche2 = ref_coche(\"Renault\",\"Kangoo\",color=\"azul\",ventanas_tintadas=\"Si\")\n",
    "\n",
    "coche3 = ref_coche(\"Volkswagen\",\"Golf\",color=\"rojo\",ventanas_tintadas=\"No\")\n",
    "\n",
    "print(coche1)\n",
    "print(coche2)\n",
    "print(coche3)"
   ]
  },
  {
   "cell_type": "code",
   "execution_count": null,
   "metadata": {},
   "outputs": [],
   "source": []
  }
 ],
 "metadata": {
  "colab": {
   "name": "Ejercicios_Tema6_Funciones_1.ipynb",
   "provenance": []
  },
  "kernelspec": {
   "display_name": "Python 3",
   "language": "python",
   "name": "python3"
  },
  "language_info": {
   "codemirror_mode": {
    "name": "ipython",
    "version": 3
   },
   "file_extension": ".py",
   "mimetype": "text/x-python",
   "name": "python",
   "nbconvert_exporter": "python",
   "pygments_lexer": "ipython3",
   "version": "3.8.5"
  }
 },
 "nbformat": 4,
 "nbformat_minor": 1
}
