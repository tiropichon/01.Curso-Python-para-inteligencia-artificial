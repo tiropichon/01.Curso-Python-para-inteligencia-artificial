{
 "cells": [
  {
   "cell_type": "code",
   "execution_count": 1,
   "metadata": {},
   "outputs": [
    {
     "name": "stdout",
     "output_type": "stream",
     "text": [
      "The Zen of Python, by Tim Peters\n",
      "\n",
      "Beautiful is better than ugly.\n",
      "Explicit is better than implicit.\n",
      "Simple is better than complex.\n",
      "Complex is better than complicated.\n",
      "Flat is better than nested.\n",
      "Sparse is better than dense.\n",
      "Readability counts.\n",
      "Special cases aren't special enough to break the rules.\n",
      "Although practicality beats purity.\n",
      "Errors should never pass silently.\n",
      "Unless explicitly silenced.\n",
      "In the face of ambiguity, refuse the temptation to guess.\n",
      "There should be one-- and preferably only one --obvious way to do it.\n",
      "Although that way may not be obvious at first unless you're Dutch.\n",
      "Now is better than never.\n",
      "Although never is often better than *right* now.\n",
      "If the implementation is hard to explain, it's a bad idea.\n",
      "If the implementation is easy to explain, it may be a good idea.\n",
      "Namespaces are one honking great idea -- let's do more of those!\n"
     ]
    }
   ],
   "source": [
    "import this"
   ]
  },
  {
   "cell_type": "code",
   "execution_count": 17,
   "metadata": {},
   "outputs": [],
   "source": [
    "#Definición y llamada de una función"
   ]
  },
  {
   "cell_type": "code",
   "execution_count": 4,
   "metadata": {},
   "outputs": [],
   "source": [
    "def useless_function():\n",
    "    pass\n",
    "\n",
    "useless_function()"
   ]
  },
  {
   "cell_type": "code",
   "execution_count": 5,
   "metadata": {},
   "outputs": [
    {
     "name": "stdout",
     "output_type": "stream",
     "text": [
      "Hola mundo!\n"
     ]
    }
   ],
   "source": [
    "def saludo():\n",
    "    #muestra un saludo en pantalla\n",
    "    print(\"Hola mundo!\")\n",
    "    \n",
    "saludo()"
   ]
  },
  {
   "cell_type": "code",
   "execution_count": 18,
   "metadata": {},
   "outputs": [
    {
     "name": "stdout",
     "output_type": "stream",
     "text": [
      "3 * 1 = 3\n",
      "3 * 2 = 6\n",
      "3 * 3 = 9\n",
      "3 * 4 = 12\n",
      "3 * 5 = 15\n",
      "3 * 6 = 18\n",
      "3 * 7 = 21\n",
      "3 * 8 = 24\n",
      "3 * 9 = 27\n",
      "3 * 10 = 30\n"
     ]
    }
   ],
   "source": [
    "def tabla_del_tres():\n",
    "    for i in range(1,11):\n",
    "        #primera forma de usar format()\n",
    "        print(\"3 * {} = {}\".format(i,3*i))\n",
    "        \n",
    "tabla_del_tres()"
   ]
  },
  {
   "cell_type": "code",
   "execution_count": 19,
   "metadata": {},
   "outputs": [
    {
     "name": "stdout",
     "output_type": "stream",
     "text": [
      "3 * 1 = 3\n",
      "3 * 2 = 6\n",
      "3 * 3 = 9\n",
      "3 * 4 = 12\n",
      "3 * 5 = 15\n",
      "3 * 6 = 18\n",
      "3 * 7 = 21\n",
      "3 * 8 = 24\n",
      "3 * 9 = 27\n",
      "3 * 10 = 30\n"
     ]
    }
   ],
   "source": [
    "def tabla_del_tres():\n",
    "    for i in range(1,11):\n",
    "        #segunda forma de usar format\n",
    "        print(f\"3 * {i} = {i * 3}\")\n",
    "        \n",
    "tabla_del_tres()"
   ]
  },
  {
   "cell_type": "code",
   "execution_count": 20,
   "metadata": {},
   "outputs": [
    {
     "name": "stdout",
     "output_type": "stream",
     "text": [
      "3\n"
     ]
    }
   ],
   "source": [
    "def prueba():\n",
    "    a = 3\n",
    "    print(a)\n",
    "    \n",
    "prueba()"
   ]
  },
  {
   "cell_type": "code",
   "execution_count": 21,
   "metadata": {},
   "outputs": [
    {
     "name": "stdout",
     "output_type": "stream",
     "text": [
      "10\n"
     ]
    }
   ],
   "source": [
    "def prueba():\n",
    "    print(c)\n",
    "    \n",
    "c = 10\n",
    "prueba()"
   ]
  },
  {
   "cell_type": "code",
   "execution_count": 26,
   "metadata": {},
   "outputs": [
    {
     "name": "stdout",
     "output_type": "stream",
     "text": [
      "3\n",
      "3\n"
     ]
    }
   ],
   "source": [
    "def prueba():\n",
    "    global d\n",
    "    d = 3\n",
    "    print(d)\n",
    "    \n",
    "d = 10\n",
    "prueba()\n",
    "print(d)"
   ]
  },
  {
   "cell_type": "code",
   "execution_count": 28,
   "metadata": {},
   "outputs": [
    {
     "name": "stdout",
     "output_type": "stream",
     "text": [
      "a= 30\n",
      "a= 20\n",
      "a= 10\n"
     ]
    }
   ],
   "source": [
    "def outer_function():\n",
    "    a = 20\n",
    "    \n",
    "    def inner_function():\n",
    "        a = 30\n",
    "        print(\"a =\",a)\n",
    "    inner_function()\n",
    "    print(\"a =\",a)\n",
    "\n",
    "a=10\n",
    "outer_function()\n",
    "print(\"a =\",a)"
   ]
  },
  {
   "cell_type": "code",
   "execution_count": 31,
   "metadata": {},
   "outputs": [
    {
     "data": {
      "text/plain": [
       "'Carmen'"
      ]
     },
     "execution_count": 31,
     "metadata": {},
     "output_type": "execute_result"
    }
   ],
   "source": [
    "#ejemplo return\n",
    "def ejemplo():\n",
    "    return \"Carmen\"\n",
    "\n",
    "ejemplo()"
   ]
  },
  {
   "cell_type": "code",
   "execution_count": 32,
   "metadata": {},
   "outputs": [
    {
     "name": "stdout",
     "output_type": "stream",
     "text": [
      "8\n"
     ]
    }
   ],
   "source": [
    "def ejemplo():\n",
    "    return 6\n",
    "\n",
    "print(ejemplo() + 2)"
   ]
  },
  {
   "cell_type": "code",
   "execution_count": 33,
   "metadata": {},
   "outputs": [
    {
     "name": "stdout",
     "output_type": "stream",
     "text": [
      "[3, 4]\n"
     ]
    }
   ],
   "source": [
    "def ejemplo():\n",
    "    return [1,2,3,4,5]\n",
    "\n",
    "print(ejemplo()[2:4])"
   ]
  },
  {
   "cell_type": "code",
   "execution_count": 34,
   "metadata": {},
   "outputs": [],
   "source": [
    "def ejemplo():\n",
    "    return [1,2,3,4,5]\n",
    "\n",
    "lista = ejemplo()"
   ]
  },
  {
   "cell_type": "code",
   "execution_count": null,
   "metadata": {},
   "outputs": [],
   "source": [
    "lista[-1]"
   ]
  },
  {
   "cell_type": "code",
   "execution_count": 35,
   "metadata": {},
   "outputs": [
    {
     "data": {
      "text/plain": [
       "[3, 4]"
      ]
     },
     "execution_count": 35,
     "metadata": {},
     "output_type": "execute_result"
    }
   ],
   "source": [
    "lista[2:4]"
   ]
  },
  {
   "cell_type": "code",
   "execution_count": 37,
   "metadata": {},
   "outputs": [
    {
     "data": {
      "text/plain": [
       "('Carmen', 44, [6, 7, 8])"
      ]
     },
     "execution_count": 37,
     "metadata": {},
     "output_type": "execute_result"
    }
   ],
   "source": [
    "def ejemplo():\n",
    "    return (\"Carmen\", 44, [6,7,8])\n",
    "\n",
    "ejemplo()"
   ]
  },
  {
   "cell_type": "code",
   "execution_count": 45,
   "metadata": {},
   "outputs": [
    {
     "name": "stdout",
     "output_type": "stream",
     "text": [
      "Nombre: Carmen \n",
      "Edad: 44 \n",
      "Notas: [6, 7, 8]\n",
      "Nombre: Carmen \n",
      "Edad: 44 \n",
      "Notas: [6, 7, 8]\n"
     ]
    }
   ],
   "source": [
    "#asignacion multiple de variables\n",
    "nombre, edad, notas = ejemplo()\n",
    "print(f\"Nombre: {nombre} \\nEdad: {edad} \\nNotas: {notas}\")\n",
    "print(\"Nombre: {} \\nEdad: {} \\nNotas: {}\".format(nombre,edad,notas))"
   ]
  },
  {
   "cell_type": "code",
   "execution_count": 46,
   "metadata": {},
   "outputs": [
    {
     "data": {
      "text/plain": [
       "7"
      ]
     },
     "execution_count": 46,
     "metadata": {},
     "output_type": "execute_result"
    }
   ],
   "source": [
    "notas[1]"
   ]
  },
  {
   "cell_type": "code",
   "execution_count": 47,
   "metadata": {},
   "outputs": [
    {
     "name": "stdout",
     "output_type": "stream",
     "text": [
      "Hola soy Mario\n",
      "Hola soy Mario\n"
     ]
    }
   ],
   "source": [
    "def saludo(nombre):\n",
    "    print(f\"Hola soy {nombre}\")\n",
    "    print(\"Hola soy {}\".format(nombre))\n",
    "    return\n",
    "\n",
    "saludo(\"Mario\")"
   ]
  },
  {
   "cell_type": "code",
   "execution_count": 50,
   "metadata": {},
   "outputs": [
    {
     "name": "stdout",
     "output_type": "stream",
     "text": [
      "hola soy Mario\n"
     ]
    }
   ],
   "source": [
    "def saludo(nombre):\n",
    "    print(f\"hola soy {nombre.title()}\")\n",
    "    \n",
    "saludo(\"mario\")"
   ]
  },
  {
   "cell_type": "code",
   "execution_count": 51,
   "metadata": {},
   "outputs": [
    {
     "name": "stdout",
     "output_type": "stream",
     "text": [
      "Hola soy Paco\n"
     ]
    }
   ],
   "source": [
    "def saludo(nombre):\n",
    "    print(f\"Hola soy {nombre}\")\n",
    "    \n",
    "usuario = \"Paco\"\n",
    "\n",
    "saludo(usuario)"
   ]
  },
  {
   "cell_type": "code",
   "execution_count": 52,
   "metadata": {},
   "outputs": [
    {
     "data": {
      "text/plain": [
       "7"
      ]
     },
     "execution_count": 52,
     "metadata": {},
     "output_type": "execute_result"
    }
   ],
   "source": [
    "def suma(x,y):\n",
    "    return x + y\n",
    "\n",
    "suma(3,4)"
   ]
  },
  {
   "cell_type": "code",
   "execution_count": 53,
   "metadata": {},
   "outputs": [
    {
     "name": "stdout",
     "output_type": "stream",
     "text": [
      "resultado: 7\n"
     ]
    }
   ],
   "source": [
    "resultado = suma(3,4)\n",
    "print(f\"resultado: {resultado}\")"
   ]
  },
  {
   "cell_type": "code",
   "execution_count": 54,
   "metadata": {},
   "outputs": [
    {
     "name": "stdout",
     "output_type": "stream",
     "text": [
      "5\n"
     ]
    }
   ],
   "source": [
    "a = 2\n",
    "b = 3\n",
    "\n",
    "c = suma(a,b)\n",
    "print(c)"
   ]
  },
  {
   "cell_type": "code",
   "execution_count": 55,
   "metadata": {},
   "outputs": [],
   "source": [
    "#Argumentos por posición, por palabra clave y por defecto"
   ]
  },
  {
   "cell_type": "code",
   "execution_count": 56,
   "metadata": {},
   "outputs": [
    {
     "data": {
      "text/plain": [
       "14"
      ]
     },
     "execution_count": 56,
     "metadata": {},
     "output_type": "execute_result"
    }
   ],
   "source": [
    "def operacion(n,m):\n",
    "    return n*(10-m)\n",
    "\n",
    "operacion(2,3)"
   ]
  },
  {
   "cell_type": "code",
   "execution_count": 57,
   "metadata": {},
   "outputs": [
    {
     "data": {
      "text/plain": [
       "24"
      ]
     },
     "execution_count": 57,
     "metadata": {},
     "output_type": "execute_result"
    }
   ],
   "source": [
    "operacion(3,2)"
   ]
  },
  {
   "cell_type": "code",
   "execution_count": 58,
   "metadata": {},
   "outputs": [
    {
     "name": "stdout",
     "output_type": "stream",
     "text": [
      "Mario tiene un mensaje para ti: Tienes que desayunar\n"
     ]
    }
   ],
   "source": [
    "def mensajero(nombre, mensaje):\n",
    "    print(f\"{nombre} tiene un mensaje para ti: {mensaje}\")\n",
    "    return\n",
    "\n",
    "mensajero(\"Mario\",\"Tienes que desayunar!!!\")"
   ]
  },
  {
   "cell_type": "code",
   "execution_count": 59,
   "metadata": {},
   "outputs": [
    {
     "name": "stdout",
     "output_type": "stream",
     "text": [
      "Hola tiene un mensaje para ti: Mario\n"
     ]
    }
   ],
   "source": [
    "mensajero(\"Hola\",\"Mario\")"
   ]
  },
  {
   "cell_type": "code",
   "execution_count": 60,
   "metadata": {},
   "outputs": [
    {
     "name": "stdout",
     "output_type": "stream",
     "text": [
      "Te presento a mi Perro. Se llama Toni\n"
     ]
    }
   ],
   "source": [
    "def mascota(animal,nombre):\n",
    "    print(f\"Te presento a mi {animal}. Se llama {nombre}\")\n",
    "    return\n",
    "\n",
    "mascota(\"Perro\",\"Toni\")"
   ]
  },
  {
   "cell_type": "code",
   "execution_count": 62,
   "metadata": {},
   "outputs": [
    {
     "name": "stdout",
     "output_type": "stream",
     "text": [
      "Te presento a mi Perro. Se llama Harry\n"
     ]
    }
   ],
   "source": [
    "mascota(animal=\"Perro\", nombre=\"Harry\")"
   ]
  },
  {
   "cell_type": "code",
   "execution_count": 63,
   "metadata": {},
   "outputs": [
    {
     "data": {
      "text/plain": [
       "15"
      ]
     },
     "execution_count": 63,
     "metadata": {},
     "output_type": "execute_result"
    }
   ],
   "source": [
    "def chuches(bolsas_caramelos, chocolatinas):\n",
    "    return chocolatinas + bolsas_caramelos*6\n",
    "\n",
    "chuches(bolsas_caramelos=2,chocolatinas=3)"
   ]
  },
  {
   "cell_type": "code",
   "execution_count": 65,
   "metadata": {},
   "outputs": [
    {
     "data": {
      "text/plain": [
       "15"
      ]
     },
     "execution_count": 65,
     "metadata": {},
     "output_type": "execute_result"
    }
   ],
   "source": [
    "chuches(chocolatinas=3, bolsas_caramelos=2)"
   ]
  },
  {
   "cell_type": "code",
   "execution_count": 67,
   "metadata": {},
   "outputs": [
    {
     "data": {
      "text/plain": [
       "2"
      ]
     },
     "execution_count": 67,
     "metadata": {},
     "output_type": "execute_result"
    }
   ],
   "source": [
    "#valores por defecto\n",
    "def resta(x=4, y=6):\n",
    "    return y-x\n",
    "\n",
    "resta()"
   ]
  },
  {
   "cell_type": "code",
   "execution_count": 68,
   "metadata": {},
   "outputs": [
    {
     "data": {
      "text/plain": [
       "4"
      ]
     },
     "execution_count": 68,
     "metadata": {},
     "output_type": "execute_result"
    }
   ],
   "source": [
    "resta(3,7)"
   ]
  },
  {
   "cell_type": "code",
   "execution_count": 69,
   "metadata": {},
   "outputs": [
    {
     "data": {
      "text/plain": [
       "4"
      ]
     },
     "execution_count": 69,
     "metadata": {},
     "output_type": "execute_result"
    }
   ],
   "source": [
    "resta(y=8)"
   ]
  },
  {
   "cell_type": "code",
   "execution_count": 70,
   "metadata": {},
   "outputs": [
    {
     "data": {
      "text/plain": [
       "-2"
      ]
     },
     "execution_count": 70,
     "metadata": {},
     "output_type": "execute_result"
    }
   ],
   "source": [
    "resta(8)"
   ]
  },
  {
   "cell_type": "code",
   "execution_count": 71,
   "metadata": {},
   "outputs": [
    {
     "ename": "TypeError",
     "evalue": "unsupported operand type(s) for -: 'NoneType' and 'NoneType'",
     "output_type": "error",
     "traceback": [
      "\u001b[0;31m---------------------------------------------------------------------------\u001b[0m",
      "\u001b[0;31mTypeError\u001b[0m                                 Traceback (most recent call last)",
      "\u001b[0;32m<ipython-input-71-d97b8883665a>\u001b[0m in \u001b[0;36m<module>\u001b[0;34m\u001b[0m\n\u001b[1;32m      2\u001b[0m     \u001b[0;32mreturn\u001b[0m \u001b[0my\u001b[0m\u001b[0;34m-\u001b[0m\u001b[0mx\u001b[0m\u001b[0;34m\u001b[0m\u001b[0;34m\u001b[0m\u001b[0m\n\u001b[1;32m      3\u001b[0m \u001b[0;34m\u001b[0m\u001b[0m\n\u001b[0;32m----> 4\u001b[0;31m \u001b[0mresta\u001b[0m\u001b[0;34m(\u001b[0m\u001b[0;34m)\u001b[0m\u001b[0;34m\u001b[0m\u001b[0;34m\u001b[0m\u001b[0m\n\u001b[0m",
      "\u001b[0;32m<ipython-input-71-d97b8883665a>\u001b[0m in \u001b[0;36mresta\u001b[0;34m(x, y)\u001b[0m\n\u001b[1;32m      1\u001b[0m \u001b[0;32mdef\u001b[0m \u001b[0mresta\u001b[0m\u001b[0;34m(\u001b[0m\u001b[0mx\u001b[0m\u001b[0;34m=\u001b[0m\u001b[0;32mNone\u001b[0m\u001b[0;34m,\u001b[0m \u001b[0my\u001b[0m\u001b[0;34m=\u001b[0m\u001b[0;32mNone\u001b[0m\u001b[0;34m)\u001b[0m\u001b[0;34m:\u001b[0m\u001b[0;34m\u001b[0m\u001b[0;34m\u001b[0m\u001b[0m\n\u001b[0;32m----> 2\u001b[0;31m     \u001b[0;32mreturn\u001b[0m \u001b[0my\u001b[0m\u001b[0;34m-\u001b[0m\u001b[0mx\u001b[0m\u001b[0;34m\u001b[0m\u001b[0;34m\u001b[0m\u001b[0m\n\u001b[0m\u001b[1;32m      3\u001b[0m \u001b[0;34m\u001b[0m\u001b[0m\n\u001b[1;32m      4\u001b[0m \u001b[0mresta\u001b[0m\u001b[0;34m(\u001b[0m\u001b[0;34m)\u001b[0m\u001b[0;34m\u001b[0m\u001b[0;34m\u001b[0m\u001b[0m\n",
      "\u001b[0;31mTypeError\u001b[0m: unsupported operand type(s) for -: 'NoneType' and 'NoneType'"
     ]
    }
   ],
   "source": [
    "def resta(x=None, y=None):\n",
    "    return y-x\n",
    "\n",
    "resta()"
   ]
  },
  {
   "cell_type": "code",
   "execution_count": 74,
   "metadata": {},
   "outputs": [
    {
     "name": "stdout",
     "output_type": "stream",
     "text": [
      "Debes asignar valor a X o Y\n"
     ]
    }
   ],
   "source": [
    "def resta(x=None,y=None):\n",
    "    if x==None or y==None:\n",
    "        print(\"Debes asignar valor a X o Y\")\n",
    "        return\n",
    "    else:\n",
    "        return y-x\n",
    "    \n",
    "resta()"
   ]
  },
  {
   "cell_type": "code",
   "execution_count": 75,
   "metadata": {},
   "outputs": [
    {
     "data": {
      "text/plain": [
       "3"
      ]
     },
     "execution_count": 75,
     "metadata": {},
     "output_type": "execute_result"
    }
   ],
   "source": [
    "resta(3,6)"
   ]
  },
  {
   "cell_type": "code",
   "execution_count": 76,
   "metadata": {},
   "outputs": [
    {
     "name": "stdout",
     "output_type": "stream",
     "text": [
      "Debes asignar valor a X o Y\n"
     ]
    }
   ],
   "source": [
    "resta(3)"
   ]
  },
  {
   "cell_type": "code",
   "execution_count": 77,
   "metadata": {},
   "outputs": [
    {
     "data": {
      "text/plain": [
       "'tengo un perro llamado toni'"
      ]
     },
     "execution_count": 77,
     "metadata": {},
     "output_type": "execute_result"
    }
   ],
   "source": [
    "def mascota(nombre,animal=\"perro\"):\n",
    "    return(f\"tengo un {animal} llamado {nombre}\")\n",
    "\n",
    "mascota(\"toni\")"
   ]
  },
  {
   "cell_type": "code",
   "execution_count": 79,
   "metadata": {},
   "outputs": [
    {
     "ename": "SyntaxError",
     "evalue": "non-default argument follows default argument (<ipython-input-79-f2ab688db4ae>, line 1)",
     "output_type": "error",
     "traceback": [
      "\u001b[0;36m  File \u001b[0;32m\"<ipython-input-79-f2ab688db4ae>\"\u001b[0;36m, line \u001b[0;32m1\u001b[0m\n\u001b[0;31m    def mascota(animal=\"perro\",nombre):\u001b[0m\n\u001b[0m                ^\u001b[0m\n\u001b[0;31mSyntaxError\u001b[0m\u001b[0;31m:\u001b[0m non-default argument follows default argument\n"
     ]
    }
   ],
   "source": [
    "#Las variables por defecto, se colocan al final\n",
    "def mascota(animal=\"perro\",nombre):\n",
    "    return(f\"tengo un {animal} llamado {nombre}\")\n",
    "\n",
    "mascota(nombre=\"toni\")"
   ]
  },
  {
   "cell_type": "code",
   "execution_count": 83,
   "metadata": {},
   "outputs": [
    {
     "name": "stdout",
     "output_type": "stream",
     "text": [
      "Introduce tu nombre completo, por favor\n",
      "Nombre: Mario\n",
      "Apellido: Ruiz\n",
      "Hola, Mario Ruiz\n"
     ]
    }
   ],
   "source": [
    "def get_full_name(first_name, last_name):\n",
    "    full_name=f\"{first_name} {last_name}\"\n",
    "    return full_name\n",
    "\n",
    "while True:\n",
    "    print(\"Introduce tus datos\")\n",
    "    f_name = input(\"Nombre: \")\n",
    "    l_name = input(\"Apellido: \")\n",
    "    name = get_full_name(f_name,l_name)\n",
    "    print(f\"Hola, {name}\")\n",
    "    break"
   ]
  },
  {
   "cell_type": "code",
   "execution_count": 84,
   "metadata": {},
   "outputs": [
    {
     "name": "stdout",
     "output_type": "stream",
     "text": [
      "Introduce tus datos\n",
      "Teclea 'q' para salir\n",
      "Nombre: quesada\n",
      "Apellido: q\n"
     ]
    }
   ],
   "source": [
    "def get_full_name(first_name, last_name):\n",
    "    full_name=f\"{first_name} {last_name}\"\n",
    "    return full_name\n",
    "\n",
    "while True:\n",
    "    print(\"Introduce tus datos\")\n",
    "    print(\"Teclea 'q' para salir\")\n",
    "    f_name = input(\"Nombre: \")\n",
    "    if f_name == \"q\":\n",
    "        break\n",
    "    l_name = input(\"Apellido: \")\n",
    "    if l_name == \"q\":\n",
    "        break\n",
    "    name = get_full_name(f_name,l_name)\n",
    "    print(f\"Hola, {name}\")\n",
    "    "
   ]
  },
  {
   "cell_type": "code",
   "execution_count": 86,
   "metadata": {},
   "outputs": [
    {
     "name": "stdout",
     "output_type": "stream",
     "text": [
      "¡Hola, Clara!\n",
      "¡Hola, Mario!\n",
      "¡Hola, Pedro!\n"
     ]
    }
   ],
   "source": [
    "#iterables\n",
    "def greet_user(names):\n",
    "    for name in names:\n",
    "        message= f\"¡Hola, {name.title()}!\"\n",
    "        print(message)\n",
    "\n",
    "usernames = [\"clara\",\"mario\",\"pedro\"]\n",
    "greet_user(usernames)"
   ]
  },
  {
   "cell_type": "code",
   "execution_count": 2,
   "metadata": {},
   "outputs": [
    {
     "data": {
      "text/plain": [
       "2"
      ]
     },
     "execution_count": 2,
     "metadata": {},
     "output_type": "execute_result"
    }
   ],
   "source": [
    "def siguiente(numero):\n",
    "    numero += 1\n",
    "m = 2\n",
    "siguiente(m)\n",
    "m"
   ]
  },
  {
   "cell_type": "code",
   "execution_count": 3,
   "metadata": {},
   "outputs": [
    {
     "data": {
      "text/plain": [
       "[2, 4, 6, 8, 10]"
      ]
     },
     "execution_count": 3,
     "metadata": {},
     "output_type": "execute_result"
    }
   ],
   "source": [
    "def duplicar(numeros):\n",
    "    for i, n in enumerate(numeros):\n",
    "        numeros[i] *= 2\n",
    "        \n",
    "ns = [1,2,3,4,5]\n",
    "duplicar(ns)\n",
    "\n",
    "ns"
   ]
  },
  {
   "cell_type": "code",
   "execution_count": 5,
   "metadata": {},
   "outputs": [
    {
     "data": {
      "text/plain": [
       "10"
      ]
     },
     "execution_count": 5,
     "metadata": {},
     "output_type": "execute_result"
    }
   ],
   "source": [
    "def duplicar(n):\n",
    "    n *= 2\n",
    "    \n",
    "m = 10\n",
    "duplicar(m)\n",
    "m"
   ]
  },
  {
   "cell_type": "code",
   "execution_count": 7,
   "metadata": {},
   "outputs": [
    {
     "data": {
      "text/plain": [
       "20"
      ]
     },
     "execution_count": 7,
     "metadata": {},
     "output_type": "execute_result"
    }
   ],
   "source": [
    "def duplicar(n):\n",
    "    return n*2\n",
    "\n",
    "m = 10\n",
    "m=duplicar(m)\n",
    "m"
   ]
  },
  {
   "cell_type": "code",
   "execution_count": 9,
   "metadata": {},
   "outputs": [
    {
     "data": {
      "text/plain": [
       "[1, 2, 3, 4, 5]"
      ]
     },
     "execution_count": 9,
     "metadata": {},
     "output_type": "execute_result"
    }
   ],
   "source": [
    "def duplicar(numeros):\n",
    "    for i, n in enumerate(numeros):\n",
    "        numeros[i] *= 2\n",
    "        \n",
    "m = [1,2,3,4,5]\n",
    "\n",
    "#se crea una copia al pasar como argumento\n",
    "#la lista con slicing m[:]\n",
    "duplicar(m[:])\n",
    "\n",
    "m"
   ]
  },
  {
   "cell_type": "code",
   "execution_count": 10,
   "metadata": {},
   "outputs": [
    {
     "data": {
      "text/plain": [
       "False"
      ]
     },
     "execution_count": 10,
     "metadata": {},
     "output_type": "execute_result"
    }
   ],
   "source": [
    "#con id() vemos la posicion en memoria\n",
    "id(m[:]) == id(m)"
   ]
  },
  {
   "cell_type": "code",
   "execution_count": 13,
   "metadata": {},
   "outputs": [
    {
     "data": {
      "text/plain": [
       "{1: 'Tere', 2: 'Clara'}"
      ]
     },
     "execution_count": 13,
     "metadata": {},
     "output_type": "execute_result"
    }
   ],
   "source": [
    "#pasar diccionario por referencia\n",
    "def iniciales(diccionario):\n",
    "    for key in diccionario:\n",
    "        diccionario[key] = diccionario[key].capitalize()\n",
    "    \n",
    "d = {'1':'tere','2':'clara'}\n",
    "\n",
    "iniciales(d)\n",
    "\n",
    "d"
   ]
  },
  {
   "cell_type": "code",
   "execution_count": 15,
   "metadata": {},
   "outputs": [
    {
     "name": "stdout",
     "output_type": "stream",
     "text": [
      "{'1': 'tere', '2': 'clara'}\n",
      "{'1': 'Tere', '2': 'Clara'}\n"
     ]
    }
   ],
   "source": [
    "#pasar diccionario por referencia\n",
    "def iniciales(diccionario):\n",
    "    for key in diccionario:\n",
    "        diccionario[key] = diccionario[key].capitalize()\n",
    "    \n",
    "d = {'1':'tere','2':'clara'}\n",
    "\n",
    "#copy() crea una copia del iterable\n",
    "d2 = d.copy()\n",
    "\n",
    "iniciales(d2)\n",
    "\n",
    "print(d)\n",
    "print(d2)"
   ]
  },
  {
   "cell_type": "code",
   "execution_count": 16,
   "metadata": {},
   "outputs": [
    {
     "data": {
      "text/plain": [
       "[1, 2, 3, 4, 5, 6]"
      ]
     },
     "execution_count": 16,
     "metadata": {},
     "output_type": "execute_result"
    }
   ],
   "source": [
    "a = [1,2,3]\n",
    "b = [*a,4,5,6]\n",
    "b"
   ]
  },
  {
   "cell_type": "code",
   "execution_count": 17,
   "metadata": {},
   "outputs": [
    {
     "name": "stdout",
     "output_type": "stream",
     "text": [
      "Se ha pedido una pizza con los ingredientes: \n",
      "('queso', 'tomate', 'aceitunas', 'champiñones', 'pimiento')\n"
     ]
    }
   ],
   "source": [
    "def pizza(*args):\n",
    "    print(\"Se ha pedido una pizza con los ingredientes: \")\n",
    "    print(args)\n",
    "    \n",
    "pizza('queso','tomate','aceitunas','champiñones','pimiento')"
   ]
  },
  {
   "cell_type": "code",
   "execution_count": 22,
   "metadata": {},
   "outputs": [
    {
     "name": "stdout",
     "output_type": "stream",
     "text": [
      "1\n"
     ]
    }
   ],
   "source": [
    "def indet_position(*args):\n",
    "    print(args)\n",
    "    \n",
    "indet_position(4, \"hola\", [1,2,3,4])"
   ]
  },
  {
   "cell_type": "code",
   "execution_count": 28,
   "metadata": {},
   "outputs": [
    {
     "name": "stdout",
     "output_type": "stream",
     "text": [
      "(4, 'hola', [1, 2, 3, 4])\n",
      "(4, 'hola', [1, 2, 3, 4])\n",
      "(4, 'hola', [1, 2, 3, 4])\n"
     ]
    }
   ],
   "source": [
    "def indet_position(*args):\n",
    "    for arg in args:\n",
    "        if type(arg) == list\n",
    "        print(args)\n",
    "    \n",
    "indet_position(4, \"hola\", [1,2,3,4])"
   ]
  },
  {
   "cell_type": "code",
   "execution_count": 26,
   "metadata": {},
   "outputs": [
    {
     "name": "stdout",
     "output_type": "stream",
     "text": [
      "Se ha pedido una pizza con los ingredientes:\n",
      "queso tomate aceitunas champiñones pimiento "
     ]
    }
   ],
   "source": [
    "def pizza(*args):\n",
    "    print(\"Se ha pedido una pizza con los ingredientes:\")\n",
    "    for arg in args:\n",
    "        print(arg,end=\" \")\n",
    "        \n",
    "pizza('queso','tomate','aceitunas','champiñones','pimiento')"
   ]
  },
  {
   "cell_type": "code",
   "execution_count": 30,
   "metadata": {},
   "outputs": [
    {
     "name": "stdout",
     "output_type": "stream",
     "text": [
      "{'n': 5, 'c': 'hola', 'l': [1, 2, 3, 4]}\n"
     ]
    }
   ],
   "source": [
    "def indet_keyword(**kwargs):\n",
    "    print(kwargs)\n",
    "    \n",
    "indet_keyword(n=5, c=\"hola\", l=[1,2,3,4])"
   ]
  },
  {
   "cell_type": "code",
   "execution_count": 32,
   "metadata": {},
   "outputs": [
    {
     "name": "stdout",
     "output_type": "stream",
     "text": [
      "n\n",
      "c\n",
      "l\n"
     ]
    }
   ],
   "source": [
    "def indet_keyword(**kwargs):\n",
    "    for kwarg in kwargs:\n",
    "         print(kwarg)\n",
    "    \n",
    "indet_keyword(n=5, c=\"hola\", l=[1,2,3,4])"
   ]
  },
  {
   "cell_type": "code",
   "execution_count": 34,
   "metadata": {},
   "outputs": [
    {
     "name": "stdout",
     "output_type": "stream",
     "text": [
      "n   5\n",
      "c   hola\n",
      "l   [1, 2, 3, 4]\n"
     ]
    }
   ],
   "source": [
    "def indet_keyword(**kwargs):\n",
    "    for kwarg in kwargs:\n",
    "         print(kwarg, \" \",kwargs[kwarg])\n",
    "    \n",
    "indet_keyword(n=5, c=\"hola\", l=[1,2,3,4])"
   ]
  },
  {
   "cell_type": "code",
   "execution_count": 35,
   "metadata": {},
   "outputs": [
    {
     "name": "stdout",
     "output_type": "stream",
     "text": [
      "Total sales: 750\n",
      "best_sold :  cookies\n",
      "best_day :  Friday\n"
     ]
    }
   ],
   "source": [
    "def shop_sales(*args,**kwargs):\n",
    "    sum = 0\n",
    "    for arg in args:\n",
    "        sum += arg\n",
    "        \n",
    "    print(f\"Total sales: {sum}\")\n",
    "    \n",
    "    for kwarg in kwargs:\n",
    "        print(kwarg, \": \",kwargs[kwarg])\n",
    "\n",
    "shop_sales(340, 200, 150,60,best_sold=\"cookies\", best_day=\"Friday\")"
   ]
  },
  {
   "cell_type": "code",
   "execution_count": 36,
   "metadata": {},
   "outputs": [
    {
     "name": "stdout",
     "output_type": "stream",
     "text": [
      "Las notas del alumno Manuel Rodriguez son:\n",
      "8\n",
      "9\n",
      "10\n",
      "6\n"
     ]
    }
   ],
   "source": [
    "def print_scores(student, *scores):\n",
    "    print(f\"Las notas del alumno {student} son:\")\n",
    "    for score in scores:\n",
    "        print(score)\n",
    "        \n",
    "print_scores(\"Manuel Rodriguez\",8,9,10,6)"
   ]
  },
  {
   "cell_type": "code",
   "execution_count": 38,
   "metadata": {},
   "outputs": [
    {
     "name": "stdout",
     "output_type": "stream",
     "text": [
      "Cliente: Mario Ruiz\n",
      "Perro: Fluffy\n",
      "Gato: Calcetines\n"
     ]
    }
   ],
   "source": [
    "def pet_names(owner,**pets):\n",
    "    print(f\"Cliente: {owner}\")\n",
    "    for pet,name in pets.items():\n",
    "          print(f\"{pet}: {name}\")\n",
    "          \n",
    "pet_names(\"Mario Ruiz\",Perro=\"Fluffy\",Gato=\"Calcetines\")\n",
    "          "
   ]
  },
  {
   "cell_type": "code",
   "execution_count": null,
   "metadata": {},
   "outputs": [],
   "source": [
    "def answer():\n",
    "    print(42)\n",
    "    \n",
    "answer()"
   ]
  },
  {
   "cell_type": "code",
   "execution_count": 39,
   "metadata": {},
   "outputs": [
    {
     "name": "stdout",
     "output_type": "stream",
     "text": [
      "42\n"
     ]
    }
   ],
   "source": [
    "def answer():\n",
    "    print(42)\n",
    "    \n",
    "def run_something(func):\n",
    "    func()\n",
    "    \n",
    "run_something(answer)"
   ]
  },
  {
   "cell_type": "code",
   "execution_count": 40,
   "metadata": {},
   "outputs": [
    {
     "data": {
      "text/plain": [
       "function"
      ]
     },
     "execution_count": 40,
     "metadata": {},
     "output_type": "execute_result"
    }
   ],
   "source": [
    "type(run_something)"
   ]
  },
  {
   "cell_type": "code",
   "execution_count": 44,
   "metadata": {},
   "outputs": [
    {
     "name": "stdout",
     "output_type": "stream",
     "text": [
      "3\n"
     ]
    }
   ],
   "source": [
    "def suma_args(arg1,arg2):\n",
    "    print(arg1 + arg2)\n",
    "    \n",
    "def run_something_arg(func,arg1,arg2):\n",
    "    func(arg1,arg2)\n",
    "    \n",
    "run_something_arg(suma_args,1,2)"
   ]
  },
  {
   "cell_type": "code",
   "execution_count": 52,
   "metadata": {},
   "outputs": [
    {
     "data": {
      "text/plain": [
       "57"
      ]
     },
     "execution_count": 52,
     "metadata": {},
     "output_type": "execute_result"
    }
   ],
   "source": [
    "def suma_args(*args):\n",
    "    return sum(args)\n",
    "\n",
    "def run_something_arg(func,*args):\n",
    "    return func(*args)\n",
    "    \n",
    "run_something_arg(suma_args,5,9,11,32)"
   ]
  },
  {
   "cell_type": "code",
   "execution_count": 54,
   "metadata": {},
   "outputs": [
    {
     "data": {
      "text/plain": [
       "\"Soy el eco y repito lo que digas: 'Jeronimo!'\""
      ]
     },
     "execution_count": 54,
     "metadata": {},
     "output_type": "execute_result"
    }
   ],
   "source": [
    "def eco(frase):\n",
    "    def interna(algo):\n",
    "        return \"Soy el eco y repito lo que digas: '%s'\" %algo\n",
    "    return interna(frase)\n",
    "\n",
    "eco(\"Jeronimo!\")"
   ]
  },
  {
   "cell_type": "code",
   "execution_count": 68,
   "metadata": {},
   "outputs": [],
   "source": [
    "def eco2(frase):\n",
    "    def interna2():\n",
    "        return \"Soy el eco y repito lo que digas '%s'\" %frase\n",
    "    return interna2\n",
    "\n",
    "a = eco2(\"Yeah!\")"
   ]
  },
  {
   "cell_type": "code",
   "execution_count": 62,
   "metadata": {},
   "outputs": [
    {
     "name": "stdout",
     "output_type": "stream",
     "text": [
      "Soy el eco y repito lo que digas 'Yeah!'\n"
     ]
    }
   ],
   "source": [
    "print(a)"
   ]
  },
  {
   "cell_type": "code",
   "execution_count": 69,
   "metadata": {},
   "outputs": [
    {
     "data": {
      "text/plain": [
       "\"Soy el eco y repito lo que digas 'Yeah!'\""
      ]
     },
     "execution_count": 69,
     "metadata": {},
     "output_type": "execute_result"
    }
   ],
   "source": [
    "a"
   ]
  },
  {
   "cell_type": "code",
   "execution_count": 70,
   "metadata": {},
   "outputs": [
    {
     "name": "stdout",
     "output_type": "stream",
     "text": [
      "10\n",
      "9\n",
      "8\n",
      "7\n",
      "6\n",
      "5\n",
      "4\n",
      "3\n",
      "2\n",
      "1\n",
      "Boom!\n"
     ]
    }
   ],
   "source": [
    "#Funciones recursivas. Ejemplo=\n",
    "def countdown(n):\n",
    "    if n <= 0:\n",
    "        print(\"Boom!\")\n",
    "    else:\n",
    "        print(n)\n",
    "        countdown(n-1)\n",
    "        \n",
    "countdown(10)"
   ]
  },
  {
   "cell_type": "code",
   "execution_count": 71,
   "metadata": {},
   "outputs": [
    {
     "name": "stdout",
     "output_type": "stream",
     "text": [
      "Hola\n",
      "Hola\n",
      "Hola\n",
      "Hola\n",
      "Hola\n",
      "Hola\n",
      "Hola\n",
      "Hola\n"
     ]
    }
   ],
   "source": [
    "#Funcion recursiva\n",
    "def repetir(s,n):\n",
    "    if n <= 0:\n",
    "        return\n",
    "    print(s)\n",
    "    repetir(s,n-1)    \n",
    "\n",
    "repetir(\"Hola\",8)"
   ]
  },
  {
   "cell_type": "code",
   "execution_count": null,
   "metadata": {},
   "outputs": [],
   "source": [
    "#Otra funcion recursiva\n",
    "def llamada_recursiva():\n",
    "    llamada_recursiva()\n",
    "\n",
    "llamada_recursiva()"
   ]
  },
  {
   "cell_type": "code",
   "execution_count": 79,
   "metadata": {},
   "outputs": [
    {
     "data": {
      "text/plain": [
       "24"
      ]
     },
     "execution_count": 79,
     "metadata": {},
     "output_type": "execute_result"
    }
   ],
   "source": [
    "#factorial de un número es el producto de todos los\n",
    "#números anteriores a él, hasta llegar al 0\n",
    "def factorial(n):\n",
    "    if n == 0:\n",
    "        return 1\n",
    "    else:\n",
    "        recurse = factorial(n-1)\n",
    "        result = n * recurse\n",
    "        return result\n",
    "\n",
    "factorial(4) # 4 * 3* 2 * 1 = 24"
   ]
  },
  {
   "cell_type": "code",
   "execution_count": 80,
   "metadata": {},
   "outputs": [
    {
     "data": {
      "text/plain": [
       "0.75"
      ]
     },
     "execution_count": 80,
     "metadata": {},
     "output_type": "execute_result"
    }
   ],
   "source": [
    "factorial(1.5)"
   ]
  },
  {
   "cell_type": "code",
   "execution_count": 84,
   "metadata": {},
   "outputs": [
    {
     "data": {
      "text/plain": [
       "24"
      ]
     },
     "execution_count": 84,
     "metadata": {},
     "output_type": "execute_result"
    }
   ],
   "source": [
    "def factorial(n):\n",
    "    if not isinstance(n,int):\n",
    "        print(\"la función sólo sirve para valores enteros\")\n",
    "    elif n < 0:\n",
    "        print(\"La función no sirve para números negativos\")\n",
    "    elif n == 0:\n",
    "        return 1\n",
    "    else:\n",
    "        recurse = factorial(n-1)\n",
    "        result = n * recurse\n",
    "        return result\n",
    "    \n",
    "factorial(4)"
   ]
  },
  {
   "cell_type": "code",
   "execution_count": 17,
   "metadata": {},
   "outputs": [],
   "source": [
    "#Funciones lambda"
   ]
  },
  {
   "cell_type": "code",
   "execution_count": 2,
   "metadata": {},
   "outputs": [],
   "source": [
    "anonima = lambda x, y: x * y"
   ]
  },
  {
   "cell_type": "code",
   "execution_count": 3,
   "metadata": {},
   "outputs": [
    {
     "data": {
      "text/plain": [
       "<function __main__.<lambda>(x, y)>"
      ]
     },
     "execution_count": 3,
     "metadata": {},
     "output_type": "execute_result"
    }
   ],
   "source": [
    "anonima"
   ]
  },
  {
   "cell_type": "code",
   "execution_count": 4,
   "metadata": {},
   "outputs": [
    {
     "data": {
      "text/plain": [
       "6"
      ]
     },
     "execution_count": 4,
     "metadata": {},
     "output_type": "execute_result"
    }
   ],
   "source": [
    "anonima(3,2)"
   ]
  },
  {
   "cell_type": "code",
   "execution_count": 5,
   "metadata": {},
   "outputs": [
    {
     "data": {
      "text/plain": [
       "<function __main__.<lambda>()>"
      ]
     },
     "execution_count": 5,
     "metadata": {},
     "output_type": "execute_result"
    }
   ],
   "source": [
    "uno = lambda : 1\n",
    "uno"
   ]
  },
  {
   "cell_type": "code",
   "execution_count": 6,
   "metadata": {},
   "outputs": [
    {
     "data": {
      "text/plain": [
       "1"
      ]
     },
     "execution_count": 6,
     "metadata": {},
     "output_type": "execute_result"
    }
   ],
   "source": [
    "uno()"
   ]
  },
  {
   "cell_type": "code",
   "execution_count": 7,
   "metadata": {},
   "outputs": [
    {
     "data": {
      "text/plain": [
       "5"
      ]
     },
     "execution_count": 7,
     "metadata": {},
     "output_type": "execute_result"
    }
   ],
   "source": [
    "suma = lambda x, n=3: x + n\n",
    "suma(2)"
   ]
  },
  {
   "cell_type": "code",
   "execution_count": 10,
   "metadata": {},
   "outputs": [
    {
     "data": {
      "text/plain": [
       "7"
      ]
     },
     "execution_count": 10,
     "metadata": {},
     "output_type": "execute_result"
    }
   ],
   "source": [
    "suma(2,5)"
   ]
  },
  {
   "cell_type": "code",
   "execution_count": 13,
   "metadata": {},
   "outputs": [],
   "source": [
    "def sorpresa(palabras,func):\n",
    "    for palabra in palabras:\n",
    "        print(func(palabra))"
   ]
  },
  {
   "cell_type": "code",
   "execution_count": 14,
   "metadata": {},
   "outputs": [],
   "source": [
    "expresiones=[\"vaya\",\"ouch\",\"ay\",\"caracoles\"]\n",
    "\n",
    "def exclamar(palabra):\n",
    "    return palabra.capitalize() + \"!\""
   ]
  },
  {
   "cell_type": "code",
   "execution_count": 15,
   "metadata": {},
   "outputs": [
    {
     "name": "stdout",
     "output_type": "stream",
     "text": [
      "Vaya!\n",
      "Ouch!\n",
      "Ay!\n",
      "Caracoles!\n"
     ]
    }
   ],
   "source": [
    "sorpresa(expresiones,exclamar)"
   ]
  },
  {
   "cell_type": "code",
   "execution_count": 16,
   "metadata": {},
   "outputs": [
    {
     "name": "stdout",
     "output_type": "stream",
     "text": [
      "Vaya!\n",
      "Ouch!\n",
      "Ay!\n",
      "Caracoles!\n"
     ]
    }
   ],
   "source": [
    "#con expresion lambda\n",
    "sorpresa(expresiones, lambda palabra:palabra.capitalize() + \"!\")"
   ]
  },
  {
   "cell_type": "code",
   "execution_count": 18,
   "metadata": {},
   "outputs": [],
   "source": [
    "#funciones decoradoras"
   ]
  },
  {
   "cell_type": "code",
   "execution_count": 25,
   "metadata": {},
   "outputs": [],
   "source": [
    "def document_it(func):\n",
    "    def new_function(*args, **kwargs):\n",
    "        print(\"Running function:\",func.__name__)\n",
    "        print(\"Positional arguments:\", args)\n",
    "        print(\"keywords arguments:\", kwargs)\n",
    "        \n",
    "        result = func(*args, **kwargs)\n",
    "        \n",
    "        print(\"result:\", result)\n",
    "        return result\n",
    "    return new_function"
   ]
  },
  {
   "cell_type": "code",
   "execution_count": 20,
   "metadata": {},
   "outputs": [
    {
     "data": {
      "text/plain": [
       "8"
      ]
     },
     "execution_count": 20,
     "metadata": {},
     "output_type": "execute_result"
    }
   ],
   "source": [
    "def add_int(a,b):\n",
    "    return a + b\n",
    "\n",
    "add_int(3,5)"
   ]
  },
  {
   "cell_type": "code",
   "execution_count": 22,
   "metadata": {},
   "outputs": [
    {
     "name": "stdout",
     "output_type": "stream",
     "text": [
      "Running function: add_int\n",
      "Positional arguments: (3, 5)\n",
      "keywords arguments: {}\n",
      "result: 8\n"
     ]
    },
    {
     "data": {
      "text/plain": [
       "8"
      ]
     },
     "execution_count": 22,
     "metadata": {},
     "output_type": "execute_result"
    }
   ],
   "source": [
    "new_add_ints = document_it(add_int)\n",
    "\n",
    "new_add_ints(3,5)"
   ]
  },
  {
   "cell_type": "code",
   "execution_count": 23,
   "metadata": {},
   "outputs": [
    {
     "name": "stdout",
     "output_type": "stream",
     "text": [
      "Running function: add_int\n",
      "Positional arguments: (3, 5)\n",
      "keywords arguments: {}\n",
      "result: 8\n"
     ]
    },
    {
     "data": {
      "text/plain": [
       "8"
      ]
     },
     "execution_count": 23,
     "metadata": {},
     "output_type": "execute_result"
    }
   ],
   "source": [
    "@document_it\n",
    "def add_int(a,b):\n",
    "    return a + b\n",
    "\n",
    "add_int(3,5)"
   ]
  },
  {
   "cell_type": "code",
   "execution_count": 27,
   "metadata": {},
   "outputs": [
    {
     "name": "stdout",
     "output_type": "stream",
     "text": [
      "Running function: new_function\n",
      "Positional arguments: (3, 5)\n",
      "keywords arguments: {}\n",
      "result: 64\n"
     ]
    },
    {
     "data": {
      "text/plain": [
       "64"
      ]
     },
     "execution_count": 27,
     "metadata": {},
     "output_type": "execute_result"
    }
   ],
   "source": [
    "def square_it(func):\n",
    "    def new_function(*args, **kwargs):\n",
    "        result = func(*args, **kwargs)\n",
    "        return result * result\n",
    "    return new_function\n",
    "\n",
    "@document_it\n",
    "@square_it\n",
    "def add_int(a,b):\n",
    "    return a + b\n",
    "\n",
    "add_int(3,5)"
   ]
  },
  {
   "cell_type": "code",
   "execution_count": 28,
   "metadata": {},
   "outputs": [],
   "source": [
    "#decoradoras con parametrización"
   ]
  },
  {
   "cell_type": "code",
   "execution_count": 30,
   "metadata": {},
   "outputs": [],
   "source": [
    "def trunc(func):\n",
    "    def wrapper(*args, **kwargs):\n",
    "        result = func(*args,**kwargs)\n",
    "        return result[:5]\n",
    "    return wrapper\n",
    "\n",
    "@trunc\n",
    "def data():\n",
    "    return \"zorrocotoco\"\n"
   ]
  },
  {
   "cell_type": "code",
   "execution_count": 31,
   "metadata": {},
   "outputs": [
    {
     "data": {
      "text/plain": [
       "'zorro'"
      ]
     },
     "execution_count": 31,
     "metadata": {},
     "output_type": "execute_result"
    }
   ],
   "source": [
    "data()"
   ]
  },
  {
   "cell_type": "code",
   "execution_count": 37,
   "metadata": {},
   "outputs": [],
   "source": [
    "def limit(length):\n",
    "    def decorator(func):\n",
    "        def wrapper(*args,**kwargs):\n",
    "            result = func(*args,**kwargs)\n",
    "            return result[:length]\n",
    "        return wrapper\n",
    "    return decorator"
   ]
  },
  {
   "cell_type": "code",
   "execution_count": 38,
   "metadata": {},
   "outputs": [],
   "source": [
    "@limit(3)\n",
    "def data3():\n",
    "    return \"zorrocotopo\"\n",
    "\n",
    "@limit(6)\n",
    "def data6():\n",
    "    return \"zorrocotopo\""
   ]
  },
  {
   "cell_type": "code",
   "execution_count": 39,
   "metadata": {},
   "outputs": [
    {
     "data": {
      "text/plain": [
       "'zor'"
      ]
     },
     "execution_count": 39,
     "metadata": {},
     "output_type": "execute_result"
    }
   ],
   "source": [
    "data3()"
   ]
  },
  {
   "cell_type": "code",
   "execution_count": 41,
   "metadata": {},
   "outputs": [
    {
     "data": {
      "text/plain": [
       "'zorroc'"
      ]
     },
     "execution_count": 41,
     "metadata": {},
     "output_type": "execute_result"
    }
   ],
   "source": [
    "data6()"
   ]
  },
  {
   "cell_type": "code",
   "execution_count": 42,
   "metadata": {},
   "outputs": [
    {
     "data": {
      "text/plain": [
       "<filter at 0x8195970>"
      ]
     },
     "execution_count": 42,
     "metadata": {},
     "output_type": "execute_result"
    }
   ],
   "source": [
    "def multiplo5(num):\n",
    "    if num % 5 == 0:\n",
    "        return True\n",
    "    \n",
    "numeros = [1,2,5,8,10,14,20]\n",
    "\n",
    "#filter(funcion,iterable)\n",
    "filter(multiplo5,numeros)lista"
   ]
  },
  {
   "cell_type": "code",
   "execution_count": 46,
   "metadata": {},
   "outputs": [
    {
     "data": {
      "text/plain": [
       "[5, 10, 20]"
      ]
     },
     "execution_count": 46,
     "metadata": {},
     "output_type": "execute_result"
    }
   ],
   "source": [
    "list(filter(multiplo5,numeros))"
   ]
  },
  {
   "cell_type": "code",
   "execution_count": 47,
   "metadata": {},
   "outputs": [
    {
     "data": {
      "text/plain": [
       "[5, 10, 20]"
      ]
     },
     "execution_count": 47,
     "metadata": {},
     "output_type": "execute_result"
    }
   ],
   "source": [
    "#lambda parametro:expresion\n",
    "list(filter(lambda x: x%5==0, numeros))"
   ]
  },
  {
   "cell_type": "code",
   "execution_count": 48,
   "metadata": {},
   "outputs": [
    {
     "data": {
      "text/plain": [
       "[4, 10, 20, 46, 100, 66]"
      ]
     },
     "execution_count": 48,
     "metadata": {},
     "output_type": "execute_result"
    }
   ],
   "source": [
    "numeros = [2,5,10,23,50,33]\n",
    "\n",
    "#lambda parametro:expresion\n",
    "#map(funcion,iterable)\n",
    "list(map(lambda x: x*2, numeros))"
   ]
  },
  {
   "cell_type": "code",
   "execution_count": 49,
   "metadata": {},
   "outputs": [
    {
     "data": {
      "text/plain": [
       "[6, 14, 24, 36, 50]"
      ]
     },
     "execution_count": 49,
     "metadata": {},
     "output_type": "execute_result"
    }
   ],
   "source": [
    "a=[1,2,3,4,5]\n",
    "b=[6,7,8,9,10]\n",
    "\n",
    "list(map(lambda x,y: x*y,a,b))"
   ]
  },
  {
   "cell_type": "code",
   "execution_count": 50,
   "metadata": {},
   "outputs": [],
   "source": [
    "from functools import reduce"
   ]
  },
  {
   "cell_type": "code",
   "execution_count": null,
   "metadata": {},
   "outputs": [],
   "source": []
  }
 ],
 "metadata": {
  "kernelspec": {
   "display_name": "Python 3",
   "language": "python",
   "name": "python3"
  },
  "language_info": {
   "codemirror_mode": {
    "name": "ipython",
    "version": 3
   },
   "file_extension": ".py",
   "mimetype": "text/x-python",
   "name": "python",
   "nbconvert_exporter": "python",
   "pygments_lexer": "ipython3",
   "version": "3.8.5"
  }
 },
 "nbformat": 4,
 "nbformat_minor": 4
}
