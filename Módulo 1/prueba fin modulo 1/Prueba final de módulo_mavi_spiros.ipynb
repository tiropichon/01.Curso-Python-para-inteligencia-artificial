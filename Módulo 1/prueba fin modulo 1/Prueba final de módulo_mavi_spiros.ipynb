{
 "cells": [
  {
   "cell_type": "markdown",
   "metadata": {},
   "source": [
    "### ALUMNO: MARIA VICTORIA REQUENA"
   ]
  },
  {
   "cell_type": "markdown",
   "metadata": {},
   "source": [
    "___________"
   ]
  },
  {
   "cell_type": "markdown",
   "metadata": {},
   "source": [
    "### 1. Indica cuáles de los siguientes son identificadores válidos en Python: (3 puntos)\n",
    "\n",
    "- 1erMiembro \n",
    "- libre? \n",
    "- año_nac\n",
    "- SegundoMiembro \n",
    "- puerta.abierta \n",
    "- $saldo$\n",
    "- coche_1 \n",
    "- cámara4 \n",
    "- import"
   ]
  },
  {
   "cell_type": "markdown",
   "metadata": {},
   "source": [
    "**Mi respuesta:**\n",
    "\n",
    "- año_nac\n",
    "- SegundoMiembro \n",
    "- coche_1 \n",
    "- cámara4 \n"
   ]
  },
  {
   "cell_type": "markdown",
   "metadata": {},
   "source": [
    "### 2. Considera las siguientes operaciones en Python: (2 puntos)\n",
    "\n",
    "(1) x = 1+2*3+4\n",
    "(2) x = (1+2)*(3+4)\n",
    "(3) x = 1+(2*3)+4\n",
    "(4) x = 1+2*(3+4)\n",
    "\n",
    "¿Cuál de las siguientes frases es correcta?\n",
    "\n",
    "- A) Todas las operaciones son iguales\n",
    "- B) La (1), (2) y (3) son iguales\n",
    "- C) La (1), (3) y (4) son iguales\n",
    "- D) La (1) y (3) son iguales\n",
    "- E) Todas son diferentes"
   ]
  },
  {
   "cell_type": "markdown",
   "metadata": {},
   "source": [
    "**Mi respuesta:**\n",
    "\n",
    "- D) La (1) y (3) son iguales"
   ]
  },
  {
   "cell_type": "markdown",
   "metadata": {},
   "source": [
    "### 3. Considera las siguientes operaciones en Python: (3 puntos)\n",
    "```python\n",
    "a = True\n",
    "b = False\n",
    "```\n",
    "- (1) res = a or not b and not a or b\n",
    "- (2) res = (a or not b) and (not a or b)\n",
    "- (3) res = a or (not b and not a) or b\n",
    "- (4) res = ((a or not b) and not a) or b\n",
    "\n",
    "¿Cuál de las siguientes frases es correcta?\n",
    "- A) Todas son True\n",
    "- B) Todas son False\n",
    "- C) La (1) y la (3) son True, y las otras dos False\n",
    "- D) La (1) y la (3) son False, y las otras dos True"
   ]
  },
  {
   "cell_type": "markdown",
   "metadata": {},
   "source": [
    "**Mi respuesta:**\n",
    "\n",
    "- C) La (1) y la (3) son True, y las otras dos False"
   ]
  },
  {
   "cell_type": "code",
   "execution_count": null,
   "metadata": {},
   "outputs": [],
   "source": [
    "a = True\n",
    "b = False\n",
    "res = a or not b and not a or b\n",
    "res"
   ]
  },
  {
   "cell_type": "code",
   "execution_count": null,
   "metadata": {},
   "outputs": [],
   "source": [
    "a = True\n",
    "b = False\n",
    "res = (a or not b) and (not a or b)\n",
    "res"
   ]
  },
  {
   "cell_type": "code",
   "execution_count": null,
   "metadata": {},
   "outputs": [],
   "source": [
    "a = True\n",
    "b = False\n",
    "res = a or (not b and not a) or b\n",
    "res"
   ]
  },
  {
   "cell_type": "code",
   "execution_count": null,
   "metadata": {},
   "outputs": [],
   "source": [
    "a = True\n",
    "b = False\n",
    "res = ((a or not b) and not a) or b\n",
    "res"
   ]
  },
  {
   "cell_type": "markdown",
   "metadata": {},
   "source": [
    "### 4. Para transformar una cadena de texto en entero, se usa la siguiente función: (2 puntos)\n",
    "- A) int()\n",
    "- B) append()\n",
    "- C) str()\n",
    "- D) float()"
   ]
  },
  {
   "cell_type": "markdown",
   "metadata": {},
   "source": [
    "**Mi respuesta:**\n",
    "\n",
    "- A) int()"
   ]
  },
  {
   "cell_type": "markdown",
   "metadata": {},
   "source": [
    "### 5. Considera las siguientes operaciones en Python: (6 puntos)\n",
    "```python\n",
    "mystr = \"programación orientada a objetos\"\n",
    "mystr2 = mystr[n:m]\n",
    "```\n",
    "##### 5.1 ¿Qué es mystr2 cuando n igual a 0, y m es igual al tamaño de mystr (i.e. len(mystr) == m)?\n",
    "Elige la o las respuestas correctas (puede haber más de una, elige todas)\n",
    "\n",
    "- (a) mystr\n",
    "- (b) \"programación orientada a objetos\"\n",
    "- (c) \"programación ori\"\n",
    "- (d) \"entada a objetos\""
   ]
  },
  {
   "cell_type": "markdown",
   "metadata": {},
   "source": [
    "**Mi respuesta:**\n",
    "- (a) mystr\n",
    "- (b) \"programación orientada a objetos\"\n",
    "\n",
    "DUDA-  ```mystr (i.e. len(mystr) == m)``` -> No entiendo muy bien esta sintaxis, no se que es ```i.e``` pero al leerlo he supuesto que se preguntaba esto **m=len(mystr)**"
   ]
  },
  {
   "cell_type": "code",
   "execution_count": 4,
   "metadata": {},
   "outputs": [
    {
     "data": {
      "text/plain": [
       "'entada a objeto'"
      ]
     },
     "execution_count": 4,
     "metadata": {},
     "output_type": "execute_result"
    }
   ],
   "source": [
    "mystr = \"programación orientada a objetos\"\n",
    "n=0\n",
    "m=len(mystr)/2\n",
    "\n",
    "mystr2 = mystr[n:m]\n",
    "\n",
    "mystr2"
   ]
  },
  {
   "cell_type": "markdown",
   "metadata": {},
   "source": [
    "##### 5.2 ¿Qué es mystr2 cuando n igual a 0, y m es igual la mitad del tamaño de mystr? (4 pts)\n",
    "Elige la o las respuestas correctas (puede haber más de una, elige todas)\n",
    "- (a) mystr\n",
    "- (b) \"programación orientada a objetos\"\n",
    "- (c) \"programación ori\"\n",
    "- (d) \"entada a objetos\""
   ]
  },
  {
   "cell_type": "markdown",
   "metadata": {},
   "source": [
    "**Mi respuesta:**"
   ]
  },
  {
   "cell_type": "markdown",
   "metadata": {},
   "source": [
    "- (c) \"programación ori\""
   ]
  },
  {
   "cell_type": "code",
   "execution_count": null,
   "metadata": {},
   "outputs": [],
   "source": [
    "mystr = \"programación orientada a objetos\"\n",
    "n=0\n",
    "m=int(len(mystr)/2)\n",
    "\n",
    "mystr2 = mystr[n:m]\n",
    "\n",
    "mystr2"
   ]
  },
  {
   "cell_type": "markdown",
   "metadata": {},
   "source": [
    "##### 5.3 ¿Qué es mystr2 cuando n es igual a la mitad del tamaño de mystr y m es igual a -1?\n",
    "Elige la o las respuestas correctas (puede haber más de una, elige todas)\n",
    "- (a) mystr\n",
    "- (b) \"programación orientada a objetos\"\n",
    "- (c) \"programación ori\"\n",
    "- (d) \"entada a objeto\""
   ]
  },
  {
   "cell_type": "markdown",
   "metadata": {},
   "source": [
    "**Mi respuesta:**\n",
    "- (d) \"entada a objeto\""
   ]
  },
  {
   "cell_type": "code",
   "execution_count": null,
   "metadata": {},
   "outputs": [],
   "source": [
    "mystr = \"programación orientada a objetos\"\n",
    "n=int(len(mystr)/2)\n",
    "m=-1\n",
    "\n",
    "mystr2 = mystr[n:m]\n",
    "\n",
    "mystr2"
   ]
  },
  {
   "cell_type": "markdown",
   "metadata": {},
   "source": [
    "### 6. Una lista en Python puede contener: (2 puntos)\n",
    "- A) sólo cadenas de texto\n",
    "- B) cualquier tipo\n",
    "- C) sólo 100 elementos\n",
    "- D) solamente números"
   ]
  },
  {
   "cell_type": "markdown",
   "metadata": {},
   "source": [
    "**Mi respuesta:**\n",
    "- B) cualquier tipo"
   ]
  },
  {
   "cell_type": "markdown",
   "metadata": {},
   "source": [
    "### 7. Escribe (en Python), usando comprensión de listas, cómo generar una lista con los números pares\n",
    "comprendidos entre 0 y 99 en una sola línea de código. (5 puntos)"
   ]
  },
  {
   "cell_type": "markdown",
   "metadata": {},
   "source": [
    "**Mi respuesta en el examen:**\n",
    "```python\n",
    "mylist=[x for x in range(0:100:2)]  # está mal\n",
    "```"
   ]
  },
  {
   "cell_type": "code",
   "execution_count": null,
   "metadata": {},
   "outputs": [],
   "source": [
    "# **Mi respuesta:**\n",
    "\n",
    "mylist=[x for x in range(0,100,2)]  # Esta es correcta, range separado con ,\n",
    "print(mylist)"
   ]
  },
  {
   "cell_type": "markdown",
   "metadata": {},
   "source": [
    "### 8. El siguiente código es de un programa que calcula el mes más lluvioso a partir del registro\n",
    "mensual en litros. Debes completar este código sustituyendo los comentarios en negrita con las\n",
    "operaciones sobre listas adecuadas para una correcta ejecución del programa. (4 puntos)\n",
    "```python\n",
    "lluvia_mensual = [65, 70, 87, 62, 44, 14, 5, 5, 24, 50, 57, 69]\n",
    "\n",
    "meses = ['enero', 'febrero', 'marzo', 'abril','mayo', 'junio', 'julio', 'agosto',\n",
    "'septiembre', 'octubre', 'noviembre', 'diciembre']\n",
    "\n",
    "max_lluvia = # calcula aquí el máximo valor de lluvia registrada\n",
    "mes_max = # obtén el índice del mes correspondiente\n",
    "\n",
    "print('El mes más lluvioso ha sido', meses[mes_max],'con', max_lluvia, 'litros')\n",
    "```"
   ]
  },
  {
   "cell_type": "markdown",
   "metadata": {},
   "source": [
    "**Mi respuesta**\n"
   ]
  },
  {
   "cell_type": "code",
   "execution_count": null,
   "metadata": {},
   "outputs": [],
   "source": [
    "lluvia_mensual = [65, 70, 87, 62, 44, 14, 5, 5, 24, 50, 57, 69]\n",
    "\n",
    "meses = ['enero', 'febrero', 'marzo', 'abril','mayo', 'junio', 'julio', 'agosto',\n",
    "'septiembre', 'octubre', 'noviembre', 'diciembre']\n",
    "\n",
    "max_lluvia = max(lluvia_mensual)\n",
    "\n",
    "mes_max= lluvia_mensual.index(max_lluvia)\n",
    "\n",
    "print('El mes más lluvioso ha sido', meses[mes_max],'con', max_lluvia, 'litros')"
   ]
  },
  {
   "cell_type": "code",
   "execution_count": null,
   "metadata": {},
   "outputs": [],
   "source": [
    "min_lluvia = min(lluvia_mensual)\n",
    "\n",
    "mes_min= lluvia_mensual.index(min_lluvia)\n",
    "\n",
    "print('El mes menos lluvioso ha sido', meses[mes_min],'con', min_lluvia, 'litros')"
   ]
  },
  {
   "cell_type": "markdown",
   "metadata": {},
   "source": [
    "### 9. ¿Qué instrucción nos permite tener esta salida? (2 puntos)\n",
    "```python\n",
    "a = {1, 2, 3}\n",
    "b = {4, 5, 6}\n",
    "```\n",
    "salida {1, 2, 3, 4, 5, 6}\n",
    "\n",
    "- A) a.append(b)\n",
    "- B) a.append(b) tres veces seguidas\n",
    "- C) a.union(b)\n",
    "- D) b.union(a"
   ]
  },
  {
   "cell_type": "markdown",
   "metadata": {},
   "source": [
    "**Mi respuesta:**\n",
    "- C) a.union(b)"
   ]
  },
  {
   "cell_type": "code",
   "execution_count": null,
   "metadata": {},
   "outputs": [],
   "source": [
    "a = {1, 2, 3}\n",
    "b = {4, 5, 6}\n",
    "\n",
    "a.union(b)\n"
   ]
  },
  {
   "cell_type": "markdown",
   "metadata": {},
   "source": [
    "### 10. Indica qué valores aparecerían en pantalla al ejecutar el siguiente código: (5 puntos)\n",
    "```python    \n",
    "def calcula():\n",
    "    a = b*2\n",
    "    c = 23\n",
    "    print(a*c)\n",
    "b = 5\n",
    "a = 8\n",
    "c = 10\n",
    "\n",
    "print(a)\n",
    "print(b)\n",
    "print(c)\n",
    "calcula()\n",
    "print(a*c)\n",
    "```"
   ]
  },
  {
   "cell_type": "markdown",
   "metadata": {},
   "source": [
    "**Mi respuesta:**\n",
    "\n",
    "8\n",
    "5\n",
    "10\n",
    "230\n",
    "80\n"
   ]
  },
  {
   "cell_type": "code",
   "execution_count": null,
   "metadata": {},
   "outputs": [],
   "source": [
    "def calcula():\n",
    "    a = b*2\n",
    "    c = 23\n",
    "    print(a*c)\n",
    "b = 5\n",
    "a = 8\n",
    "c = 10\n",
    "\n",
    "print(a)\n",
    "print(b)\n",
    "print(c)\n",
    "calcula()\n",
    "print(a*c)"
   ]
  },
  {
   "cell_type": "markdown",
   "metadata": {},
   "source": [
    "### 11. Indica el resultado de ejecutar las siguientes expresiones o líneas de código. (14 puntos)\n",
    "\n",
    "- A. ```list(range(10, 2, -3))```\n",
    "\n",
    "- B. \n",
    "```python \n",
    "l = []\n",
    "for i in range(4):\n",
    "    l.append(list(range(i)))\n",
    "print(l)\n",
    "```\n",
    "\n",
    "- C. ```max(list(range(10, 21, 2)))```\n",
    "\n",
    "- D. ```min(list(range(10, 21, 2)))```\n",
    "\n",
    "- E. ```'abc' * 2```\n",
    "\n",
    "- F. ```'abracadabra'.count('a')```"
   ]
  },
  {
   "cell_type": "markdown",
   "metadata": {},
   "source": [
    "**Mi respuesta:**\n",
    "- A. 10,9,8,7,6,5,4,3 = 5,8  --> Esta está mal. Conté de atras hacia adelante.\n",
    "\n",
    "- B. l = [1,2,3,4]           --> Esta está mal\n",
    "\n",
    "- C. 20\n",
    "\n",
    "- D. 11\n",
    "\n",
    "- E. 'abc'                   --> Esta está mal. Pensé que al ser str inmutable no cambiaba.\n",
    "\n",
    "- F. 5"
   ]
  },
  {
   "cell_type": "markdown",
   "metadata": {},
   "source": [
    "______"
   ]
  },
  {
   "cell_type": "code",
   "execution_count": 5,
   "metadata": {},
   "outputs": [
    {
     "data": {
      "text/plain": [
       "[10, 7, 4]"
      ]
     },
     "execution_count": 5,
     "metadata": {},
     "output_type": "execute_result"
    }
   ],
   "source": [
    "list(range(10, 2, -3)) # el signo - indica la direccion, hacia los números menores (10-3)\n",
    "\n",
    "                       # es igual que for i=0; i<17; i+=2"
   ]
  },
  {
   "cell_type": "code",
   "execution_count": 6,
   "metadata": {},
   "outputs": [
    {
     "data": {
      "text/plain": [
       "[]"
      ]
     },
     "execution_count": 6,
     "metadata": {},
     "output_type": "execute_result"
    }
   ],
   "source": [
    "list(range(10, 2, 3)) # por eso aqui da [] porque contaría hacia mayor, es decir, del 10 hacia arriba (10+3)"
   ]
  },
  {
   "cell_type": "code",
   "execution_count": 7,
   "metadata": {},
   "outputs": [
    {
     "data": {
      "text/plain": [
       "[]"
      ]
     },
     "execution_count": 7,
     "metadata": {},
     "output_type": "execute_result"
    }
   ],
   "source": [
    "list(range(10, 22, -3)) # el signo - indica la direccion, del primer numero, 10, hacia abajo (10-3)"
   ]
  },
  {
   "cell_type": "code",
   "execution_count": 8,
   "metadata": {},
   "outputs": [
    {
     "data": {
      "text/plain": [
       "[10, 13, 16, 19]"
      ]
     },
     "execution_count": 8,
     "metadata": {},
     "output_type": "execute_result"
    }
   ],
   "source": [
    "list(range(10, 22, 3)) #(10+3)\n",
    "                       # es igual que for i=10; i<22; i+=3"
   ]
  },
  {
   "cell_type": "markdown",
   "metadata": {},
   "source": [
    "______"
   ]
  },
  {
   "cell_type": "code",
   "execution_count": 9,
   "metadata": {},
   "outputs": [
    {
     "name": "stdout",
     "output_type": "stream",
     "text": [
      "[[], [0], [0, 1], [0, 1, 2]]\n"
     ]
    }
   ],
   "source": [
    "l = []\n",
    "for i in range(4):\n",
    "    l.append(list(range(i)))\n",
    "print(l)"
   ]
  },
  {
   "cell_type": "markdown",
   "metadata": {},
   "source": [
    "______"
   ]
  },
  {
   "cell_type": "code",
   "execution_count": 10,
   "metadata": {},
   "outputs": [
    {
     "data": {
      "text/plain": [
       "20"
      ]
     },
     "execution_count": 10,
     "metadata": {},
     "output_type": "execute_result"
    }
   ],
   "source": [
    "max(list(range(10, 21, 2)))"
   ]
  },
  {
   "cell_type": "markdown",
   "metadata": {},
   "source": [
    "______"
   ]
  },
  {
   "cell_type": "code",
   "execution_count": 11,
   "metadata": {},
   "outputs": [
    {
     "data": {
      "text/plain": [
       "10"
      ]
     },
     "execution_count": 11,
     "metadata": {},
     "output_type": "execute_result"
    }
   ],
   "source": [
    "min(list(range(10, 21, 2)))"
   ]
  },
  {
   "cell_type": "markdown",
   "metadata": {},
   "source": [
    "______"
   ]
  },
  {
   "cell_type": "code",
   "execution_count": 12,
   "metadata": {},
   "outputs": [
    {
     "data": {
      "text/plain": [
       "'abcabc'"
      ]
     },
     "execution_count": 12,
     "metadata": {},
     "output_type": "execute_result"
    }
   ],
   "source": [
    "'abc' * 2"
   ]
  },
  {
   "cell_type": "markdown",
   "metadata": {},
   "source": [
    "______"
   ]
  },
  {
   "cell_type": "code",
   "execution_count": 13,
   "metadata": {},
   "outputs": [
    {
     "data": {
      "text/plain": [
       "5"
      ]
     },
     "execution_count": 13,
     "metadata": {},
     "output_type": "execute_result"
    }
   ],
   "source": [
    "'abracadabra'.count('a')"
   ]
  },
  {
   "cell_type": "markdown",
   "metadata": {},
   "source": [
    "### 12. Completa el código para obtener la salida mostrada en la imagen (4 puntos)\n",
    "\n",
    "```python\n",
    "def add_many(*args):\n",
    "    s = 0\n",
    "    for __________:\n",
    "        s += n\n",
    "    print(s)\n",
    "add_many(100, 50, 3)\n",
    "```\n",
    "\n",
    "Resultado: 153"
   ]
  },
  {
   "cell_type": "markdown",
   "metadata": {},
   "source": [
    "**Mi respuesta:**\n",
    "    \n",
    "```python\n",
    "for n in args:\n",
    "```\n"
   ]
  },
  {
   "cell_type": "code",
   "execution_count": 14,
   "metadata": {},
   "outputs": [
    {
     "name": "stdout",
     "output_type": "stream",
     "text": [
      "153\n"
     ]
    }
   ],
   "source": [
    "def add_many(*args):\n",
    "    s = 0\n",
    "    for n in args:\n",
    "        s += n\n",
    "    print(s)\n",
    "add_many(100, 50, 3)"
   ]
  },
  {
   "cell_type": "markdown",
   "metadata": {},
   "source": [
    "### 13. Dada esta cabecera de la función ``` def nuevo_pedido(producto, precio, descuento=0)```, determina cuáles son llamadas válidas entre las propuestas: (10 puntos)\n",
    "    \n",
    "- (a) nuevo_pedido(‘probeta’, 5, 0.25)\n",
    "- (b) nuevo_pedido()\n",
    "- (c) nuevo_pedido(‘libro’)\n",
    "- (d) nuevo_pedido(‘lupa’, 12)\n",
    "- (e) nuevo_pedido(producto=’pinzas’, 10)\n",
    "- (f) nuevo_pedido(producto=’laser’, precio=25)\n",
    "- (g) nuevo_pedido(producto=’telescopio’, descuento=0.2, precio=25)\n",
    "- (h) pedido = (‘laptop’, 1200, 0.6)\n",
    "      nuevo_pedido(pedido)\n",
    "- (i) pedido = (‘producto’: ‘calculadora’, ‘valor’: 19.99, ‘descuento’: 0)\n",
    "      nuevo_pedido(**pedido)"
   ]
  },
  {
   "cell_type": "markdown",
   "metadata": {},
   "source": [
    "a. Correcto\n",
    "\n",
    "b. Incorrecto. Los dos primero parámetros son obligatorios (no tienen valor por defecto asociado).\n",
    "\n",
    "c. Incorrecto. Solo se indica el primero de los dos parámetros obligatorios.\n",
    "\n",
    "d. Correcto.\n",
    "\n",
    "e. Incorrecto. Después de un argumento por clave no puede ir uno sin clave. \n",
    "\n",
    "f. Correcto.\n",
    "\n",
    "g. Correcto. Al pasarse por clave pueden cambiar su orden. \n",
    "\n",
    "h. Incorrecto. Falta un asterisco delante del argumento.\n",
    "\n",
    "i. Incorrecto. Se usa llaves no paréntesis y la clave ‘valor’ en el diccionario no se corresponde con ningún parámetro.\n"
   ]
  },
  {
   "cell_type": "markdown",
   "metadata": {},
   "source": [
    "**Mi respuesta**  - Creo que escribí eso en el examen\n",
    "    \n",
    "- (a) ```nuevo_pedido(‘probeta’, 5, 0.25)```\n",
    "- (d) ```nuevo_pedido(‘lupa’, 12)```\n",
    "- (e) ```nuevo_pedido(producto=’pinzas’, 10)```  --> Esta respuesta está mal.Si a un argumento le has escrito antes el parámetro, tienes que ponerselo a todos los demás.\n",
    "- (f) ```nuevo_pedido(producto=’laser’, precio=25)```\n",
    "- (g) ```nuevo_pedido(producto=’telescopio’, descuento=0.2, precio=25)```\n",
    "- (h) --> Esta respuesta está mal. No lo entiendo bien.\n",
    "```python\n",
    "      pedido = (‘laptop’, 1200, 0.6)\n",
    "      nuevo_pedido(pedido)\n",
    "```\n"
   ]
  },
  {
   "cell_type": "code",
   "execution_count": 19,
   "metadata": {},
   "outputs": [
    {
     "name": "stdout",
     "output_type": "stream",
     "text": [
      "laptop 1200 0.6\n"
     ]
    }
   ],
   "source": [
    "# (h)\n",
    "def nuevo_pedido(producto, precio, descuento=0):\n",
    "    print(producto, precio, descuento)\n",
    "\n",
    "pedido = ('laptop', 1200, 0.6)\n",
    "nuevo_pedido(*pedido)"
   ]
  },
  {
   "cell_type": "code",
   "execution_count": null,
   "metadata": {},
   "outputs": [],
   "source": [
    "def nuevo_pedido(producto, precio, descuento=0):\n",
    "    print(producto, precio, descuento)\n",
    "\n",
    "nuevo_pedido('probeta', 5, 0.25)"
   ]
  },
  {
   "cell_type": "code",
   "execution_count": 20,
   "metadata": {},
   "outputs": [
    {
     "ename": "SyntaxError",
     "evalue": "invalid syntax (<ipython-input-20-542a1df0934e>, line 1)",
     "output_type": "error",
     "traceback": [
      "\u001b[1;36m  File \u001b[1;32m\"<ipython-input-20-542a1df0934e>\"\u001b[1;36m, line \u001b[1;32m1\u001b[0m\n\u001b[1;33m    pedido = ('producto': 'calculadora', 'valor': 19.99, 'descuento': 0)\u001b[0m\n\u001b[1;37m                        ^\u001b[0m\n\u001b[1;31mSyntaxError\u001b[0m\u001b[1;31m:\u001b[0m invalid syntax\n"
     ]
    }
   ],
   "source": [
    "pedido = ('producto': 'calculadora', 'valor': 19.99, 'descuento': 0)\n",
    "nuevo_pedido(**pedido)"
   ]
  },
  {
   "cell_type": "code",
   "execution_count": 21,
   "metadata": {},
   "outputs": [
    {
     "name": "stdout",
     "output_type": "stream",
     "text": [
      "calculadora 19.99 0\n"
     ]
    }
   ],
   "source": [
    "pedido = {'producto': 'calculadora', 'precio': 19.99, 'descuento': 0}\n",
    "nuevo_pedido(**pedido)"
   ]
  },
  {
   "cell_type": "markdown",
   "metadata": {},
   "source": [
    "https://www.digitalocean.com/community/tutorials/how-to-use-args-and-kwargs-in-python-3#:~:text=In%20Python%2C%20the%20single%2Dasterisk,not%20enforced%20by%20the%20language."
   ]
  },
  {
   "cell_type": "markdown",
   "metadata": {},
   "source": [
    "### 14. ¿Qué parámetro es necesario poner en la definición de la función? (3 puntos)\n",
    "```python\n",
    "def make_dict(__________):\n",
    "return kwargs\n",
    "make_dict(a = 1, b = 2)\n",
    "```\n",
    "\n",
    "- A) **args\n",
    "- B) a = x, b = y\n",
    "- C) *kwargs\n",
    "- D) **kwargs"
   ]
  },
  {
   "cell_type": "markdown",
   "metadata": {},
   "source": [
    "**Mi respuesta**\n",
    "\n",
    "- D) **kwargs"
   ]
  },
  {
   "cell_type": "code",
   "execution_count": null,
   "metadata": {},
   "outputs": [],
   "source": [
    "def make_dict(**kwargs):\n",
    "    return kwargs\n",
    "\n",
    "make_dict(a = 1, b = 2)"
   ]
  },
  {
   "cell_type": "markdown",
   "metadata": {},
   "source": [
    "### 15. ¿Qué código de una sola línea serviría para asignar al primer contacto los mismos valores asociados al último? (3 puntos)\n",
    "\n",
    "```python\n",
    "contactos = [\n",
    "{'nombre': 'Mick', 'apellido': 'Jagger', 'edad': 77},\n",
    "{'nombre': 'Keith', 'apellido': 'Richards', 'edad': 77},\n",
    "{'nombre': 'Ronnie', 'apellido': 'Wood', 'edad': 73},\n",
    "{'nombre': 'Charlie', 'apellido': 'Watts', 'edad': 79}\n",
    "]\n",
    "```"
   ]
  },
  {
   "cell_type": "markdown",
   "metadata": {},
   "source": [
    "**Mi respuesta**\n",
    "\n",
    "```python\n",
    "contactos[0] = contactos[-1]\n",
    "```"
   ]
  },
  {
   "cell_type": "code",
   "execution_count": null,
   "metadata": {},
   "outputs": [],
   "source": [
    "\n",
    "contactos = [\n",
    "    {'nombre': 'Mick', 'apellido': 'Jagger', 'edad': 77},\n",
    "    {'nombre': 'Keith', 'apellido': 'Richards', 'edad': 77},\n",
    "    {'nombre': 'Ronnie', 'apellido': 'Wood', 'edad': 73},\n",
    "    {'nombre': 'Charlie', 'apellido': 'Watts', 'edad': 79}\n",
    "    ]\n",
    "\n",
    "contactos"
   ]
  },
  {
   "cell_type": "code",
   "execution_count": null,
   "metadata": {},
   "outputs": [],
   "source": [
    "contactos[0] = contactos[-1]\n",
    "contactos"
   ]
  },
  {
   "cell_type": "markdown",
   "metadata": {},
   "source": [
    "### 16. ¿Qué es necesario poner en el hueco del código para obtener esa salida? (2 puntos)\n",
    "\n",
    "```python\n",
    "packages = [“numpy”, “pandas”, “scipy”]\n",
    "for i in packages:\n",
    "print(__________)\n",
    "\n",
    "````\n",
    "Salida:\n",
    "\n",
    "numpy\n",
    "pandas\n",
    "scipy"
   ]
  },
  {
   "cell_type": "markdown",
   "metadata": {},
   "source": [
    "**Mi respuesta**\n",
    "\n",
    "i"
   ]
  },
  {
   "cell_type": "code",
   "execution_count": null,
   "metadata": {},
   "outputs": [],
   "source": [
    "packages = ['numpy', 'pandas', 'scipy']\n",
    "\n",
    "for i in packages:\n",
    "    print(i)"
   ]
  },
  {
   "cell_type": "markdown",
   "metadata": {},
   "source": [
    "### 17. Escribe un programa (en Python) que itere sobre la lista de nombres [‘Pedro’, ‘Pablo’, ‘Judas’,‘Juan’]. Dentro del bucle, comprobará si el nombre es ‘Judas’. De ser así, el programa debería escribir en pantalla el nombre junto con el texto ‘es el culpable’, si no, debería escribir el nombre junto con el texto ‘es inocente’. El resultado esperado es: (5 puntos)\n",
    "```python\n",
    "Pedro es inocente\n",
    "Pablo es inocente\n",
    "Judas es el culpable\n",
    "Juan es inocente\n",
    "``` "
   ]
  },
  {
   "cell_type": "markdown",
   "metadata": {},
   "source": [
    "**Mi respuesta**"
   ]
  },
  {
   "cell_type": "code",
   "execution_count": null,
   "metadata": {},
   "outputs": [],
   "source": [
    "mylist = ['Pedro', 'Pablo', 'Judas','Juan']\n",
    "\n",
    "for person in mylist:\n",
    "    if person == 'Judas':\n",
    "        print (person, 'es el culpable.')\n",
    "    else:\n",
    "        print (person, 'es inocente.')"
   ]
  },
  {
   "cell_type": "markdown",
   "metadata": {},
   "source": [
    "### 18. Escribe un programa (en Python) que pida al usuario su edad y la de su mejor amigo. El programa mostrará en pantalla quién es el mayor de los dos.(5 puntos)"
   ]
  },
  {
   "cell_type": "markdown",
   "metadata": {},
   "source": [
    "**Mi respuesta**"
   ]
  },
  {
   "cell_type": "code",
   "execution_count": null,
   "metadata": {},
   "outputs": [],
   "source": [
    "age1= int(input('¿Cual es tu edad?'))\n",
    "age2= int(input('¿Cual es la edad de tu mejor amigo?'))\n",
    "\n",
    "# mydicc={\"Tú\": age1, \"amigo\": age2}  -> no es necesario pero quería probar a meter a más personas. \n",
    "#                                     -> Quizas mejor una lista de diccionarios?\n",
    "          \n",
    "if age1 > age2:\n",
    "    print(\"Tú eres mayor que tu mejor amigo\")\n",
    "else:\n",
    "    print(\"Tu mejor amigo es mayor que tú\")"
   ]
  },
  {
   "cell_type": "markdown",
   "metadata": {},
   "source": [
    "### 19. Escribe un programa (en Python) que lea una cadena escrita por teclado y comprueba si elprimer y el último carácter son iguales. Si son iguales, mostrará un mensaje con el número total de caracteres de la cadena distintos a dicho carácter. En caso contrario, mostrará un mensaje con el número total de caracteres de la cadena iguales al carácter inicial y al carácter final (sin incluirlos). (10 puntos)\n",
    "\n"
   ]
  },
  {
   "cell_type": "markdown",
   "metadata": {},
   "source": [
    "**Mi respuesta**"
   ]
  },
  {
   "cell_type": "code",
   "execution_count": null,
   "metadata": {},
   "outputs": [],
   "source": [
    "mystr = \"La historia interminaaaaaaableeee, la la la, la la la, la la la\"\n",
    "print(mystr)\n",
    "\n",
    "if mystr[0] == mystr[-1]:\n",
    "    print(\"Hay\", mystr.count(mystr[0]-1), \"caracteres distintos a \", mystr[0], \"y a\", mystr[-1])\n",
    "    \n",
    "else:\n",
    "    print(\"Hay\", int(mystr.count(mystr[0]))-1, \"caracteres igual a\", mystr[0])\n",
    "    print(\"Hay\", int(mystr.count(mystr[-1]))-1, \"caracteres igual a\", mystr[-1])"
   ]
  },
  {
   "cell_type": "code",
   "execution_count": null,
   "metadata": {},
   "outputs": [],
   "source": [
    "mystr1 = \"EN UN LUGAR DE LA MANCHA DE CUYO NOMBRE NO QUIERO ACORDARME\"\n",
    "print(mystr1)\n",
    "\n",
    "if mystr1[0] == mystr1[-1]:\n",
    "    sum=0\n",
    "    for lyric in mystr1:\n",
    "        if lyric != mystr1[0] and lyric != mystr1[-1] and lyric != \" \":\n",
    "            sum += 1\n",
    "    print(\"Hay\", sum, \"caracteres distintos a\", mystr1[0])\n",
    "    \n",
    "else:\n",
    "    print(\"Hay\", int(mystr1.count(mystr1[0]))-1, \"caracteres igual a \", mystr1[0])\n",
    "    print(\"Hay\", int(mystr1.count(mystr1[-1]))-1, \"caracteres igual a \", mystr1[-1])\n"
   ]
  },
  {
   "cell_type": "markdown",
   "metadata": {},
   "source": [
    "**Mi respuesta**\n",
    "\n",
    "### DUDA \n",
    "\n",
    "Prueba para intentar que considere las mayusculas y minúsculas como iguales en el recuento. - no me funciona.\n",
    "\n",
    "Comprobar linea 4"
   ]
  },
  {
   "cell_type": "code",
   "execution_count": null,
   "metadata": {},
   "outputs": [],
   "source": [
    "mystr2 = \"En un lugar de la mancha de cuyo nombre no quiero acordarme\"\n",
    "print(mystr1)\n",
    "\n",
    "if mystr2[-1] == mystr2[0] or mystr2[-1] == mystr2.capitalize[0]:\n",
    "    sum=0\n",
    "    for lyric in mystr2:\n",
    "        if lyric != mystr2[0] and lyric != mystr2[-1] and lyric != \" \":\n",
    "            sum += 1\n",
    "    print(\"Hay\", sum, \"caracteres distintos a\", mystr2[0])\n",
    "    \n",
    "else:\n",
    "    print(\"Hay\", int(mystr1.count(mystr2[0]))-1, \"caracteres igual a \", mystr2[0])\n",
    "    print(\"Hay\", int(mystr1.count(mystr2[-1]))-1, \"caracteres igual a \", mystr2[-1])\n"
   ]
  },
  {
   "cell_type": "code",
   "execution_count": null,
   "metadata": {},
   "outputs": [],
   "source": [
    "mystr2 = \"En un lugar de la mancha de cuyo nombre no quiero acordarme\"\n",
    "mystr2.lower()\n",
    "print(mystr2)\n",
    "\n",
    "if mystr2[-1] == mystr2[0] or mystr2[-1] == mystr2.capitalize()[0]:\n",
    "    sum=0\n",
    "    for lyric in mystr2:\n",
    "        if lyric != mystr2[0] and lyric != mystr2[-1] and lyric != \" \":\n",
    "            sum += 1\n",
    "    print(\"Hay\", sum, \"caracteres distintos a\", mystr2[0])\n",
    "    \n",
    "else:\n",
    "    print(\"Hay\", int(mystr1.count(mystr2[0]))-1, \"caracteres igual a \", mystr2[0])\n",
    "    print(\"Hay\", int(mystr1.count(mystr2[-1]))-1, \"caracteres igual a \", mystr2[-1])\n"
   ]
  },
  {
   "cell_type": "markdown",
   "metadata": {},
   "source": [
    "### 20. Escribe un programa (en Python) que calcule la frecuencia de aparición de cada letra en una cadena. Por ejemplo, para la cadena “abracadabra” debería mostrar: (10 puntos)\n",
    "{'a': 5, 'b': 2, 'r': 2, 'c': 1, 'd': 1}\n"
   ]
  },
  {
   "cell_type": "markdown",
   "metadata": {},
   "source": [
    "**Mi respuesta**"
   ]
  },
  {
   "cell_type": "code",
   "execution_count": null,
   "metadata": {},
   "outputs": [],
   "source": [
    "str_abra = \"abracadabra\"\n",
    "mycount ={}\n",
    "\n",
    "for i in str_abra:\n",
    "    mycount[i] = str_abra.count(i)\n",
    "    \n",
    "mycount"
   ]
  }
 ],
 "metadata": {
  "kernelspec": {
   "display_name": "Python 3",
   "language": "python",
   "name": "python3"
  },
  "language_info": {
   "codemirror_mode": {
    "name": "ipython",
    "version": 3
   },
   "file_extension": ".py",
   "mimetype": "text/x-python",
   "name": "python",
   "nbconvert_exporter": "python",
   "pygments_lexer": "ipython3",
   "version": "3.8.5"
  }
 },
 "nbformat": 4,
 "nbformat_minor": 4
}
