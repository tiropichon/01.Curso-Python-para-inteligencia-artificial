{
 "cells": [
  {
   "cell_type": "markdown",
   "metadata": {},
   "source": [
    "Ejercicio 1F (MEDIO)\n",
    "\n",
    "import random\n",
    "\n",
    "class Lista():\n",
    "    def __init__(self, lista):\n",
    "        self.lista = lista\n",
    "    def __str__(self):\n",
    "        return str(self.lista)\n",
    "\n",
    "randlist_a = random.sample(range(50), random.randint(1, 10))\n",
    "list_a = Lista(randlist_a)\n",
    "randlist_b = random.sample(range(50), random.randint(1, 10))\n",
    "list_b = Lista(randlist_b)\n",
    "\n",
    "Implementa los siguientes métodos especiales para la clase Lista:\n",
    "\n",
    "    __len__: devuelve el tamaño de lista de la clase Lista.\n",
    "    __add__: devuelve un objeto de tipo Lista con atributo lista con todos los elementos de las dos listas.\n",
    "    __mul__: devuelve un objeto de tipo Lista con atributo lista con la lista a multiplicado por el tamaño de la lista b.\n",
    "    __lt__: compara los tamaños de las dos listas.\n",
    "\n"
   ]
  },
  {
   "cell_type": "code",
   "execution_count": 35,
   "metadata": {},
   "outputs": [],
   "source": [
    "import random\n",
    "\n",
    "class Lista():\n",
    "    def __init__(self, lista):\n",
    "        self.lista = lista\n",
    "    \n",
    "    def __str__(self):\n",
    "        return str(self.lista)\n",
    "    \n",
    "    def __len__(self):\n",
    "        return len(self.lista)\n",
    "    \n",
    "    def __add__(self, other):\n",
    "        return self.lista + other.lista\n",
    "    \n",
    "    def __mul__(self, other):\n",
    "        for x in self.lista:\n",
    "            x *= len(other.lista)\n",
    "            \n",
    "        return self.lista\n",
    "    \n",
    "    def __lt__(self, other):\n",
    "        if len(self.lista < other.lista):\n",
    "            return True\n",
    "        else:\n",
    "            return False"
   ]
  },
  {
   "cell_type": "code",
   "execution_count": 36,
   "metadata": {},
   "outputs": [],
   "source": [
    "randlist_a = random.sample(range(50), random.randint(1, 10))\n",
    "list_a = Lista(randlist_a)\n",
    "\n",
    "randlist_b = random.sample(range(50), random.randint(1, 10))\n",
    "list_b = Lista(randlist_b)"
   ]
  },
  {
   "cell_type": "code",
   "execution_count": 37,
   "metadata": {},
   "outputs": [
    {
     "name": "stdout",
     "output_type": "stream",
     "text": [
      "Lista 1: [34, 44, 27, 45, 19]\n",
      "Lista 2: [21, 13, 43, 48, 25, 10, 29, 17]\n",
      "Longitud de la lista 1: 5\n",
      "Longitud de la lista 2: 8\n",
      "Lista con elementos de lista 1 y lista 2: [34, 44, 27, 45, 19, 21, 13, 43, 48, 25, 10, 29, 17]\n",
      "Lista 1 multiplicada por la longitud de la lista: [34, 44, 27, 45, 19]\n"
     ]
    }
   ],
   "source": [
    "print(\"Lista 1: {}\".format(list_a))\n",
    "print(\"Lista 2: {}\".format(list_b))\n",
    "print(\"Longitud de la lista 1: {}\".format(len(list_a)))\n",
    "print(\"Longitud de la lista 2: {}\".format(len(list_b)))\n",
    "print(\"Lista con elementos de lista 1 y lista 2: {}\".format(list_a + list_b))\n",
    "print(\"Lista 1 multiplicada por la longitud de la lista: {}\".format(list_a * list_b))"
   ]
  },
  {
   "cell_type": "code",
   "execution_count": null,
   "metadata": {},
   "outputs": [],
   "source": []
  }
 ],
 "metadata": {
  "kernelspec": {
   "display_name": "Python 3",
   "language": "python",
   "name": "python3"
  },
  "language_info": {
   "codemirror_mode": {
    "name": "ipython",
    "version": 3
   },
   "file_extension": ".py",
   "mimetype": "text/x-python",
   "name": "python",
   "nbconvert_exporter": "python",
   "pygments_lexer": "ipython3",
   "version": "3.8.5"
  }
 },
 "nbformat": 4,
 "nbformat_minor": 4
}
