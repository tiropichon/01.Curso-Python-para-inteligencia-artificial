{
 "cells": [
  {
   "cell_type": "markdown",
   "metadata": {},
   "source": [
    "#### Ejercicio 1F (MEDIO)\n",
    "\n",
    "```python\n",
    "import random\n",
    "\n",
    "class Lista():\n",
    "    def __init__(self, lista):\n",
    "        self.lista = lista\n",
    "    def __str__(self):\n",
    "        return str(self.lista)\n",
    "    \n",
    "randlist_a = random.sample(range(50), random.randint(1, 10))\n",
    "list_a = Lista(randlist_a)\n",
    "randlist_b = random.sample(range(50), random.randint(1, 10))\n",
    "list_b = Lista(randlist_b)\n",
    "```\n",
    "\n",
    "Implementa los siguientes métodos especiales para la clase Lista:\n",
    "- `__len__`: devuelve el tamaño de `lista` de la clase `Lista`.\n",
    "- `__add__`: devuelve un objeto de tipo `Lista` con atributo `lista` con todos los elementos de las dos listas.\n",
    "- `__mul__`: devuelve un objeto de tipo `Lista` con atributo `lista` con la lista `a` multiplicado por el tamaño de la lista `b`.\n",
    "- `__lt__`: compara los tamaños de las dos listas.\n"
   ]
  },
  {
   "cell_type": "code",
   "execution_count": 1,
   "metadata": {},
   "outputs": [
    {
     "name": "stdout",
     "output_type": "stream",
     "text": [
      "Lista a: [28, 11, 38, 2, 30, 35, 1, 10, 14, 44]\n",
      "Lista b: [18, 17, 27, 21, 39]\n",
      "Tamaño de lista a: 10\n",
      "Tamaño de lista b: 5\n",
      "La lista a es mayor que la lista b\n",
      "Combinación de las dos listas: [28, 11, 38, 2, 30, 35, 1, 10, 14, 44, 18, 17, 27, 21, 39]\n",
      "La multiplicación de la lista a por la longitud de la lista b es: [140, 55, 190, 10, 150, 175, 5, 50, 70, 220]\n"
     ]
    }
   ],
   "source": [
    "import random\n",
    "\n",
    "class Lista():\n",
    "    def __init__(self, lista):\n",
    "        self.lista = lista\n",
    "        \n",
    "    def __str__(self):\n",
    "        return str(self.lista)\n",
    "    \n",
    "    def __len__(self):\n",
    "        return len(self.lista)\n",
    "    \n",
    "    def __add__(self, other):\n",
    "        return self.lista + other.lista\n",
    "    \n",
    "    def __mul__(self, other):\n",
    "        lista_mul =[]\n",
    "        lista_mul = [x * len(other.lista) for x in self.lista]\n",
    "        return lista_mul\n",
    "    \n",
    "    def __lt__(self, other):\n",
    "        if len(self.lista) < len(other.lista):\n",
    "            return True\n",
    "        else:\n",
    "            return False\n",
    "\n",
    "randlist_a = random.sample(range(50), random.randint(1, 10))\n",
    "list_a = Lista(randlist_a)\n",
    "randlist_b = random.sample(range(50), random.randint(1, 10))\n",
    "list_b = Lista(randlist_b)\n",
    "\n",
    "#Esta variable va a almacenar el resultado de __lt__. Será True o False, y más adelante se validará\n",
    "menor = list_a < list_b\n",
    "\n",
    "print(\"Lista a: {}\".format(list_a))\n",
    "print(\"Lista b: {}\".format(list_b))\n",
    "print(\"Tamaño de lista a: {}\".format(len(list_a)))\n",
    "print(\"Tamaño de lista b: {}\".format(len(list_b)))\n",
    "\n",
    "#si menor = True, mostramos que list_a es menor que list_b\n",
    "if menor == True:\n",
    "    print(\"La lista a es menor que la lista b\")\n",
    "else:\n",
    "    #si menor == False, mostramos que list_a es mayor que list_b\n",
    "    print(\"La lista a es mayor que la lista b\")\n",
    "\n",
    "print(\"Combinación de las dos listas: {}\".format(list_a+list_b))\n",
    "print(\"La multiplicación de la lista a por la longitud de la lista b es: {}\".format(list_a * list_b))\n",
    "\n",
    "\n"
   ]
  },
  {
   "cell_type": "code",
   "execution_count": null,
   "metadata": {},
   "outputs": [],
   "source": []
  }
 ],
 "metadata": {
  "kernelspec": {
   "display_name": "Python 3",
   "language": "python",
   "name": "python3"
  },
  "language_info": {
   "codemirror_mode": {
    "name": "ipython",
    "version": 3
   },
   "file_extension": ".py",
   "mimetype": "text/x-python",
   "name": "python",
   "nbconvert_exporter": "python",
   "pygments_lexer": "ipython3",
   "version": "3.8.5"
  }
 },
 "nbformat": 4,
 "nbformat_minor": 4
}
