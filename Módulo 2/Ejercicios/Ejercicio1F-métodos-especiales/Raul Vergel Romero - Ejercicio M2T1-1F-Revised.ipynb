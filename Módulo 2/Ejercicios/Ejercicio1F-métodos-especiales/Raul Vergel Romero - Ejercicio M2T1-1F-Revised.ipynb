{
 "cells": [
  {
   "cell_type": "markdown",
   "metadata": {},
   "source": [
    "# Ejercicio 1F - Revised"
   ]
  },
  {
   "cell_type": "code",
   "execution_count": 1,
   "metadata": {},
   "outputs": [],
   "source": [
    "import random\n",
    "\n",
    "class Lista:\n",
    "    def __init__(self, lista):\n",
    "        self.lista = lista\n",
    "        \n",
    "    def __str__(self):\n",
    "        return str(self.lista)\n",
    "    \n",
    "    def __repr__(self):\n",
    "        return \"La lista de items es: {}\".format(self.lista)\n",
    "    \n",
    "    def __len__(self):\n",
    "        return len(self.lista)\n",
    "    \n",
    "    def __getitem__(self, idx):\n",
    "        return self.lista[idx]\n",
    "    \n",
    "    def __add__(self, other):\n",
    "        if isinstance(other, Lista):\n",
    "            temp = self.lista + other.lista\n",
    "        elif isinstance(other, list):\n",
    "            temp = self.lista + other\n",
    "        else:\n",
    "            temp = self.lista\n",
    "        ##Código revisado\n",
    "        return temp\n",
    "        ##Código revisado\n",
    "        \n",
    "    def __mul__(self, other):\n",
    "        if isinstance(other, Lista):\n",
    "            temp = self.lista * len(other.lista)\n",
    "        elif isinstance(other, list):\n",
    "            temp = self.lista * len(other)\n",
    "        elif isinstance(other, int):\n",
    "            temp = self.lista * other\n",
    "        elif isinstance(other, float):\n",
    "            temp = self.lista * int(other)\n",
    "        else:\n",
    "            temp = self.lista\n",
    "        #Código revisado\n",
    "        return temp\n",
    "        #Código revisado\n",
    "    \n",
    "    def __lt__(self, other):\n",
    "        lSelf = len(self.lista)\n",
    "        lOther = len(other)\n",
    "        return True if lSelf < lOther else False\n",
    "    \n",
    "    def __gt__(self, other):\n",
    "        lSelf = len(self.lista)\n",
    "        lOther = len(other)\n",
    "        return True if lSelf > lOther else False\n",
    "    \n",
    "    def __eq__(self, other):\n",
    "        lSelf = len(self.lista)\n",
    "        lOther = len(other)\n",
    "        return True if lSelf == lOther else False\n",
    "    \n",
    "    \n",
    "\n",
    "randlist_a = random.sample(range(50), random.randint(1, 10))\n",
    "randlist_b = random.sample(range(50), random.randint(1, 10))\n",
    "\n",
    "list_a = Lista(randlist_a)\n",
    "list_b = Lista(randlist_b)"
   ]
  },
  {
   "cell_type": "markdown",
   "metadata": {},
   "source": [
    "Si se quiere hacer uso de print() para mostrar en consola un objeto de la clase Lista, internamente se hará uso del método especial __str__"
   ]
  },
  {
   "cell_type": "code",
   "execution_count": 2,
   "metadata": {},
   "outputs": [
    {
     "name": "stdout",
     "output_type": "stream",
     "text": [
      "[22, 35, 23, 38, 14, 31, 12, 13, 45, 21]\n",
      "[47, 21, 39]\n"
     ]
    }
   ],
   "source": [
    "print(list_a)\n",
    "print(list_b)"
   ]
  },
  {
   "cell_type": "markdown",
   "metadata": {},
   "source": [
    "Se puede definir un método especial __repr__ para representar de un modo concreto en pantalla cuando se llama a una variable"
   ]
  },
  {
   "cell_type": "code",
   "execution_count": 3,
   "metadata": {},
   "outputs": [
    {
     "data": {
      "text/plain": [
       "La lista de items es: [22, 35, 23, 38, 14, 31, 12, 13, 45, 21]"
      ]
     },
     "execution_count": 3,
     "metadata": {},
     "output_type": "execute_result"
    }
   ],
   "source": [
    "list_a"
   ]
  },
  {
   "cell_type": "code",
   "execution_count": 4,
   "metadata": {},
   "outputs": [
    {
     "data": {
      "text/plain": [
       "La lista de items es: [47, 21, 39]"
      ]
     },
     "execution_count": 4,
     "metadata": {},
     "output_type": "execute_result"
    }
   ],
   "source": [
    "list_b"
   ]
  },
  {
   "cell_type": "markdown",
   "metadata": {},
   "source": [
    "Se crea un método especial __len__ para determinar la longitud del atributo lista de la clase Lista"
   ]
  },
  {
   "cell_type": "code",
   "execution_count": 5,
   "metadata": {},
   "outputs": [
    {
     "name": "stdout",
     "output_type": "stream",
     "text": [
      "La longitud de [22, 35, 23, 38, 14, 31, 12, 13, 45, 21] es: 10\n"
     ]
    }
   ],
   "source": [
    "print(\"La longitud de {} es: {}\".format(list_a, len(list_a)))"
   ]
  },
  {
   "cell_type": "code",
   "execution_count": 6,
   "metadata": {},
   "outputs": [
    {
     "name": "stdout",
     "output_type": "stream",
     "text": [
      "La longitud de [47, 21, 39] es: 3\n"
     ]
    }
   ],
   "source": [
    "print(\"La longitud de {} es: {}\".format(list_b, len(list_b)))"
   ]
  },
  {
   "cell_type": "code",
   "execution_count": 7,
   "metadata": {},
   "outputs": [
    {
     "data": {
      "text/plain": [
       "True"
      ]
     },
     "execution_count": 7,
     "metadata": {},
     "output_type": "execute_result"
    }
   ],
   "source": [
    "isinstance(list_a, Lista)\n",
    "isinstance(list_a.lista, list)"
   ]
  },
  {
   "cell_type": "markdown",
   "metadata": {},
   "source": [
    "Se crea un método especial __add__ que devuelve un objeto de la clase Lista con un atributo lista, que es la concatenación de dos listas. En este caso el método diferencia el tipo de objeto que se le pasa para realizar la concatenación. En caso que se le pase un objeto que no sea una lista ni sea de la clase Lista, el atributo lista es igual que el original"
   ]
  },
  {
   "cell_type": "markdown",
   "metadata": {},
   "source": [
    "*********Código nuevo"
   ]
  },
  {
   "cell_type": "code",
   "execution_count": 8,
   "metadata": {},
   "outputs": [
    {
     "name": "stdout",
     "output_type": "stream",
     "text": [
      "El resultado es:  [22, 35, 23, 38, 14, 31, 12, 13, 45, 21, 47, 21, 39]\n",
      "list_a original : [22, 35, 23, 38, 14, 31, 12, 13, 45, 21]\n",
      "list_b original : [47, 21, 39]\n"
     ]
    }
   ],
   "source": [
    "list_c = list_a.__add__(list_b)\n",
    "print(\"El resultado es: \", list_c)\n",
    "print(\"list_a original :\", list_a)\n",
    "print(\"list_b original :\", list_b)"
   ]
  },
  {
   "cell_type": "markdown",
   "metadata": {},
   "source": [
    "Se puede apreciar que con la moficicación aplicada al método especial __add__ se realiza la suma de los objetos de la clase Lista a través del operador +  , y en este caso no muta la lista original, si no que devuelve una nueva"
   ]
  },
  {
   "cell_type": "code",
   "execution_count": 11,
   "metadata": {},
   "outputs": [
    {
     "name": "stdout",
     "output_type": "stream",
     "text": [
      "Resultado de la suma:  [22, 35, 23, 38, 14, 31, 12, 13, 45, 21, 47, 21, 39]\n"
     ]
    }
   ],
   "source": [
    "list_temporal = list_a + list_b\n",
    "print(\"Resultado de la suma: \", list_temporal)"
   ]
  },
  {
   "cell_type": "code",
   "execution_count": 13,
   "metadata": {},
   "outputs": [
    {
     "name": "stdout",
     "output_type": "stream",
     "text": [
      "Resultado de la nueva lista:  [22, 35, 23, 38, 14, 31, 12, 13, 45, 21, 0, 0, 0, 0]\n",
      "list_A original : [22, 35, 23, 38, 14, 31, 12, 13, 45, 21]\n"
     ]
    }
   ],
   "source": [
    "list_temporal1 = list_a + [0,0,0,0]\n",
    "print(\"Resultado de la nueva lista: \", list_temporal1)\n",
    "print(\"list_A original :\", list_a)"
   ]
  },
  {
   "cell_type": "markdown",
   "metadata": {},
   "source": [
    "Se comprueba como se comporta el método especial __mul__ con la modificación aplicada. Como pasa ahora con el método especial __add__ se lleva a cabo con el operador * y no debe mutar el atributo lista del objeto inicial."
   ]
  },
  {
   "cell_type": "code",
   "execution_count": 14,
   "metadata": {},
   "outputs": [
    {
     "name": "stdout",
     "output_type": "stream",
     "text": [
      "El producto de list_a * list_b:  [22, 35, 23, 38, 14, 31, 12, 13, 45, 21, 22, 35, 23, 38, 14, 31, 12, 13, 45, 21, 22, 35, 23, 38, 14, 31, 12, 13, 45, 21]\n",
      "list_a original:  [22, 35, 23, 38, 14, 31, 12, 13, 45, 21]\n",
      "list_b original:  [47, 21, 39]\n"
     ]
    }
   ],
   "source": [
    "list_d = list_a * list_b\n",
    "print(\"El producto de list_a * list_b: \", list_d)\n",
    "print(\"list_a original: \", list_a)\n",
    "print(\"list_b original: \", list_b)"
   ]
  },
  {
   "cell_type": "code",
   "execution_count": 15,
   "metadata": {},
   "outputs": [
    {
     "name": "stdout",
     "output_type": "stream",
     "text": [
      "Resultado de la multiplicación list_a * [0, 0]:  [22, 35, 23, 38, 14, 31, 12, 13, 45, 21, 22, 35, 23, 38, 14, 31, 12, 13, 45, 21]\n",
      "Resultado de la multplicación list_a * 3,4:  [22, 35, 23, 38, 14, 31, 12, 13, 45, 21, 22, 35, 23, 38, 14, 31, 12, 13, 45, 21, 22, 35, 23, 38, 14, 31, 12, 13, 45, 21]\n",
      "Resultado de la multiplicación list_a * True:  [22, 35, 23, 38, 14, 31, 12, 13, 45, 21]\n",
      "list_a original:  [22, 35, 23, 38, 14, 31, 12, 13, 45, 21]\n"
     ]
    }
   ],
   "source": [
    "list_d = list_a * [0 ,0]\n",
    "list_e = list_a * 3.4\n",
    "list_f = list_a * True\n",
    "print(\"Resultado de la multiplicación list_a * [0, 0]: \", list_d)\n",
    "print(\"Resultado de la multplicación list_a * 3,4: \", list_e)\n",
    "print(\"Resultado de la multiplicación list_a * True: \", list_f)\n",
    "print(\"list_a original: \", list_a)"
   ]
  },
  {
   "cell_type": "markdown",
   "metadata": {},
   "source": [
    "Como se puede comprobar, con la modificación aplicada al método especial __mul__ lleva a cabo la multiplicación a través dek operador * y sin mutar los atributos lista de los objetos implicados. Funcionan igualmente en caso que se multiplique por una lista, un entero, real o booleano."
   ]
  },
  {
   "cell_type": "markdown",
   "metadata": {},
   "source": [
    "*********Código nuevo"
   ]
  },
  {
   "cell_type": "markdown",
   "metadata": {},
   "source": [
    "En el caso se usar la funcion print() se imprime por consola directamente el atributo lista del objeto de la clase Lista, tal y como se ha definido en el método especial __str__. Para comprobarlo se hace un print() del atributo lista del nuevo objeto creado"
   ]
  },
  {
   "cell_type": "markdown",
   "metadata": {},
   "source": [
    "Se crea un método especial __lt__ para comprobar si un objeto de la clase Lista es menor que otro , en este caso se compara por la longitud de sus atributos lista"
   ]
  },
  {
   "cell_type": "code",
   "execution_count": 16,
   "metadata": {},
   "outputs": [
    {
     "name": "stdout",
     "output_type": "stream",
     "text": [
      "Se tiene com list_a:  [12, 46, 49, 13, 22, 30]\n",
      "se tiene com list_b:  [42, 11]\n",
      "Es list_a < list_b:  False\n"
     ]
    }
   ],
   "source": [
    "randlist_a = random.sample(range(50), random.randint(1, 10))\n",
    "randlist_b = random.sample(range(50), random.randint(1, 10))\n",
    "list_a = Lista(randlist_a)\n",
    "list_b = Lista(randlist_b)\n",
    "print(\"Se tiene com list_a: \", list_a)\n",
    "print(\"se tiene com list_b: \", list_b)\n",
    "question = list_a < list_b\n",
    "print(\"Es list_a < list_b: \", question)"
   ]
  },
  {
   "cell_type": "markdown",
   "metadata": {},
   "source": [
    "Se crea un método especial __gt__ para comprobar si un objeto de la clase Lista es mayor que otro , en este caso se compara por la longitud de sus atributos lista"
   ]
  },
  {
   "cell_type": "code",
   "execution_count": 17,
   "metadata": {},
   "outputs": [
    {
     "name": "stdout",
     "output_type": "stream",
     "text": [
      "Es list_a > list_b:  True\n"
     ]
    }
   ],
   "source": [
    "newQuestion = list_a > list_b\n",
    "print(\"Es list_a > list_b: \", newQuestion)"
   ]
  },
  {
   "cell_type": "markdown",
   "metadata": {},
   "source": [
    "Se crea un método especial __eq__ para comprobar si un objeto de la clase Lista es igual que otro , en este caso se compara por la longitud de sus atributos lista"
   ]
  },
  {
   "cell_type": "code",
   "execution_count": 18,
   "metadata": {},
   "outputs": [
    {
     "name": "stdout",
     "output_type": "stream",
     "text": [
      "Es list_a == list_b:  False\n"
     ]
    }
   ],
   "source": [
    "newQuestion2 = list_a == list_b\n",
    "print(\"Es list_a == list_b: \", newQuestion2)"
   ]
  },
  {
   "cell_type": "markdown",
   "metadata": {},
   "source": [
    "Por ultimo se define un método especial __getitem__ para que los objetos de la clase Lista sean iterables"
   ]
  },
  {
   "cell_type": "code",
   "execution_count": 19,
   "metadata": {},
   "outputs": [
    {
     "name": "stdout",
     "output_type": "stream",
     "text": [
      "12\n",
      "46\n",
      "49\n",
      "13\n",
      "22\n",
      "30\n"
     ]
    }
   ],
   "source": [
    "for item in list_a:\n",
    "    print(item)"
   ]
  },
  {
   "cell_type": "code",
   "execution_count": null,
   "metadata": {},
   "outputs": [],
   "source": []
  }
 ],
 "metadata": {
  "kernelspec": {
   "display_name": "Python 3",
   "language": "python",
   "name": "python3"
  },
  "language_info": {
   "codemirror_mode": {
    "name": "ipython",
    "version": 3
   },
   "file_extension": ".py",
   "mimetype": "text/x-python",
   "name": "python",
   "nbconvert_exporter": "python",
   "pygments_lexer": "ipython3",
   "version": "3.8.5"
  }
 },
 "nbformat": 4,
 "nbformat_minor": 4
}
