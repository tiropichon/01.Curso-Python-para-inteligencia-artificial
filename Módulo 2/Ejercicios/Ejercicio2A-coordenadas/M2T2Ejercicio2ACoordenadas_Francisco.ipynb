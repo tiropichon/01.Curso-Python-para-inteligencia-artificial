{
 "cells": [
  {
   "cell_type": "markdown",
   "metadata": {},
   "source": [
    "Ejercicio 2A- Preparación\n",
    "Clase Punto"
   ]
  },
  {
   "cell_type": "markdown",
   "metadata": {},
   "source": [
    "He creado la clase Punto y sus métodos init, str, cuadrante, vector y distancia. Fuera de la clase he creado la función creaPunto que instancia a la clase punto para crear un punto."
   ]
  },
  {
   "cell_type": "code",
   "execution_count": 1,
   "metadata": {},
   "outputs": [
    {
     "name": "stdout",
     "output_type": "stream",
     "text": [
      "Introduce coordenda X: 2\n",
      "Introduce coordenda Y: 3\n",
      "El punto es: P(2.0, 3.0)\n",
      "Cuadrante 1\n"
     ]
    },
    {
     "data": {
      "text/plain": [
       "'La distancia es: 0.0'"
      ]
     },
     "execution_count": 1,
     "metadata": {},
     "output_type": "execute_result"
    }
   ],
   "source": [
    "\n",
    "import math\n",
    "class Punto:\n",
    "    def __init__(self, x, y):\n",
    "        self.X = x\n",
    "        self.Y = y\n",
    "\n",
    "    def __str__(self):\n",
    "        return \"El punto es: ({},{})\".format(self.X, self.Y)\n",
    "        \n",
    "    def Cuadrante(self):\n",
    "        if self.X>0 and self.Y>0:\n",
    "            print(\"Cuadrante 1\")\n",
    "        elif self.X>0 and self.Y<0:\n",
    "            print(\"Cuadrante 2\")\n",
    "        elif self.X<0 and self.Y<0:\n",
    "            print(\"Cuadrante 3\")\n",
    "        elif self.X<0 and self.Y>0:\n",
    "            print(\"Cuadrante 4\")\n",
    "        else:\n",
    "               print (\"Punto de Origen.\")\n",
    "    def Vector(self,x1,y1):\n",
    "        return \"Coordenadas del vector: ({},{})\".format(self.X-x1, self.Y-y1)\n",
    "    def distancia(self,x1,y1):\n",
    "        firstItem = pow((self.X-x1),2)\n",
    "        secondItem = pow((self.Y-y1),2)\n",
    "        operando = pow(firstItem+secondItem, 0.5) # usando sqrt me daba fallo\n",
    "        return \"La distancia es: {}\" .format(round(operando,2))\n",
    "    \n",
    "       \n",
    "def creaPunto():\n",
    "    x=float(input(\"Introduce coordenda X: \"))\n",
    "    y=float(input(\"Introduce coordenda Y: \"))\n",
    "    puntoA = Punto(x, y)\n",
    "    print(\"El punto es: P({}, {})\".format(x, y))\n",
    "    return puntoA\n",
    "\n",
    "# Llamamos a los métodos\n",
    "miPunto = creaPunto() \n",
    "miPunto.Cuadrante()\n",
    "miPunto.Vector(2,3)\n",
    "miPunto.distancia(2,3)"
   ]
  },
  {
   "cell_type": "code",
   "execution_count": null,
   "metadata": {},
   "outputs": [],
   "source": []
  }
 ],
 "metadata": {
  "kernelspec": {
   "display_name": "Python 3",
   "language": "python",
   "name": "python3"
  },
  "language_info": {
   "codemirror_mode": {
    "name": "ipython",
    "version": 3
   },
   "file_extension": ".py",
   "mimetype": "text/x-python",
   "name": "python",
   "nbconvert_exporter": "python",
   "pygments_lexer": "ipython3",
   "version": "3.8.5"
  }
 },
 "nbformat": 4,
 "nbformat_minor": 4
}
