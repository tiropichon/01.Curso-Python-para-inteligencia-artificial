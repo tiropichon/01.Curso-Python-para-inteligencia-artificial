{
 "cells": [
  {
   "cell_type": "markdown",
   "metadata": {},
   "source": [
    "#### Ejercicio 2A: los conceptos (MEDIO)\n",
    "\n",
    "En este ejercicio vas a trabajar el concepto de puntos, coordenadas y vectores sobre el plano cartesiano y cómo la programación Orientada a Objetos puede ser una excelente aliada para trabajar con ellos. No está pensado para que hagas ningún tipo de cálculo sino para que practiques la automatización de tareas.\n",
    "\n",
    "**Antes de continuar voy a explicar brevemente los conceptos básicos por si alguien necesita un repaso.**\n",
    "\n",
    "#### El plano cartesiano\n",
    "\n",
    "Representa un espacio bidimensional (en 2 dimensiones), formado por dos rectas perpendiculares, una horizontal y otra vertical que se cortan en un punto. La recta horizontal se denomina eje de las abscisas o **eje X**, mientras que la vertical recibe el nombre de eje de las ordenadas o simplemente **eje Y**. En cuanto al punto donde se cortan, se conoce como el **punto de origen O**.\n",
    "\n",
    "![coordinate-plane](https://www.onlinemathlearning.com/image-files/coordinate-plane.png \"coordinate-plane\")\n",
    "\n",
    "Es importante remarcar que el plano se divide en 4 cuadrantes:\n",
    "\n",
    "![quadrants](https://www.onlinemathlearning.com/image-files/quadrants.png \"quadrants\")\n",
    "\n",
    "\n",
    "#### Puntos y coordenadas\n",
    "\n",
    "El objetivo de todo esto es describir la posición de **puntos** sobre el plano en forma de **coordenadas**, que se forman asociando el valor del eje de las X (horizontal) con el valor del eje Y (vertical).\n",
    "\n",
    "La representación de un punto es sencilla: **P(X,Y)** dónde X y la Y son la distancia horizontal (izquierda o derecha) y vertical (arriba o abajo) respectivamente, utilizando como referencia el punto de origen (0,0), justo en el centro del plano.\n",
    "\n",
    "![coordinategeo1](https://www.onlinemathlearning.com/image-files/coordinategeo1.jpg \"coordinategeo1\")\n",
    "\n",
    "\n",
    "#### Vectores en el plano\n",
    "\n",
    "Finalmente, un vector en el plano hace referencia a un segmento orientado, generado a partir de dos puntos distintos. \n",
    "\n",
    "A efectos prácticos no deja de ser una línea formada desde un punto inicial en dirección a otro punto final, por lo que se entiende que un vector tiene longitud y dirección/sentido.\n",
    "\n",
    "![position-vector1.jpg](attachment:position-vector1.jpg)\n",
    "\n",
    "En esta figura, podemos observar dos puntos A y B que podríamos definir de la siguiente forma:\n",
    "* **A(x1, y1)** => **A(3, 7)**\n",
    "* **B(x2, y2)** => **B(8, 4)**\n",
    "\n",
    "Y el vector en rojo se representaría como la diferencia entre las coordendas del segundo punto respecto al primero (el segundo menos el primero):\n",
    "* **AB = (x2-x1, y2-y1)** => **(8-3, 4-7)** => **(5, -3)** \n",
    "\n",
    "Lo que en definitiva no deja de ser: 5 a la derecha y 3 abajo.\n",
    "\n",
    "Y con esto finalizamos este mini repaso."
   ]
  },
  {
   "cell_type": "markdown",
   "metadata": {},
   "source": [
    "#### Ejercicio 2A: el ejercicio\n",
    "\n",
    "#### Preparación\n",
    "\n",
    "* Crea una clase llamada **Punto** con sus dos coordenadas X e Y.\n",
    "* Añade un método **constructor** para crear puntos fácilmente. Si no se reciben una coordenada, su valor será cero.\n",
    "* Sobreescribe el método **string**, para que al imprimir por pantalla un punto aparezca en formato (X,Y)\n",
    "* Añade un método llamado **cuadrante** que indique a qué cuadrante pertenece el punto, o si es el origen.\n",
    "* Añade un método llamado **vector**, que tome otro punto y calcule el vector resultante entre los dos puntos.\n",
    "* (Optativo) Añade un método llamado **distancia**, que tome otro punto y calcule la distancia entre los dos puntos y la muestre por pantalla. La fórmula es la siguiente:\n",
    "\n",
    "$$\\sqrt{(x_2-x_1)^2 + (y_2-y_1)^2}$$\n",
    "\n",
    "*Nota: La función raíz cuadrada en Python sqrt() se debe importar del módulo math y utilizarla de la siguiente forma:*\n",
    "```python\n",
    "import math\n",
    "math.sqrt(9)\n",
    "> 3.0\n",
    "```\n",
    "\n",
    "* Crea una clase llamada **Rectangulo** con dos puntos (inicial y final) que formarán la diagonal del rectángulo.\n",
    "* Añade un método **constructor** para crear ambos puntos fácilmente, si no se envían se crearán dos puntos en el origen por defecto.\n",
    "* Añade al rectángulo un método llamado **base** que muestre la base.\n",
    "* Añade al rectángulo un método llamado **altura** que muestre la altura.\n",
    "* Añade al rectángulo un método llamado **area** que muestre el area.\n",
    "\n",
    "*Puedes identificar fácilmente estos valores si intentas dibujar el cuadrado a partir de su  diagonal. Si andas perdido, prueba de dibujarlo en un papel, ¡seguro que lo verás mucho más claro! Además recuerda que puedes utilizar la función **abs()** para saber el valor absolute de un número.*\n",
    "\n",
    "#### Experimentación\n",
    "* Crea los puntos A(2, 3),  B(5,5), C(-3, -1) y D(0,0) e imprimelos por pantalla.\n",
    "* Consulta a que cuadrante pertenecen el punto A, C y D.\n",
    "* Consulta los vectores AB y BA.\n",
    "* (Optativo) Consulta la distancia entre los puntos 'A y B' y 'B y A'. \n",
    "* (Optativo) Determina cual de los 3 puntos A, B o C, se encuentra más lejos del origen, punto (0,0). \n",
    "* Crea un rectángulo utilizando los puntos A y B.\n",
    "* Consulta la base, altura y área del rectángulo."
   ]
  },
  {
   "cell_type": "markdown",
   "metadata": {},
   "source": [
    "Se crea la clase Punto, junto con los métodos cuadrante, vector, y distancia"
   ]
  },
  {
   "cell_type": "code",
   "execution_count": 1,
   "metadata": {},
   "outputs": [],
   "source": [
    "import math\n",
    "\n",
    "class Punto:\n",
    "    def __init__(self, x = 0, y = 0):\n",
    "        self.x = x\n",
    "        self.y = y\n",
    "        \n",
    "    def __str__(self):\n",
    "        return \"({},{})\".format(self.x, self.y)\n",
    "    \n",
    "    def __repr__(self):\n",
    "        return \"({},{})\".format(self.x, self.y)\n",
    "  \n",
    "    def cuadrante(self):\n",
    "        if self.x == 0 and self.y == 0:\n",
    "            return \"Es punto origen\"\n",
    "        elif self.x > 0 and self.y > 0:\n",
    "            return \"Está en cuadrante I\"\n",
    "        elif self.x > 0 and self.y < 0:\n",
    "            return \"Está en cuadrante IV\"\n",
    "        elif self.x < 0 and self.y > 0:\n",
    "            return \"Está en cuadrante II\"\n",
    "        else:\n",
    "            return \"Está en cuadrante III\"\n",
    "        \n",
    "    def vector(self, other):\n",
    "        if isinstance(other, Punto):\n",
    "            slopeX = self.x - other.x\n",
    "            slopeY = self.y - other.y\n",
    "            return \"Vector P({}, {})Q({},{}): ({}, {})\".format(self.x, self.y, other.x, other.y, slopeX, slopeY)\n",
    "        else:\n",
    "            return \"No se ha introducido un punto válido\"\n",
    "        \n",
    "    def distancia(self, other):\n",
    "        if isinstance(other, Punto):\n",
    "            xdistance = pow((self.x - other.x), 2)\n",
    "            ydistance = pow((self.y - other.y), 2)\n",
    "            distance = round(pow((xdistance + ydistance), 0.5),3)\n",
    "            return \"La distancia entre P({}, {})-Q({},{}): {}\".format(self.x, self.y, other.x, other.y, distance)\n",
    "        else:\n",
    "            return \"No se ha introducido un punto válido\""
   ]
  },
  {
   "cell_type": "markdown",
   "metadata": {},
   "source": [
    "Se define una función getPoint() que se usa para pedir por pantalla los puntos requeridos y se van almacenando en una lista. Esta función tiene una opción para seleccionar si no se quiere añadir puntos, o en caso contrario cuantos puntos se quiere añadir, pidiendo en tal caso las coordenadas X e Y para cada punto. en cualquier caso siempre se va a trabajar con menos de 5 puntos."
   ]
  },
  {
   "cell_type": "code",
   "execution_count": 2,
   "metadata": {},
   "outputs": [],
   "source": [
    "def getPoint():\n",
    "    Puntos = list()\n",
    "    option = input(\"Quiere introducir puntos por teclado y/n: \")\n",
    "    if option == \"y\" or option == \"Y\":\n",
    "        pointsNumber = int(input(\"Cuántos puntos quiere introducir: \"))\n",
    "        if pointsNumber <= 5:\n",
    "            counter = 1\n",
    "            while counter <= pointsNumber:\n",
    "                x = float(input(f\"Introduzca X P{counter}: \"))\n",
    "                y = float(input(f\"Introduzca Y P{counter}: \"))\n",
    "                P = Punto(x, y)\n",
    "                Puntos.append(P)\n",
    "                counter += 1\n",
    "        else:\n",
    "            print(\"No se puede añadir más de 5 puntos\")\n",
    "    elif option == \"n\" or option == \"N\":\n",
    "        print(\"Adios\")\n",
    "    else: \n",
    "        print(\"Has elegido una opción invalida\")\n",
    "    return Puntos"
   ]
  },
  {
   "cell_type": "markdown",
   "metadata": {},
   "source": [
    "Se implementa la clase Rectangulo, cuyo constructor acepta dos puntos de la clase Punto, y en caso de que alguno de los puntos no fuese de la clase Punto se crearía un rectángulo con diagonal entre P(0, 0) y Q(0, 0).\n",
    "Se implementa también los métodos para obtener la base y su altura, así como su area."
   ]
  },
  {
   "cell_type": "code",
   "execution_count": 3,
   "metadata": {},
   "outputs": [],
   "source": [
    "class Rectangulo:\n",
    "    def __init__(self, P1, P2):\n",
    "        if isinstance(P1, Punto) and isinstance(P2, Punto):\n",
    "            self.x1 = P1.x\n",
    "            self.y1 = P1.y\n",
    "            self.x2 = P2.x\n",
    "            self.y2 = P2.y\n",
    "        else:\n",
    "            self.x1 = 0\n",
    "            self.y1 = 0\n",
    "            self.x2 = 0\n",
    "            self.y2 = 0\n",
    "    def __str__(self):\n",
    "        return \"EL rectangulo tiene su diagonal: P({}, {})Q({},{})\".format(self.x1, self.y1, self.x2, self.y2)\n",
    "    def __repr__(self):\n",
    "        return \"EL rectangulo tiene su diagonal: P({}, {})Q({},{})\".format(self.x1, self.y1, self.x2, self.y2)\n",
    "    def base(self):\n",
    "        width = abs(self.x1 - self.x2)\n",
    "        return round(width, 3)\n",
    "    def altura(self):\n",
    "        height = abs(self.y1 - self.y2)\n",
    "        return round(height, 3)\n",
    "    def area(self):\n",
    "        return round(self.base()*self.altura(), 3)"
   ]
  },
  {
   "cell_type": "markdown",
   "metadata": {},
   "source": [
    "Se usa la función getPoint() para añadir los puntos con los que se quiera trabajar"
   ]
  },
  {
   "cell_type": "code",
   "execution_count": 4,
   "metadata": {},
   "outputs": [
    {
     "name": "stdout",
     "output_type": "stream",
     "text": [
      "Quiere introducir puntos por teclado y/n: y\n",
      "Cuántos puntos quiere introducir: 2\n",
      "Introduzca X P1: 3\n",
      "Introduzca Y P1: 7\n",
      "Introduzca X P2: 8\n",
      "Introduzca Y P2: 4\n"
     ]
    }
   ],
   "source": [
    "myPoints = getPoint()"
   ]
  },
  {
   "cell_type": "code",
   "execution_count": 5,
   "metadata": {},
   "outputs": [
    {
     "name": "stdout",
     "output_type": "stream",
     "text": [
      "[(3.0,7.0), (8.0,4.0)]\n"
     ]
    }
   ],
   "source": [
    "print(myPoints)"
   ]
  },
  {
   "cell_type": "markdown",
   "metadata": {},
   "source": [
    "Se define una función getData() que presenta por pantalla en que cuadrante se encuentra cada punto, así como el vector formado por dos puntos adyacentes en la lista, además de la distancia existente, también entre dos puntos adyacentes de la lista."
   ]
  },
  {
   "cell_type": "code",
   "execution_count": 6,
   "metadata": {},
   "outputs": [],
   "source": [
    "def getData(points):\n",
    "    l = len(points)\n",
    "    for point in points:\n",
    "        message = \"El punto P({}, {}) \".format(point.x, point.y) + point.cuadrante()\n",
    "        print(message)\n",
    "    for index in range(l - 1):\n",
    "        vector = points[index].vector(points[index + 1])\n",
    "        print(vector)\n",
    "        distance = points[index].distancia(points[index + 1])\n",
    "        print(distance)\n"
   ]
  },
  {
   "cell_type": "code",
   "execution_count": 7,
   "metadata": {},
   "outputs": [
    {
     "name": "stdout",
     "output_type": "stream",
     "text": [
      "El punto P(3.0, 7.0) Está en cuadrante I\n",
      "El punto P(8.0, 4.0) Está en cuadrante I\n",
      "Vector P(3.0, 7.0)Q(8.0,4.0): (-5.0, 3.0)\n",
      "La distancia entre P(3.0, 7.0)-Q(8.0,4.0): 5.831\n"
     ]
    }
   ],
   "source": [
    "getData(myPoints)"
   ]
  },
  {
   "cell_type": "markdown",
   "metadata": {},
   "source": [
    "Se define una función getRectangle() para solicitar por pantalla los puntos que definen la diagonal del mismo"
   ]
  },
  {
   "cell_type": "code",
   "execution_count": 8,
   "metadata": {},
   "outputs": [],
   "source": [
    "def getRectangle():\n",
    "    x1 = float(input(\"Introduzca coordenada X de punto P\"))\n",
    "    y1 = float(input(\"Introduzca coordenada Y de punto P\"))\n",
    "    x2 = float(input(\"introduzca coordenada X de punto Q\"))\n",
    "    y2 = float(input(\"introduzca coordenada Y de punto Q\"))\n",
    "    P1 = Punto(x1, y1)\n",
    "    P2 = Punto(x2, y2)\n",
    "    myRectangle = Rectangulo(P1, P2)\n",
    "    return myRectangle"
   ]
  },
  {
   "cell_type": "code",
   "execution_count": 9,
   "metadata": {},
   "outputs": [
    {
     "name": "stdout",
     "output_type": "stream",
     "text": [
      "Introduzca coordenada X de punto P2\n",
      "Introduzca coordenada Y de punto P3\n",
      "introduzca coordenada X de punto Q5\n",
      "introduzca coordenada Y de punto Q5\n"
     ]
    }
   ],
   "source": [
    "miRectangulo = getRectangle()"
   ]
  },
  {
   "cell_type": "markdown",
   "metadata": {},
   "source": [
    "Se presenta por pantalla los puntos que definen la diagonal del rectangulo, así como su base, su altura y su área"
   ]
  },
  {
   "cell_type": "code",
   "execution_count": 10,
   "metadata": {},
   "outputs": [
    {
     "name": "stdout",
     "output_type": "stream",
     "text": [
      "EL rectangulo tiene su diagonal: P(2.0, 3.0)Q(5.0,5.0)\n"
     ]
    }
   ],
   "source": [
    "print(miRectangulo)"
   ]
  },
  {
   "cell_type": "code",
   "execution_count": 11,
   "metadata": {},
   "outputs": [
    {
     "name": "stdout",
     "output_type": "stream",
     "text": [
      "La base del rectangulo es:  3.0\n"
     ]
    }
   ],
   "source": [
    "print(\"La base del rectangulo es: \", miRectangulo.base())"
   ]
  },
  {
   "cell_type": "code",
   "execution_count": 12,
   "metadata": {},
   "outputs": [
    {
     "name": "stdout",
     "output_type": "stream",
     "text": [
      "La altura del rectangulo es:  2.0\n"
     ]
    }
   ],
   "source": [
    "print(\"La altura del rectangulo es: \", miRectangulo.altura())"
   ]
  },
  {
   "cell_type": "code",
   "execution_count": 13,
   "metadata": {},
   "outputs": [
    {
     "name": "stdout",
     "output_type": "stream",
     "text": [
      "El area del rectangulo es:  6.0\n"
     ]
    }
   ],
   "source": [
    "print(\"El area del rectangulo es: \", miRectangulo.area())"
   ]
  },
  {
   "cell_type": "code",
   "execution_count": null,
   "metadata": {},
   "outputs": [],
   "source": []
  }
 ],
 "metadata": {
  "kernelspec": {
   "display_name": "Python 3",
   "language": "python",
   "name": "python3"
  },
  "language_info": {
   "codemirror_mode": {
    "name": "ipython",
    "version": 3
   },
   "file_extension": ".py",
   "mimetype": "text/x-python",
   "name": "python",
   "nbconvert_exporter": "python",
   "pygments_lexer": "ipython3",
   "version": "3.8.5"
  }
 },
 "nbformat": 4,
 "nbformat_minor": 4
}
