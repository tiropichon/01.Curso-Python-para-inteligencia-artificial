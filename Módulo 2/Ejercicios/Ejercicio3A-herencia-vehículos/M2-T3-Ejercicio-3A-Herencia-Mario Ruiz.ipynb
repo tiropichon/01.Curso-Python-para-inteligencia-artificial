{
 "cells": [
  {
   "cell_type": "markdown",
   "metadata": {},
   "source": [
    "#### Ejercicio 3A.\n",
    "\n",
    "En este ejercicio vas a trabajar el concepto de herencia un poco más en profundidad, aprovechando para introducir un nuevo concepto muy importante que te facilitará mucho la vida.\n",
    "\n",
    "Hasta ahora sabemos que una clase heredada puede fácilmente extender algunas funcionalidades, simplemente añadiendo nuevos atributos y métodos, o sobreescribiendo los ya existentes. Como en el siguiente ejemplo:\n",
    "\n",
    "<!-- ![EjemploClases1.png](attachment:EjemploClases1.png) -->\n",
    "![EjemploClases1.png](./EjemploClases1.png)"
   ]
  },
  {
   "cell_type": "code",
   "execution_count": 4,
   "metadata": {},
   "outputs": [
    {
     "name": "stdout",
     "output_type": "stream",
     "text": [
      "color azul, 150 km/h, 4 ruedas, 1200 cc        \n"
     ]
    }
   ],
   "source": [
    "class Vehiculo():\n",
    "    \n",
    "    def __init__(self, color, ruedas):\n",
    "        self.color = color\n",
    "        self.ruedas = ruedas\n",
    "        \n",
    "    def __str__(self):\n",
    "        return \"color {}, {} ruedas\".format( self.color, \n",
    "                                            self.ruedas )\n",
    "        \n",
    "        \n",
    "class Coche(Vehiculo):\n",
    "    \n",
    "    def __init__(self, color, ruedas, velocidad, cilindrada):\n",
    "        self.color = color\n",
    "        self.ruedas = ruedas\n",
    "        self.velocidad = velocidad\n",
    "        self.cilindrada = cilindrada\n",
    "        \n",
    "    def __str__(self):\n",
    "        return \"color {}, {} km/h, {} ruedas, {} cc\\\n",
    "        \".format( self.color, self.velocidad, self.ruedas, \n",
    "                 self.cilindrada )\n",
    "        \n",
    "        \n",
    "c = Coche(\"azul\", 4, 150, 1200)\n",
    "print(c)"
   ]
  },
  {
   "cell_type": "markdown",
   "metadata": {},
   "source": [
    "**El inconveniente más evidente de ir sobreescribiendo es que tenemos que volver a escribir el código de la superclase y luego el específico de la subclase.**\n",
    "\n",
    "Para evitarnos escribir código innecesario, podemos utilizar un truco que consiste en llamar el método de la superclase y luego simplemente escribir el código de la clase:"
   ]
  },
  {
   "cell_type": "code",
   "execution_count": 5,
   "metadata": {},
   "outputs": [
    {
     "name": "stdout",
     "output_type": "stream",
     "text": [
      "color azul, 4 ruedas, 150 km/h, 1200 cc        \n"
     ]
    }
   ],
   "source": [
    "class Vehiculo():\n",
    "    \n",
    "    def __init__(self, color, ruedas):\n",
    "        self.color = color\n",
    "        self.ruedas = ruedas\n",
    "        \n",
    "    def __str__(self):\n",
    "        return \"color {}, {} ruedas\".format( self.color, \n",
    "                                            self.ruedas )\n",
    "        \n",
    "        \n",
    "class Coche(Vehiculo):\n",
    "    \n",
    "    def __init__(self, color, ruedas, velocidad, cilindrada):\n",
    "        Vehiculo.__init__(self, color, ruedas)\n",
    "        self.velocidad = velocidad\n",
    "        self.cilindrada = cilindrada\n",
    "        \n",
    "    def __str__(self):\n",
    "        return Vehiculo.__str__(self) + \", {} km/h, {} cc\\\n",
    "        \".format(self.velocidad, self.cilindrada)  \n",
    "        \n",
    "        \n",
    "c = Coche(\"azul\", 4, 150, 1200)\n",
    "print(c)"
   ]
  },
  {
   "cell_type": "markdown",
   "metadata": {},
   "source": [
    "**Como tener que determinar constantemente la superclase puede ser fastidioso, Python nos permite utilizar un acceso directo mucho más cómodo llamada super().**\n",
    "\n",
    "Hacerlo de esta forma además nos permite llamar cómodamente los métodos o atributos de la superclase sin necesidad de especificar el self."
   ]
  },
  {
   "cell_type": "code",
   "execution_count": 6,
   "metadata": {},
   "outputs": [
    {
     "name": "stdout",
     "output_type": "stream",
     "text": [
      "color azul, 4 ruedas, 150 km/h, 1200 cc        \n"
     ]
    }
   ],
   "source": [
    "class Vehiculo():\n",
    "    \n",
    "    def __init__(self, color, ruedas):\n",
    "        self.color = color\n",
    "        self.ruedas = ruedas\n",
    "        \n",
    "    def __str__(self):\n",
    "        return \"color {}, {} ruedas\".format( self.color, \n",
    "                                            self.ruedas )\n",
    "        \n",
    "        \n",
    "class Coche(Vehiculo):\n",
    "    \n",
    "    def __init__(self, color, ruedas, velocidad, cilindrada):\n",
    "        # utilizamos super() sin self en lugar de Vehiculo:\n",
    "        super().__init__(color, ruedas) \n",
    "        self.velocidad = velocidad\n",
    "        self.cilindrada = cilindrada\n",
    "        \n",
    "    def __str__(self):\n",
    "        return super().__str__() + \", {} km/h, {} cc\\\n",
    "        \".format(self.velocidad, self.cilindrada)\n",
    "\n",
    "    \n",
    "c = Coche(\"azul\", 4, 150, 1200)\n",
    "print(c)"
   ]
  },
  {
   "cell_type": "markdown",
   "metadata": {},
   "source": [
    "# Ejercicio\n",
    "Utilizando esta nueva técnica, extiende la clase Vehiculo y realiza la siguiente implementación:\n",
    "\n",
    "<!-- ![EjercicioClases.png](attachment:EjercicioClases.png) -->\n",
    "![EjercicioClases.png](./EjercicioClases.png)\n",
    "\n",
    "## Experimenta\n",
    "* Crea al menos un objeto de cada subclase y añádelos a una lista llamada vehiculos.\n",
    "* Realiza una función llamada **catalogar()** que reciba la lista de vehiculos y los recorra mostrando el nombre de su clase y sus atributos.\n",
    "* Modifica la función **catalogar()** para que reciba un argumento optativo **ruedas**, haciendo que muestre únicamente los que su número de ruedas concuerde con el valor del argumento. También debe mostrar un mensaje **\"Se han encontrado {} vehículos con {} ruedas:\"** únicamente si se envía el argumento ruedas. Ponla a prueba con 0, 2 y 4 ruedas como valor.\n",
    "\n",
    "*Recordatorio: Puedes utilizar el atributo especial de clase **name** de la siguiente forma para recuperar el nombre de la clase de un objeto:*\n",
    "```python\n",
    "type(objeto).__name__\n",
    "```"
   ]
  },
  {
   "cell_type": "code",
   "execution_count": 7,
   "metadata": {},
   "outputs": [
    {
     "name": "stdout",
     "output_type": "stream",
     "text": [
      "Vehículo: Coche Clase: <class '__main__.Coche'>\n",
      "Vehículo: Camioneta Clase: <class '__main__.Camioneta'>\n",
      "Vehículo: Bicicleta Clase: <class '__main__.Bicicleta'>\n",
      "Vehículo: Motocicleta Clase: <class '__main__.Motocicleta'>\n"
     ]
    }
   ],
   "source": [
    "class Vehiculo():\n",
    "    \n",
    "    def __init__(self, color, ruedas):\n",
    "        self.color = color\n",
    "        self.ruedas = ruedas\n",
    "        \n",
    "    def __str__(self):\n",
    "        return \"color {}, {} ruedas\".format( self.color, self.ruedas )\n",
    "        \n",
    "        \n",
    "class Coche(Vehiculo):\n",
    "    \n",
    "    def __init__(self, color, ruedas, velocidad, cilindrada):\n",
    "        #Llamo al constructor de la clase Vehiculo\n",
    "        super().__init__(color, ruedas)  # utilizamos super() sin self en lugar de Vehiculo\n",
    "        self.velocidad = velocidad\n",
    "        self.cilindrada = cilindrada\n",
    "        \n",
    "    def __str__(self):\n",
    "        return super().__str__() + \", {} km/h, {} cc\".format(self.velocidad, self.cilindrada)\n",
    "\n",
    "    \n",
    "# Completa el ejercicio aquí\n",
    "\n",
    "class Camioneta(Coche):\n",
    "    def __init__(self, color, ruedas, velocidad, cilindrada, carga):\n",
    "        #Llamo al constructor de la clase Coche\n",
    "        super().__init__(color, ruedas, velocidad, cilindrada)\n",
    "        self.carga = carga\n",
    "        \n",
    "    def __str__(self):\n",
    "        return super().__str__() + \", {} PMA\".format(self.carga)\n",
    "\n",
    "\n",
    "class Bicicleta(Vehiculo):\n",
    "    def __init__(self, color, ruedas, tipo):\n",
    "        #Llamo al constructor de la clase Vehiculo\n",
    "        super().__init__(color,ruedas)\n",
    "        if tipo != \"deportiva\":\n",
    "            self.tipo = \"urbana\"\n",
    "        else:\n",
    "            self.tipo = \"deportiva\"\n",
    "        \n",
    "    def __str__(self):\n",
    "        return super().__str__() + \", tipo {}\".format(self.tipo)\n",
    "\n",
    "\n",
    "class Motocicleta(Bicicleta):\n",
    "    def __init__(self, color, ruedas,tipo, velocidad, cilindrada):\n",
    "        #Llamo al constructor de la clase Bicicleta\n",
    "        super().__init__(color, ruedas, tipo)\n",
    "        self.velocidad =  velocidad\n",
    "        self.cilindrada = cilindrada\n",
    "        \n",
    "    def __str__(self):\n",
    "        return super().__str__() + \" , {} km/h, {} cc\".format(self.velocidad,self.cilindrada)\n",
    "\n",
    "    \n",
    "def catalogar(lista,ruedas=\"\"):\n",
    "    #Inicializo un contador para contar los vehículos que contengan el nº de ruedas que se le pasa como\n",
    "    #parámetro optativo\n",
    "    contador = 0\n",
    "    \n",
    "    #recorro los elementos de la lista\n",
    "    for i in lista:\n",
    "        #Muestro el tipo de vehículo, y la clase a la que pertenece\n",
    "        print(\"Vehículo: {} Clase: {}\".format(type(i).__name__,type(i)))\n",
    "        \n",
    "        #si el argumento ruedas esta vacío, no hace nada. Si no esta vacío\n",
    "        if ruedas != \"\":\n",
    "            #Compruebo que el número de ruedas sea mayor o igual que 0 y menor o igual que 4.\n",
    "            if (int(ruedas) == 2 or int(ruedas) == 4):\n",
    "                #compruebo que el atributo del elemento contenga el nº de ruedas que le hemos pasado como argumento\n",
    "                if i.ruedas == int(ruedas):\n",
    "                    #Si coincide, añado 1 al contador\n",
    "                    contador += 1\n",
    "                \n",
    "    # Si se ha introducido el argumento ruedas, y cumple con los límites, muestro el mensaje de cuántos\n",
    "    #vehiculos tienen ese nº de ruedas\n",
    "    if ruedas != \"\" and (int(ruedas) == 2 or int(ruedas) == 4):\n",
    "        print(\"Número de vehículos con {} ruedas: {}\".format(ruedas,contador))\n",
    "    elif ruedas != \"\" and (int(ruedas) != 2 or int(ruedas) != 4):\n",
    "        print(\"No existen vehículos con ese número de ruedas\")\n",
    "                \n",
    "\n",
    "#def catalogar():\n",
    "#    pass\n",
    "\n",
    "#Creo un objeto de cada clase que hemos creado\n",
    "coche = Coche(\"azul\",4,120, 1500)\n",
    "camioneta = Camioneta(\"blanca\",4,100,2000,2500)\n",
    "bici = Bicicleta(\"negra\",2,\"deportiva\")\n",
    "moto = Motocicleta(\"roja\",2,\"urbana\",90,125)\n",
    "\n",
    "#Creo una lista con los objetos que hemos creado anteriormente\n",
    "lista_veh = [coche, camioneta, bici, moto]\n",
    "\n",
    "#Llamo a la función catalogar. El segundo parámetro es optativo, hace referencia al nº de ruedas del vehículo\n",
    "catalogar(lista_veh)"
   ]
  },
  {
   "cell_type": "code",
   "execution_count": 9,
   "metadata": {},
   "outputs": [
    {
     "name": "stdout",
     "output_type": "stream",
     "text": [
      "color azul, 4 ruedas, 120 km/h, 1500 cc\n",
      "color blanca, 4 ruedas, 100 km/h, 2000 cc, 2500 PMA\n",
      "color negra, 2 ruedas, tipo deportiva\n",
      "color roja, 2 ruedas, tipo urbana , 90 km/h, 125 cc\n"
     ]
    }
   ],
   "source": [
    "for v in lista_veh:\n",
    "    print(v)"
   ]
  },
  {
   "cell_type": "code",
   "execution_count": null,
   "metadata": {},
   "outputs": [],
   "source": []
  }
 ],
 "metadata": {
  "kernelspec": {
   "display_name": "Python 3",
   "language": "python",
   "name": "python3"
  },
  "language_info": {
   "codemirror_mode": {
    "name": "ipython",
    "version": 3
   },
   "file_extension": ".py",
   "mimetype": "text/x-python",
   "name": "python",
   "nbconvert_exporter": "python",
   "pygments_lexer": "ipython3",
   "version": "3.8.5"
  }
 },
 "nbformat": 4,
 "nbformat_minor": 4
}
