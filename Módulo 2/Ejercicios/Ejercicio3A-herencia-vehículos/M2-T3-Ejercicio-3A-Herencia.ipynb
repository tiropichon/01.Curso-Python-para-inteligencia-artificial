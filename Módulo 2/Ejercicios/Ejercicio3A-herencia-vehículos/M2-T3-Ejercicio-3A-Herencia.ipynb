{
 "cells": [
  {
   "cell_type": "markdown",
   "metadata": {},
   "source": [
    "#### Ejercicio 3A.\n",
    "\n",
    "En este ejercicio vas a trabajar el concepto de herencia un poco más en profundidad, aprovechando para introducir un nuevo concepto muy importante que te facilitará mucho la vida.\n",
    "\n",
    "Hasta ahora sabemos que una clase heredada puede fácilmente extender algunas funcionalidades, simplemente añadiendo nuevos atributos y métodos, o sobreescribiendo los ya existentes. Como en el siguiente ejemplo:\n",
    "\n",
    "<!-- ![EjemploClases1.png](attachment:EjemploClases1.png) -->\n",
    "![EjemploClases1.png](./EjemploClases1.png)"
   ]
  },
  {
   "cell_type": "code",
   "execution_count": 1,
   "metadata": {},
   "outputs": [
    {
     "name": "stdout",
     "output_type": "stream",
     "text": [
      "color azul, 150 km/h, 4 ruedas, 1200 cc        \n"
     ]
    }
   ],
   "source": [
    "class Vehiculo():\n",
    "    \n",
    "    def __init__(self, color, ruedas):\n",
    "        self.color = color\n",
    "        self.ruedas = ruedas\n",
    "        \n",
    "    def __str__(self):\n",
    "        return \"color {}, {} ruedas\".format( self.color, \n",
    "                                            self.ruedas )\n",
    "        \n",
    "        \n",
    "class Coche(Vehiculo):\n",
    "    \n",
    "    def __init__(self, color, ruedas, velocidad, cilindrada):\n",
    "        self.color = color\n",
    "        self.ruedas = ruedas\n",
    "        self.velocidad = velocidad\n",
    "        self.cilindrada = cilindrada\n",
    "        \n",
    "    def __str__(self):\n",
    "        return \"color {}, {} km/h, {} ruedas, {} cc\\\n",
    "        \".format( self.color, self.velocidad, self.ruedas, \n",
    "                 self.cilindrada )\n",
    "        \n",
    "        \n",
    "c = Coche(\"azul\", 4, 150, 1200)\n",
    "print(c)"
   ]
  },
  {
   "cell_type": "markdown",
   "metadata": {},
   "source": [
    "**El inconveniente más evidente de ir sobreescribiendo es que tenemos que volver a escribir el código de la superclase y luego el específico de la subclase.**\n",
    "\n",
    "Para evitarnos escribir código innecesario, podemos utilizar un truco que consiste en llamar el método de la superclase y luego simplemente escribir el código de la clase:"
   ]
  },
  {
   "cell_type": "code",
   "execution_count": 2,
   "metadata": {},
   "outputs": [
    {
     "name": "stdout",
     "output_type": "stream",
     "text": [
      "color azul, 4 ruedas, 150 km/h, 1200 cc        \n"
     ]
    }
   ],
   "source": [
    "class Vehiculo():\n",
    "    \n",
    "    def __init__(self, color, ruedas):\n",
    "        self.color = color\n",
    "        self.ruedas = ruedas\n",
    "        \n",
    "    def __str__(self):\n",
    "        return \"color {}, {} ruedas\".format( self.color, \n",
    "                                            self.ruedas )\n",
    "        \n",
    "        \n",
    "class Coche(Vehiculo):\n",
    "    \n",
    "    def __init__(self, color, ruedas, velocidad, cilindrada):\n",
    "        Vehiculo.__init__(self, color, ruedas)\n",
    "        self.velocidad = velocidad\n",
    "        self.cilindrada = cilindrada\n",
    "        \n",
    "    def __str__(self):\n",
    "        return Vehiculo.__str__(self) + \", {} km/h, {} cc\\\n",
    "        \".format(self.velocidad, self.cilindrada)  \n",
    "        \n",
    "        \n",
    "c = Coche(\"azul\", 4, 150, 1200)\n",
    "print(c)"
   ]
  },
  {
   "cell_type": "markdown",
   "metadata": {},
   "source": [
    "**Como tener que determinar constantemente la superclase puede ser fastidioso, Python nos permite utilizar un acceso directo mucho más cómodo llamada super().**\n",
    "\n",
    "Hacerlo de esta forma además nos permite llamar cómodamente los métodos o atributos de la superclase sin necesidad de especificar el self."
   ]
  },
  {
   "cell_type": "code",
   "execution_count": 4,
   "metadata": {},
   "outputs": [
    {
     "name": "stdout",
     "output_type": "stream",
     "text": [
      "color azul, 4 ruedas, 150 km/h, 1200 cc        \n"
     ]
    }
   ],
   "source": [
    "class Vehiculo():\n",
    "    \n",
    "    def __init__(self, color, ruedas):\n",
    "        self.color = color\n",
    "        self.ruedas = ruedas\n",
    "        self.claxon = True\n",
    "        \n",
    "    def __str__(self):\n",
    "        return \"color {}, {} ruedas\".format( self.color, \n",
    "                                            self.ruedas )\n",
    "        \n",
    "        \n",
    "class Coche(Vehiculo):\n",
    "    \n",
    "#     def __init__(self, color, ruedas, velocidad, cilindrada):\n",
    "    def __init__(self, colorVehiculo, ruedasVehiculo, velocidad, cilindrada):\n",
    "        # utilizamos super() sin self en lugar de Vehiculo:\n",
    "#         super().__init__(color, ruedas) \n",
    "        super().__init__(colorVehiculo, ruedasVehiculo) \n",
    "        self.velocidad = velocidad\n",
    "        self.cilindrada = cilindrada\n",
    "        \n",
    "    def __str__(self):\n",
    "        return super().__str__() + \", {} km/h, {} cc\\\n",
    "        \".format(self.velocidad, self.cilindrada)\n",
    "\n",
    "    \n",
    "c = Coche(\"azul\", 4, 150, 1200)\n",
    "print(c)"
   ]
  },
  {
   "cell_type": "markdown",
   "metadata": {},
   "source": [
    "# Ejercicio\n",
    "Utilizando esta nueva técnica, extiende la clase Vehiculo y realiza la siguiente implementación:\n",
    "\n",
    "<!-- ![EjercicioClases.png](attachment:EjercicioClases.png) -->\n",
    "![EjercicioClases.png](./EjercicioClases.png)\n",
    "\n",
    "## Experimenta\n",
    "* Crea al menos un objeto de cada subclase y añádelos a una lista llamada vehiculos.\n",
    "* Realiza una función llamada **catalogar()** que reciba la lista de vehiculos y los recorra mostrando el nombre de su clase y sus atributos.\n",
    "* Modifica la función **catalogar()** para que reciba un argumento optativo **ruedas**, haciendo que muestre únicamente los que su número de ruedas concuerde con el valor del argumento. También debe mostrar un mensaje **\"Se han encontrado {} vehículos con {} ruedas:\"** únicamente si se envía el argumento ruedas. Ponla a prueba con 0, 2 y 4 ruedas como valor.\n",
    "\n",
    "*Recordatorio: Puedes utilizar el atributo especial de clase **name** de la siguiente forma para recuperar el nombre de la clase de un objeto:*\n",
    "```python\n",
    "type(objeto).__name__\n",
    "```"
   ]
  },
  {
   "cell_type": "code",
   "execution_count": 2,
   "metadata": {},
   "outputs": [],
   "source": [
    "# Grupo 3 - Alejandro San Antonio\n",
    "\n",
    "class Vehiculo():\n",
    "    \n",
    "    def __init__(self, color, ruedas):\n",
    "        self.color = color\n",
    "        self.ruedas = ruedas\n",
    "        \n",
    "    def __str__(self):\n",
    "        return \"color {}, {} ruedas\".format( self.color, self.ruedas )\n",
    "        \n",
    "        \n",
    "class Coche(Vehiculo):\n",
    "    \n",
    "    def __init__(self, color, ruedas, velocidad, cilindrada):\n",
    "        super().__init__(color, ruedas)  # utilizamos super() sin self en lugar de Vehiculo\n",
    "        self.velocidad = velocidad\n",
    "        self.cilindrada = cilindrada\n",
    "        \n",
    "    def __str__(self):\n",
    "        return super().__str__() + \", {} km/h, {} cc\".format(self.velocidad, self.cilindrada)\n",
    "\n",
    "    \n",
    "# Completa el ejercicio aquí\n",
    "\n",
    "class Camioneta():\n",
    "    pass\n",
    "\n",
    "\n",
    "class Bicicleta():\n",
    "    pass\n",
    "\n",
    "\n",
    "class Motocicleta():\n",
    "    pass\n",
    "\n",
    "    \n",
    "def catalogar():\n",
    "    pass\n",
    "\n",
    "    \n",
    "def catalogar():\n",
    "    pass\n",
    "\n"
   ]
  },
  {
   "cell_type": "code",
   "execution_count": 1,
   "metadata": {},
   "outputs": [
    {
     "name": "stdout",
     "output_type": "stream",
     "text": [
      "color Verde, 4 ruedas, 120 km/h, 125cc cc\n",
      "color 4, Deportiva ruedas, Verde tipo\n",
      "color Rojo, 4 ruedas, 150 km/h, 125cc cc, 300 kg\n",
      "color 120, 125cc ruedas, Urbana tipo, Azul km/h, 2 cc\n"
     ]
    }
   ],
   "source": [
    "class Vehiculo():\n",
    "\n",
    "    def __init__(self, color, ruedas):\n",
    "        self.color = color\n",
    "        self.ruedas = ruedas\n",
    "\n",
    "    def __str__(self):\n",
    "        return \"color {}, {} ruedas\".format( self.color, self.ruedas )\n",
    "\n",
    "\n",
    "class Coche(Vehiculo):\n",
    "\n",
    "    def __init__(self, color, ruedas, velocidad, cilindrada):\n",
    "        super().__init__(color, ruedas)  # utilizamos super() sin self en lugar de Vehiculo\n",
    "        self.velocidad = velocidad\n",
    "        self.cilindrada = cilindrada\n",
    "\n",
    "    def __str__(self):\n",
    "        return super().__str__() + \", {} km/h, {} cc\".format(self.velocidad, self.cilindrada)\n",
    "\n",
    "\n",
    "# Completa el ejercicio aquí\n",
    "\n",
    "class Camioneta(Coche):\n",
    "    def __init__(self, carga, color, ruedas, velocidad, cilindrada):\n",
    "        super().__init__(color, ruedas, velocidad, cilindrada)\n",
    "        self.carga = carga\n",
    "\n",
    "    def __str__(self):\n",
    "        return super().__str__() + \", {} kg\".format(self.carga)\n",
    "\n",
    "\n",
    "class Bicicleta(Vehiculo):\n",
    "    def __init__(self, tipo, color, ruedas):\n",
    "        super().__init__(color, ruedas)\n",
    "        self.tipo = tipo\n",
    "\n",
    "    def __str__(self):\n",
    "        return super().__str__() + \", {} tipo\".format(self.tipo)\n",
    "\n",
    "class Motocicleta(Bicicleta):\n",
    "    def __init__(self,velocidad, cilindrada, tipo, color, ruedas):\n",
    "        super().__init__(tipo, color, ruedas)\n",
    "        self.velocidad = velocidad\n",
    "        self.cilindrada = cilindrada\n",
    "\n",
    "    def __str__(self):\n",
    "        return super().__str__() + \", {} km/h, {} cc\".format(self.velocidad, self.cilindrada)\n",
    "\n",
    "\n",
    "lista = []\n",
    "\n",
    "def catalogar(lista):\n",
    "\n",
    "    for elemento in lista:\n",
    "        print(elemento)\n",
    "\n",
    "\n",
    "####TEST####\n",
    "miCoche = Coche(\"Verde\",4, 120, \"125cc\")\n",
    "miBicicleta = Bicicleta(\"Verde\", 4, \"Deportiva\")\n",
    "miCamioneta = Camioneta(300, \"Rojo\", 4, 150, \"125cc\")\n",
    "miMotocicleta = Motocicleta(\"Azul\", 2, \"Urbana\", 120, \"125cc\")\n",
    "\n",
    "\n",
    "catalogar([miCoche,miBicicleta,miCamioneta,miMotocicleta])"
   ]
  },
  {
   "cell_type": "code",
   "execution_count": 5,
   "metadata": {},
   "outputs": [],
   "source": [
    "# Mavi\n",
    "\n",
    "class Bicicleta(Vehiculo):\n",
    "   \n",
    "    def __init__(self, color, ruedas, tipo):\n",
    "        super().__init__(color, ruedas)\n",
    "               \n",
    "        if tipo == 'deportiva':\n",
    "            self.tipo = 'deportiva'\n",
    "        elif tipo == 'urbana':\n",
    "            self.tipo = 'urbana'\n",
    "        else:\n",
    "            self.tipo = \"no especificado o válido\"\n",
    "       \n",
    "    def __str__(self):\n",
    "        return super().__str__() + \"\\nTipo: {}\".format(self.tipo)\n",
    "        pass"
   ]
  },
  {
   "cell_type": "code",
   "execution_count": 10,
   "metadata": {},
   "outputs": [
    {
     "name": "stdout",
     "output_type": "stream",
     "text": [
      "color Verde, 4 ruedas\n",
      "Tipo: no especificado o válido\n"
     ]
    }
   ],
   "source": [
    "miBicicleta = Bicicleta(\"Verde\", 4, \"Deportiva\")\n",
    "print(miBicicleta)"
   ]
  },
  {
   "cell_type": "code",
   "execution_count": 9,
   "metadata": {},
   "outputs": [
    {
     "name": "stdout",
     "output_type": "stream",
     "text": [
      "color Verde, 4 ruedas\n",
      "Tipo: deportiva\n"
     ]
    }
   ],
   "source": [
    "miBicicleta2 = Bicicleta(\"Verde\", 4, \"deportiva\")\n",
    "print(miBicicleta2)"
   ]
  },
  {
   "cell_type": "markdown",
   "metadata": {},
   "source": []
  }
 ],
 "metadata": {
  "kernelspec": {
   "display_name": "Python 3",
   "language": "python",
   "name": "python3"
  },
  "language_info": {
   "codemirror_mode": {
    "name": "ipython",
    "version": 3
   },
   "file_extension": ".py",
   "mimetype": "text/x-python",
   "name": "python",
   "nbconvert_exporter": "python",
   "pygments_lexer": "ipython3",
   "version": "3.8.5"
  }
 },
 "nbformat": 4,
 "nbformat_minor": 4
}
