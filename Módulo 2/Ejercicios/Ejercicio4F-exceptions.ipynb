{
 "cells": [
  {
   "cell_type": "markdown",
   "metadata": {
    "colab_type": "text",
    "id": "SeWe2GtQ36bF"
   },
   "source": [
    "#### Ejercicio 4F. Crea un programa que sume todos los números introducidos por el usuario y que ignore las entradas que no sean números válidos. El programa debe mostrar el valor de la suma tras cada número introducido, así como un mensaje de error tras cada entrada no válida, pero dando opción a seguir introduciendo números.\n",
    "El programa debe parar cuando el usuario introduzca una línea en blanco y debe funcionar tanto con enteros como con decimales"
   ]
  },
  {
   "cell_type": "code",
   "execution_count": null,
   "metadata": {},
   "outputs": [],
   "source": [
    "# Anonymous / curso 2020\n",
    "\n",
    "# Variable que guarda el resultado final, inicializada a cero en cada iteración\n",
    "result = 0\n",
    "\n",
    "# Lee una línea de elementos y la separa por cada espacio\n",
    "lst = input('Números: ').split(' ')\n",
    "\n",
    "# Se ejecuta si no es una línea en blanco\n",
    "while any('' != item for item in lst):\n",
    "\n",
    "    # Se comprueban los elementos de la línea uno a uno\n",
    "    for item in lst:\n",
    "        try:\n",
    "            # Casting a float\n",
    "            num = float(item)\n",
    "        except ValueError:\n",
    "            print(f'Entrada no válida: {item}')\n",
    "        else:\n",
    "            # Casting a int si, siendo float, también es int\n",
    "            if num.is_integer():\n",
    "                num = int(num)\n",
    "\n",
    "            # Se actualiza la suma y se imprime el resultado\n",
    "            result += num\n",
    "            print(f'Result: {result}')\n",
    "\n",
    "    # Lee una línea de elementos y la separa por cada espacio\n",
    "    lst = input('Números: ').split(' ')\n"
   ]
  },
  {
   "cell_type": "code",
   "execution_count": null,
   "metadata": {},
   "outputs": [],
   "source": [
    "suma= 0\n",
    "while True:\n",
    "    try:\n",
    "       numero = input(\"Introduzca un número que desee sumar: \")\n",
    "       if numero == \"\":\n",
    "           suma += 0\n",
    "       else:\n",
    "           numero = float(numero)\n",
    "    except:\n",
    "        print(\"\\nEscriba un número válido\")\n",
    "        print(\"La suma por ahora es:\", suma,\"\\n\")\n",
    "    else:\n",
    "        suma += numero\n",
    "        print(\"La suma por ahora es:\", suma,\"\\n\")\n",
    "    finally:\n",
    "      if numero == \"\":\n",
    "        print(\"------\\nLa suma total es:\", suma)\n",
    "        break"
   ]
  },
  {
   "cell_type": "code",
   "execution_count": null,
   "metadata": {},
   "outputs": [],
   "source": []
  }
 ],
 "metadata": {
  "colab": {
   "name": "Tema13_Ejercicios.ipynb",
   "provenance": []
  },
  "kernelspec": {
   "display_name": "Python 3",
   "language": "python",
   "name": "python3"
  },
  "language_info": {
   "codemirror_mode": {
    "name": "ipython",
    "version": 3
   },
   "file_extension": ".py",
   "mimetype": "text/x-python",
   "name": "python",
   "nbconvert_exporter": "python",
   "pygments_lexer": "ipython3",
   "version": "3.8.5"
  }
 },
 "nbformat": 4,
 "nbformat_minor": 1
}
