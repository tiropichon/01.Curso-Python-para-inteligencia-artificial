{
 "cells": [
  {
   "cell_type": "markdown",
   "metadata": {},
   "source": [
    "### 1.6 Clase básica y genérica (FUNDAMENTAL)"
   ]
  },
  {
   "cell_type": "markdown",
   "metadata": {},
   "source": [
    "La definición más básica de las clases en Python se hace de la siguiente forma:\n",
    "\n",
    "```python\n",
    "class NombreClase:\n",
    "    def __init__(self, variable1, variable2):\n",
    "        self.atributo1 = variable1\n",
    "        self.atributo2 = variable2\n",
    "        \n",
    "    def NombreMetodo(self):\n",
    "        BloqueCodigo\n",
    "```\n",
    "\n",
    "Veamos en detalle cada uno de los componentes:"
   ]
  },
  {
   "cell_type": "markdown",
   "metadata": {},
   "source": [
    "- `class`: palabra reservada en Python para definir una clase.\n",
    "\n",
    "- `NombreClase`: nombre de la clase que quieres crear.\n",
    "\n",
    "- `def`: palabra reservada en Python que se utiliza para definir tanto el constructor de la clase (método que se ejecuta la primera vez que usas una clase) como los diferentes métodos que tiene.\n",
    "\n",
    "- `__init__`: palabra reservada en Python para definir el método constructor de la clase. El método `__init__` es lo primero que se ejecuta cuando creas un objeto de una clase.\n",
    "\n",
    "- `(self, variableX)`: parámetro del constructor de la clase. El parámetro `self` es obligatorio y después puedes tener tantos parámetros como quieras. La forma de añadir parámetros es la misma que en las funciones. \n",
    "\n",
    "- `self.AtributoX`: forma de utilización y acceso a los atributos de la clase.\n",
    "\n",
    "- `NombreMetodo`: nombre del método de la clase.\n",
    "\n",
    "- `(self)`: parámetros del método. El parámetro `self` es obligatorio y después puedes tener tantos parámetros como quieras. La forma de añadir parámetros es la misma que en las funciones. \n",
    "\n",
    "- `BloqueCodigo`: instrucciones que ejecutará el método.\n",
    "\n",
    "Cuando defines una clase tienes que tener los siguientes puntos en cuenta:\n",
    "\n",
    "- Puedes definir tantos atributos como necesites. \n",
    "- Puedes definir tantos métodos como necesites. \n",
    "- Puedes definir tantos parámetros en el constructor y en los métodos como necesites.\n"
   ]
  },
  {
   "cell_type": "markdown",
   "metadata": {},
   "source": [
    "El primer ejemplo que vamos a realizar consiste en la creación de una clase que represente a una persona. Los atributos que vamos a crear van a ser el nombre, los apellidos y la edad. En la clase vamos a crear un método para mostrar la información de la persona. La ejecución del programa consistirá en crear un objeto del tipo `Persona` y mostrar los datos almacenados que tiene utilizando el método que crearemos para ello. El código fuente es el siguiente:"
   ]
  },
  {
   "cell_type": "code",
   "execution_count": 3,
   "metadata": {},
   "outputs": [
    {
     "name": "stdout",
     "output_type": "stream",
     "text": [
      "Nombre: Joaquín\n",
      "Apellidos: Sabina\n",
      "Edad: 71\n"
     ]
    }
   ],
   "source": [
    "class Persona:\n",
    "    \n",
    "    def __init__(self, nombre, apellidos, edad):\n",
    "        self.nombre = nombre\n",
    "        self.apellidos = apellidos\n",
    "        self.edad = edad\n",
    "        \n",
    "    def MostrarPersona(self):\n",
    "        print(\"Nombre: \" + self.nombre)\n",
    "        print(\"Apellidos: \" + self.apellidos)\n",
    "        print(\"Edad: \" + str(self.edad))\n",
    "        \n",
    "p1 = Persona(\"Joaquín\", \"Sabina\", 71)\n",
    "p1.MostrarPersona()"
   ]
  },
  {
   "cell_type": "markdown",
   "metadata": {},
   "source": [
    "Tal y como has podido observar en el código fuente, la forma de crear un objeto de una clase es parecido a usar una función. El resultado de utilizar `Persona(...)` tienes que asignarlo a una variable (`p1`) para poder utilizar posteriormente dicho objeto. La forma de utilizar los métodos es `NombreObjeto.NombreMetodo`, en el ejemplo `p1.MostrarPersona()`."
   ]
  },
  {
   "cell_type": "markdown",
   "metadata": {},
   "source": [
    "El siguiente ejemplo consiste en crear dos objetos diferentes de la clase con el objetivo de que compruebes que cada uno tiene su propia información. También vamos a enseñarte como modificar el valor de los atributos del objeto. La forma de acceder a los atributos de un objeto es `NombreObjeto.NombreAtributo`:"
   ]
  },
  {
   "cell_type": "code",
   "execution_count": 4,
   "metadata": {},
   "outputs": [
    {
     "name": "stdout",
     "output_type": "stream",
     "text": [
      "OBJETOS ORIGINALES\n",
      "Nombre: Joaquín\n",
      "Apellidos: Sabina\n",
      "Edad: 71\n",
      "Nombre: Joan Manuel\n",
      "Apellidos: Serrat\n",
      "Edad: 76\n",
      "OBJETOS MODIFICADOS\n",
      "Nombre: Joaquín\n",
      "Apellidos: Sabina\n",
      "Edad: 72\n",
      "Nombre: Joan Manuel\n",
      "Apellidos: Serrat Teresa\n",
      "Edad: 76\n"
     ]
    }
   ],
   "source": [
    "class Persona:\n",
    "    \n",
    "    def __init__(self, nombre, apellidos, edad):\n",
    "        self.Nombre = nombre\n",
    "        self.Apellidos = apellidos\n",
    "        self.Edad = edad\n",
    "        \n",
    "    def MostrarPersona(self):\n",
    "        print(\"Nombre: \" + self.Nombre)\n",
    "        print(\"Apellidos: \" + self.Apellidos)\n",
    "        print(\"Edad: \" + str(self.Edad))\n",
    "        \n",
    "print(\"OBJETOS ORIGINALES\")\n",
    "p1 = Persona(\"Joaquín\", \"Sabina\", 71)\n",
    "p1.MostrarPersona()\n",
    "p2 = Persona(\"Joan Manuel\", \"Serrat\", 76)\n",
    "p2.MostrarPersona()\n",
    "\n",
    "p1.Edad = 72\n",
    "p2.Apellidos = \"Serrat Teresa\"\n",
    "\n",
    "print(\"OBJETOS MODIFICADOS\")\n",
    "p1.MostrarPersona()\n",
    "p2.MostrarPersona()"
   ]
  },
  {
   "cell_type": "markdown",
   "metadata": {},
   "source": [
    "El último ejemplo que vamos a realizar de este apartado es la asignación de objeto. Podrás comprobar que asignando objetos se asignan los valores que tienen sus atributos. En el ejemplo vamos a modificar el código fuente anterior asignando el objeto `p2` al objeto `p1`, mostraremos ambos objetos antes y después de la asignación."
   ]
  },
  {
   "cell_type": "code",
   "execution_count": 5,
   "metadata": {
    "scrolled": true
   },
   "outputs": [
    {
     "name": "stdout",
     "output_type": "stream",
     "text": [
      "OBJETOS ORIGINALES\n",
      "Nombre: Joaquín\n",
      "Apellidos: Sabina\n",
      "Edad: 71\n",
      "Nombre: Joan Manuel\n",
      "Apellidos: Serrat\n",
      "Edad: 76\n",
      "OBJETOS TRAS ASIGNACIÓN\n",
      "Nombre: Joan Manuel\n",
      "Apellidos: Serrat\n",
      "Edad: 76\n",
      "Nombre: Joan Manuel\n",
      "Apellidos: Serrat\n",
      "Edad: 76\n"
     ]
    }
   ],
   "source": [
    "class Persona:\n",
    "    \n",
    "    def __init__(self, nombre, apellidos, edad):\n",
    "        self.Nombre = nombre\n",
    "        self.Apellidos = apellidos\n",
    "        self.Edad = edad\n",
    "        \n",
    "    def MostrarPersona(self):\n",
    "        print(\"Nombre: \" + self.Nombre)\n",
    "        print(\"Apellidos: \" + self.Apellidos)\n",
    "        print(\"Edad: \" + str(self.Edad))\n",
    "        \n",
    "print(\"OBJETOS ORIGINALES\")\n",
    "p1 = Persona(\"Joaquín\", \"Sabina\", 71)\n",
    "p1.MostrarPersona()\n",
    "p2 = Persona(\"Joan Manuel\", \"Serrat\", 76)\n",
    "p2.MostrarPersona()\n",
    "\n",
    "p1 = p2\n",
    "print(\"OBJETOS TRAS ASIGNACIÓN\")\n",
    "p1.MostrarPersona()\n",
    "p2.MostrarPersona()"
   ]
  },
  {
   "cell_type": "markdown",
   "metadata": {},
   "source": [
    "#### Ejercicio 1D: Shape (figura geométrica).\n",
    "\n",
    "##### Ejercicio (1D) a. (MEDIO) Escribe en papel una clase Shape (figura geométrica). Escribe algunos atributos de la clase Shape. Escribe algunos métodos de la clase Shape."
   ]
  },
  {
   "cell_type": "markdown",
   "metadata": {},
   "source": [
    "##### Ejercicio (1D) b. En jupyter, escribe la clase Shape, sin atributos ni metoros ( usa pass), y crea una instancia de esa clase. Ejecuta la celda para saber que se ha creado bien"
   ]
  },
  {
   "cell_type": "code",
   "execution_count": 40,
   "metadata": {},
   "outputs": [
    {
     "name": "stdout",
     "output_type": "stream",
     "text": [
      "Lado A:2\n",
      "Lado B:3\n",
      "Lado C:5\n",
      "Perímetro:10\n",
      "Área:3.0\n"
     ]
    }
   ],
   "source": [
    "class Triangle():\n",
    "    def __init__(self, side_a, side_b, side_c):\n",
    "        self.side_a = side_a\n",
    "        self.side_b = side_b\n",
    "        self.side_c = side_c\n",
    "        self.area = self.get_area()\n",
    "        self.perimeter = self.get_perimeter()\n",
    "\n",
    "    def get_area(self):\n",
    "        base = self.side_c\n",
    "        altura = (self.side_a*self.side_b) / self.side_c\n",
    "        self.area = (base*altura)/2\n",
    "        return self.area\n",
    "\n",
    "    def get_perimeter(self):\n",
    "        self.perimeter = self.side_a + self.side_b + self.side_c\n",
    "        return self.perimeter\n",
    "\n",
    "    def __str__(self):\n",
    "        return ''.join([\"Lado A:\",str(self.side_a),\"\\nLado B:\",str(self.side_b),\"\\nLado C:\",str(self.side_c),\"\\nPerímetro:\",str(self.perimeter),\"\\nÁrea:\",str(self.area)])\n",
    "        \n",
    "myTriangle = Triangle(2,3,5)\n",
    "\n",
    "print(myTriangle)\n"
   ]
  },
  {
   "cell_type": "markdown",
   "metadata": {},
   "source": [
    "##### Ejercicio (1D) c. Añade la función __init__() a la clase, junto con sus atributos. Crea una instancia y ejecuta la celda."
   ]
  },
  {
   "cell_type": "code",
   "execution_count": 41,
   "metadata": {},
   "outputs": [
    {
     "name": "stdout",
     "output_type": "stream",
     "text": [
      "Número de lados:4 \n",
      "Tamaño:3 \n",
      "Perímetro:12\n"
     ]
    }
   ],
   "source": [
    "class Shape:\n",
    "    def __init__(self,numLados,tamano):\n",
    "        self.numLados = numLados\n",
    "        self.tamano = tamano\n",
    "        self.perimetro = self.calc_Perimetro()\n",
    "        \n",
    "    def __str__(self):\n",
    "        return 'Número de lados:{} \\nTamaño:{} \\nPerímetro:{}'.format(self.numLados,self.tamano,self.perimetro)\n",
    "        \n",
    "    def calc_Perimetro(self):\n",
    "        self.perimetro=self.tamano*self.numLados\n",
    "        return self.perimetro\n",
    "        \n",
    "    def get_numLados(self):\n",
    "        print(\"El num. de lados del polígono es: {}\".format(self.numLados))\n",
    "        \n",
    "    def get_tamano(self):\n",
    "        print(\"El tamaño de cada lado es: {}\".format(self.tamano))\n",
    "        \n",
    "    def get_perimetro(self):\n",
    "        print(\"El perímetro del polígono es: {} cm^2\".format(self.perimetro))\n",
    "\n",
    "shape1 = Shape(numLados=4,tamano=3)\n",
    "print(shape1)\n",
    "\n",
    "\n"
   ]
  },
  {
   "cell_type": "markdown",
   "metadata": {},
   "source": [
    "##### Ejercicio (1D) d. Añade los métodos que has escrito antes en papel, y intenta hacer algo interesante con ellos (por ejemplo, crea un método que calcula la superficie de un cuadrado, pásale valores a los atributos necesarios con el `__init__()` y calcula la superficie con un método que se llame `area()`)."
   ]
  },
  {
   "cell_type": "markdown",
   "metadata": {},
   "source": [
    "### 1.7 Métodos especiales (MEDIO)"
   ]
  },
  {
   "cell_type": "markdown",
   "metadata": {},
   "source": [
    "Ciertos métodos tienen nombres especiales, como ``__init__`` y ``__str__``. Python espera que un método con un nombre especial haga algo concreto. Por ejemplo, un método llamado ``__init__`` debe construir un objeto de la clase `Persona` y un método llamado ``__str__`` debe devolver una cadena con lo que queremos que se muestre por pantalla (el `str` del nombre del método es una abreviatura de \"string\", es decir, \"cadena de texto\" en inglés). "
   ]
  },
  {
   "cell_type": "code",
   "execution_count": 24,
   "metadata": {},
   "outputs": [],
   "source": [
    "class Persona:\n",
    "    \n",
    "    def __init__(self, nombre, apellidos, edad):\n",
    "        self.Nombre = nombre\n",
    "        self.Apellidos = apellidos\n",
    "        self.Edad = edad\n",
    "        \n",
    "    def MostrarPersona(self):\n",
    "        print(\"Nombre: \" + self.Nombre)\n",
    "        print(\"Apellidos: \" + self.Apellidos)\n",
    "        print(\"Edad: \" + str(self.Edad))"
   ]
  },
  {
   "cell_type": "code",
   "execution_count": 25,
   "metadata": {},
   "outputs": [
    {
     "name": "stdout",
     "output_type": "stream",
     "text": [
      "<__main__.Persona object at 0x000000000871BD90>\n"
     ]
    }
   ],
   "source": [
    "me = Persona(\"Spiros\", \"Michalakopoulos\", 51)\n",
    "print(me)"
   ]
  },
  {
   "cell_type": "code",
   "execution_count": 26,
   "metadata": {},
   "outputs": [
    {
     "name": "stdout",
     "output_type": "stream",
     "text": [
      "I am a string\n"
     ]
    }
   ],
   "source": [
    "cadena = str(\"I am a string\")\n",
    "print(cadena)"
   ]
  },
  {
   "cell_type": "code",
   "execution_count": null,
   "metadata": {},
   "outputs": [],
   "source": [
    "class Persona:\n",
    "    \n",
    "    def __init__(self, nombre, apellidos, edad):\n",
    "        self.Nombre = nombre\n",
    "        self.Apellidos = apellidos\n",
    "        self.Edad = edad\n",
    "        \n",
    "    def MostrarPersona(self):\n",
    "        print(\"Nombre: \" + self.Nombre)\n",
    "        print(\"Apellidos: \" + self.Apellidos)\n",
    "        print(\"Edad: \" + str(self.Edad))\n",
    "        \n",
    "    def __str__(self):\n",
    "        return ' '.join([\"Nombre:\", self.Nombre, \"\\nApellidos:\",\n",
    "                  self.Apellidos, \"\\nEdad:\", str(self.Edad)])"
   ]
  },
  {
   "cell_type": "code",
   "execution_count": null,
   "metadata": {},
   "outputs": [],
   "source": [
    "me = Persona(\"Spiros\", \"Michalakopoulos\", 51)\n",
    "print(me)"
   ]
  },
  {
   "cell_type": "markdown",
   "metadata": {},
   "source": [
    "<!-- Make a mini-pdf out of the Special Methods chapter, and maybe out of the whole s93 chapter on OO -->\n",
    "\n",
    "En nuestro caso, la cadena que hemos formado contiene todos los datos de una `Persona`. Lo realmente curioso acerca de los métodos especiales es que no tienes por qué llamarlos directamente: Python los llama automáticamente\n",
    "en ciertos casos. Por ejemplo, cuando haces print de un objeto de la clase `Persona`, Python le \"pregunta\" al objeto si tiene definido el método `__str__` y, si es así, muestra el resultado de ejecutar dicho método sobre el objeto. Como el resultado de ejecutar `__str__` es una cadena, Python muestra por pantalla esa cadena."
   ]
  },
  {
   "cell_type": "markdown",
   "metadata": {},
   "source": [
    "##### Ejercicio (1D) e."
   ]
  },
  {
   "cell_type": "markdown",
   "metadata": {},
   "source": [
    "###### Ejercicio 1E."
   ]
  },
  {
   "cell_type": "markdown",
   "metadata": {},
   "source": [
    "Leer \"**introducingpython-161-164.pdf**\", extraído de *Introducing Python*, Bill Lubanovic"
   ]
  },
  {
   "cell_type": "code",
   "execution_count": 51,
   "metadata": {},
   "outputs": [],
   "source": [
    "class Word():\n",
    "\n",
    "    def __init__(self, text):\n",
    "        self.text = text\n",
    "\n",
    "#    def equals(self, word2):\n",
    "#        return self.text.lower() == word2.text.lower()\n",
    "    \n",
    "    def __eq__(self, word2):\n",
    "        return self.text.lower() == word2.text.lower()"
   ]
  },
  {
   "cell_type": "code",
   "execution_count": 52,
   "metadata": {},
   "outputs": [],
   "source": [
    "first = Word('ha')\n",
    "second = Word('HA')\n",
    "third = Word('eh')"
   ]
  },
  {
   "cell_type": "code",
   "execution_count": 55,
   "metadata": {},
   "outputs": [
    {
     "name": "stdout",
     "output_type": "stream",
     "text": [
      "True\n",
      "HA\n",
      "ha\n"
     ]
    }
   ],
   "source": [
    "print(first == second)\n",
    "print(second.text)\n",
    "print(first.text)"
   ]
  },
  {
   "cell_type": "code",
   "execution_count": 54,
   "metadata": {},
   "outputs": [
    {
     "ename": "AttributeError",
     "evalue": "'Word' object has no attribute 'equals'",
     "output_type": "error",
     "traceback": [
      "\u001b[1;31m---------------------------------------------------------------------------\u001b[0m",
      "\u001b[1;31mAttributeError\u001b[0m                            Traceback (most recent call last)",
      "\u001b[1;32m<ipython-input-54-52083421d9e0>\u001b[0m in \u001b[0;36m<module>\u001b[1;34m\u001b[0m\n\u001b[1;32m----> 1\u001b[1;33m \u001b[0mfirst\u001b[0m\u001b[1;33m.\u001b[0m\u001b[0mequals\u001b[0m\u001b[1;33m(\u001b[0m\u001b[0msecond\u001b[0m\u001b[1;33m)\u001b[0m\u001b[1;33m\u001b[0m\u001b[1;33m\u001b[0m\u001b[0m\n\u001b[0m",
      "\u001b[1;31mAttributeError\u001b[0m: 'Word' object has no attribute 'equals'"
     ]
    }
   ],
   "source": [
    "first.equals(second)"
   ]
  },
  {
   "cell_type": "code",
   "execution_count": 47,
   "metadata": {},
   "outputs": [
    {
     "data": {
      "text/plain": [
       "False"
      ]
     },
     "execution_count": 47,
     "metadata": {},
     "output_type": "execute_result"
    }
   ],
   "source": [
    "first.equals(third)"
   ]
  },
  {
   "cell_type": "code",
   "execution_count": 50,
   "metadata": {},
   "outputs": [
    {
     "name": "stdout",
     "output_type": "stream",
     "text": [
      "145377552\n",
      "145375296\n"
     ]
    }
   ],
   "source": [
    "first == second\n",
    "print(id(first))\n",
    "print(id(second))"
   ]
  },
  {
   "cell_type": "code",
   "execution_count": null,
   "metadata": {},
   "outputs": [],
   "source": [
    "first == second\n",
    "print(first)\n",
    "print(second)"
   ]
  },
  {
   "cell_type": "code",
   "execution_count": null,
   "metadata": {},
   "outputs": [],
   "source": [
    "class Word():\n",
    "\n",
    "    def __init__(self, text):\n",
    "        self.text = text\n",
    "\n",
    "    def __eq__(self, word2):\n",
    "        return self.text.lower() == word2.text.lower()"
   ]
  },
  {
   "cell_type": "code",
   "execution_count": null,
   "metadata": {},
   "outputs": [],
   "source": [
    "first = Word('ha')\n",
    "second = Word('HA')\n",
    "third = Word('eh')"
   ]
  },
  {
   "cell_type": "code",
   "execution_count": null,
   "metadata": {},
   "outputs": [],
   "source": [
    "print(first == second)\n",
    "print(first)\n",
    "print(second)"
   ]
  },
  {
   "cell_type": "code",
   "execution_count": 70,
   "metadata": {},
   "outputs": [],
   "source": [
    "class Word():\n",
    "\n",
    "    def __init__(self, text):\n",
    "        self.text = text\n",
    "\n",
    "    def __eq__(self, word2):\n",
    "        return self.text.lower() == word2.text.lower()\n",
    "    \n",
    "    def __str__(self):\n",
    "        print(\"L10\")\n",
    "        return self.text\n",
    "\n",
    "    def __repr__(self):\n",
    "        print(\"L14\")\n",
    "        return 'Word(\"' + self.text + '\")'    "
   ]
  },
  {
   "cell_type": "code",
   "execution_count": 71,
   "metadata": {},
   "outputs": [],
   "source": [
    "first = Word('ha')\n",
    "second = Word('HA')\n",
    "third = Word('eh')"
   ]
  },
  {
   "cell_type": "code",
   "execution_count": 66,
   "metadata": {},
   "outputs": [
    {
     "name": "stdout",
     "output_type": "stream",
     "text": [
      "L10\n",
      "ha\n"
     ]
    }
   ],
   "source": [
    "print(first)"
   ]
  },
  {
   "cell_type": "code",
   "execution_count": 67,
   "metadata": {},
   "outputs": [
    {
     "name": "stdout",
     "output_type": "stream",
     "text": [
      "L14\n"
     ]
    },
    {
     "data": {
      "text/plain": [
       "Word(\"ha\")"
      ]
     },
     "execution_count": 67,
     "metadata": {},
     "output_type": "execute_result"
    }
   ],
   "source": [
    "first"
   ]
  },
  {
   "cell_type": "code",
   "execution_count": 68,
   "metadata": {},
   "outputs": [
    {
     "ename": "TypeError",
     "evalue": "object of type 'Word' has no len()",
     "output_type": "error",
     "traceback": [
      "\u001b[1;31m---------------------------------------------------------------------------\u001b[0m",
      "\u001b[1;31mTypeError\u001b[0m                                 Traceback (most recent call last)",
      "\u001b[1;32m<ipython-input-68-6f344cba4132>\u001b[0m in \u001b[0;36m<module>\u001b[1;34m\u001b[0m\n\u001b[1;32m----> 1\u001b[1;33m \u001b[0mlen\u001b[0m\u001b[1;33m(\u001b[0m\u001b[0mfirst\u001b[0m\u001b[1;33m)\u001b[0m\u001b[1;33m\u001b[0m\u001b[1;33m\u001b[0m\u001b[0m\n\u001b[0m",
      "\u001b[1;31mTypeError\u001b[0m: object of type 'Word' has no len()"
     ]
    }
   ],
   "source": [
    "len(first)"
   ]
  },
  {
   "cell_type": "markdown",
   "metadata": {},
   "source": [
    "Leer **\"s93-361.pdf\"**, extraído de *Introducción a la programación con Python 3*, Marzal, Gracia Y García"
   ]
  },
  {
   "cell_type": "markdown",
   "metadata": {},
   "source": [
    "#### Ejercicio 1F."
   ]
  },
  {
   "cell_type": "markdown",
   "metadata": {},
   "source": [
    "### 1.8 Más métodos especiales (AVANZADO)"
   ]
  },
  {
   "cell_type": "code",
   "execution_count": 69,
   "metadata": {},
   "outputs": [
    {
     "data": {
      "text/plain": [
       "['__class__',\n",
       " '__delattr__',\n",
       " '__dict__',\n",
       " '__dir__',\n",
       " '__doc__',\n",
       " '__eq__',\n",
       " '__format__',\n",
       " '__ge__',\n",
       " '__getattribute__',\n",
       " '__gt__',\n",
       " '__hash__',\n",
       " '__init__',\n",
       " '__init_subclass__',\n",
       " '__le__',\n",
       " '__lt__',\n",
       " '__module__',\n",
       " '__ne__',\n",
       " '__new__',\n",
       " '__reduce__',\n",
       " '__reduce_ex__',\n",
       " '__repr__',\n",
       " '__setattr__',\n",
       " '__sizeof__',\n",
       " '__str__',\n",
       " '__subclasshook__',\n",
       " '__weakref__']"
      ]
     },
     "execution_count": 69,
     "metadata": {},
     "output_type": "execute_result"
    }
   ],
   "source": [
    "dir(Word)"
   ]
  },
  {
   "cell_type": "code",
   "execution_count": 65,
   "metadata": {},
   "outputs": [
    {
     "data": {
      "text/plain": [
       "['__class__',\n",
       " '__delattr__',\n",
       " '__dict__',\n",
       " '__dir__',\n",
       " '__doc__',\n",
       " '__eq__',\n",
       " '__format__',\n",
       " '__ge__',\n",
       " '__getattribute__',\n",
       " '__gt__',\n",
       " '__hash__',\n",
       " '__init__',\n",
       " '__init_subclass__',\n",
       " '__le__',\n",
       " '__lt__',\n",
       " '__module__',\n",
       " '__ne__',\n",
       " '__new__',\n",
       " '__reduce__',\n",
       " '__reduce_ex__',\n",
       " '__repr__',\n",
       " '__setattr__',\n",
       " '__sizeof__',\n",
       " '__str__',\n",
       " '__subclasshook__',\n",
       " '__weakref__',\n",
       " 'text']"
      ]
     },
     "execution_count": 65,
     "metadata": {},
     "output_type": "execute_result"
    }
   ],
   "source": [
    "dir(first)"
   ]
  },
  {
   "cell_type": "markdown",
   "metadata": {},
   "source": [
    "Más enlaces útiles sobre métodos especiales:\n",
    "\n",
    "https://portingguide.readthedocs.io/en/latest/comparisons.html\n",
    "\n",
    "https://dbader.org/blog/python-dunder-methods\n",
    "\n",
    "https://stackoverflow.com/questions/1418825/where-is-the-python-documentation-for-the-special-methods-init-new\n",
    "\n",
    "https://docs.python.org/3/reference/datamodel.html#special-method-names"
   ]
  },
  {
   "cell_type": "code",
   "execution_count": null,
   "metadata": {},
   "outputs": [],
   "source": []
  }
 ],
 "metadata": {
  "kernelspec": {
   "display_name": "Python 3",
   "language": "python",
   "name": "python3"
  },
  "language_info": {
   "codemirror_mode": {
    "name": "ipython",
    "version": 3
   },
   "file_extension": ".py",
   "mimetype": "text/x-python",
   "name": "python",
   "nbconvert_exporter": "python",
   "pygments_lexer": "ipython3",
   "version": "3.8.5"
  }
 },
 "nbformat": 4,
 "nbformat_minor": 4
}
