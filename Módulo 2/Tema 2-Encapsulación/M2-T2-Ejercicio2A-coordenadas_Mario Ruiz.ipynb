{
 "cells": [
  {
   "cell_type": "code",
   "execution_count": 1,
   "metadata": {},
   "outputs": [],
   "source": [
    "import math\n",
    "\n",
    "class Punto:\n",
    "    #Constructor de la clase Punto. Los parámetros x e y tienen asignados el valor 0 por defecto. \n",
    "    def __init__(self,x=0,y=0):\n",
    "        self.X = x\n",
    "        self.Y = y\n",
    "        \n",
    "    #Método string, que imprime por pantalla un punto en format (x,y)    \n",
    "    def __str__(self):\n",
    "        return \"\".join([\"(\",str(self.X),\",\",str(self.Y),\")\"])\n",
    "        \n",
    "    #Método que muestra en que cuadrante se encuadra el punto que hemos introducido    \n",
    "    def cuadrante(self):\n",
    "        #Si los dos ejes son igual a 0, muestro por pantalla que está en el origen\n",
    "        if (self.X == 0 and self.Y == 0):\n",
    "            print(f\"La coordenada (0,0) es el punto de origen\")\n",
    "        else:\n",
    "            #Si x es negativo e Y es positivo, muestro cuadrante II\n",
    "            if (self.X < 0 and  self.Y > 0):\n",
    "                print(f\"La coordenada ({self.X},{self.Y}) pertenece al Cuadrante II\")\n",
    "            #Si x es negativo e Y es negativo, muestro cuadrante III\n",
    "            elif (self.X < 0 and self.Y < 0):\n",
    "                print(f\"La coordenada ({self.X},{self.Y}) pertenece al Cuadrante III\")\n",
    "            #Si x es positivo e Y es positivo, muestro cuadrante I\n",
    "            elif (self.X > 0 and self.Y > 0):\n",
    "                print(f\"La coordenada ({self.X},{self.Y}) pertenece al Cuadrante I\")\n",
    "            #Si x es positivo e Y es negativo, muestro cuadrante II\n",
    "            elif (self.X > 0 and self.Y < 0):\n",
    "                print(f\"La coordenada ({self.X},{self.Y}) pertenece al Cuadrante II\")\n",
    "                \n",
    "    def vector(self,other):\n",
    "        #Calcula el vector resultante de dos puntos.\n",
    "        #AB = (x2-x1, y2-y1) => (8-3, 4-7) => (5, -3)\n",
    "        a = other.X - self.X\n",
    "        b = other.Y - self.Y\n",
    "        print(f\"El vector de los puntos ({self.X},{self.Y}) y ({other.X},{other.Y}) es ({a},{b})\")\n",
    "        \n",
    "    def distancia(self,other):\n",
    "        #Calculo la distancia entre dos puntos\n",
    "        x = pow((other.X - self.X),2)\n",
    "        y = pow((other.Y - self.Y),2)\n",
    "        distance = math.sqrt(x + y)\n",
    "        print(f\"La distancia entre los puntos ({self.X},{self.Y}) y ({other.X},{other.Y}) es {distance}\")\n",
    "    \n",
    "    "
   ]
  },
  {
   "cell_type": "code",
   "execution_count": 2,
   "metadata": {},
   "outputs": [],
   "source": [
    "class Rectangulo:\n",
    "    #constructor de la clase Rectangulo. Los valores de (x,y) e (a,b) por defecto serán 0\n",
    "    def __init__(self,puntoA=\"(0,0)\", puntoB=\"(0,0)\"):\n",
    "        #Si no se introduce un punto, el método __str__ de la clase Punto devuelve el string (0,0). \n",
    "        #Comparo con eso, y asigno los valores\n",
    "        if str(puntoA) == \"(0,0)\":\n",
    "            self.puntoA_X = 0    \n",
    "            self.puntoA_Y = 0\n",
    "        else:\n",
    "            #Si se han introducido valores, se asignan a los atributos\n",
    "            self.puntoA_X = puntoA.X    \n",
    "            self.puntoA_Y = puntoA.Y\n",
    "            \n",
    "        if str(puntoB) == \"(0,0)\":\n",
    "            self.puntoB_X = 0    \n",
    "            self.puntoB_Y = 0\n",
    "        else:\n",
    "            self.puntoB_X = puntoB.X\n",
    "            self.puntoB_Y = puntoB.Y\n",
    "        \n",
    "    def base(self):\n",
    "        #Calculo la base\n",
    "        nBase = abs(self.puntoA_X - self.puntoB_X)\n",
    "        print(f\"La base de ({self.puntoA_X},{self.puntoA_Y}) y ({self.puntoB_X},{self.puntoB_Y}) es: {nBase}\")\n",
    "    \n",
    "    def altura(self):\n",
    "        #calculo la altura\n",
    "        nAltura = abs(self.puntoA_Y - self.puntoB_Y)\n",
    "        print(f\"La altura de ({self.puntoA_X},{self.puntoA_Y}) y ({self.puntoB_X},{self.puntoB_Y}) es: {nAltura}\")\n",
    "    \n",
    "    def area(self):\n",
    "        #Calculo el área. area = base x altura\n",
    "        nBase = abs(self.puntoA_X - self.puntoB_X)\n",
    "        nAltura = abs(self.puntoA_Y - self.puntoB_Y)\n",
    "        nArea = nBase * nAltura\n",
    "        print(f\"El área de ({self.puntoA_X},{self.puntoA_Y}) y ({self.puntoB_X},{self.puntoB_Y}) es: {nArea}\")"
   ]
  },
  {
   "cell_type": "markdown",
   "metadata": {},
   "source": [
    "#### Crea los puntos A(2, 3), B(5,5), C(-3, -1) y D(0,0) y los imprime por pantalla"
   ]
  },
  {
   "cell_type": "code",
   "execution_count": 3,
   "metadata": {},
   "outputs": [],
   "source": [
    "#creo los 4 puntos\n",
    "punto_A = Punto(2,3)\n",
    "punto_B = Punto(3,5)\n",
    "punto_C = Punto(-3,-1)\n",
    "punto_D = Punto(0,0)"
   ]
  },
  {
   "cell_type": "markdown",
   "metadata": {},
   "source": [
    "#### Consulta a que cuadrante pertenecen el punto A, C y D"
   ]
  },
  {
   "cell_type": "code",
   "execution_count": null,
   "metadata": {},
   "outputs": [],
   "source": [
    "#muestro los cuadrantes a los que pertenecen los puntos A, C y D.\n",
    "#Se llama al método cuadrante() de la clase Punto\n",
    "punto_A.cuadrante()\n",
    "punto_C.cuadrante()\n",
    "punto_D.cuadrante()"
   ]
  },
  {
   "cell_type": "markdown",
   "metadata": {},
   "source": [
    "#### Consulta el vector AB"
   ]
  },
  {
   "cell_type": "code",
   "execution_count": 4,
   "metadata": {},
   "outputs": [
    {
     "name": "stdout",
     "output_type": "stream",
     "text": [
      "El vector de los puntos (2,3) y (3,5) es (1,2)\n"
     ]
    }
   ],
   "source": [
    "#Llamo al método vector() de la clase Punto. Se le pasa un objeto Punto como parámetro.\n",
    "punto_A.vector(punto_B)"
   ]
  },
  {
   "cell_type": "markdown",
   "metadata": {},
   "source": [
    "#### Consulta el vector BA"
   ]
  },
  {
   "cell_type": "code",
   "execution_count": 5,
   "metadata": {},
   "outputs": [
    {
     "name": "stdout",
     "output_type": "stream",
     "text": [
      "El vector de los puntos (3,5) y (2,3) es (-1,-2)\n"
     ]
    }
   ],
   "source": [
    "punto_B.vector(punto_A)"
   ]
  },
  {
   "cell_type": "markdown",
   "metadata": {},
   "source": [
    "#### Consulta la distancia entre los puntos 'A y B'"
   ]
  },
  {
   "cell_type": "code",
   "execution_count": 6,
   "metadata": {},
   "outputs": [
    {
     "name": "stdout",
     "output_type": "stream",
     "text": [
      "La distancia entre los puntos (2,3) y (3,5) es 2.23606797749979\n"
     ]
    }
   ],
   "source": [
    "#Llamo al método distancia() de la clase Punto. Se le pasa un objeto Punto como parámetro.\n",
    "punto_A.distancia(punto_B)"
   ]
  },
  {
   "cell_type": "markdown",
   "metadata": {},
   "source": [
    "#### Consulta la distancia entre los puntos 'B y A'"
   ]
  },
  {
   "cell_type": "code",
   "execution_count": null,
   "metadata": {},
   "outputs": [],
   "source": [
    "punto_B.distancia(punto_A)"
   ]
  },
  {
   "cell_type": "markdown",
   "metadata": {},
   "source": [
    "#### Determina cual de los 3 puntos A, B o C, se encuentra más lejos del origen, punto (0,0)"
   ]
  },
  {
   "cell_type": "code",
   "execution_count": null,
   "metadata": {},
   "outputs": [],
   "source": [
    "#Tomo como referencia el punto D que está en el origen.\n",
    "#Distancia Punto A\n",
    "punto_D.distancia(punto_A)"
   ]
  },
  {
   "cell_type": "code",
   "execution_count": null,
   "metadata": {},
   "outputs": [],
   "source": [
    "#Distancia Punto B\n",
    "punto_D.distancia(punto_B)"
   ]
  },
  {
   "cell_type": "code",
   "execution_count": null,
   "metadata": {},
   "outputs": [],
   "source": [
    "#Distancia Punto C\n",
    "punto_D.distancia(punto_C)"
   ]
  },
  {
   "cell_type": "markdown",
   "metadata": {},
   "source": [
    "#### Crea un rectángulo utilizando los puntos A y B."
   ]
  },
  {
   "cell_type": "markdown",
   "metadata": {},
   "source": [
    "A=(2,3) B=(3,5)"
   ]
  },
  {
   "cell_type": "code",
   "execution_count": null,
   "metadata": {},
   "outputs": [],
   "source": [
    "rectangulo = Rectangulo(punto_A,punto_B)"
   ]
  },
  {
   "cell_type": "markdown",
   "metadata": {},
   "source": [
    "#### Consulta la base, altura y área del rectángulo"
   ]
  },
  {
   "cell_type": "code",
   "execution_count": null,
   "metadata": {},
   "outputs": [],
   "source": [
    "rectangulo.altura()"
   ]
  },
  {
   "cell_type": "code",
   "execution_count": null,
   "metadata": {},
   "outputs": [],
   "source": [
    "rectangulo.base()"
   ]
  },
  {
   "cell_type": "code",
   "execution_count": null,
   "metadata": {},
   "outputs": [],
   "source": [
    "rectangulo.area()"
   ]
  },
  {
   "cell_type": "markdown",
   "metadata": {},
   "source": [
    "Nota: En esta parte del ejercicio tengo una duda. Cuando hay un punto con valor negativo, se define bien el rectángulo. Pero cuando ambos valores son positivos, como se crea el rectángulo? con que porción de la coordenada, la que tienen en común, o el rectángulo que hay de diferencia entre ellos?"
   ]
  }
 ],
 "metadata": {
  "kernelspec": {
   "display_name": "Python 3",
   "language": "python",
   "name": "python3"
  },
  "language_info": {
   "codemirror_mode": {
    "name": "ipython",
    "version": 3
   },
   "file_extension": ".py",
   "mimetype": "text/x-python",
   "name": "python",
   "nbconvert_exporter": "python",
   "pygments_lexer": "ipython3",
   "version": "3.8.5"
  }
 },
 "nbformat": 4,
 "nbformat_minor": 4
}
