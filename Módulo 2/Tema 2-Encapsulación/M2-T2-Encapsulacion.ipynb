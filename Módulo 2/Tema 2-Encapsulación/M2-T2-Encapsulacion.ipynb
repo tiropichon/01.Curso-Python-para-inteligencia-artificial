{
 "cells": [
  {
   "cell_type": "markdown",
   "metadata": {},
   "source": [
    "### 1.9 Los cuatro principios FUNDAMENTALes de POO\n",
    "\n",
    "Los cuatro principios fundamentales de este paradigma son los siguientes:"
   ]
  },
  {
   "cell_type": "markdown",
   "metadata": {},
   "source": [
    "1. **Abstracción de datos**. Algo que hacemos de forma natural en nuestra comprensión del mundo es la abstracción de información concreta a conceptos o clases. Por ejemplo, el concepto de *coche* nos evoca una idea de vehículo con cuatro ruedas, un volante, con motor… Nuestro coche es una **instancia** concreta de ese concepto, y diferente a otros coches, pero somos capaces de asociar determinadas propiedades o características a dicho concepto por encima de detalles específicos. Esta capacidad de abstraer un concepto es fundamental para el desarrollo del lenguaje humano y, por supuesto, tan buena idea ha sido trasladada al mundo de la programación. En POO, denominamos **clase** al concepto abstracto y **objeto** a la realización de dicho concepto. Tu vehículo privado es concreto, puedes conducirlo, es un objeto (una instancia) de la clase *coche*.\n"
   ]
  },
  {
   "cell_type": "markdown",
   "metadata": {},
   "source": [
    "2. **Encapsulación**. Cada tipo de objeto contienen una información propia y puede ser manipulado de una forma particular. Un coche se puede conducir y tiene una presión determinada en sus ruedas, un color, un nivel concreto de gasolina, etc. Con un GPS podemos obtener nuestras coordenadas de posición y las baterías tendrán una carga determinada. \n",
    "\n",
    "  Un perro ladra, tiene un peso, una edad. Todos estos atributos y **métodos** quedan **encapsulados** dentro del objeto, y son accesibles solo a través de un objeto determinado. La ventaja es que no necesitamos tener, por ejemplo, una lista con nombres, otra con edades, otra con pesos...sino una *lista de objetos* y cada uno encierra, es decir, **encapsula**, su propia información.\n",
    "  \n",
    "  ![alarma_class.png](./alarma_class.png)\n",
    "  *Figura 1.1. Diagrama de una clase con sus atributos y métodos.*\n",
    "\n",
    "  La figura anterior muestra una clase `Alarma` con sus métodos y atributos. De manera similar a como lo hacemos en nuestro teléfono, podemos crear tantas alarmas como queramos. Cada una de ellas sería una **instancia** de esta clase, bajo la forma de un **objeto**. \n"
   ]
  },
  {
   "cell_type": "markdown",
   "metadata": {},
   "source": [
    "3. **Herencia**. Algunas clases pueden especializar a otras. Para esto, la clase especializada “hereda” las propiedades de la clase más general, denominada “superclase”. Por ejemplo, las clases `Coche` y `Camión` pueden heredar de la clase `Vehículo`, tal y como muestra el diagrama de clases de más abajo. Esto es una forma de reutilizar el código, al poder resumir aquellas propiedades comunes entre varias clases en una clase superior. Python soporta **herencia múltiple**, por lo que una clase puede definirse como subclase de varias clases de las que heredaría todas sus propiedades (atributos y métodos) a la vez.\n",
    "\n",
    "  ![vehiculo.png](./vehiculo.png)\n",
    "  \n",
    "  *Figura 1.2. Un ejemplo de diagrama de clases donde `Camión` y `Coche` heredan de `Vehículo`. Camión contiene, como atributo \"agregado\", un objeto de la clase `Remolque`.*\n"
   ]
  },
  {
   "cell_type": "code",
   "execution_count": 11,
   "metadata": {},
   "outputs": [
    {
     "name": "stdout",
     "output_type": "stream",
     "text": [
      "Object `arranque` not found.\n"
     ]
    }
   ],
   "source": [
    "Imaginamos que un camión hereda (múltiple) de \n",
    "Vehiculo y VehiculoPesado, y que ambas clases \n",
    "tienen un método que se llama arrancar().Cuál \n",
    "método va a ser llamada cuando el camión arranque?\n",
    "\n",
    "mytruck = Camion()\n",
    "mytruck.arrancar() # cuál?"
   ]
  },
  {
   "cell_type": "markdown",
   "metadata": {},
   "source": [
    "4. **Polimorfismo**. Un cuadrado puede dibujarse, un círculo también, como puede dibujarse cualquier otra forma. `Cuadrado` y `Círculo` serían subclase de `Forma`. La superclase `Forma` implementa un método `dibujar()`, y tanto la subclase `Cuadrado` como la subclase `Círculo` redefinen este método a su caso particular. Así, una función podría aceptar como parámetro un objeto de tipo `Forma` e invocar el método `dibujar()` sin saber si el argumento pasado es un *círculo* o un *cuadrado*. Cada objeto conoce su nivel de especialización y la implementación concreta de sus métodos. Esta capacidad de usar métodos de superclase en el código pero que, en tiempo de ejecución, se resuelven a métodos de subclases, se denomina **polimorfismo**: una misma variable puede adoptar distintas formas."
   ]
  },
  {
   "cell_type": "markdown",
   "metadata": {},
   "source": [
    "## 2 Encapsulación, propiedades. Composición y agregación."
   ]
  },
  {
   "cell_type": "markdown",
   "metadata": {},
   "source": [
    "### 2.1 Encapsulación (MEDIO)"
   ]
  },
  {
   "cell_type": "code",
   "execution_count": 1,
   "metadata": {},
   "outputs": [],
   "source": [
    "class Dispositivo:\n",
    "    \"\"\" Clase dispositivo, para objetos conectados a la red \"\"\"\n",
    "    \n",
    "    # Atributo con valor por defecto\n",
    "    encendido = False\n",
    "    \n",
    "    def __init__(self, IP):\n",
    "        \"\"\" Constructor \"\"\"\n",
    "        # Atributo con valor definido al crear el objeto\n",
    "        self.IP = IP\n",
    "        \n",
    "    def __del__(self):\n",
    "        \"\"\" Destructor \"\"\"\n",
    "        print(\"Destruyendo dispositivo en\", self.IP)\n",
    "        \n",
    "    def encender(self):\n",
    "        \"\"\" Enciende el dispositivo \"\"\"\n",
    "        self.encendido = True\n",
    "        \n",
    "    def apagar(self):\n",
    "        \"\"\" Apaga el dispositivo \"\"\"\n",
    "        self.encendido = False\n",
    "        \n",
    "    def estado(self):\n",
    "        \"\"\"Genera una cadena con el estado actual del dispositivo \"\"\"\n",
    "        mensaje = f\"IP: {self.IP}\\n\"\n",
    "        if self.encendido:\n",
    "            mensaje += 'Estado: encendido'\n",
    "        else:\n",
    "            mensaje += 'Estado: apagado'\n",
    "        return mensaje"
   ]
  },
  {
   "cell_type": "code",
   "execution_count": 2,
   "metadata": {},
   "outputs": [],
   "source": [
    "tv = Dispositivo('4.6.2.3')"
   ]
  },
  {
   "cell_type": "code",
   "execution_count": 3,
   "metadata": {},
   "outputs": [
    {
     "data": {
      "text/plain": [
       "False"
      ]
     },
     "execution_count": 3,
     "metadata": {},
     "output_type": "execute_result"
    }
   ],
   "source": [
    "tv.encendido"
   ]
  },
  {
   "cell_type": "code",
   "execution_count": 4,
   "metadata": {},
   "outputs": [
    {
     "data": {
      "text/plain": [
       "'4.6.2.3'"
      ]
     },
     "execution_count": 4,
     "metadata": {},
     "output_type": "execute_result"
    }
   ],
   "source": [
    "tv.IP"
   ]
  },
  {
   "cell_type": "code",
   "execution_count": 5,
   "metadata": {},
   "outputs": [],
   "source": [
    "tv.encender()"
   ]
  },
  {
   "cell_type": "code",
   "execution_count": 6,
   "metadata": {},
   "outputs": [
    {
     "name": "stdout",
     "output_type": "stream",
     "text": [
      "IP: 4.6.2.3\n",
      "Estado: encendido\n"
     ]
    }
   ],
   "source": [
    "print(tv.estado())"
   ]
  },
  {
   "cell_type": "code",
   "execution_count": 7,
   "metadata": {},
   "outputs": [],
   "source": [
    "bombilla = Dispositivo('4.6.2.5')"
   ]
  },
  {
   "cell_type": "code",
   "execution_count": 8,
   "metadata": {},
   "outputs": [
    {
     "name": "stdout",
     "output_type": "stream",
     "text": [
      "IP: 4.6.2.5\n",
      "Estado: apagado\n"
     ]
    }
   ],
   "source": [
    "print(bombilla.estado())"
   ]
  },
  {
   "cell_type": "markdown",
   "metadata": {},
   "source": [
    "Si creamos un dispositivo con el mismo identificador, es decir, volvemos a asignar a las variables `tv` o `bombilla` la creación de un nuevo objeto `Dispositivo`, veremos que se invoca el destructor. Esto es lógico, pues al asignar a un identificador de un objeto previo un nuevo objeto, el anterior puede ser liberado. También podemos destruir el objeto con el `del`. "
   ]
  },
  {
   "cell_type": "code",
   "execution_count": 10,
   "metadata": {},
   "outputs": [
    {
     "name": "stdout",
     "output_type": "stream",
     "text": [
      "Destruyendo dispositivo en 4.6.2.20\n"
     ]
    }
   ],
   "source": [
    "bombilla = Dispositivo('4.6.2.20')"
   ]
  },
  {
   "cell_type": "code",
   "execution_count": null,
   "metadata": {},
   "outputs": [],
   "source": [
    "del tv"
   ]
  },
  {
   "cell_type": "markdown",
   "metadata": {},
   "source": [
    "Observa cómo todos los métodos de la clase incorporan `self` como primer parámetro. Este identificador es una referencia directa al objeto cuyo método estamos invocando. Dicho parámetro no debe especificarse en la llamada al método, es decir, no hace falta pasarlo como argumento, como habrás podido comprobar al invocar en el código anterior el método `estado()` del objeto `tv` con la instrucción `tv.estado()`.  \n",
    "\n",
    "El parámetro `self` posibilita la **encapsulación** de nuestro código: los métodos acceden a los atributos del objeto que invoca el método. Otras clases pueden tener los mismo identificadores para sus métodos sin que eso suponga un problema. Podríamos, por ejemplo, definir una clase `Vehículo` que contuviera también un método `encender()` sin que eso origine colisión alguna entre identificadores. Gracias a la **encapsulación**, podemos hacer un código más **reusable** y **modular** ya que dada clase tiene sus propias responsabilidades sin necesidad de preocuparnos por el comportamiento de otras clases al diseñar sus métodos y atributos. "
   ]
  },
  {
   "cell_type": "markdown",
   "metadata": {},
   "source": [
    "#### 2.1.1 Métodos y atributos privados (MEDIO)"
   ]
  },
  {
   "cell_type": "markdown",
   "metadata": {},
   "source": [
    "Las clases pueden aislar incluso más sus métodos y atributos, impidiendo acceder a ellos desde un objeto. Podemos tener atributos y métodos “privados” que solo son visibles en al ámbito de la clase, es decir, desde el código interno que constituye el cuerpo de la clase. Para definir un atributo o método privado basta con preceder el identificador con dos guiones bajos, tal y como ocurre con los prototipos de los métodos constructor y destructor. Nuestro dispositivo dispone de dos métodos para encender y apagar. Si queremos que el valor del atributo encendido solo se modifique a través de estos métodos, podemos hacerlo privado anteponiendo `__` allí donde aparece."
   ]
  },
  {
   "cell_type": "code",
   "execution_count": null,
   "metadata": {},
   "outputs": [],
   "source": [
    "class Dispositivo:\n",
    "    \"\"\" Clase dispositivo, para objetos conectados a la red \"\"\"\n",
    "    \n",
    "    def __init__(self, IP):\n",
    "        \"\"\" Constructor \"\"\"\n",
    "        # Atributo con valor definido al crear el objeto\n",
    "        self.IP = IP\n",
    "        self.__encendido = False\n",
    "        \n",
    "    def __del__(self):\n",
    "        \"\"\" Destructor \"\"\"\n",
    "        print(\"Destruyendo dispositivo en\", self.IP)\n",
    "        \n",
    "    def encender(self):\n",
    "        \"\"\" Enciende el dispositivo \"\"\"\n",
    "        self.__encendido = True\n",
    "        \n",
    "    def apagar(self):\n",
    "        \"\"\" Apaga el dispositivo \"\"\"\n",
    "        self.__encendido = False\n",
    "        \n",
    "    def estado(self):\n",
    "        \"\"\"Genera una cadena con el estado actual del dispositivo \"\"\"\n",
    "        mensaje = f\"IP: {self.IP}\\n\"\n",
    "        if self.__encendido:\n",
    "            mensaje += 'Estado: encendido'\n",
    "        else:\n",
    "            mensaje += 'Estado: apagado'\n",
    "        return mensaje"
   ]
  },
  {
   "cell_type": "markdown",
   "metadata": {},
   "source": [
    "Ahora, si intentamos acceder al atributo `__encendido` desde un objeto, Python generará un error: "
   ]
  },
  {
   "cell_type": "code",
   "execution_count": null,
   "metadata": {},
   "outputs": [],
   "source": [
    "tv = Dispositivo('23.2.1.4')"
   ]
  },
  {
   "cell_type": "code",
   "execution_count": null,
   "metadata": {},
   "outputs": [],
   "source": [
    "tv.__encendido"
   ]
  },
  {
   "cell_type": "code",
   "execution_count": null,
   "metadata": {},
   "outputs": [],
   "source": [
    "# tv._Dispositivo__encendido"
   ]
  },
  {
   "cell_type": "markdown",
   "metadata": {},
   "source": [
    "Todos aquellos métodos y atributos precedidos por doble guion bajo son privados, el resto son públicos y sí son accesibles:"
   ]
  },
  {
   "cell_type": "code",
   "execution_count": null,
   "metadata": {},
   "outputs": [],
   "source": [
    "tv.IP"
   ]
  },
  {
   "cell_type": "markdown",
   "metadata": {},
   "source": [
    "El atributo `__encendido` queda encerrado dentro del objeto y solo puede ser modificado a través de sus métodos. Esto permite controlar en todo momento los valores que puede tomar. Por ejemplo, evitamos que se asigne un tipo distinto al booleano.\n",
    "\n",
    "Veamos otro ejemplo. Una clase `Television` podría tener un atributo interno `__canal` de tipo entero y con rango de valor entre 0 y 54, por ejemplo. Con nuestro mando a distancia podemos pasar al canal siguiente o al anterior, y con el teclado numérico indicar directamente un número de canal. "
   ]
  },
  {
   "cell_type": "code",
   "execution_count": 12,
   "metadata": {},
   "outputs": [],
   "source": [
    "class Televisor():\n",
    "    \n",
    "    __canal = 0\n",
    "    __num_canales = 55\n",
    "\n",
    "    def __ajusta_canal(self, canal):\n",
    "        self.__canal = canal % self.__num_canales\n",
    "            \n",
    "    def siguiente_canal(self):\n",
    "        self.__ajusta_canal(self.__canal + 1)      \n",
    "        \n",
    "    def anterior_canal(self):\n",
    "        self.__ajusta_canal(self.__canal - 1)\n",
    "        \n",
    "    def cambia_canal(self, canal):\n",
    "        if canal > self.__num_canales:\n",
    "            self.__canal = self.__num_canales - 1\n",
    "        elif canal < 0:\n",
    "            self.__canal = 0\n",
    "        else:\n",
    "            self.__canal = canal\n",
    "        \n",
    "    def canal_actual(self):\n",
    "        return self.__canal\n"
   ]
  },
  {
   "cell_type": "markdown",
   "metadata": {},
   "source": [
    "Aquí tenemos dos atributos privados, `__canal` y `__num_canales`, y un método privado, `__ajusta_canal()` que gracias al uso del operador módulo `%` permite que al subir o bajar de canal nos mantengamos en un ciclo de 0 a 54, es decir, el siguiente canal al 54 es el 0 y el anterior al 0 es el 54. Si ejecutamos este código, ya podemos usar nuestro televisor:"
   ]
  },
  {
   "cell_type": "code",
   "execution_count": 13,
   "metadata": {},
   "outputs": [
    {
     "name": "stdout",
     "output_type": "stream",
     "text": [
      "Destruyendo dispositivo en 4.6.2.3\n"
     ]
    }
   ],
   "source": [
    "tv = Televisor()"
   ]
  },
  {
   "cell_type": "code",
   "execution_count": 14,
   "metadata": {},
   "outputs": [
    {
     "data": {
      "text/plain": [
       "0"
      ]
     },
     "execution_count": 14,
     "metadata": {},
     "output_type": "execute_result"
    }
   ],
   "source": [
    "tv.canal_actual()"
   ]
  },
  {
   "cell_type": "code",
   "execution_count": 15,
   "metadata": {},
   "outputs": [],
   "source": [
    "tv.anterior_canal()"
   ]
  },
  {
   "cell_type": "code",
   "execution_count": 16,
   "metadata": {},
   "outputs": [
    {
     "data": {
      "text/plain": [
       "54"
      ]
     },
     "execution_count": 16,
     "metadata": {},
     "output_type": "execute_result"
    }
   ],
   "source": [
    "tv.canal_actual()"
   ]
  },
  {
   "cell_type": "code",
   "execution_count": 17,
   "metadata": {},
   "outputs": [],
   "source": [
    "tv.cambia_canal(8)"
   ]
  },
  {
   "cell_type": "code",
   "execution_count": 18,
   "metadata": {},
   "outputs": [
    {
     "data": {
      "text/plain": [
       "8"
      ]
     },
     "execution_count": 18,
     "metadata": {},
     "output_type": "execute_result"
    }
   ],
   "source": [
    "tv.canal_actual()"
   ]
  },
  {
   "cell_type": "code",
   "execution_count": 19,
   "metadata": {},
   "outputs": [],
   "source": [
    "tv.siguiente_canal()"
   ]
  },
  {
   "cell_type": "code",
   "execution_count": 20,
   "metadata": {},
   "outputs": [
    {
     "data": {
      "text/plain": [
       "9"
      ]
     },
     "execution_count": 20,
     "metadata": {},
     "output_type": "execute_result"
    }
   ],
   "source": [
    "tv.canal_actual()"
   ]
  },
  {
   "cell_type": "code",
   "execution_count": 21,
   "metadata": {},
   "outputs": [],
   "source": [
    "tv.cambia_canal(94)"
   ]
  },
  {
   "cell_type": "code",
   "execution_count": 22,
   "metadata": {},
   "outputs": [
    {
     "data": {
      "text/plain": [
       "54"
      ]
     },
     "execution_count": 22,
     "metadata": {},
     "output_type": "execute_result"
    }
   ],
   "source": [
    "tv.canal_actual()"
   ]
  },
  {
   "cell_type": "markdown",
   "metadata": {},
   "source": [
    "Gracias a la **encapsulación**, quien utilice nuestro objeto solo puede operar con los canales a través de los métodos públicos proporcionados, evitando así comportamientos extraños como asignar una cadena al valor del canal, establecer un canal con valor real, o indicar un canal fuera del rango posible."
   ]
  },
  {
   "cell_type": "markdown",
   "metadata": {},
   "source": [
    "#### 2.1.2 Decoradores para atributos encapsulados (MEDIO)"
   ]
  },
  {
   "cell_type": "markdown",
   "metadata": {},
   "source": [
    "#### NOTA:  Un decorador es un modificador de un método o función que **envuelve** el código de dicho método con instrucciones adicionales."
   ]
  },
  {
   "cell_type": "markdown",
   "metadata": {},
   "source": [
    "Sería más sencillo si pudiéramos acceder directamente al atributo canal y operar con él, al tiempo que controlamos sus posibles valores para mantenerlos dentro del rango 0-54. Existe una forma de crear atributos **virtuales** mediante tres **decoradores** especiales: `@property`, `@<atributo>.setter` y `@<atributo>.deleter`. Vamos a modificar nuestra clase `Televisor` para entender el uso y efecto de estos decoradores. Crearemos tres métodos anteponiendo estos decoradores a sus cabeceras y usando como identificador para los tres el nombre deseado para la propiedad virtual. Un ejemplo es la mejor forma de entender esto:"
   ]
  },
  {
   "cell_type": "code",
   "execution_count": 23,
   "metadata": {},
   "outputs": [],
   "source": [
    "class Televisor():\n",
    "    \n",
    "    __num_canales = 55\n",
    "\n",
    "    def __init__(self):\n",
    "        self.__canal = 0\n",
    "\n",
    "    @property\n",
    "    def canal(self):\n",
    "        return self.__canal\n",
    "    \n",
    "    @canal.setter\n",
    "    def canal(self, valor):\n",
    "        self.__canal = valor\n",
    "        if self.__canal == self.__num_canales:\n",
    "            self.__canal = 0\n",
    "        elif self.__canal == -1:\n",
    "            self.__canal = self.__num_canales - 1\n",
    "        elif self.__canal > self.__num_canales:\n",
    "            self.__canal = self.__num_canales - 1\n",
    "        elif self.__canal < 0:\n",
    "            self.__canal = 0\n",
    "        \n",
    "    @canal.deleter\n",
    "    def canal(self):\n",
    "        del self.__canal\n"
   ]
  },
  {
   "cell_type": "markdown",
   "metadata": {},
   "source": [
    "La ventaja de esto es que podemos usar `.canal` como una propiedad sin más, con operaciones como las siguientes:"
   ]
  },
  {
   "cell_type": "code",
   "execution_count": 25,
   "metadata": {},
   "outputs": [],
   "source": [
    "tv = Televisor()"
   ]
  },
  {
   "cell_type": "code",
   "execution_count": null,
   "metadata": {},
   "outputs": [],
   "source": [
    "tv.canal"
   ]
  },
  {
   "cell_type": "code",
   "execution_count": null,
   "metadata": {},
   "outputs": [],
   "source": [
    "tv.canal += 1"
   ]
  },
  {
   "cell_type": "code",
   "execution_count": null,
   "metadata": {},
   "outputs": [],
   "source": [
    "tv.canal"
   ]
  },
  {
   "cell_type": "code",
   "execution_count": null,
   "metadata": {},
   "outputs": [],
   "source": [
    "tv.canal -= 1"
   ]
  },
  {
   "cell_type": "code",
   "execution_count": null,
   "metadata": {},
   "outputs": [],
   "source": [
    "tv.canal"
   ]
  },
  {
   "cell_type": "code",
   "execution_count": null,
   "metadata": {},
   "outputs": [],
   "source": [
    "tv.canal -= 1"
   ]
  },
  {
   "cell_type": "code",
   "execution_count": null,
   "metadata": {},
   "outputs": [],
   "source": [
    "tv.canal"
   ]
  },
  {
   "cell_type": "code",
   "execution_count": null,
   "metadata": {},
   "outputs": [],
   "source": [
    "tv.canal = 34"
   ]
  },
  {
   "cell_type": "code",
   "execution_count": null,
   "metadata": {},
   "outputs": [],
   "source": [
    "tv.canal"
   ]
  },
  {
   "cell_type": "code",
   "execution_count": null,
   "metadata": {},
   "outputs": [],
   "source": [
    "tv.canal = 343"
   ]
  },
  {
   "cell_type": "code",
   "execution_count": null,
   "metadata": {},
   "outputs": [],
   "source": [
    "tv.canal"
   ]
  },
  {
   "cell_type": "markdown",
   "metadata": {},
   "source": [
    "El resultado de usar estos decoradores es el de simular un atributo público llamado `.canal` al que tenemos acceso y que podemos modificar directamente con asignaciones. Esto es bastante más legible comparado con el uso de métodos con distinto nombre de la versión anterior."
   ]
  },
  {
   "cell_type": "markdown",
   "metadata": {},
   "source": [
    "#### 2.1.3 Atributos y métodos de clase y de objeto (AVANZADO)"
   ]
  },
  {
   "cell_type": "markdown",
   "metadata": {},
   "source": [
    "Cuando un atributo solo existe para un objeto creado, es decir, se establece a partir de una asignación a un campo de `self`, decimos que es un **atributo de objeto**, pues es necesario que exista un objeto para realizar dicha asignación. Si el atributo es accesible directamente desde la clase, sin necesidad de instanciarla, decimos que es un **atributo de clase**. Implementamos una clase `Perro` con dos atributos, un atributo `especie` y un atributo `nombre`. Observa el código siguiente. El atributo `especie` es un atributo de **clase**, mientras que `nombre` lo es de **objeto**. "
   ]
  },
  {
   "cell_type": "code",
   "execution_count": 26,
   "metadata": {},
   "outputs": [],
   "source": [
    "class Perro():\n",
    "    \n",
    "    especie = \"Canis lupus\"\n",
    "\n",
    "    def __init__(self, nombre):\n",
    "        self.nombre = nombre\n",
    "\n",
    "    def traer_palo(self):\n",
    "        print(self.nombre, \"trae el palo\")\n"
   ]
  },
  {
   "cell_type": "markdown",
   "metadata": {},
   "source": [
    "Por tanto, al instanciar un objeto ambos atributos se convierten en atributos de objeto, son accesibles y modificables (pues son públicos al no tener el prefijo `__`). Sin embargo, el valor del atributo `especie` está disponible a nivel de clase, sin ser necesario disponer de un objeto para conocer su valor. "
   ]
  },
  {
   "cell_type": "code",
   "execution_count": 46,
   "metadata": {},
   "outputs": [],
   "source": [
    "p = Perro('Canela')"
   ]
  },
  {
   "cell_type": "code",
   "execution_count": 28,
   "metadata": {},
   "outputs": [
    {
     "data": {
      "text/plain": [
       "'Canis lupus'"
      ]
     },
     "execution_count": 28,
     "metadata": {},
     "output_type": "execute_result"
    }
   ],
   "source": [
    "p.especie"
   ]
  },
  {
   "cell_type": "code",
   "execution_count": 29,
   "metadata": {},
   "outputs": [
    {
     "data": {
      "text/plain": [
       "'Canela'"
      ]
     },
     "execution_count": 29,
     "metadata": {},
     "output_type": "execute_result"
    }
   ],
   "source": [
    "p.nombre"
   ]
  },
  {
   "cell_type": "code",
   "execution_count": 30,
   "metadata": {},
   "outputs": [
    {
     "name": "stdout",
     "output_type": "stream",
     "text": [
      "Canela trae el palo\n"
     ]
    }
   ],
   "source": [
    "p.traer_palo()"
   ]
  },
  {
   "cell_type": "code",
   "execution_count": 31,
   "metadata": {},
   "outputs": [
    {
     "data": {
      "text/plain": [
       "'Canis lupus'"
      ]
     },
     "execution_count": 31,
     "metadata": {},
     "output_type": "execute_result"
    }
   ],
   "source": [
    "Perro.especie"
   ]
  },
  {
   "cell_type": "markdown",
   "metadata": {},
   "source": [
    "Podemos modificar el valor de `p.especie` y esto destruirá el atributo de clase y generará un nuevo atributo, pero esta vez de objeto, por lo que `Perro.especie` mantendrá el valor `‘Canis lupus’`. Si modificamos en tiempo de ejecución el valor de un atributo de clase, los objetos que no hayan modificado ese atributo de clase compartirán el nuevo valor:"
   ]
  },
  {
   "cell_type": "code",
   "execution_count": 40,
   "metadata": {},
   "outputs": [],
   "source": [
    "p2 = Perro('Chusco')"
   ]
  },
  {
   "cell_type": "code",
   "execution_count": 41,
   "metadata": {},
   "outputs": [],
   "source": [
    "Perro.especie = 'Canis lupus familiaris'"
   ]
  },
  {
   "cell_type": "code",
   "execution_count": 42,
   "metadata": {},
   "outputs": [
    {
     "data": {
      "text/plain": [
       "'Canis lupus familiaris'"
      ]
     },
     "execution_count": 42,
     "metadata": {},
     "output_type": "execute_result"
    }
   ],
   "source": [
    "p.especie"
   ]
  },
  {
   "cell_type": "code",
   "execution_count": 43,
   "metadata": {},
   "outputs": [
    {
     "data": {
      "text/plain": [
       "'Canis lupus familiaris'"
      ]
     },
     "execution_count": 43,
     "metadata": {},
     "output_type": "execute_result"
    }
   ],
   "source": [
    "p2.especie"
   ]
  },
  {
   "cell_type": "markdown",
   "metadata": {},
   "source": [
    "De igual forma, los **métodos** también pueden ser de **clase** o de **objeto**. La única diferencia entre ambos es que en un método de clase prescinde del parámetro `self`, al no ser necesario invocarlo desde instancia alguna. Añadamos el método `ladrar()` a nuestra clase `Perro`:"
   ]
  },
  {
   "cell_type": "code",
   "execution_count": 49,
   "metadata": {},
   "outputs": [],
   "source": [
    "class Perro():\n",
    "    \n",
    "    especie = \"Canis lupus\"\n",
    "\n",
    "    def __init__(self, nombre):\n",
    "        self.nombre = nombre\n",
    "\n",
    "    def traer_palo(self):\n",
    "        print(self.nombre, \"trae el palo\")\n",
    "        \n",
    "    def ladrar():\n",
    "        print(\"¡guau!\") "
   ]
  },
  {
   "cell_type": "markdown",
   "metadata": {},
   "source": [
    "Un método de clase solo puede ser invocado desde la clase, nunca desde un objeto:"
   ]
  },
  {
   "cell_type": "code",
   "execution_count": 50,
   "metadata": {},
   "outputs": [
    {
     "ename": "TypeError",
     "evalue": "ladrar() takes 0 positional arguments but 1 was given",
     "output_type": "error",
     "traceback": [
      "\u001b[1;31m---------------------------------------------------------------------------\u001b[0m",
      "\u001b[1;31mTypeError\u001b[0m                                 Traceback (most recent call last)",
      "\u001b[1;32m<ipython-input-50-f1047cb2779c>\u001b[0m in \u001b[0;36m<module>\u001b[1;34m\u001b[0m\n\u001b[1;32m----> 1\u001b[1;33m \u001b[0mp\u001b[0m\u001b[1;33m.\u001b[0m\u001b[0mladrar\u001b[0m\u001b[1;33m(\u001b[0m\u001b[1;33m)\u001b[0m\u001b[1;33m\u001b[0m\u001b[1;33m\u001b[0m\u001b[0m\n\u001b[0m",
      "\u001b[1;31mTypeError\u001b[0m: ladrar() takes 0 positional arguments but 1 was given"
     ]
    }
   ],
   "source": [
    "p.ladrar()"
   ]
  },
  {
   "cell_type": "code",
   "execution_count": 51,
   "metadata": {},
   "outputs": [
    {
     "name": "stdout",
     "output_type": "stream",
     "text": [
      "¡guau!\n"
     ]
    }
   ],
   "source": [
    "Perro.ladrar()"
   ]
  },
  {
   "cell_type": "markdown",
   "metadata": {},
   "source": [
    "Generalmente, los métodos de clase se utilizan para definir funciones relacionadas con la clase, pero que no afectan a ningún objeto concreto. Por ejemplo, la clase `Dispositivo` podría definir un método de clase `enciende_dispositivos(lista_dispositivos)` que encendiera todos los dispositivos de la lista. "
   ]
  },
  {
   "cell_type": "markdown",
   "metadata": {},
   "source": [
    "## 2.2 Composición (FUNDAMENTAL)"
   ]
  },
  {
   "cell_type": "markdown",
   "metadata": {},
   "source": [
    "La primera técnica que vamos a explicarte referente a la reutilización de código fuente en la programación orientada a objetos es la **composición**, que consiste en la creación de nuevas clases a partir de otras clases ya existentes que actúan como elementos compositores de la nueva. Las clases existentes serán atributos de la nueva clase."
   ]
  },
  {
   "cell_type": "markdown",
   "metadata": {},
   "source": [
    "En programación orientada a objetos la composición significa que entre las dos clases existe una relación del tipo \"tiene un\" (\"has-a\" en inglés).\n",
    "\n",
    "Pongamos un ejemplo del mundo real para luego hacerlo en código: una coordenada en dos dimensiones está compuesta por dos valores, el valor en el eje de las X y el valor en el eje de las Y, ésto podría ser una clase. Un cuadrado está compuesto por cuatro coordenadas que son los cuatro vértices, ésto podría ser una clase que está compuesta por cuatro clases del objeto coordenada. Vamos a ver cada una de las clases:\n",
    "\n",
    "- **Clase** `Coordenada`:\n",
    " - Valor eje de las X.\n",
    " - Valor eje de las Y.\n",
    "\n",
    "- **Clase** `Cuadrado`:\n",
    " - Coordenada vértice 1.\n",
    " - Coordenada vértice 2.\n",
    " - Coordenada vértice 3.\n",
    " - Coordenada vértice 4.\n",
    "\n",
    "Vamos a ver cómo hacemos esto en Python. El código fuente sería el siguiente:"
   ]
  },
  {
   "cell_type": "code",
   "execution_count": null,
   "metadata": {},
   "outputs": [],
   "source": [
    "class Coordenada:\n",
    "    \n",
    "    def __init__(self, x, y):\n",
    "        self.X = x\n",
    "        self.Y = y\n",
    "        \n",
    "    def MostrarCoordenada(self):\n",
    "        print(\"(\", self.X,\",\",self.Y,\")\")\n",
    "        \n",
    "        \n",
    "class Cuadrado:\n",
    "    \n",
    "    def __init__(self, v1, v2, v3, v4):\n",
    "        self.V1 = v1\n",
    "        self.V2 = v2\n",
    "        self.V3 = v3\n",
    "        self.V4 = v4\n",
    "        \n",
    "    def MostrarVertices(self):\n",
    "        print(\"El cuadrado está compuesto por los siguientes vértices:\")\n",
    "        self.V1.MostrarCoordenada()\n",
    "        self.V2.MostrarCoordenada()\n",
    "        self.V3.MostrarCoordenada()\n",
    "        self.V4.MostrarCoordenada()\n",
    "        \n",
    "        \n",
    "v1 = Coordenada(1, 1)\n",
    "v2 = Coordenada(4, 1)\n",
    "v3 = Coordenada(4, 4)\n",
    "v4 = Coordenada(1, 4)\n",
    "cuadrado = Cuadrado(v1, v2, v3, v4)\n",
    "cuadrado.MostrarVertices()\n"
   ]
  },
  {
   "cell_type": "markdown",
   "metadata": {},
   "source": [
    "Para ambas clases hemos definido un método que muestra la información por pantalla de los atributos de la misma. Puedes observar que el método de mostrar por pantalla los vértices del cuadrado no accede a los atributos de las coordenadas y utiliza el método `MostrarCoordenada` de la clase `Coordenada`. Esto se debe a la técnica que veremos en el siguiente apartado, la encapsulación."
   ]
  },
  {
   "cell_type": "markdown",
   "metadata": {},
   "source": [
    "#### 2.2.1 Más ejemplos de encapsulación (MEDIO)"
   ]
  },
  {
   "cell_type": "markdown",
   "metadata": {},
   "source": [
    "Uno de los objetivos que tiene la programación orientada a objetos es proteger los datos de acceso o usos no controlados, y ésto es lo que se conoce como **encapsulación**.\n",
    "\n",
    "Los datos (atributos) que componen una clase pueden ser de dos tipos:\n",
    "\n",
    "- **Públicos**: los datos son accesibles sin control, es decir, los datos pueden ser usados sin ningún tipo de mecanismo que proteja ante usos no autorizados o indebidos.\n",
    "\n",
    "- **Privados**: los datos no pueden ser accedidos sin control y para acceder a ellos se deberá implementar un método que acceda a ellos. De ésta forma, los datos únicamente serán accedidos directamente por la propia clase.\n",
    "\n",
    "La encapsulación no solo puede realizarse sobre los atributos de la clase, también es posible realizarla sobre los métodos, es decir, aquellos métodos que indiquemos que son privados no podrán ser utilizados por elementos externos al propio objeto.\n"
   ]
  },
  {
   "cell_type": "markdown",
   "metadata": {},
   "source": [
    "#### 2.2.2 Ejemplo de encapsulación de datos (MEDIO)\n",
    "\n",
    "Veamos cómo se encapsulan los datos de una clase.\n",
    "\n",
    "El primer ejemplo consiste en la creación de dos clases que contienen la misma información pero que se diferencia en que una tiene sus atributos declarados como públicos (`PersonaPublica`) y la otra los tiene como privado (`PersonaPrivada`).\n",
    "\n",
    "La clase privada va a tener dos métodos por cada atributo de clase que tiene, uno para realizar la lectura del atributo (`Get`) y otro para realizar la escritura del mismo (`Set`). Ésto es algo común que se hace en programación orientada a objetos, por lo que es necesario que te vayas acostumbrando a crear estos métodos de clase para cada atributo.\n",
    "\n",
    "En el ejemplo vas a ver las diferencias de definición, uso y acceso a los atributos públicos y privados. La definición de atributos privados se realiza incluyendo los caracteres `__` (dos rayas bajas) entre la palabra \"self.\" y el nombre del atributo. El código fuente es el siguiente:"
   ]
  },
  {
   "cell_type": "code",
   "execution_count": null,
   "metadata": {},
   "outputs": [],
   "source": [
    "class PersonaPublica:\n",
    "    \n",
    "    def __init__(self, nombre, apellidos, edad):\n",
    "        self.Nombre = nombre\n",
    "        self.Apellidos = apellidos\n",
    "        self.Edad = edad\n",
    "        \n",
    "        \n",
    "class PersonaPrivada:\n",
    "    \n",
    "    def __init__(self, nombre, apellidos, edad):\n",
    "        self.__Nombre = nombre\n",
    "        self.__Apellidos = apellidos\n",
    "        self.__Edad = edad\n",
    "        \n",
    "    def GetNombre(self):\n",
    "        return self.__Nombre\n",
    "    \n",
    "    def GetApellidos(self):\n",
    "        return self.__Apellidos\n",
    "\n",
    "    def GetEdad(self):\n",
    "        return self.__Edad\n",
    "\n",
    "    def SetNombre(self, nombre):\n",
    "        self.__Nombre = nombre\n",
    "\n",
    "    def SetApellidos(self, apellidos):\n",
    "        self.__Apellidos = apellidos\n",
    "\n",
    "    def SetEdad(self, edad):\n",
    "        self.__Edad = edad\n",
    "        \n",
    "publico = PersonaPublica(\"Joaquín\", \"Sabina\", 71)\n",
    "privado = PersonaPrivada(\"Joan Manuel\", \"Serrat\", 76)\n",
    "\n",
    "print(\"PERSONA PÚBLICA\")\n",
    "print(\"Nombre: \" + publico.Nombre)\n",
    "print(\"Apellidos: \" + publico.Apellidos)\n",
    "print(\"Edad: \" + str(publico.Edad))\n",
    "\n",
    "print(\"PERSONA PRIVADA\")\n",
    "print(\"Nombre: \" + privado.GetNombre())\n",
    "print(\"Apellidos: \" + privado.GetApellidos())\n",
    "print(\"Edad: \" + str(privado.GetEdad()))\n",
    "\n",
    "print(\"\\nModificación de valores en ambos objetos...\")\n",
    "\n",
    "publico.Apellidos = \"Martínez Sabina\"\n",
    "privado.SetApellidos(\"Serrat Teresa\")\n",
    "\n",
    "print(\"PERSONA PÚBLICA\")\n",
    "print(\"Nombre: \" + publico.Nombre)\n",
    "print(\"Apellidos: \" + publico.Apellidos)\n",
    "print(\"Edad: \" + str(publico.Edad))\n",
    "\n",
    "print(\"PERSONA PRIVADA\")\n",
    "print(\"Nombre: \" + privado.GetNombre())\n",
    "print(\"Apellidos: \" + privado.GetApellidos())\n",
    "print(\"Edad: \" + str(privado.GetEdad()))\n"
   ]
  },
  {
   "cell_type": "markdown",
   "metadata": {},
   "source": [
    "El siguiente ejemplo consiste únicamente en ver el error que recibes si intentas acceder a un atributo privado de una clase. El código fuente es el siguiente:"
   ]
  },
  {
   "cell_type": "code",
   "execution_count": null,
   "metadata": {},
   "outputs": [],
   "source": [
    "privado = PersonaPrivada(\"Joan Manuel\", \"Serrat\", 76)\n",
    "\n",
    "print(\"Nombre: \" + privado._PersonaPrivada__Nombre)\n",
    "print(\"Apellidos: \" + privado.GetApellidos())\n",
    "print(\"Edad: \" + str(privado.GetEdad()))"
   ]
  },
  {
   "cell_type": "code",
   "execution_count": null,
   "metadata": {
    "scrolled": true
   },
   "outputs": [],
   "source": [
    "privado = PersonaPrivada(\"Joan Manuel\", \"Serrat\", 76)\n",
    "\n",
    "print(\"Nombre: \" + privado.__Nombre)\n",
    "print(\"Apellidos: \" + privado.GetApellidos())\n",
    "print(\"Edad: \" + str(privado.GetEdad()))"
   ]
  },
  {
   "cell_type": "code",
   "execution_count": null,
   "metadata": {},
   "outputs": [],
   "source": [
    "privado = PersonaPrivada(\"Joan Manuel\", \"Serrat\", 76)\n",
    "\n",
    "print(\"Nombre: \" + privado._PersonaPrivada__Nombre)\n",
    "print(\"Apellidos: \" + privado.GetApellidos())\n",
    "print(\"Edad: \" + str(privado.GetEdad()))\n",
    "\n",
    "privado._PersonaPrivada__Nombre = \"You've been hacked!\"\n",
    "\n",
    "print(\"Nombre: \" + privado._PersonaPrivada__Nombre)\n",
    "print(\"Apellidos: \" + privado.GetApellidos())\n",
    "print(\"Edad: \" + str(privado.GetEdad()))"
   ]
  },
  {
   "cell_type": "markdown",
   "metadata": {},
   "source": [
    "#### 2.2.3 Ejemplo de encapsulación de métodos (MEDIO)"
   ]
  },
  {
   "cell_type": "markdown",
   "metadata": {},
   "source": [
    "El siguiente ejemplo consiste en aprender a aplicar encapsulación a los métodos de las clases. Al igual que en los atributos de la clase, en los métodos hay que poner `__` (dos rayas bajas) delante del nombre del método para definirlos como privado.\n",
    "\n",
    "En el ejemplo vamos a crear dos clases, la primera de ellas será la clase `Coordenada` que almacenará la coordenada en el eje de las X y de las Y de un punto. Los atributos de la clase serán privados y crearemos un método para cada uno de ellos para realizar la lectura y la escritura en dicho atributo. La segunda de las clases será `Cuadrado` y estará compuesta por cuatro atributos privados de la clase `Coordenada`. En la clase `Cuadrado` vamos a crear un método privado por cada uno de los atributos que muestre su valor por pantalla. También crearemos un método público que mostrará los cuatro atributos que componen la clase utilizando los métodos privados:"
   ]
  },
  {
   "cell_type": "code",
   "execution_count": null,
   "metadata": {},
   "outputs": [],
   "source": [
    "class Coordenada:\n",
    "    \n",
    "    def __init__(self, x, y):\n",
    "        self.__X = x\n",
    "        self.__Y = y\n",
    "\n",
    "    def GetX(self):\n",
    "        return self.__X\n",
    "    def GetY(self):\n",
    "        return self.__Y\n",
    "    def SetX(self):\n",
    "        self.__X = x\n",
    "    def SetY(self):\n",
    "        self.__Y = y\n",
    "            \n",
    "class Cuadrado:\n",
    "    \n",
    "    def __init__(self, v1, v2, v3, v4):\n",
    "        self.__V1 = v1\n",
    "        self.__V2 = v2\n",
    "        self.__V3 = v3\n",
    "        self.__V4 = v4\n",
    "\n",
    "    def __MostrarCoordenadaV1(self):\n",
    "        print(\"(\", self.__V1.GetX(),\",\",self.__V1.GetY(),\")\")\n",
    "    def __MostrarCoordenadaV2(self):\n",
    "        print(\"(\", self.__V2.GetX(),\",\",self.__V2.GetY(),\")\")\n",
    "    def __MostrarCoordenadaV3(self):\n",
    "        print(\"(\", self.__V3.GetX(),\",\",self.__V3.GetY(),\")\")\n",
    "    def __MostrarCoordenadaV4(self):\n",
    "        print(\"(\", self.__V4.GetX(),\",\",self.__V4.GetY(),\")\")\n",
    "        \n",
    "    def MostrarVertices(self):\n",
    "        print(\"El cuadrado está compuesto por los siguientes vértices:\")\n",
    "        self.__MostrarCoordenadaV1()\n",
    "        self.__MostrarCoordenadaV2()\n",
    "        self.__MostrarCoordenadaV3()\n",
    "        self.__MostrarCoordenadaV4()\n",
    "        \n",
    "v1 = Coordenada(1, 1)\n",
    "v2 = Coordenada(4, 1)\n",
    "v3 = Coordenada(4, 4)\n",
    "v4 = Coordenada(1, 4)\n",
    "cuadrado = Cuadrado(v1, v2, v3, v4)\n",
    "cuadrado.MostrarVertices()\n"
   ]
  },
  {
   "cell_type": "markdown",
   "metadata": {},
   "source": [
    "El último ejemplo referente a la encapsulación es para que veas el mensaje que te saldrá si intentases utilizar un método privado de una clase. El código fuente es el siguiente:"
   ]
  },
  {
   "cell_type": "code",
   "execution_count": 52,
   "metadata": {},
   "outputs": [
    {
     "ename": "NameError",
     "evalue": "name 'Coordenada' is not defined",
     "output_type": "error",
     "traceback": [
      "\u001b[1;31m---------------------------------------------------------------------------\u001b[0m",
      "\u001b[1;31mNameError\u001b[0m                                 Traceback (most recent call last)",
      "\u001b[1;32m<ipython-input-52-6a45daaa611b>\u001b[0m in \u001b[0;36m<module>\u001b[1;34m\u001b[0m\n\u001b[1;32m----> 1\u001b[1;33m \u001b[0mcoordenada\u001b[0m \u001b[1;33m=\u001b[0m \u001b[0mCoordenada\u001b[0m\u001b[1;33m(\u001b[0m\u001b[1;36m3\u001b[0m\u001b[1;33m,\u001b[0m \u001b[1;36m4\u001b[0m\u001b[1;33m)\u001b[0m\u001b[1;33m\u001b[0m\u001b[1;33m\u001b[0m\u001b[0m\n\u001b[0m\u001b[0;32m      2\u001b[0m \u001b[0mprint\u001b[0m\u001b[1;33m(\u001b[0m\u001b[1;34m\"(\"\u001b[0m\u001b[1;33m,\u001b[0m \u001b[0mcoordenada\u001b[0m\u001b[1;33m.\u001b[0m\u001b[0m__GetX\u001b[0m\u001b[1;33m(\u001b[0m\u001b[1;33m)\u001b[0m\u001b[1;33m,\u001b[0m \u001b[1;34m\",\"\u001b[0m\u001b[1;33m,\u001b[0m \u001b[0mcoordenada\u001b[0m\u001b[1;33m.\u001b[0m\u001b[0m__GetY\u001b[0m\u001b[1;33m(\u001b[0m\u001b[1;33m)\u001b[0m\u001b[1;33m,\u001b[0m\u001b[1;34m\")\"\u001b[0m\u001b[1;33m)\u001b[0m\u001b[1;33m\u001b[0m\u001b[1;33m\u001b[0m\u001b[0m\n",
      "\u001b[1;31mNameError\u001b[0m: name 'Coordenada' is not defined"
     ]
    }
   ],
   "source": [
    "coordenada = Coordenada(3, 4)\n",
    "print(\"(\", coordenada.__GetX(), \",\", coordenada.__GetY(),\")\")"
   ]
  },
  {
   "cell_type": "code",
   "execution_count": null,
   "metadata": {},
   "outputs": [],
   "source": [
    "coordenada = Coordenada(3, 4)\n",
    "# print(\"(\", coordenada._Coordenada__GetX(), \",\", coordenada._Coordenada__GetY(),\")\")\n",
    "\n",
    "print(coordenada._Coordenada__X)\n",
    "print(coordenada._Coordenada__X)\n",
    "\n",
    "__MostrarCoordenadaV1"
   ]
  },
  {
   "cell_type": "code",
   "execution_count": null,
   "metadata": {},
   "outputs": [],
   "source": []
  }
 ],
 "metadata": {
  "kernelspec": {
   "display_name": "Python 3",
   "language": "python",
   "name": "python3"
  },
  "language_info": {
   "codemirror_mode": {
    "name": "ipython",
    "version": 3
   },
   "file_extension": ".py",
   "mimetype": "text/x-python",
   "name": "python",
   "nbconvert_exporter": "python",
   "pygments_lexer": "ipython3",
   "version": "3.8.5"
  }
 },
 "nbformat": 4,
 "nbformat_minor": 4
}
