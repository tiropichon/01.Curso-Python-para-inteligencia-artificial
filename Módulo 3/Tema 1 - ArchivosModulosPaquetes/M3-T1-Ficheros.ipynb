{
 "cells": [
  {
   "cell_type": "markdown",
   "metadata": {},
   "source": [
    "# Módulo 3: BBDD e Interfaces con Python"
   ]
  },
  {
   "cell_type": "markdown",
   "metadata": {},
   "source": [
    "## 1. Manejo de ficheros\n",
    "\n",
    "El proceso de manipulación de ficheros en Python sigue los siguientes pasos: \n",
    "\n",
    "1. Apertura del fichero a manipular.\n",
    "2. Manipulación del fichero (lectura/escritura).\n",
    "3. Cierre del fichero.\n",
    "\n",
    "Básicamente todos los lenguajes tienen los mismos pasos a la hora de manipular ficheros. "
   ]
  },
  {
   "cell_type": "markdown",
   "metadata": {},
   "source": [
    "### 1.1 Apertura y cierre de ficheros (FUNDAMENTAL)\n",
    "\n",
    "En Python para manipular ficheros es necesario antes abrirlos, para ello Python proporciona una función llamada `open()` que devuelve un objeto que te permitirá realizar operaciones con el fichero que has abierto.\n",
    "\n",
    "https://www.programiz.com/python-programming/methods/built-in/open\n",
    "\n",
    "Los dos parámetros más importantes para nuestros ejemplos son:\n",
    "\n",
    "- Ruta del fichero que se desea abrir.\n",
    "- Modo de apertura del fichero.\n",
    "\n",
    "El modo de apertura del fichero indica y limita las operaciones que puedes realizar con el mismo. Veamos los diferentes modos de apertura disponibles:"
   ]
  },
  {
   "cell_type": "markdown",
   "metadata": {},
   "source": [
    "<dl>\n",
    "<table>\n",
    "  <tr>\n",
    "    <th>Parámetro</th>\n",
    "    <th>Significado</th>\n",
    "    <th>Inglés</th>\n",
    "    <th>Español</th>\n",
    "  </tr>\n",
    "  <tr>\n",
    "    <td>\"r\"</td>\n",
    "    <td>Abre el fichero para lectura. Es el modo de apertura por defecto en el caso de que no se especifique uno.</td>\n",
    "    <td>read</td>\n",
    "    <td>leer</td>\n",
    "  </tr>\n",
    "  <tr>\n",
    "    <td>\"w\"</td>\n",
    "    <td>Abre el fichero para escritura truncándolo, es decir, borrando todo el contenido que tiene para empezar a escribir de nuevo desde cero.</td>\n",
    "    <td>write</td>\n",
    "    <td>escribir</td>\n",
    "  </tr>\n",
    "  <tr>\n",
    "    <td>\"x\"</td>\n",
    "    <td>Crea un fichero para escribir en él. En caso de que ya exista devuelve un error.</td>\n",
    "    <td>-</td>\n",
    "    <td>-</td>\n",
    "  </tr>\n",
    "  <tr>\n",
    "    <td>\"a\"</td>\n",
    "    <td>Abre el fichero para escritura situando el cursor de escritura al final del fichero.</td>\n",
    "    <td>append</td>\n",
    "    <td>añadir</td>\n",
    "  </tr>\n",
    "  <tr>\n",
    "    <td>\"b\"</td>\n",
    "    <td>Abre el fichero en modo binario. Un fichero binario es un tipo de fichero con información representada en ceros y unos en lugar de texto plano, por ejemplo, fotografías, archivos ejecutables, ficheros de Microsoft Word, etc.</td>\n",
    "    <td>binary</td>\n",
    "    <td>binario</td>\n",
    "  </tr>\n",
    "  <tr>\n",
    "    <td>\"t\"</td>\n",
    "    <td>Abre el fichero en modo fichero de texto. Es el modo de apertura por defecto en el caso de que no se especifique que sea binario o de texto.</td>\n",
    "    <td>text</td>\n",
    "    <td>texto</td>\n",
    "  </tr>\n",
    "  <tr>\n",
    "    <td>\"+\"</td>\n",
    "    <td>Abre el fichero para lectura y escritura.</td>\n",
    "    <td>-</td>\n",
    "    <td>-</td>\n",
    "  </tr>\n",
    "</table>    \n",
    "</dl>"
   ]
  },
  {
   "cell_type": "markdown",
   "metadata": {},
   "source": [
    "Una vez has abierto el fichero es cuando puedes realizar una serie de operaciones de manipulación del contenido del mismo. Una vez has acabado de trabajar con el fichero de texto es necesario que cierres el fichero. Para ello está la función `close()`, que te permitirá terminar de trabajar con el fichero que abriste previamente. "
   ]
  },
  {
   "cell_type": "code",
   "execution_count": null,
   "metadata": {},
   "outputs": [],
   "source": [
    "f = open(\"archivo_prueba.txt\")"
   ]
  },
  {
   "cell_type": "code",
   "execution_count": null,
   "metadata": {},
   "outputs": [],
   "source": [
    "f = open(\"archivo_prueba.txt\", \"w\", encoding=\"utf-8\")"
   ]
  },
  {
   "cell_type": "code",
   "execution_count": null,
   "metadata": {},
   "outputs": [],
   "source": [
    "print(\"Nombre del archivo: \", f.name)\n",
    "print(\"Modo de apertura: \", f.mode)\n",
    "print(\"Codificación: \", f.encoding)"
   ]
  },
  {
   "cell_type": "markdown",
   "metadata": {},
   "source": [
    "### 1.2 Manipulación: lectura (FUNDAMENTAL)\n",
    "\n",
    "La lectura de los ficheros es una operación que utilizarás muy a menudo. Antes de empezar con los ejercicios crea un fichero llamado \"fichero.txt\" en la misma ubicación en la que vas a guardar los programas de los ejercicios del capítulo, con el siguiente contenido:\n",
    "\n",
    "```text\n",
    "Hola, estoy aprendiendo Python. \n",
    "En un lugar de la mancha\n",
    "de cuyo nombre no quiero acordarme\n",
    "etc etc etc\n",
    "Python es genial\n",
    "\n",
    "```"
   ]
  },
  {
   "cell_type": "markdown",
   "metadata": {},
   "source": [
    "El primer ejemplo que vamos a realizar consiste en la lectura de un fichero de texto y en mostrar su contenido por pantalla. La realización de la lectura se hace con la función `read()`, que lee todo el contenido del fichero y lo almacena como una cadena de texto:"
   ]
  },
  {
   "cell_type": "code",
   "execution_count": null,
   "metadata": {},
   "outputs": [],
   "source": [
    "f = open(\"fichero.txt\", \"r\")\n",
    "# print(f)\n",
    "texto = f.read()\n",
    "print(texto)\n",
    "f.close()"
   ]
  },
  {
   "cell_type": "code",
   "execution_count": null,
   "metadata": {},
   "outputs": [],
   "source": [
    "type(texto)"
   ]
  },
  {
   "cell_type": "markdown",
   "metadata": {},
   "source": [
    "Existe una estructura, `with open() as nombre:`, que permite ejecutar un bloque de código para trabajar con archivos de forma óptima y que se encarga de cerrarlos y liberar la memoria al concluir el mismo. Usando esta estructura no es necesario hacer una llamada al método `file.close()`, ya que se encarga de cerrar el archivo por nosotros."
   ]
  },
  {
   "cell_type": "code",
   "execution_count": null,
   "metadata": {},
   "outputs": [],
   "source": [
    "with open(\"fichero.txt\", \"r\",encoding=\"utf-8\") as fichero:\n",
    "    print(type(fichero))\n",
    "    text = fichero.read()\n",
    "    print(type(text))\n",
    "    print(text)\n",
    "    \n",
    "fichero.readable()"
   ]
  },
  {
   "cell_type": "code",
   "execution_count": null,
   "metadata": {},
   "outputs": [],
   "source": [
    "with open(\"fichero.txt\", \"r\",encoding=\"utf-8\") as fichero:\n",
    "    print(type(fichero))\n",
    "    text = fichero.readline()\n",
    "    print(type(text))\n",
    "    print(text)"
   ]
  },
  {
   "cell_type": "markdown",
   "metadata": {},
   "source": [
    "https://www.w3schools.com/python/python_ref_file.asp"
   ]
  },
  {
   "cell_type": "code",
   "execution_count": null,
   "metadata": {},
   "outputs": [],
   "source": [
    "with open(\"fichero.txt\", \"r\",encoding=\"utf-8\") as fichero:\n",
    "    text = fichero.readlines()\n",
    "    print(type(text))\n",
    "    print(text)"
   ]
  },
  {
   "cell_type": "markdown",
   "metadata": {},
   "source": [
    "El siguiente ejemplo consiste en utilizar un bucle `for` para realizar la lectura línea a línea del fichero de texto. En la propia definición del bucle se realiza la apertura del fichero y cada iteración del bucle lee una línea de éste. El ejercicio irá leyendo línea a línea el fichero de texto y mostrándolo por pantalla:"
   ]
  },
  {
   "cell_type": "code",
   "execution_count": null,
   "metadata": {
    "scrolled": false
   },
   "outputs": [],
   "source": [
    "for linea in open(\"fichero.txt\", \"r\"):\n",
    "    print(linea, end='')"
   ]
  },
  {
   "cell_type": "markdown",
   "metadata": {},
   "source": [
    "El siguiente ejemplo consiste en leer el fichero línea a línea utilizando la función `readline()`, que deveulve el contenido de una línea, dejando el cursor de lectura en la siguiente línea para la siguiente lectura. El ejemplo mostrará por pantalla todas las líneas que lee:"
   ]
  },
  {
   "cell_type": "code",
   "execution_count": null,
   "metadata": {},
   "outputs": [],
   "source": [
    "f = open(\"fichero.txt\", \"r\")\n",
    "print(f.readline())\n",
    "print(f.readline())\n",
    "print(f.readline())\n",
    "print(f.readline())\n",
    "print(f.readline())\n",
    "f.close()"
   ]
  },
  {
   "cell_type": "markdown",
   "metadata": {},
   "source": [
    "El siguiente ejemplo consiste en la lectura de todas las líneas del fichero de texto con la función `readlines()`, que deveulve todo el contenido del fichero en una lista de elementos donde cada elemento es una línea del fichero:"
   ]
  },
  {
   "cell_type": "code",
   "execution_count": null,
   "metadata": {},
   "outputs": [],
   "source": [
    "f = open(\"fichero.txt\", \"r\")\n",
    "lineas = f.readlines()\n",
    "f.close()\n",
    "\n",
    "print(lineas[0])\n",
    "print(lineas[1])\n",
    "print(lineas[2])\n",
    "print(lineas[3])\n",
    "print(lineas[4])"
   ]
  },
  {
   "cell_type": "markdown",
   "metadata": {},
   "source": [
    "#### Ejercicio 1A Convierte el ejemplo anterior, pero usando un bucle for"
   ]
  },
  {
   "cell_type": "code",
   "execution_count": null,
   "metadata": {},
   "outputs": [],
   "source": [
    "f = open(\"fichero.txt\", \"r\")\n",
    "lineas = f.readlines()\n",
    "f.close()\n",
    "\n",
    "for i in lineas:\n",
    "    print(i, end=\"\")"
   ]
  },
  {
   "cell_type": "markdown",
   "metadata": {},
   "source": [
    "### 1.3 Manipulación: escritura (FUNDAMENTAL)\n",
    "\n",
    "Al igual que la lectura de ficheros, la escritura de ficheros es una operación que vas a utilizar en multitud de ocasiones en desarrollo de software."
   ]
  },
  {
   "cell_type": "markdown",
   "metadata": {},
   "source": [
    "El primer ejemplo consiste en añadir una línea nueva al fichero que hemos utilizado durante el apartado anterior referente a la lectura de fichero. El primer paso que se tiene que dar para escribir en un fichero de texto es realizar la apertura en modo `\"a\"`, apertura para escritura al final del fichero. El ejemplo mostrará el fichero de texto antes de añadir la línea y despueś de añadirla, de este modo comprobaremos que se ha añadido correctamente:"
   ]
  },
  {
   "cell_type": "code",
   "execution_count": null,
   "metadata": {},
   "outputs": [],
   "source": [
    "print(\"FICHERO INICIAL\")\n",
    "flectura = open(\"fichero.txt\", \"r\")\n",
    "texto = flectura.read()\n",
    "flectura.close()\n",
    "print(texto)\n",
    "\n",
    "print(\"INSERTANDO LÍNEA...\\n\")\n",
    "fescritura = open(\"fichero.txt\", \"a\")\n",
    "fescritura.write(\"Nueva línea en el fichero\\n\")\n",
    "fescritura.close()\n",
    "\n",
    "print(\"FICHERO INICIAL\")\n",
    "flectura = open(\"fichero.txt\", \"r\")\n",
    "texto = flectura.read()\n",
    "flectura.close()\n",
    "print(texto)"
   ]
  },
  {
   "cell_type": "markdown",
   "metadata": {},
   "source": [
    "El segundo ejemplo consiste en crear un fichero nuevo para escribir en él. El modo de apertura para crear un fichero nuevo y escribir en él es el modo `\"x\"`, dicho modo devuelve un error si el fichero ya existe. En el ejemplo se va a crear un fichero y se va a escribir información en él, para posteriormente mostrar el contendio del fichero por pantalla:"
   ]
  },
  {
   "cell_type": "code",
   "execution_count": null,
   "metadata": {},
   "outputs": [],
   "source": [
    "fcrear = open(\"ficheronuevo.txt\", \"x\",encoding=\"utf-8\")\n",
    "fcrear.write(\"Estoy aprendiendo Python...\\n\")\n",
    "fcrear.write(\"...y me encanta.\\n\")\n",
    "fcrear.write(\"Me parece un lenguaje de programación\\n\")\n",
    "fcrear.write(\"muy facil de aprender.\\n\")\n",
    "\n",
    "fcrear.close()\n",
    "\n",
    "print(\"FICHERO CREADO\")\n",
    "\n",
    "flectura = open(\"ficheronuevo.txt\", \"r\")\n",
    "texto = flectura.read()\n",
    "flectura.close()\n",
    "print(texto)"
   ]
  },
  {
   "cell_type": "markdown",
   "metadata": {},
   "source": [
    "Tal y como te comentamos anteriormente, el modo de apertura `\"x\"` devuelve error en el caso de que el fichero exista. Vuelve a ejecutar el programa para ver el error que aparece. "
   ]
  },
  {
   "cell_type": "markdown",
   "metadata": {},
   "source": [
    "El siguiente ejemplo referente a escritura de ficheros consiste en aprender a escribir en ficheros de texto truncándolos en su apertura, lo que significa que eliminará el contenido del mismo y empezará a escribir el nuevo. El modo de apertura para abrir con truncado es el modo `\"w\"`. En el ejemplo se va a escribir en un fichero de texto ya existente que se truncará utilizando el modo de apertura `\"w\"`, posteriormente el contenido se muestra por pantalla. El fichero que utiliza el ejemplo es el del ejemplo anterior. "
   ]
  },
  {
   "cell_type": "code",
   "execution_count": null,
   "metadata": {},
   "outputs": [],
   "source": [
    "fcrear = open(\"ficheronuevo.txt\",\"w\")\n",
    "fcrear.write(\"Fichero creado desde cero\\n\")\n",
    "fcrear.write(\"Lorem ipsum dolor sit amet, consectetur adipiscing elit, \")\n",
    "fcrear.write(\"sed eiusmod tempor incidunt ut labore et dolore magna aliqua. \")\n",
    "fcrear.write(\"Ut enim ad minim veniam, quis nostrud exercitation ullamco laboris nisi ut aliquid ex ea commodi consequat. \")\n",
    "fcrear.write(\"Quis aute iure reprehenderit in voluptate velit esse cillum dolore eu fugiat nulla pariatur. \")\n",
    "fcrear.write(\"Excepteur sint obcaecat cupiditat non proident, sunt in culpa qui officia deserunt mollit anim id est laborum.\\n\")\n",
    "fcrear.close()\n",
    "\n",
    "print(\"### Fichero creado ###\")\n",
    "\n",
    "flectura = open(\"ficheronuevo.txt\",\"r\")\n",
    "texto = flectura.read()\n",
    "flectura.close()\n",
    "print(texto)"
   ]
  },
  {
   "cell_type": "markdown",
   "metadata": {},
   "source": [
    "El manejo de ficheros en Python incluye una serie de funciones útiles que te van a permitir utilizar ficheros de una forma más fácil y sencilla. Algunos de ellos ya los hemos explicado y utilizado, otros todavía no. En el siguiente enlace puedes ver todas la funciones incluidas en Python para el manejo de los ficheros: https://www.tutorialspoint.com/python3/file_methods.htm"
   ]
  },
  {
   "cell_type": "markdown",
   "metadata": {},
   "source": [
    "#### Ejercicio 1B: \n",
    "\n",
    "1. Crea un fichero llamado guardian.txt con el siguiente contenido  en Python: \n",
    "python\n",
    "fcrear = open(\"guardian.txt\",\"x\",encoding=\"utf-8\")\n",
    "\n",
    "text\n",
    "Pero lo que más me gustaba de aquel museo era que todo estaba siempre en el mismo sitio. No cambiaba nada. Podías ir cien mil veces distintas y el esquimal seguía pescando, y los pájaros seguían volando hacia el sur, y los ciervos seguían bebiendo en las charcas con esas patas tan finas y tan bonitas que tenían, y la india del pecho al aire seguía tejiendo su manta.\n",
    "\n",
    "2. Observa que la palabra \"seguía\" aparece 4 veces en el texto. Tienes que leer el fichero (en Python) y crear un diccionario con claves \"frase 1\", \"frase 2\", etc., y valores las frases que siguen de \"seguía\" hasta que encuentra una coma o un punto, por ejemplo:\n",
    "\n",
    "python\n",
    "guardian = {\n",
    "    \"frase 1\": \"seguía pescando\", \n",
    "    \"frase 2\": ...\n",
    "}\n",
    "\n",
    "3. Crea un fichero llamado seguia.txt y escribe las cuatro frases que has encontrado (en Python)."
   ]
  },
  {
   "cell_type": "code",
   "execution_count": null,
   "metadata": {},
   "outputs": [],
   "source": [
    "#creo el archivo guardian.txt en modo escritura, y le escribo el texto\n",
    "fcrear = open(\"guardian.txt\",\"w\",encoding=\"utf-8\")\n",
    "fcrear.write(\"Pero lo que más me gustaba de aquel museo era que todo estaba siempre en el mismo sitio. No cambiaba nada. Podías ir cien mil veces distintas y el esquimal seguía pescando, y los pájaros seguían volando hacia el sur, y los ciervos seguían bebiendo en las charcas con esas patas tan finas y tan bonitas que tenían, y la india del pecho al aire seguía tejiendo su manta.\")\n",
    "fcrear.close()\n",
    "\n",
    "#Abro el archivo guardian.txt en modo lectura, y almaceno el contenido en una variable\n",
    "fleer = open(\"guardian.txt\",\"r\",encoding=\"utf-8\")\n",
    "texto = fleer.read()\n",
    "fleer.close()\n",
    "\n",
    "#creo un diccionario vacío\n",
    "dict = {}\n",
    "\n",
    "#Este índice va a almacenar la posición en la que se encuentra la palabra \"seguía\"\n",
    "idx = texto.find(\"seguía\")\n",
    "\n",
    "#Este indice va a almacenar la posición de un \".\"\n",
    "punto = texto.find(\".\")\n",
    "\n",
    "#Este indice va a almacenar la posición de una \",\"\n",
    "coma = texto.find(\",\")\n",
    "\n",
    "#Primer \"seguía\"\n",
    "#Si el indice de \"seguía\" es menor al índice del \".\"\n",
    "if idx < punto :\n",
    "    #hago un slice desde el indice de \"seguia\" hasta el \".\"\n",
    "    dict[\"frase 1\"]=texto[idx:punto]\n",
    "    #Almaceno el indice del siguiente \"seguía\"\n",
    "    idx = texto.find(\"seguía\",punto)\n",
    "    #almaceno el indice del siguiente \".\"\n",
    "    punto = texto.find(\".\", punto + 1)\n",
    "else:\n",
    "    #hago un slice desde el indice de \"seguia\" hasta el \".\"\n",
    "    dict[\"frase 1\"]=texto[idx:coma]\n",
    "    #Almaceno el indice del siguiente \"seguía\"\n",
    "    idx = texto.find(\"seguía\",coma)\n",
    "    #almaceno el indice del siguiente \",\"\n",
    "    coma = texto.find(\",\", coma + 1)\n",
    "\n",
    "#Repito el mismo bloque anterior 3 veces más, para los 3 \"seguía\" restantes\n",
    " \n",
    "#Segundo \"seguía\"    \n",
    "if idx < punto :\n",
    "    dict[\"frase 2\"]=texto[idx:punto]\n",
    "    idx = texto.find(\"seguía\",punto)\n",
    "    punto = texto.find(\".\", punto + 1)\n",
    "else:\n",
    "    dict[\"frase 2\"]=texto[idx:coma]\n",
    "    idx = texto.find(\"seguía\",coma)\n",
    "    coma = texto.find(\",\", coma + 1)\n",
    "\n",
    "#Tercer \"seguía\"\n",
    "if idx < punto :\n",
    "    dict[\"frase 3\"]=texto[idx:punto]\n",
    "    idx = texto.find(\"seguía\",punto)\n",
    "    punto = texto.find(\".\", punto + 1)\n",
    "else:\n",
    "    dict[\"frase 3\"]=texto[idx:coma]\n",
    "    idx = texto.find(\"seguía\",coma)\n",
    "    coma = texto.find(\",\", coma + 1)\n",
    "\n",
    "#Cuarto \"seguía\"\n",
    "if idx < punto :\n",
    "    dict[\"frase 4\"]=texto[idx:punto]\n",
    "    idx = texto.find(\"seguía\",punto)\n",
    "    punto = texto.find(\".\", punto + 1)\n",
    "else:\n",
    "    dict[\"frase 4\"]=texto[idx:coma]\n",
    "    idx = texto.find(\"seguía\",coma)\n",
    "    coma = texto.find(\",\", coma + 1)\n",
    "\n",
    "#Abro el archivo seguia.txt en modo escritura, y escribo en él, el contenido del diccionario\n",
    "fcrear = open(\"seguia.txt\",\"w\",encoding=\"utf-8\")\n",
    "for clave, valor in dict.items():\n",
    "    linea = clave + \" : \" + valor +\"\\n\"\n",
    "    fcrear.write(linea)\n",
    "fcrear.close()\n",
    "\n",
    "#Abro el archivo seguia.txt en modo lectura, almaceno su contenido en la variable texto, y lo muestro por pantalla\n",
    "fleer = open(\"seguia.txt\",\"r\",encoding=\"utf-8\")\n",
    "texto = fleer.read()\n",
    "fleer.close()\n",
    "print(texto)\n"
   ]
  },
  {
   "cell_type": "code",
   "execution_count": null,
   "metadata": {},
   "outputs": [],
   "source": [
    "''' Para debuguear en Jupyter\n",
    "import pdb\n",
    "\n",
    "#Este es el breakpoint\n",
    "pdb.set_trace()\n",
    "\n",
    "'''\n",
    "\n",
    "try:    \n",
    "    archivo = open(\"resultado.txt\", \"w\")\n",
    "    print(\"Archivo resultado.txt abierto.\")\n",
    "    resultado = 15 * (3/0)\n",
    "except IOError:\n",
    "    # Instrucciones si ocurre la excepción IOError\n",
    "    print(\"Error de entrada/salida.\")    \n",
    "except ZeroDivisionError:\n",
    "    # Instrucciones si ocurre la excepción ZeroDivisionError\n",
    "    print(\"Error división por cero.\")\n",
    "else:\n",
    "    # Instrucciones si no ocurre ninguna excepción\n",
    "    print(\"El resultado de la división es\", resultado)\n",
    "    archivo.write(resultado)    \n",
    "finally:\n",
    "    # Instrucciones si ocurren o no ocurren excepciones\n",
    "    if not(archivo.closed):\n",
    "        archivo.close()\n",
    "        print(\"Archivo resultado.txt cerrado.\")"
   ]
  },
  {
   "cell_type": "markdown",
   "metadata": {},
   "source": [
    "### 1.4 Desplazamiento: moviéndonos por el archivo (AVANZADO)\n",
    "En determinadas ocasiones puede serte útil desplazarte a una posición concreta del archivo. Por ejemplo, si has leído el contenido completo de un archivo y lo vuelvas a abrir, sino que puedes desplazarte al principio haciendo uso del puntero del archivo. Cada vez que abrimos un archivo se crea un puntero que se posiciona al principio o al final del mismo, dependiendo del modo de apertura. Al leer o escribir contenido en el archivo este puntero se va desplazando. Para saber en qué posición se encuentra el puntero de un archivo, o para desplazarte a una determinada posición, Python proporciona dos métodos: `file.tell()` y `file.seek()`. "
   ]
  },
  {
   "cell_type": "markdown",
   "metadata": {},
   "source": [
    "#### `file.tell()`\n",
    "Devuelve un entero que, en bytes, representa la posición en la que se encuentra el puntero del fichero. Este valor se calcula tomando como referencia el principio del archivo. "
   ]
  },
  {
   "cell_type": "markdown",
   "metadata": {},
   "source": [
    "#### `file.seek(desplazamiento, inicio)`\n",
    "Permite desplazar el puntero del archivo los bytes indicados en el argumento `desplazamiento` tomando como referencia la posición indicada en el argumento `inicio`. Si `inicio` es igual a 0, se empieza a contar desde el principio del archivo; si es igual a 1, se utiliza la posición actual del fichero y si es igual a 2, se selecciona el final del fichero como punto de referencia. Si no se especifica nada, se toma como referencia el principio del archivo, ya que el valor por defecto es 0. Si se indica un valor diferente, lanza una excepción `ValueError`. Además de desplazar el puntero, devuelve un entero asociado al byte al que se ha desplazado."
   ]
  },
  {
   "cell_type": "code",
   "execution_count": null,
   "metadata": {},
   "outputs": [],
   "source": [
    "# Abrimos el archivo en modo lectura y escritura\n",
    "f = open(\"fichero.txt\", \"r+\")"
   ]
  },
  {
   "cell_type": "code",
   "execution_count": null,
   "metadata": {},
   "outputs": [],
   "source": [
    "# Leemos todas las líneas del archivo\n",
    "lineas = f.readlines()"
   ]
  },
  {
   "cell_type": "code",
   "execution_count": null,
   "metadata": {},
   "outputs": [],
   "source": [
    "# Leemos una línea más. Como hemos llegado al final del archivo, \n",
    "# devuelve una cadena vacía\n",
    "f.readline()"
   ]
  },
  {
   "cell_type": "code",
   "execution_count": null,
   "metadata": {},
   "outputs": [],
   "source": [
    "# Utilizamos el método tell para saber en qué posición está el puntero del archivo.\n",
    "# Se encuentra en el byte 121, que se corresponde con el final del archivo.\n",
    "f.tell()"
   ]
  },
  {
   "cell_type": "code",
   "execution_count": null,
   "metadata": {},
   "outputs": [],
   "source": [
    "# Utilizamos la función seek para desplazarnos al principio del archivo\n",
    "f.seek(0)"
   ]
  },
  {
   "cell_type": "code",
   "execution_count": null,
   "metadata": {},
   "outputs": [],
   "source": [
    "# Leemos la primera línea del archivo\n",
    "f.readline()"
   ]
  },
  {
   "cell_type": "code",
   "execution_count": null,
   "metadata": {},
   "outputs": [],
   "source": [
    "# Nos desplazamos 0 bytes tomando como inicio 12. 12 no es un valor válido para inicio\n",
    "# por lo que salta una excepción ValueError\n",
    "f.seek(0, 12)"
   ]
  },
  {
   "cell_type": "code",
   "execution_count": null,
   "metadata": {},
   "outputs": [],
   "source": [
    "# Nos desplazamos 12 bytes desde el inicio del archivo\n",
    "f.seek(12, 0)"
   ]
  },
  {
   "cell_type": "code",
   "execution_count": null,
   "metadata": {},
   "outputs": [],
   "source": [
    "# Leemos el contenido de la primera línea a partir del byte 12\n",
    "f.readline()"
   ]
  },
  {
   "cell_type": "code",
   "execution_count": null,
   "metadata": {},
   "outputs": [],
   "source": [
    "# Nos situamos al final del archivo (desplazamiento de 0 bytes desde el final)\n",
    "f.seek(0, 2)"
   ]
  },
  {
   "cell_type": "code",
   "execution_count": null,
   "metadata": {},
   "outputs": [],
   "source": [
    "# Escribimos en el archivo una nueva línea \n",
    "f.write(\"\\nPython es muy chulo\")"
   ]
  },
  {
   "cell_type": "code",
   "execution_count": null,
   "metadata": {},
   "outputs": [],
   "source": [
    "# Nos desplazamos al principio del archivo\n",
    "f.seek(0)"
   ]
  },
  {
   "cell_type": "code",
   "execution_count": null,
   "metadata": {},
   "outputs": [],
   "source": [
    "# Leemos las líneas que contiene el archivo\n",
    "f.readlines()"
   ]
  },
  {
   "cell_type": "code",
   "execution_count": null,
   "metadata": {},
   "outputs": [],
   "source": []
  },
  {
   "cell_type": "markdown",
   "metadata": {},
   "source": [
    "### 1.5 Módulos (FUNDAMENTAL)\n"
   ]
  },
  {
   "cell_type": "markdown",
   "metadata": {},
   "source": [
    "#### Ejercicio 1C"
   ]
  },
  {
   "cell_type": "markdown",
   "metadata": {},
   "source": [
    "### 1.6 Paquetes (MEDIO)\n"
   ]
  },
  {
   "cell_type": "markdown",
   "metadata": {},
   "source": [
    "#### Ejercicio 1D"
   ]
  },
  {
   "cell_type": "code",
   "execution_count": null,
   "metadata": {},
   "outputs": [],
   "source": []
  }
 ],
 "metadata": {
  "kernelspec": {
   "display_name": "Python 3",
   "language": "python",
   "name": "python3"
  },
  "language_info": {
   "codemirror_mode": {
    "name": "ipython",
    "version": 3
   },
   "file_extension": ".py",
   "mimetype": "text/x-python",
   "name": "python",
   "nbconvert_exporter": "python",
   "pygments_lexer": "ipython3",
   "version": "3.8.5"
  }
 },
 "nbformat": 4,
 "nbformat_minor": 4
}
